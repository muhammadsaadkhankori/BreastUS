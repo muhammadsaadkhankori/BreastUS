{
 "cells": [
  {
   "cell_type": "code",
   "execution_count": 44,
   "metadata": {
    "id": "_hP85DZsrDQr"
   },
   "outputs": [],
   "source": [
    "pip install -qq -U tensorflow-addons"
   ]
  },
  {
   "cell_type": "code",
   "execution_count": 45,
   "metadata": {
    "colab": {
     "base_uri": "https://localhost:8080/"
    },
    "id": "iMICKZWFDJrQ",
    "outputId": "d288af00-cd38-4c99-b58e-af1b2e153d93"
   },
   "outputs": [
    {
     "name": "stdout",
     "output_type": "stream",
     "text": [
      "Drive already mounted at /content/drive; to attempt to forcibly remount, call drive.mount(\"/content/drive\", force_remount=True).\n"
     ]
    }
   ],
   "source": [
    "from google.colab import drive\n",
    "drive.mount('/content/drive')"
   ]
  },
  {
   "cell_type": "code",
   "execution_count": 46,
   "metadata": {
    "id": "f2o9MAE0rKvM"
   },
   "outputs": [],
   "source": [
    "import math\n",
    "import numpy as np\n",
    "import tensorflow as tf\n",
    "from tensorflow import keras\n",
    "import tensorflow_addons as tfa\n",
    "import matplotlib.pyplot as plt\n",
    "from tensorflow.keras import layers"
   ]
  },
  {
   "cell_type": "code",
   "execution_count": 47,
   "metadata": {
    "id": "C7wMy_JdrMTE"
   },
   "outputs": [],
   "source": [
    "path =\"/content/drive/MyDrive/Augmentation/*\"\n",
    "data_paths = os.path.join(path,'*g')\n",
    "imagePaths = glob.glob(data_paths)"
   ]
  },
  {
   "cell_type": "code",
   "execution_count": 48,
   "metadata": {
    "colab": {
     "base_uri": "https://localhost:8080/"
    },
    "id": "fNcpN_I3GidH",
    "outputId": "4a01d51c-bdca-43d6-a299-6fea2a35806c"
   },
   "outputs": [
    {
     "data": {
      "text/plain": [
       "2344"
      ]
     },
     "execution_count": 48,
     "metadata": {},
     "output_type": "execute_result"
    }
   ],
   "source": [
    "len(imagePaths)"
   ]
  },
  {
   "cell_type": "code",
   "execution_count": 49,
   "metadata": {
    "id": "JE2cLPvErOhl"
   },
   "outputs": [],
   "source": [
    "labels=[]\n",
    "images=[]\n",
    "for imgpath in imagePaths:\n",
    "    img=cv2.imread(imgpath)\n",
    "    img=cv2.resize(img,(224,224))\n",
    "    images.append(img)\n",
    "    label= imgpath.split(os.path.sep)[-2].split(\"_\")\n",
    "    labels.append(label)"
   ]
  },
  {
   "cell_type": "code",
   "execution_count": 50,
   "metadata": {
    "id": "tER1yg92rQYb"
   },
   "outputs": [],
   "source": [
    "images=np.array(images)\n",
    "labels=np.array(labels)"
   ]
  },
  {
   "cell_type": "code",
   "execution_count": 51,
   "metadata": {
    "colab": {
     "base_uri": "https://localhost:8080/"
    },
    "id": "M2nhpapurR_f",
    "outputId": "d984e698-ecea-4413-858c-6e506ecc4e9c"
   },
   "outputs": [
    {
     "name": "stderr",
     "output_type": "stream",
     "text": [
      "/usr/local/lib/python3.7/dist-packages/sklearn/preprocessing/_label.py:115: DataConversionWarning: A column-vector y was passed when a 1d array was expected. Please change the shape of y to (n_samples, ), for example using ravel().\n",
      "  y = column_or_1d(y, warn=True)\n"
     ]
    }
   ],
   "source": [
    "from sklearn.preprocessing import LabelEncoder\n",
    "label_encoder = LabelEncoder()\n",
    "labels = label_encoder.fit_transform(labels)"
   ]
  },
  {
   "cell_type": "code",
   "execution_count": 52,
   "metadata": {
    "id": "sv2qC3hXrTkr"
   },
   "outputs": [],
   "source": [
    "from sklearn.model_selection import train_test_split\n",
    "x_train,x_test,y_train,y_test = train_test_split(images,labels,test_size=.2,random_state=20)\n",
    "NUM_CLASSES = 3\n",
    "INPUT_SHAPE = (224, 224, 3)"
   ]
  },
  {
   "cell_type": "code",
   "execution_count": 89,
   "metadata": {
    "id": "0ipgxhrsrYdX"
   },
   "outputs": [],
   "source": [
    "# DATA\n",
    "BUFFER_SIZE = 512\n",
    "BATCH_SIZE = 64\n",
    "\n",
    "# AUGMENTATION\n",
    "IMAGE_SIZE = 100\n",
    "PATCH_SIZE = 6\n",
    "NUM_PATCHES = (IMAGE_SIZE // PATCH_SIZE) ** 2\n",
    "\n",
    "# OPTIMIZER\n",
    "LEARNING_RATE = 0.0003\n",
    "WEIGHT_DECAY = 0.0001\n",
    "\n",
    "# TRAINING\n",
    "EPOCHS = 100\n",
    "\n",
    "# ARCHITECTURE\n",
    "LAYER_NORM_EPS = 1e-6\n",
    "TRANSFORMER_LAYERS = 12\n",
    "PROJECTION_DIM = 64\n",
    "NUM_HEADS = 4\n",
    "TRANSFORMER_UNITS = [\n",
    "    PROJECTION_DIM * 2,\n",
    "    PROJECTION_DIM,\n",
    "]\n",
    "MLP_HEAD_UNITS = [2048, 1024]"
   ]
  },
  {
   "cell_type": "code",
   "execution_count": 90,
   "metadata": {
    "id": "O8H9cY_qrfo6"
   },
   "outputs": [],
   "source": [
    "data_augmentation = keras.Sequential(\n",
    "    [\n",
    "        layers.Normalization(),\n",
    "        layers.Resizing(IMAGE_SIZE, IMAGE_SIZE),\n",
    "        layers.RandomFlip(\"horizontal\"),\n",
    "        layers.RandomRotation(factor=0.02),\n",
    "        layers.RandomZoom(height_factor=0.2, width_factor=0.2),\n",
    "    ],\n",
    "    name=\"data_augmentation\",\n",
    ")\n",
    "# Compute the mean and the variance of the training data for normalization.\n",
    "data_augmentation.layers[0].adapt(x_train)"
   ]
  },
  {
   "cell_type": "code",
   "execution_count": 91,
   "metadata": {
    "id": "SKja5yDirhgo"
   },
   "outputs": [],
   "source": [
    "class ShiftedPatchTokenization(layers.Layer):\n",
    "    def __init__(\n",
    "        self,\n",
    "        image_size=IMAGE_SIZE,\n",
    "        patch_size=PATCH_SIZE,\n",
    "        num_patches=NUM_PATCHES,\n",
    "        projection_dim=PROJECTION_DIM,\n",
    "        vanilla=False,\n",
    "        **kwargs,\n",
    "    ):\n",
    "        super().__init__(**kwargs)\n",
    "        self.vanilla = vanilla  # Flag to swtich to vanilla patch extractor\n",
    "        self.image_size = image_size\n",
    "        self.patch_size = patch_size\n",
    "        self.half_patch = patch_size // 2\n",
    "        self.flatten_patches = layers.Reshape((num_patches, -1))\n",
    "        self.projection = layers.Dense(units=projection_dim)\n",
    "        self.layer_norm = layers.LayerNormalization(epsilon=LAYER_NORM_EPS)\n",
    "\n",
    "    def crop_shift_pad(self, images, mode):\n",
    "        # Build the diagonally shifted images\n",
    "        if mode == \"left-up\":\n",
    "            crop_height = self.half_patch\n",
    "            crop_width = self.half_patch\n",
    "            shift_height = 0\n",
    "            shift_width = 0\n",
    "        elif mode == \"left-down\":\n",
    "            crop_height = 0\n",
    "            crop_width = self.half_patch\n",
    "            shift_height = self.half_patch\n",
    "            shift_width = 0\n",
    "        elif mode == \"right-up\":\n",
    "            crop_height = self.half_patch\n",
    "            crop_width = 0\n",
    "            shift_height = 0\n",
    "            shift_width = self.half_patch\n",
    "        else:\n",
    "            crop_height = 0\n",
    "            crop_width = 0\n",
    "            shift_height = self.half_patch\n",
    "            shift_width = self.half_patch\n",
    "\n",
    "        # Crop the shifted images and pad them\n",
    "        crop = tf.image.crop_to_bounding_box(\n",
    "            images,\n",
    "            offset_height=crop_height,\n",
    "            offset_width=crop_width,\n",
    "            target_height=self.image_size - self.half_patch,\n",
    "            target_width=self.image_size - self.half_patch,\n",
    "        )\n",
    "        shift_pad = tf.image.pad_to_bounding_box(\n",
    "            crop,\n",
    "            offset_height=shift_height,\n",
    "            offset_width=shift_width,\n",
    "            target_height=self.image_size,\n",
    "            target_width=self.image_size,\n",
    "        )\n",
    "        return shift_pad\n",
    "\n",
    "    def call(self, images):\n",
    "        if not self.vanilla:\n",
    "            # Concat the shifted images with the original image\n",
    "            images = tf.concat(\n",
    "                [\n",
    "                    images,\n",
    "                    self.crop_shift_pad(images, mode=\"left-up\"),\n",
    "                    self.crop_shift_pad(images, mode=\"left-down\"),\n",
    "                    self.crop_shift_pad(images, mode=\"right-up\"),\n",
    "                    self.crop_shift_pad(images, mode=\"right-down\"),\n",
    "                ],\n",
    "                axis=-1,\n",
    "            )\n",
    "        # Patchify the images and flatten it\n",
    "        patches = tf.image.extract_patches(\n",
    "            images=images,\n",
    "            sizes=[1, self.patch_size, self.patch_size, 1],\n",
    "            strides=[1, self.patch_size, self.patch_size, 1],\n",
    "            rates=[1, 1, 1, 1],\n",
    "            padding=\"VALID\",\n",
    "        )\n",
    "        flat_patches = self.flatten_patches(patches)\n",
    "        if not self.vanilla:\n",
    "            # Layer normalize the flat patches and linearly project it\n",
    "            tokens = self.layer_norm(flat_patches)\n",
    "            tokens = self.projection(tokens)\n",
    "        else:\n",
    "            # Linearly project the flat patches\n",
    "            tokens = self.projection(flat_patches)\n",
    "        return (tokens, patches)"
   ]
  },
  {
   "cell_type": "code",
   "execution_count": 92,
   "metadata": {
    "colab": {
     "base_uri": "https://localhost:8080/",
     "height": 460
    },
    "id": "VzkUq6vqri2m",
    "outputId": "b0f1a672-44ab-4810-8ecf-cf81c1f58ba5"
   },
   "outputs": [
    {
     "data": {
      "image/png": "[encoded data removed]",
      "text/plain": [
       "<Figure size 288x288 with 256 Axes>"
      ]
     },
     "metadata": {
      "needs_background": "light"
     },
     "output_type": "display_data"
    },
    {
     "name": "stdout",
     "output_type": "stream",
     "text": [
      "ORIGINAL\n"
     ]
    },
    {
     "data": {
      "image/png": "[encoded data removed]",
      "text/plain": [
       "<Figure size 288x288 with 16 Axes>"
      ]
     },
     "metadata": {
      "needs_background": "light"
     },
     "output_type": "display_data"
    },
    {
     "name": "stdout",
     "output_type": "stream",
     "text": [
      "LEFT-UP\n"
     ]
    },
    {
     "data": {
      "image/png": "[encoded data removed]",
      "text/plain": [
       "<Figure size 288x288 with 16 Axes>"
      ]
     },
     "metadata": {
      "needs_background": "light"
     },
     "output_type": "display_data"
    },
    {
     "name": "stdout",
     "output_type": "stream",
     "text": [
      "LEFT-DOWN\n"
     ]
    },
    {
     "data": {
      "image/png": "[encoded data removed]",
      "text/plain": [
       "<Figure size 288x288 with 16 Axes>"
      ]
     },
     "metadata": {
      "needs_background": "light"
     },
     "output_type": "display_data"
    },
    {
     "name": "stdout",
     "output_type": "stream",
     "text": [
      "RIGHT-UP\n"
     ]
    },
    {
     "data": {
      "image/png": "[encoded data removed]",
      "text/plain": [
       "<Figure size 288x288 with 16 Axes>"
      ]
     },
     "metadata": {
      "needs_background": "light"
     },
     "output_type": "display_data"
    },
    {
     "name": "stdout",
     "output_type": "stream",
     "text": [
      "RIGHT-DOWN\n"
     ]
    },
    {
     "data": {
      "image/png": "[encoded data removed]",
      "text/plain": [
       "<Figure size 288x288 with 16 Axes>"
      ]
     },
     "metadata": {
      "needs_background": "light"
     },
     "output_type": "display_data"
    }
   ],
   "source": [
    "# Get a random image from the training dataset\n",
    "# and resize the image\n",
    "image = x_train[np.random.choice(range(x_train.shape[0]))]\n",
    "resized_image = tf.image.resize(\n",
    "    tf.convert_to_tensor([image]), size=(IMAGE_SIZE, IMAGE_SIZE)\n",
    ")\n",
    "\n",
    "# Vanilla patch maker: This takes an image and divides into\n",
    "# patches as in the original ViT paper\n",
    "(token, patch) = ShiftedPatchTokenization(vanilla=True)(resized_image / 255.0)\n",
    "(token, patch) = (token[0], patch[0])\n",
    "n = patch.shape[0]\n",
    "count = 1\n",
    "plt.figure(figsize=(4, 4))\n",
    "for row in range(n):\n",
    "    for col in range(n):\n",
    "        plt.subplot(n, n, count)\n",
    "        count = count + 1\n",
    "        image = tf.reshape(patch[row][col], (PATCH_SIZE, PATCH_SIZE, 3))\n",
    "        plt.imshow(image)\n",
    "        plt.axis(\"off\")\n",
    "plt.show()\n",
    "\n",
    "# Shifted Patch Tokenization: This layer takes the image, shifts it\n",
    "# diagonally and then extracts patches from the concatinated images\n",
    "(token, patch) = ShiftedPatchTokenization(vanilla=False)(resized_image / 255.0)\n",
    "(token, patch) = (token[0], patch[0])\n",
    "n = patch.shape[0]\n",
    "shifted_images = [\"ORIGINAL\", \"LEFT-UP\", \"LEFT-DOWN\", \"RIGHT-UP\", \"RIGHT-DOWN\"]\n",
    "for index, name in enumerate(shifted_images):\n",
    "    print(name)\n",
    "    count = 1\n",
    "    plt.figure(figsize=(4, 4))\n",
    "    for row in range(n):\n",
    "        for col in range(n):\n",
    "            plt.subplot(n, n, count)\n",
    "            count = count + 1\n",
    "            image = tf.reshape(patch[row][col], (PATCH_SIZE, PATCH_SIZE, 5 * 3))\n",
    "            plt.imshow(image[..., 3 * index : 3 * index + 3])\n",
    "            plt.axis(\"off\")\n",
    "            break\n",
    "    plt.show()"
   ]
  },
  {
   "cell_type": "code",
   "execution_count": 93,
   "metadata": {
    "id": "1Iu-lyIsrkPU"
   },
   "outputs": [],
   "source": [
    "class PatchEncoder(layers.Layer):\n",
    "    def __init__(\n",
    "        self, num_patches=NUM_PATCHES, projection_dim=PROJECTION_DIM, **kwargs\n",
    "    ):\n",
    "        super().__init__(**kwargs)\n",
    "        self.num_patches = num_patches\n",
    "        self.position_embedding = layers.Embedding(\n",
    "            input_dim=num_patches, output_dim=projection_dim\n",
    "        )\n",
    "        self.positions = tf.range(start=0, limit=self.num_patches, delta=1)\n",
    "\n",
    "    def call(self, encoded_patches):\n",
    "        encoded_positions = self.position_embedding(self.positions)\n",
    "        encoded_patches = encoded_patches + encoded_positions\n",
    "        return encoded_patches"
   ]
  },
  {
   "cell_type": "code",
   "execution_count": 94,
   "metadata": {
    "id": "4jPTOIFgrtJA"
   },
   "outputs": [],
   "source": [
    "class MultiHeadAttentionLSA(tf.keras.layers.MultiHeadAttention):\n",
    "    def __init__(self, **kwargs):\n",
    "        super().__init__(**kwargs)\n",
    "        # The trainable temperature term. The initial value is\n",
    "        # the square root of the key dimension.\n",
    "        self.tau = tf.Variable(math.sqrt(float(self._key_dim)), trainable=True)\n",
    "\n",
    "    def _compute_attention(self, query, key, value, attention_mask=None, training=None):\n",
    "        query = tf.multiply(query, 1.0 / self.tau)\n",
    "        attention_scores = tf.einsum(self._dot_product_equation, key, query)\n",
    "        attention_scores = self._masked_softmax(attention_scores, attention_mask)\n",
    "        attention_scores_dropout = self._dropout_layer(\n",
    "            attention_scores, training=training\n",
    "        )\n",
    "        attention_output = tf.einsum(\n",
    "            self._combine_equation, attention_scores_dropout, value\n",
    "        )\n",
    "        return attention_output, attention_scores"
   ]
  },
  {
   "cell_type": "code",
   "execution_count": 95,
   "metadata": {
    "id": "_6MKWMpfruxh"
   },
   "outputs": [],
   "source": [
    "def mlp(x, hidden_units, dropout_rate):\n",
    "    for units in hidden_units:\n",
    "        x = layers.Dense(units, activation=tf.nn.gelu)(x)\n",
    "        x = layers.Dropout(dropout_rate)(x)\n",
    "    return x\n",
    "\n",
    "\n",
    "# Build the diagonal attention mask\n",
    "diag_attn_mask = 1 - tf.eye(NUM_PATCHES)\n",
    "diag_attn_mask = tf.cast([diag_attn_mask], dtype=tf.int8)"
   ]
  },
  {
   "cell_type": "code",
   "execution_count": 96,
   "metadata": {
    "id": "lOrjy0tdrwH1"
   },
   "outputs": [],
   "source": [
    "def create_vit_classifier(vanilla=False):\n",
    "    inputs = layers.Input(shape=INPUT_SHAPE)\n",
    "    # Augment data.\n",
    "    augmented = data_augmentation(inputs)\n",
    "    # Create patches.\n",
    "    (tokens, _) = ShiftedPatchTokenization(vanilla=vanilla)(augmented)\n",
    "    # Encode patches.\n",
    "    encoded_patches = PatchEncoder()(tokens)\n",
    "\n",
    "    # Create multiple layers of the Transformer block.\n",
    "    for _ in range(TRANSFORMER_LAYERS):\n",
    "        # Layer normalization 1.\n",
    "        x1 = layers.LayerNormalization(epsilon=1e-6)(encoded_patches)\n",
    "        # Create a multi-head attention layer.\n",
    "        if not vanilla:\n",
    "            attention_output = MultiHeadAttentionLSA(\n",
    "                num_heads=NUM_HEADS, key_dim=PROJECTION_DIM, dropout=0.1\n",
    "            )(x1, x1, attention_mask=diag_attn_mask)\n",
    "        else:\n",
    "            attention_output = layers.MultiHeadAttention(\n",
    "                num_heads=NUM_HEADS, key_dim=PROJECTION_DIM, dropout=0.1\n",
    "            )(x1, x1)\n",
    "        # Skip connection 1.\n",
    "        x2 = layers.Add()([attention_output, encoded_patches])\n",
    "        # Layer normalization 2.\n",
    "        x3 = layers.LayerNormalization(epsilon=1e-6)(x2)\n",
    "        # MLP.\n",
    "        x3 = mlp(x3, hidden_units=TRANSFORMER_UNITS, dropout_rate=0.1)\n",
    "        # Skip connection 2.\n",
    "        encoded_patches = layers.Add()([x3, x2])\n",
    "\n",
    "    # Create a [batch_size, projection_dim] tensor.\n",
    "    representation = layers.LayerNormalization(epsilon=1e-6)(encoded_patches)\n",
    "    representation = layers.Flatten()(representation)\n",
    "    representation = layers.Dropout(0.5)(representation)\n",
    "    # Add MLP.\n",
    "    features = mlp(representation, hidden_units=MLP_HEAD_UNITS, dropout_rate=0.5)\n",
    "    # Classify outputs.\n",
    "    logits = layers.Dense(NUM_CLASSES)(features)\n",
    "    # Create the Keras model.\n",
    "    model = keras.Model(inputs=inputs, outputs=logits)\n",
    "    return model"
   ]
  },
  {
   "cell_type": "code",
   "execution_count": 97,
   "metadata": {
    "colab": {
     "base_uri": "https://localhost:8080/"
    },
    "id": "Za2ny5K-Fm6J",
    "outputId": "660df27d-1b30-4ff5-bce4-beff9ed8ecfd"
   },
   "outputs": [
    {
     "name": "stdout",
     "output_type": "stream",
     "text": [
      "Epoch 1/100\n",
      "24/24 [==============================] - 37s 831ms/step - loss: 2.5540 - accuracy: 0.4447 - top-5-accuracy: 1.0000 - val_loss: 1.3239 - val_accuracy: 0.3360 - val_top-5-accuracy: 1.0000\n",
      "Epoch 2/100\n",
      "24/24 [==============================] - 18s 741ms/step - loss: 1.6178 - accuracy: 0.4820 - top-5-accuracy: 1.0000 - val_loss: 0.9092 - val_accuracy: 0.5947 - val_top-5-accuracy: 1.0000\n",
      "Epoch 3/100\n",
      "24/24 [==============================] - 18s 742ms/step - loss: 1.3626 - accuracy: 0.5053 - top-5-accuracy: 1.0000 - val_loss: 0.9226 - val_accuracy: 0.5547 - val_top-5-accuracy: 1.0000\n",
      "Epoch 4/100\n",
      "24/24 [==============================] - 18s 738ms/step - loss: 1.1792 - accuracy: 0.5280 - top-5-accuracy: 1.0000 - val_loss: 0.8205 - val_accuracy: 0.6000 - val_top-5-accuracy: 1.0000\n",
      "Epoch 5/100\n",
      "24/24 [==============================] - 18s 739ms/step - loss: 1.1305 - accuracy: 0.5240 - top-5-accuracy: 1.0000 - val_loss: 0.8133 - val_accuracy: 0.6080 - val_top-5-accuracy: 1.0000\n",
      "Epoch 6/100\n",
      "24/24 [==============================] - 18s 737ms/step - loss: 1.0637 - accuracy: 0.5313 - top-5-accuracy: 1.0000 - val_loss: 0.8295 - val_accuracy: 0.5867 - val_top-5-accuracy: 1.0000\n",
      "Epoch 7/100\n",
      "24/24 [==============================] - 18s 737ms/step - loss: 1.0007 - accuracy: 0.5400 - top-5-accuracy: 1.0000 - val_loss: 0.7842 - val_accuracy: 0.6107 - val_top-5-accuracy: 1.0000\n",
      "Epoch 8/100\n",
      "24/24 [==============================] - 18s 736ms/step - loss: 0.9091 - accuracy: 0.5947 - top-5-accuracy: 1.0000 - val_loss: 0.7449 - val_accuracy: 0.6667 - val_top-5-accuracy: 1.0000\n",
      "Epoch 9/100\n",
      "24/24 [==============================] - 18s 736ms/step - loss: 0.8733 - accuracy: 0.6040 - top-5-accuracy: 1.0000 - val_loss: 0.7370 - val_accuracy: 0.6400 - val_top-5-accuracy: 1.0000\n",
      "Epoch 10/100\n",
      "24/24 [==============================] - 18s 738ms/step - loss: 0.9250 - accuracy: 0.6007 - top-5-accuracy: 1.0000 - val_loss: 0.7190 - val_accuracy: 0.6587 - val_top-5-accuracy: 1.0000\n",
      "Epoch 11/100\n",
      "24/24 [==============================] - 18s 735ms/step - loss: 0.8859 - accuracy: 0.6067 - top-5-accuracy: 1.0000 - val_loss: 0.8022 - val_accuracy: 0.6320 - val_top-5-accuracy: 1.0000\n",
      "Epoch 12/100\n",
      "24/24 [==============================] - 18s 734ms/step - loss: 0.8259 - accuracy: 0.6187 - top-5-accuracy: 1.0000 - val_loss: 0.6815 - val_accuracy: 0.7387 - val_top-5-accuracy: 1.0000\n",
      "Epoch 13/100\n",
      "24/24 [==============================] - 18s 736ms/step - loss: 0.7801 - accuracy: 0.6467 - top-5-accuracy: 1.0000 - val_loss: 0.6814 - val_accuracy: 0.7200 - val_top-5-accuracy: 1.0000\n",
      "Epoch 14/100\n",
      "24/24 [==============================] - 18s 737ms/step - loss: 0.7855 - accuracy: 0.6487 - top-5-accuracy: 1.0000 - val_loss: 0.6913 - val_accuracy: 0.7013 - val_top-5-accuracy: 1.0000\n",
      "Epoch 15/100\n",
      "24/24 [==============================] - 18s 737ms/step - loss: 0.7626 - accuracy: 0.6480 - top-5-accuracy: 1.0000 - val_loss: 0.7064 - val_accuracy: 0.6800 - val_top-5-accuracy: 1.0000\n",
      "Epoch 16/100\n",
      "24/24 [==============================] - 18s 736ms/step - loss: 0.7335 - accuracy: 0.6707 - top-5-accuracy: 1.0000 - val_loss: 0.6672 - val_accuracy: 0.7067 - val_top-5-accuracy: 1.0000\n",
      "Epoch 17/100\n",
      "24/24 [==============================] - 18s 737ms/step - loss: 0.7331 - accuracy: 0.6793 - top-5-accuracy: 1.0000 - val_loss: 0.6359 - val_accuracy: 0.7387 - val_top-5-accuracy: 1.0000\n",
      "Epoch 18/100\n",
      "24/24 [==============================] - 18s 736ms/step - loss: 0.7139 - accuracy: 0.6953 - top-5-accuracy: 1.0000 - val_loss: 0.6449 - val_accuracy: 0.7307 - val_top-5-accuracy: 1.0000\n",
      "Epoch 19/100\n",
      "24/24 [==============================] - 18s 737ms/step - loss: 0.6573 - accuracy: 0.7080 - top-5-accuracy: 1.0000 - val_loss: 0.5934 - val_accuracy: 0.7573 - val_top-5-accuracy: 1.0000\n",
      "Epoch 20/100\n",
      "24/24 [==============================] - 18s 736ms/step - loss: 0.6795 - accuracy: 0.6947 - top-5-accuracy: 1.0000 - val_loss: 0.5600 - val_accuracy: 0.7893 - val_top-5-accuracy: 1.0000\n",
      "Epoch 21/100\n",
      "24/24 [==============================] - 18s 737ms/step - loss: 0.6260 - accuracy: 0.7247 - top-5-accuracy: 1.0000 - val_loss: 0.5786 - val_accuracy: 0.7733 - val_top-5-accuracy: 1.0000\n",
      "Epoch 22/100\n",
      "24/24 [==============================] - 18s 736ms/step - loss: 0.6367 - accuracy: 0.7167 - top-5-accuracy: 1.0000 - val_loss: 0.5446 - val_accuracy: 0.7893 - val_top-5-accuracy: 1.0000\n",
      "Epoch 23/100\n",
      "24/24 [==============================] - 18s 737ms/step - loss: 0.6291 - accuracy: 0.7213 - top-5-accuracy: 1.0000 - val_loss: 0.6078 - val_accuracy: 0.7547 - val_top-5-accuracy: 1.0000\n",
      "Epoch 24/100\n",
      "24/24 [==============================] - 18s 736ms/step - loss: 0.5916 - accuracy: 0.7380 - top-5-accuracy: 1.0000 - val_loss: 0.5526 - val_accuracy: 0.7867 - val_top-5-accuracy: 1.0000\n",
      "Epoch 25/100\n",
      "24/24 [==============================] - 18s 736ms/step - loss: 0.5808 - accuracy: 0.7493 - top-5-accuracy: 1.0000 - val_loss: 0.5513 - val_accuracy: 0.7920 - val_top-5-accuracy: 1.0000\n",
      "Epoch 26/100\n",
      "24/24 [==============================] - 18s 735ms/step - loss: 0.5899 - accuracy: 0.7393 - top-5-accuracy: 1.0000 - val_loss: 0.5318 - val_accuracy: 0.7680 - val_top-5-accuracy: 1.0000\n",
      "Epoch 27/100\n",
      "24/24 [==============================] - 18s 736ms/step - loss: 0.5280 - accuracy: 0.7727 - top-5-accuracy: 1.0000 - val_loss: 0.4967 - val_accuracy: 0.8160 - val_top-5-accuracy: 1.0000\n",
      "Epoch 28/100\n",
      "24/24 [==============================] - 18s 736ms/step - loss: 0.5401 - accuracy: 0.7693 - top-5-accuracy: 1.0000 - val_loss: 0.5306 - val_accuracy: 0.7893 - val_top-5-accuracy: 1.0000\n",
      "Epoch 29/100\n",
      "24/24 [==============================] - 18s 736ms/step - loss: 0.4901 - accuracy: 0.7880 - top-5-accuracy: 1.0000 - val_loss: 0.5297 - val_accuracy: 0.7573 - val_top-5-accuracy: 1.0000\n",
      "Epoch 30/100\n",
      "24/24 [==============================] - 18s 737ms/step - loss: 0.4642 - accuracy: 0.8013 - top-5-accuracy: 1.0000 - val_loss: 0.4793 - val_accuracy: 0.7973 - val_top-5-accuracy: 1.0000\n",
      "Epoch 31/100\n",
      "24/24 [==============================] - 18s 736ms/step - loss: 0.4774 - accuracy: 0.8007 - top-5-accuracy: 1.0000 - val_loss: 0.6303 - val_accuracy: 0.7360 - val_top-5-accuracy: 1.0000\n",
      "Epoch 32/100\n",
      "24/24 [==============================] - 18s 736ms/step - loss: 0.4955 - accuracy: 0.7920 - top-5-accuracy: 1.0000 - val_loss: 0.4141 - val_accuracy: 0.8320 - val_top-5-accuracy: 1.0000\n",
      "Epoch 33/100\n",
      "24/24 [==============================] - 18s 737ms/step - loss: 0.4428 - accuracy: 0.8147 - top-5-accuracy: 1.0000 - val_loss: 0.4605 - val_accuracy: 0.8133 - val_top-5-accuracy: 1.0000\n",
      "Epoch 34/100\n",
      "24/24 [==============================] - 18s 737ms/step - loss: 0.4408 - accuracy: 0.8200 - top-5-accuracy: 1.0000 - val_loss: 0.4028 - val_accuracy: 0.8160 - val_top-5-accuracy: 1.0000\n",
      "Epoch 35/100\n",
      "24/24 [==============================] - 18s 736ms/step - loss: 0.4050 - accuracy: 0.8347 - top-5-accuracy: 1.0000 - val_loss: 0.3940 - val_accuracy: 0.8240 - val_top-5-accuracy: 1.0000\n",
      "Epoch 36/100\n",
      "24/24 [==============================] - 18s 737ms/step - loss: 0.4170 - accuracy: 0.8253 - top-5-accuracy: 1.0000 - val_loss: 0.4858 - val_accuracy: 0.7920 - val_top-5-accuracy: 1.0000\n",
      "Epoch 37/100\n",
      "24/24 [==============================] - 18s 737ms/step - loss: 0.4108 - accuracy: 0.8267 - top-5-accuracy: 1.0000 - val_loss: 0.4147 - val_accuracy: 0.8160 - val_top-5-accuracy: 1.0000\n",
      "Epoch 38/100\n",
      "24/24 [==============================] - 18s 737ms/step - loss: 0.3782 - accuracy: 0.8373 - top-5-accuracy: 1.0000 - val_loss: 0.4120 - val_accuracy: 0.8347 - val_top-5-accuracy: 1.0000\n",
      "Epoch 39/100\n",
      "24/24 [==============================] - 18s 739ms/step - loss: 0.3647 - accuracy: 0.8527 - top-5-accuracy: 1.0000 - val_loss: 0.4212 - val_accuracy: 0.8240 - val_top-5-accuracy: 1.0000\n",
      "Epoch 40/100\n",
      "24/24 [==============================] - 18s 738ms/step - loss: 0.3683 - accuracy: 0.8500 - top-5-accuracy: 1.0000 - val_loss: 0.4670 - val_accuracy: 0.8213 - val_top-5-accuracy: 1.0000\n",
      "Epoch 41/100\n",
      "24/24 [==============================] - 18s 738ms/step - loss: 0.3614 - accuracy: 0.8633 - top-5-accuracy: 1.0000 - val_loss: 0.3917 - val_accuracy: 0.8507 - val_top-5-accuracy: 1.0000\n",
      "Epoch 42/100\n",
      "24/24 [==============================] - 18s 738ms/step - loss: 0.3531 - accuracy: 0.8593 - top-5-accuracy: 1.0000 - val_loss: 0.3972 - val_accuracy: 0.8640 - val_top-5-accuracy: 1.0000\n",
      "Epoch 43/100\n",
      "24/24 [==============================] - 18s 739ms/step - loss: 0.3217 - accuracy: 0.8860 - top-5-accuracy: 1.0000 - val_loss: 0.3687 - val_accuracy: 0.8613 - val_top-5-accuracy: 1.0000\n",
      "Epoch 44/100\n",
      "24/24 [==============================] - 18s 740ms/step - loss: 0.3293 - accuracy: 0.8687 - top-5-accuracy: 1.0000 - val_loss: 0.4154 - val_accuracy: 0.8533 - val_top-5-accuracy: 1.0000\n",
      "Epoch 45/100\n",
      "24/24 [==============================] - 18s 738ms/step - loss: 0.3216 - accuracy: 0.8720 - top-5-accuracy: 1.0000 - val_loss: 0.3918 - val_accuracy: 0.8533 - val_top-5-accuracy: 1.0000\n",
      "Epoch 46/100\n",
      "24/24 [==============================] - 18s 737ms/step - loss: 0.2922 - accuracy: 0.8773 - top-5-accuracy: 1.0000 - val_loss: 0.3878 - val_accuracy: 0.8613 - val_top-5-accuracy: 1.0000\n",
      "Epoch 47/100\n",
      "24/24 [==============================] - 18s 737ms/step - loss: 0.2990 - accuracy: 0.8813 - top-5-accuracy: 1.0000 - val_loss: 0.3687 - val_accuracy: 0.8640 - val_top-5-accuracy: 1.0000\n",
      "Epoch 48/100\n",
      "24/24 [==============================] - 18s 736ms/step - loss: 0.2702 - accuracy: 0.8973 - top-5-accuracy: 1.0000 - val_loss: 0.3432 - val_accuracy: 0.8427 - val_top-5-accuracy: 1.0000\n",
      "Epoch 49/100\n",
      "24/24 [==============================] - 18s 738ms/step - loss: 0.2655 - accuracy: 0.8947 - top-5-accuracy: 1.0000 - val_loss: 0.3688 - val_accuracy: 0.8667 - val_top-5-accuracy: 1.0000\n",
      "Epoch 50/100\n",
      "24/24 [==============================] - 18s 739ms/step - loss: 0.2592 - accuracy: 0.8980 - top-5-accuracy: 1.0000 - val_loss: 0.3227 - val_accuracy: 0.8960 - val_top-5-accuracy: 1.0000\n",
      "Epoch 51/100\n",
      "24/24 [==============================] - 18s 739ms/step - loss: 0.2470 - accuracy: 0.9073 - top-5-accuracy: 1.0000 - val_loss: 0.3477 - val_accuracy: 0.8747 - val_top-5-accuracy: 1.0000\n",
      "Epoch 52/100\n",
      "24/24 [==============================] - 18s 737ms/step - loss: 0.2324 - accuracy: 0.9047 - top-5-accuracy: 1.0000 - val_loss: 0.3625 - val_accuracy: 0.8693 - val_top-5-accuracy: 1.0000\n",
      "Epoch 53/100\n",
      "24/24 [==============================] - 18s 736ms/step - loss: 0.2621 - accuracy: 0.9007 - top-5-accuracy: 1.0000 - val_loss: 0.3465 - val_accuracy: 0.8667 - val_top-5-accuracy: 1.0000\n",
      "Epoch 54/100\n",
      "24/24 [==============================] - 18s 737ms/step - loss: 0.2299 - accuracy: 0.9153 - top-5-accuracy: 1.0000 - val_loss: 0.4118 - val_accuracy: 0.8533 - val_top-5-accuracy: 1.0000\n",
      "Epoch 55/100\n",
      "24/24 [==============================] - 18s 737ms/step - loss: 0.2104 - accuracy: 0.9133 - top-5-accuracy: 1.0000 - val_loss: 0.3587 - val_accuracy: 0.8827 - val_top-5-accuracy: 1.0000\n",
      "Epoch 56/100\n",
      "24/24 [==============================] - 18s 738ms/step - loss: 0.2202 - accuracy: 0.9140 - top-5-accuracy: 1.0000 - val_loss: 0.3889 - val_accuracy: 0.8773 - val_top-5-accuracy: 1.0000\n",
      "Epoch 57/100\n",
      "24/24 [==============================] - 18s 736ms/step - loss: 0.2401 - accuracy: 0.9093 - top-5-accuracy: 1.0000 - val_loss: 0.3502 - val_accuracy: 0.8720 - val_top-5-accuracy: 1.0000\n",
      "Epoch 58/100\n",
      "24/24 [==============================] - 18s 735ms/step - loss: 0.2351 - accuracy: 0.9153 - top-5-accuracy: 1.0000 - val_loss: 0.3251 - val_accuracy: 0.8800 - val_top-5-accuracy: 1.0000\n",
      "Epoch 59/100\n",
      "24/24 [==============================] - 18s 736ms/step - loss: 0.1953 - accuracy: 0.9220 - top-5-accuracy: 1.0000 - val_loss: 0.3956 - val_accuracy: 0.8587 - val_top-5-accuracy: 1.0000\n",
      "Epoch 60/100\n",
      "24/24 [==============================] - 18s 735ms/step - loss: 0.2011 - accuracy: 0.9140 - top-5-accuracy: 1.0000 - val_loss: 0.3834 - val_accuracy: 0.8667 - val_top-5-accuracy: 1.0000\n",
      "Epoch 61/100\n",
      "24/24 [==============================] - 18s 735ms/step - loss: 0.2033 - accuracy: 0.9253 - top-5-accuracy: 1.0000 - val_loss: 0.3451 - val_accuracy: 0.8827 - val_top-5-accuracy: 1.0000\n",
      "Epoch 62/100\n",
      "24/24 [==============================] - 18s 737ms/step - loss: 0.1839 - accuracy: 0.9273 - top-5-accuracy: 1.0000 - val_loss: 0.3466 - val_accuracy: 0.8747 - val_top-5-accuracy: 1.0000\n",
      "Epoch 63/100\n",
      "24/24 [==============================] - 18s 736ms/step - loss: 0.1629 - accuracy: 0.9453 - top-5-accuracy: 1.0000 - val_loss: 0.2964 - val_accuracy: 0.9093 - val_top-5-accuracy: 1.0000\n",
      "Epoch 64/100\n",
      "24/24 [==============================] - 18s 735ms/step - loss: 0.1527 - accuracy: 0.9513 - top-5-accuracy: 1.0000 - val_loss: 0.2921 - val_accuracy: 0.8987 - val_top-5-accuracy: 1.0000\n",
      "Epoch 65/100\n",
      "24/24 [==============================] - 18s 734ms/step - loss: 0.1789 - accuracy: 0.9413 - top-5-accuracy: 1.0000 - val_loss: 0.3849 - val_accuracy: 0.8773 - val_top-5-accuracy: 1.0000\n",
      "Epoch 66/100\n",
      "24/24 [==============================] - 18s 735ms/step - loss: 0.1749 - accuracy: 0.9347 - top-5-accuracy: 1.0000 - val_loss: 0.3009 - val_accuracy: 0.9013 - val_top-5-accuracy: 1.0000\n",
      "Epoch 67/100\n",
      "24/24 [==============================] - 18s 735ms/step - loss: 0.1528 - accuracy: 0.9420 - top-5-accuracy: 1.0000 - val_loss: 0.3240 - val_accuracy: 0.8827 - val_top-5-accuracy: 1.0000\n",
      "Epoch 68/100\n",
      "24/24 [==============================] - 18s 734ms/step - loss: 0.1748 - accuracy: 0.9393 - top-5-accuracy: 1.0000 - val_loss: 0.3011 - val_accuracy: 0.9013 - val_top-5-accuracy: 1.0000\n",
      "Epoch 69/100\n",
      "24/24 [==============================] - 18s 735ms/step - loss: 0.1594 - accuracy: 0.9440 - top-5-accuracy: 1.0000 - val_loss: 0.2804 - val_accuracy: 0.8987 - val_top-5-accuracy: 1.0000\n",
      "Epoch 70/100\n",
      "24/24 [==============================] - 18s 733ms/step - loss: 0.1568 - accuracy: 0.9447 - top-5-accuracy: 1.0000 - val_loss: 0.3236 - val_accuracy: 0.8800 - val_top-5-accuracy: 1.0000\n",
      "Epoch 71/100\n",
      "24/24 [==============================] - 18s 734ms/step - loss: 0.1555 - accuracy: 0.9413 - top-5-accuracy: 1.0000 - val_loss: 0.2937 - val_accuracy: 0.9040 - val_top-5-accuracy: 1.0000\n",
      "Epoch 72/100\n",
      "24/24 [==============================] - 18s 733ms/step - loss: 0.1300 - accuracy: 0.9520 - top-5-accuracy: 1.0000 - val_loss: 0.3406 - val_accuracy: 0.8960 - val_top-5-accuracy: 1.0000\n",
      "Epoch 73/100\n",
      "24/24 [==============================] - 18s 734ms/step - loss: 0.1517 - accuracy: 0.9427 - top-5-accuracy: 1.0000 - val_loss: 0.3138 - val_accuracy: 0.8960 - val_top-5-accuracy: 1.0000\n",
      "Epoch 74/100\n",
      "24/24 [==============================] - 18s 735ms/step - loss: 0.1614 - accuracy: 0.9333 - top-5-accuracy: 1.0000 - val_loss: 0.3273 - val_accuracy: 0.8933 - val_top-5-accuracy: 1.0000\n",
      "Epoch 75/100\n",
      "24/24 [==============================] - 18s 733ms/step - loss: 0.1483 - accuracy: 0.9473 - top-5-accuracy: 1.0000 - val_loss: 0.2816 - val_accuracy: 0.9147 - val_top-5-accuracy: 1.0000\n",
      "Epoch 76/100\n",
      "24/24 [==============================] - 18s 734ms/step - loss: 0.1232 - accuracy: 0.9527 - top-5-accuracy: 1.0000 - val_loss: 0.2815 - val_accuracy: 0.8960 - val_top-5-accuracy: 1.0000\n",
      "Epoch 77/100\n",
      "24/24 [==============================] - 18s 735ms/step - loss: 0.1264 - accuracy: 0.9593 - top-5-accuracy: 1.0000 - val_loss: 0.2779 - val_accuracy: 0.9200 - val_top-5-accuracy: 1.0000\n",
      "Epoch 78/100\n",
      "24/24 [==============================] - 18s 735ms/step - loss: 0.1077 - accuracy: 0.9560 - top-5-accuracy: 1.0000 - val_loss: 0.3481 - val_accuracy: 0.9013 - val_top-5-accuracy: 1.0000\n",
      "Epoch 79/100\n",
      "24/24 [==============================] - 18s 734ms/step - loss: 0.1422 - accuracy: 0.9407 - top-5-accuracy: 1.0000 - val_loss: 0.2570 - val_accuracy: 0.9147 - val_top-5-accuracy: 1.0000\n",
      "Epoch 80/100\n",
      "24/24 [==============================] - 18s 733ms/step - loss: 0.1571 - accuracy: 0.9480 - top-5-accuracy: 1.0000 - val_loss: 0.2834 - val_accuracy: 0.9013 - val_top-5-accuracy: 1.0000\n",
      "Epoch 81/100\n",
      "24/24 [==============================] - 18s 733ms/step - loss: 0.1021 - accuracy: 0.9707 - top-5-accuracy: 1.0000 - val_loss: 0.2653 - val_accuracy: 0.9067 - val_top-5-accuracy: 1.0000\n",
      "Epoch 82/100\n",
      "24/24 [==============================] - 18s 735ms/step - loss: 0.1175 - accuracy: 0.9560 - top-5-accuracy: 1.0000 - val_loss: 0.2556 - val_accuracy: 0.9067 - val_top-5-accuracy: 1.0000\n",
      "Epoch 83/100\n",
      "24/24 [==============================] - 18s 735ms/step - loss: 0.1093 - accuracy: 0.9627 - top-5-accuracy: 1.0000 - val_loss: 0.2615 - val_accuracy: 0.9227 - val_top-5-accuracy: 1.0000\n",
      "Epoch 84/100\n",
      "24/24 [==============================] - 18s 735ms/step - loss: 0.1174 - accuracy: 0.9600 - top-5-accuracy: 1.0000 - val_loss: 0.3520 - val_accuracy: 0.8933 - val_top-5-accuracy: 1.0000\n",
      "Epoch 85/100\n",
      "24/24 [==============================] - 18s 734ms/step - loss: 0.1293 - accuracy: 0.9500 - top-5-accuracy: 1.0000 - val_loss: 0.2816 - val_accuracy: 0.9093 - val_top-5-accuracy: 1.0000\n",
      "Epoch 86/100\n",
      "24/24 [==============================] - 18s 733ms/step - loss: 0.0847 - accuracy: 0.9733 - top-5-accuracy: 1.0000 - val_loss: 0.2714 - val_accuracy: 0.9147 - val_top-5-accuracy: 1.0000\n",
      "Epoch 87/100\n",
      "24/24 [==============================] - 18s 733ms/step - loss: 0.1147 - accuracy: 0.9573 - top-5-accuracy: 1.0000 - val_loss: 0.2889 - val_accuracy: 0.9173 - val_top-5-accuracy: 1.0000\n",
      "Epoch 88/100\n",
      "24/24 [==============================] - 18s 733ms/step - loss: 0.1162 - accuracy: 0.9573 - top-5-accuracy: 1.0000 - val_loss: 0.2857 - val_accuracy: 0.9013 - val_top-5-accuracy: 1.0000\n",
      "Epoch 89/100\n",
      "24/24 [==============================] - 18s 733ms/step - loss: 0.1201 - accuracy: 0.9580 - top-5-accuracy: 1.0000 - val_loss: 0.3229 - val_accuracy: 0.9013 - val_top-5-accuracy: 1.0000\n",
      "Epoch 90/100\n",
      "24/24 [==============================] - 18s 732ms/step - loss: 0.1137 - accuracy: 0.9587 - top-5-accuracy: 1.0000 - val_loss: 0.3051 - val_accuracy: 0.9120 - val_top-5-accuracy: 1.0000\n",
      "Epoch 91/100\n",
      "24/24 [==============================] - 18s 734ms/step - loss: 0.1176 - accuracy: 0.9633 - top-5-accuracy: 1.0000 - val_loss: 0.3090 - val_accuracy: 0.9093 - val_top-5-accuracy: 1.0000\n",
      "Epoch 92/100\n",
      "24/24 [==============================] - 18s 735ms/step - loss: 0.1001 - accuracy: 0.9640 - top-5-accuracy: 1.0000 - val_loss: 0.2919 - val_accuracy: 0.9067 - val_top-5-accuracy: 1.0000\n",
      "Epoch 93/100\n",
      "24/24 [==============================] - 18s 733ms/step - loss: 0.0926 - accuracy: 0.9713 - top-5-accuracy: 1.0000 - val_loss: 0.2929 - val_accuracy: 0.9253 - val_top-5-accuracy: 1.0000\n",
      "Epoch 94/100\n",
      "24/24 [==============================] - 18s 733ms/step - loss: 0.0939 - accuracy: 0.9660 - top-5-accuracy: 1.0000 - val_loss: 0.3096 - val_accuracy: 0.9067 - val_top-5-accuracy: 1.0000\n",
      "Epoch 95/100\n",
      "24/24 [==============================] - 18s 733ms/step - loss: 0.1122 - accuracy: 0.9587 - top-5-accuracy: 1.0000 - val_loss: 0.2824 - val_accuracy: 0.9200 - val_top-5-accuracy: 1.0000\n",
      "Epoch 96/100\n",
      "24/24 [==============================] - 18s 734ms/step - loss: 0.1253 - accuracy: 0.9553 - top-5-accuracy: 1.0000 - val_loss: 0.2796 - val_accuracy: 0.9173 - val_top-5-accuracy: 1.0000\n",
      "Epoch 97/100\n",
      "24/24 [==============================] - 18s 733ms/step - loss: 0.1074 - accuracy: 0.9580 - top-5-accuracy: 1.0000 - val_loss: 0.2695 - val_accuracy: 0.9253 - val_top-5-accuracy: 1.0000\n",
      "Epoch 98/100\n",
      "24/24 [==============================] - 18s 733ms/step - loss: 0.0980 - accuracy: 0.9640 - top-5-accuracy: 1.0000 - val_loss: 0.2597 - val_accuracy: 0.9333 - val_top-5-accuracy: 1.0000\n",
      "Epoch 99/100\n",
      "24/24 [==============================] - 18s 733ms/step - loss: 0.0875 - accuracy: 0.9727 - top-5-accuracy: 1.0000 - val_loss: 0.2605 - val_accuracy: 0.9093 - val_top-5-accuracy: 1.0000\n",
      "Epoch 100/100\n",
      "24/24 [==============================] - 18s 733ms/step - loss: 0.0964 - accuracy: 0.9653 - top-5-accuracy: 1.0000 - val_loss: 0.3364 - val_accuracy: 0.8987 - val_top-5-accuracy: 1.0000\n",
      "8/8 [==============================] - 2s 208ms/step - loss: 0.3683 - accuracy: 0.8977 - top-5-accuracy: 1.0000\n",
      "Test accuracy: 89.77%\n",
      "Test top 5 accuracy: 100.0%\n"
     ]
    }
   ],
   "source": [
    "# Some code is taken from:\n",
    "# https://www.kaggle.com/ashusma/training-rfcx-tensorflow-tpu-effnet-b2.\n",
    "class WarmUpCosine(keras.optimizers.schedules.LearningRateSchedule):\n",
    "    def __init__(\n",
    "        self, learning_rate_base, total_steps, warmup_learning_rate, warmup_steps\n",
    "    ):\n",
    "        super(WarmUpCosine, self).__init__()\n",
    "\n",
    "        self.learning_rate_base = learning_rate_base\n",
    "        self.total_steps = total_steps\n",
    "        self.warmup_learning_rate = warmup_learning_rate\n",
    "        self.warmup_steps = warmup_steps\n",
    "        self.pi = tf.constant(np.pi)\n",
    "\n",
    "    def __call__(self, step):\n",
    "        if self.total_steps < self.warmup_steps:\n",
    "            raise ValueError(\"Total_steps must be larger or equal to warmup_steps.\")\n",
    "\n",
    "        cos_annealed_lr = tf.cos(\n",
    "            self.pi\n",
    "            * (tf.cast(step, tf.float32) - self.warmup_steps)\n",
    "            / float(self.total_steps - self.warmup_steps)\n",
    "        )\n",
    "        learning_rate = 0.5 * self.learning_rate_base * (1 + cos_annealed_lr)\n",
    "\n",
    "        if self.warmup_steps > 0:\n",
    "            if self.learning_rate_base < self.warmup_learning_rate:\n",
    "                raise ValueError(\n",
    "                    \"Learning_rate_base must be larger or equal to \"\n",
    "                    \"warmup_learning_rate.\"\n",
    "                )\n",
    "            slope = (\n",
    "                self.learning_rate_base - self.warmup_learning_rate\n",
    "            ) / self.warmup_steps\n",
    "            warmup_rate = slope * tf.cast(step, tf.float32) + self.warmup_learning_rate\n",
    "            learning_rate = tf.where(\n",
    "                step < self.warmup_steps, warmup_rate, learning_rate\n",
    "            )\n",
    "        return tf.where(\n",
    "            step > self.total_steps, 0.0, learning_rate, name=\"learning_rate\"\n",
    "        )\n",
    "\n",
    "\n",
    "def run_experiment(model):\n",
    "    total_steps = int((len(x_train) / BATCH_SIZE) * EPOCHS)\n",
    "    warmup_epoch_percentage = 0.10\n",
    "    warmup_steps = int(total_steps * warmup_epoch_percentage)\n",
    "    scheduled_lrs = WarmUpCosine(\n",
    "        learning_rate_base=LEARNING_RATE,\n",
    "        total_steps=total_steps,\n",
    "        warmup_learning_rate=0.0,\n",
    "        warmup_steps=warmup_steps,\n",
    "    )\n",
    "\n",
    "    optimizer = tfa.optimizers.AdamW(\n",
    "        learning_rate=LEARNING_RATE, weight_decay=WEIGHT_DECAY\n",
    "    )\n",
    "\n",
    "    model.compile(\n",
    "        optimizer=optimizer,\n",
    "        loss=keras.losses.SparseCategoricalCrossentropy(from_logits=True),\n",
    "        metrics=[\n",
    "            keras.metrics.SparseCategoricalAccuracy(name=\"accuracy\"),\n",
    "            keras.metrics.SparseTopKCategoricalAccuracy(5, name=\"top-5-accuracy\"),\n",
    "        ],\n",
    "    )\n",
    "\n",
    "    history = model.fit(\n",
    "        x=x_train,\n",
    "        y=y_train,\n",
    "        batch_size=BATCH_SIZE,\n",
    "        epochs=EPOCHS,\n",
    "        validation_split=0.2,\n",
    "    )\n",
    "    _, accuracy, top_5_accuracy = model.evaluate(x_test, y_test, batch_size=BATCH_SIZE)\n",
    "    print(f\"Test accuracy: {round(accuracy * 100, 2)}%\")\n",
    "    print(f\"Test top 5 accuracy: {round(top_5_accuracy * 100, 2)}%\")\n",
    "\n",
    "    return history\n",
    "\n",
    "\n",
    "# Run experiments with the vanilla ViT\n",
    "vit = create_vit_classifier(vanilla=True)\n",
    "history = run_experiment(vit)"
   ]
  },
  {
   "cell_type": "code",
   "execution_count": 98,
   "metadata": {
    "colab": {
     "base_uri": "https://localhost:8080/",
     "height": 295
    },
    "id": "y5HHKshKryFF",
    "outputId": "d4686c5b-a14a-48dc-d8ff-fc59caf3ae7c"
   },
   "outputs": [
    {
     "data": {
      "image/png": "[encoded data removed]",
      "text/plain": [
       "<Figure size 432x288 with 1 Axes>"
      ]
     },
     "metadata": {
      "needs_background": "light"
     },
     "output_type": "display_data"
    }
   ],
   "source": [
    "plt.plot(history.history['accuracy'])\n",
    "plt.plot(history.history['val_accuracy'])\n",
    "plt.title('ViT Model Train vs Validation Accuracy Curve')\n",
    "plt.ylabel('accuracy')\n",
    "plt.xlabel('epoch')\n",
    "plt.legend(['train', 'val'], loc='upper left')\n",
    "plt.show()"
   ]
  },
  {
   "cell_type": "code",
   "execution_count": 99,
   "metadata": {
    "colab": {
     "base_uri": "https://localhost:8080/",
     "height": 295
    },
    "id": "Sm-MPwp4r0To",
    "outputId": "749ace77-7e46-4a94-db87-9dab8e6514fb"
   },
   "outputs": [
    {
     "data": {
      "image/png": "[encoded data removed]",
      "text/plain": [
       "<Figure size 432x288 with 1 Axes>"
      ]
     },
     "metadata": {
      "needs_background": "light"
     },
     "output_type": "display_data"
    }
   ],
   "source": [
    "\n",
    "plt.plot(history.history['loss'])\n",
    "plt.plot(history.history['val_loss'])\n",
    "plt.title('ViT Model Train vs Validation Loss Curve')\n",
    "plt.ylabel('accuracy')\n",
    "plt.xlabel('epoch')\n",
    "plt.legend(['train', 'val'], loc='upper left')\n",
    "plt.show()"
   ]
  },
  {
   "cell_type": "code",
   "execution_count": 100,
   "metadata": {
    "colab": {
     "base_uri": "https://localhost:8080/",
     "height": 677
    },
    "id": "vhywHwRYr1jB",
    "outputId": "65655d1c-16c8-4b23-fd6a-13e4e7642c49"
   },
   "outputs": [
    {
     "name": "stderr",
     "output_type": "stream",
     "text": [
      "/usr/local/lib/python3.7/dist-packages/ipykernel_launcher.py:8: UserWarning: `Model.predict_generator` is deprecated and will be removed in a future version. Please use `Model.predict`, which supports generators.\n",
      "  \n"
     ]
    },
    {
     "name": "stdout",
     "output_type": "stream",
     "text": [
      "Confusion matrix, without normalization\n",
      "              precision    recall  f1-score   support\n",
      "\n",
      "           0       0.91      0.93      0.92       257\n",
      "           1       1.00      0.82      0.90       137\n",
      "           2       0.74      0.92      0.82        75\n",
      "\n",
      "    accuracy                           0.90       469\n",
      "   macro avg       0.88      0.89      0.88       469\n",
      "weighted avg       0.91      0.90      0.90       469\n",
      "\n"
     ]
    },
    {
     "data": {
      "image/png": "[encoded data removed]",
      "text/plain": [
       "<Figure size 432x432 with 2 Axes>"
      ]
     },
     "metadata": {
      "needs_background": "light"
     },
     "output_type": "display_data"
    }
   ],
   "source": [
    "from sklearn.metrics import plot_confusion_matrix\n",
    "from sklearn.metrics import ConfusionMatrixDisplay, confusion_matrix\n",
    "np.set_printoptions(precision=2)\n",
    "class_names = ['benign', 'malignant','normal']\n",
    "\n",
    "from sklearn.metrics import plot_confusion_matrix \n",
    "from sklearn.metrics import ConfusionMatrixDisplay\n",
    "Y_pred = vit.predict_generator(x_test)\n",
    "y_pred = np.argmax(Y_pred, axis=1)\n",
    "\n",
    "cm = confusion_matrix(y_test, y_pred)\n",
    "#plot_confusion_matrix(X = y_pred, y_true=y_test, labels = class_names, normalize=False)\n",
    "\n",
    "\n",
    "import matplotlib.pyplot as plt\n",
    "import itertools \n",
    "def plot_confusion_matrix(cm, classes, normalize=False, title='Confusion matrix', cmap='YlGn'):\n",
    "\n",
    "    \"\"\"\n",
    "\n",
    "    This function prints and plots the confusion matrix.\n",
    "\n",
    "    Normalization can be applied by setting `normalize=True`.\n",
    "\n",
    "    \"\"\"\n",
    "\n",
    "    plt.figure(figsize=(6,6))\n",
    "\n",
    "\n",
    "\n",
    "    plt.imshow(cm, interpolation='nearest', cmap=cmap)\n",
    "\n",
    "    plt.title(title)\n",
    "\n",
    "    plt.colorbar()\n",
    "\n",
    "\n",
    "\n",
    "    tick_marks = np.arange(len(classes))\n",
    "\n",
    "    plt.xticks(tick_marks, classes, rotation=45)\n",
    "\n",
    "    plt.yticks(tick_marks, classes)\n",
    "\n",
    "\n",
    "\n",
    "    if normalize:\n",
    "\n",
    "        cm = cm.astype('float') / cm.sum(axis=1)[:, np.newaxis]\n",
    "\n",
    "        cm = np.around(cm, decimals=2)\n",
    "\n",
    "        cm[np.isnan(cm)] = 0.0\n",
    "\n",
    "        print(\"Normalized confusion matrix\")\n",
    "\n",
    "    else:\n",
    "\n",
    "        print('Confusion matrix, without normalization')\n",
    "\n",
    "    thresh = cm.max() / 2.\n",
    "\n",
    "    for i, j in itertools.product(range(cm.shape[0]), range(cm.shape[1])):\n",
    "\n",
    "        plt.text(j, i, cm[i, j],\n",
    "\n",
    "                 horizontalalignment=\"center\",\n",
    "\n",
    "                 color=\"white\" if cm[i, j] > thresh else \"black\")\n",
    "\n",
    "    plt.tight_layout()\n",
    "\n",
    "    plt.ylabel('True label')\n",
    "\n",
    "    plt.xlabel('Predicted label')\n",
    "\n",
    "plot_confusion_matrix(cm, class_names)\n",
    "\n",
    "from sklearn.metrics import classification_report\n",
    "print(classification_report(y_test, y_pred))"
   ]
  },
  {
   "cell_type": "code",
   "execution_count": 101,
   "metadata": {
    "colab": {
     "base_uri": "https://localhost:8080/"
    },
    "id": "t6DrxrSJr5B1",
    "outputId": "10b9ff7b-e9b5-4565-9afd-7e31d7ba9275"
   },
   "outputs": [
    {
     "name": "stdout",
     "output_type": "stream",
     "text": [
      "WARNING:tensorflow:Skipping full serialization of Keras layer <keras.layers.normalization.layer_normalization.LayerNormalization object at 0x7f0274d60410>, because it is not built.\n"
     ]
    },
    {
     "name": "stderr",
     "output_type": "stream",
     "text": [
      "WARNING:tensorflow:Skipping full serialization of Keras layer <keras.layers.normalization.layer_normalization.LayerNormalization object at 0x7f0274d60410>, because it is not built.\n",
      "WARNING:absl:Found untraced functions such as reshape_17_layer_call_fn, reshape_17_layer_call_and_return_conditional_losses, dense_112_layer_call_fn, dense_112_layer_call_and_return_conditional_losses, embedding_5_layer_call_fn while saving (showing 5 of 150). These functions will not be directly callable after loading.\n"
     ]
    },
    {
     "name": "stdout",
     "output_type": "stream",
     "text": [
      "INFO:tensorflow:Assets written to: /content/drive/MyDrive/only RGB CODE/VIT_Us_Net_6/assets\n"
     ]
    },
    {
     "name": "stderr",
     "output_type": "stream",
     "text": [
      "INFO:tensorflow:Assets written to: /content/drive/MyDrive/only RGB CODE/VIT_Us_Net_6/assets\n"
     ]
    }
   ],
   "source": [
    "vit.save('/content/drive/MyDrive/only RGB CODE/VIT_Us_Net_6')"
   ]
  },
  {
   "cell_type": "code",
   "execution_count": null,
   "metadata": {
    "id": "PvR_BhzwegaP"
   },
   "outputs": [],
   "source": [
    "\n",
    "vit_sl = create_vit_classifier(vanilla=False)\n",
    "history = run_experiment(vit_sl)\n"
   ]
  },
  {
   "cell_type": "code",
   "execution_count": null,
   "metadata": {
    "id": "av640VcTp1Zl"
   },
   "outputs": [],
   "source": []
  }
 ],
 "metadata": {
  "accelerator": "GPU",
  "colab": {
   "name": "Untitled21.ipynb",
   "provenance": []
  },
  "kernelspec": {
   "display_name": "Python 3 (ipykernel)",
   "language": "python",
   "name": "python3"
  },
  "language_info": {
   "codemirror_mode": {
    "name": "ipython",
    "version": 3
   },
   "file_extension": ".py",
   "mimetype": "text/x-python",
   "name": "python",
   "nbconvert_exporter": "python",
   "pygments_lexer": "ipython3",
   "version": "3.7.11"
  }
 },
 "nbformat": 4,
 "nbformat_minor": 1
}
