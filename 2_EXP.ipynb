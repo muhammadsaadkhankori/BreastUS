{
 "cells": [
  {
   "cell_type": "code",
   "execution_count": 1,
   "metadata": {
    "id": "xfTQgdUCDHdv"
   },
   "outputs": [],
   "source": [
    "# install tensorflow_addonsa \n",
    "#its require some finctionality that are not built in tensroflow thats why we have to used it using this package"
   ]
  },
  {
   "cell_type": "code",
   "execution_count": 3,
   "metadata": {
    "colab": {
     "base_uri": "https://localhost:8080/"
    },
    "id": "qsgKOSNfEYBO",
    "outputId": "8d457560-6217-48a3-b7e3-f367a1381c73"
   },
   "outputs": [
    {
     "name": "stdout",
     "output_type": "stream",
     "text": [
      "Collecting tensorflow-addons\n",
      "  Downloading tensorflow_addons-0.16.1-cp37-cp37m-manylinux_2_12_x86_64.manylinux2010_x86_64.whl (1.1 MB)\n",
      "\u001b[K     |████████████████████████████████| 1.1 MB 4.7 MB/s \n",
      "\u001b[?25hRequirement already satisfied: typeguard>=2.7 in /usr/local/lib/python3.7/dist-packages (from tensorflow-addons) (2.7.1)\n",
      "Installing collected packages: tensorflow-addons\n",
      "Successfully installed tensorflow-addons-0.16.1\n"
     ]
    }
   ],
   "source": [
    "!pip install -U tensorflow-addons"
   ]
  },
  {
   "cell_type": "code",
   "execution_count": 5,
   "metadata": {
    "id": "dEuYBFhfEoCC"
   },
   "outputs": [],
   "source": [
    "#Packages used in this study"
   ]
  },
  {
   "cell_type": "code",
   "execution_count": 6,
   "metadata": {
    "id": "Jxk-DWtlEYiN"
   },
   "outputs": [],
   "source": [
    "import tensorflow as tf\n",
    "from tensorflow import keras\n",
    "from keras.preprocessing.image import ImageDataGenerator\n",
    "from keras.models import Sequential\n",
    "import numpy as np\n",
    "import matplotlib.pyplot as plt\n",
    "import random\n",
    "from keras.layers import Conv2D, MaxPooling2D, Flatten, Dense\n",
    "from keras.models import Sequential\n",
    "import matplotlib.pyplot as plt\n",
    "from tensorflow import keras\n",
    "import tensorflow_addons as tfa\n",
    "from tensorflow.keras import layers\n",
    "import random,cv2,os,glob"
   ]
  },
  {
   "cell_type": "code",
   "execution_count": 7,
   "metadata": {
    "id": "XWJKHoiNEkjL"
   },
   "outputs": [],
   "source": [
    "path =\"/content/drive/MyDrive/Augmentation/*\"\n",
    "data_paths = os.path.join(path,'*g')\n",
    "imagePaths = glob.glob(data_paths)"
   ]
  },
  {
   "cell_type": "code",
   "execution_count": 8,
   "metadata": {
    "colab": {
     "base_uri": "https://localhost:8080/"
    },
    "id": "4rfsrUs5EumZ",
    "outputId": "c11bf104-651a-4478-cc52-ab77af581f51"
   },
   "outputs": [
    {
     "data": {
      "text/plain": [
       "2344"
      ]
     },
     "execution_count": 8,
     "metadata": {},
     "output_type": "execute_result"
    }
   ],
   "source": [
    "len(imagePaths)"
   ]
  },
  {
   "cell_type": "code",
   "execution_count": 9,
   "metadata": {
    "id": "DnB2H9hgEvxh"
   },
   "outputs": [],
   "source": [
    "labels=[]\n",
    "images=[]\n",
    "for imgpath in imagePaths:\n",
    "    img=cv2.imread(imgpath)\n",
    "    img=cv2.resize(img,(224,224))\n",
    "    images.append(img)\n",
    "    label= imgpath.split(os.path.sep)[-2].split(\"_\")\n",
    "    labels.append(label)"
   ]
  },
  {
   "cell_type": "code",
   "execution_count": 10,
   "metadata": {
    "id": "dx2aR-TYExkL"
   },
   "outputs": [],
   "source": [
    "images=np.array(images)\n",
    "labels=np.array(labels)"
   ]
  },
  {
   "cell_type": "code",
   "execution_count": 11,
   "metadata": {
    "colab": {
     "base_uri": "https://localhost:8080/"
    },
    "id": "tYDYZJwWEy_R",
    "outputId": "3820226e-a097-43f4-c7dd-31e284103ba6"
   },
   "outputs": [
    {
     "name": "stderr",
     "output_type": "stream",
     "text": [
      "/usr/local/lib/python3.7/dist-packages/sklearn/preprocessing/_label.py:115: DataConversionWarning: A column-vector y was passed when a 1d array was expected. Please change the shape of y to (n_samples, ), for example using ravel().\n",
      "  y = column_or_1d(y, warn=True)\n"
     ]
    }
   ],
   "source": [
    "from sklearn.preprocessing import LabelEncoder\n",
    "label_encoder = LabelEncoder()\n",
    "labels = label_encoder.fit_transform(labels)"
   ]
  },
  {
   "cell_type": "code",
   "execution_count": 12,
   "metadata": {
    "id": "aNLqy-qWE0L8"
   },
   "outputs": [],
   "source": [
    "from sklearn.model_selection import train_test_split\n",
    "x_train,x_test,y_train,y_test = train_test_split(images,labels,test_size=.2,random_state=20)\n",
    "NUM_CLASSES = 3\n",
    "INPUT_SHAPE = (224, 224, 3)"
   ]
  },
  {
   "cell_type": "code",
   "execution_count": 52,
   "metadata": {
    "id": "bIsnFypJE1nZ"
   },
   "outputs": [],
   "source": [
    "# DATA\n",
    "BUFFER_SIZE = 512\n",
    "BATCH_SIZE = 64\n",
    "\n",
    "# AUGMENTATION\n",
    "IMAGE_SIZE = 100\n",
    "PATCH_SIZE = 10\n",
    "NUM_PATCHES = (IMAGE_SIZE // PATCH_SIZE) ** 2\n",
    "\n",
    "# OPTIMIZER\n",
    "LEARNING_RATE = 0.0003\n",
    "WEIGHT_DECAY = 0.0001\n",
    "\n",
    "# TRAINING\n",
    "EPOCHS = 100\n",
    "\n",
    "# ARCHITECTURE\n",
    "LAYER_NORM_EPS = 1e-6\n",
    "TRANSFORMER_LAYERS = 12\n",
    "PROJECTION_DIM = 64\n",
    "NUM_HEADS = 12\n",
    "TRANSFORMER_UNITS = [\n",
    "    PROJECTION_DIM * 2,\n",
    "    PROJECTION_DIM,\n",
    "]\n",
    "MLP_HEAD_UNITS = [2048, 1024]"
   ]
  },
  {
   "cell_type": "code",
   "execution_count": 53,
   "metadata": {
    "id": "hxEl1N2tE4G4"
   },
   "outputs": [],
   "source": [
    "data_augmentation = keras.Sequential(\n",
    "    [\n",
    "        layers.Normalization(),\n",
    "        layers.Resizing(IMAGE_SIZE, IMAGE_SIZE),\n",
    "        layers.RandomFlip(\"horizontal\"),\n",
    "        layers.RandomRotation(factor=0.02),\n",
    "        layers.RandomZoom(height_factor=0.2, width_factor=0.2),\n",
    "    ],\n",
    "    name=\"data_augmentation\",\n",
    ")\n",
    "# Compute the mean and the variance of the training data for normalization.\n",
    "data_augmentation.layers[0].adapt(x_train)"
   ]
  },
  {
   "cell_type": "code",
   "execution_count": 54,
   "metadata": {
    "id": "jUdx5LRUFS7P"
   },
   "outputs": [],
   "source": [
    "class ShiftedPatchTokenization(layers.Layer):\n",
    "    def __init__(\n",
    "        self,\n",
    "        image_size=IMAGE_SIZE,\n",
    "        patch_size=PATCH_SIZE,\n",
    "        num_patches=NUM_PATCHES,\n",
    "        projection_dim=PROJECTION_DIM,\n",
    "        vanilla=False,\n",
    "        **kwargs,\n",
    "    ):\n",
    "        super().__init__(**kwargs)\n",
    "        self.vanilla = vanilla  # Flag to swtich to vanilla patch extractor\n",
    "        self.image_size = image_size\n",
    "        self.patch_size = patch_size\n",
    "        self.half_patch = patch_size // 2\n",
    "        self.flatten_patches = layers.Reshape((num_patches, -1))\n",
    "        self.projection = layers.Dense(units=projection_dim)\n",
    "        self.layer_norm = layers.LayerNormalization(epsilon=LAYER_NORM_EPS)\n",
    "\n",
    "    def crop_shift_pad(self, images, mode):\n",
    "        # Build the diagonally shifted images\n",
    "        if mode == \"left-up\":\n",
    "            crop_height = self.half_patch\n",
    "            crop_width = self.half_patch\n",
    "            shift_height = 0\n",
    "            shift_width = 0\n",
    "        elif mode == \"left-down\":\n",
    "            crop_height = 0\n",
    "            crop_width = self.half_patch\n",
    "            shift_height = self.half_patch\n",
    "            shift_width = 0\n",
    "        elif mode == \"right-up\":\n",
    "            crop_height = self.half_patch\n",
    "            crop_width = 0\n",
    "            shift_height = 0\n",
    "            shift_width = self.half_patch\n",
    "        else:\n",
    "            crop_height = 0\n",
    "            crop_width = 0\n",
    "            shift_height = self.half_patch\n",
    "            shift_width = self.half_patch\n",
    "\n",
    "        # Crop the shifted images and pad them\n",
    "        crop = tf.image.crop_to_bounding_box(\n",
    "            images,\n",
    "            offset_height=crop_height,\n",
    "            offset_width=crop_width,\n",
    "            target_height=self.image_size - self.half_patch,\n",
    "            target_width=self.image_size - self.half_patch,\n",
    "        )\n",
    "        shift_pad = tf.image.pad_to_bounding_box(\n",
    "            crop,\n",
    "            offset_height=shift_height,\n",
    "            offset_width=shift_width,\n",
    "            target_height=self.image_size,\n",
    "            target_width=self.image_size,\n",
    "        )\n",
    "        return shift_pad\n",
    "\n",
    "    def call(self, images):\n",
    "        if not self.vanilla:\n",
    "            # Concat the shifted images with the original image\n",
    "            images = tf.concat(\n",
    "                [\n",
    "                    images,\n",
    "                    self.crop_shift_pad(images, mode=\"left-up\"),\n",
    "                    self.crop_shift_pad(images, mode=\"left-down\"),\n",
    "                    self.crop_shift_pad(images, mode=\"right-up\"),\n",
    "                    self.crop_shift_pad(images, mode=\"right-down\"),\n",
    "                ],\n",
    "                axis=-1,\n",
    "            )\n",
    "        # Patchify the images and flatten it\n",
    "        patches = tf.image.extract_patches(\n",
    "            images=images,\n",
    "            sizes=[1, self.patch_size, self.patch_size, 1],\n",
    "            strides=[1, self.patch_size, self.patch_size, 1],\n",
    "            rates=[1, 1, 1, 1],\n",
    "            padding=\"VALID\",\n",
    "        )\n",
    "        flat_patches = self.flatten_patches(patches)\n",
    "        if not self.vanilla:\n",
    "            # Layer normalize the flat patches and linearly project it\n",
    "            tokens = self.layer_norm(flat_patches)\n",
    "            tokens = self.projection(tokens)\n",
    "        else:\n",
    "            # Linearly project the flat patches\n",
    "            tokens = self.projection(flat_patches)\n",
    "        return (tokens, patches)"
   ]
  },
  {
   "cell_type": "code",
   "execution_count": 55,
   "metadata": {
    "colab": {
     "base_uri": "https://localhost:8080/",
     "height": 495
    },
    "id": "plOkpXVzFUFK",
    "outputId": "1b816407-b857-4eff-a944-c42b17225005"
   },
   "outputs": [
    {
     "data": {
      "image/png": "[encoded data removed]",
      "text/plain": [
       "<Figure size 288x288 with 100 Axes>"
      ]
     },
     "metadata": {
      "needs_background": "light"
     },
     "output_type": "display_data"
    },
    {
     "name": "stdout",
     "output_type": "stream",
     "text": [
      "ORIGINAL\n"
     ]
    },
    {
     "data": {
      "image/png": "[encoded data removed]",
      "text/plain": [
       "<Figure size 288x288 with 10 Axes>"
      ]
     },
     "metadata": {
      "needs_background": "light"
     },
     "output_type": "display_data"
    },
    {
     "name": "stdout",
     "output_type": "stream",
     "text": [
      "LEFT-UP\n"
     ]
    },
    {
     "data": {
      "image/png": "[encoded data removed]",
      "text/plain": [
       "<Figure size 288x288 with 10 Axes>"
      ]
     },
     "metadata": {
      "needs_background": "light"
     },
     "output_type": "display_data"
    },
    {
     "name": "stdout",
     "output_type": "stream",
     "text": [
      "LEFT-DOWN\n"
     ]
    },
    {
     "data": {
      "image/png": "[encoded data removed]",
      "text/plain": [
       "<Figure size 288x288 with 10 Axes>"
      ]
     },
     "metadata": {
      "needs_background": "light"
     },
     "output_type": "display_data"
    },
    {
     "name": "stdout",
     "output_type": "stream",
     "text": [
      "RIGHT-UP\n"
     ]
    },
    {
     "data": {
      "image/png": "[encoded data removed]",
      "text/plain": [
       "<Figure size 288x288 with 10 Axes>"
      ]
     },
     "metadata": {
      "needs_background": "light"
     },
     "output_type": "display_data"
    },
    {
     "name": "stdout",
     "output_type": "stream",
     "text": [
      "RIGHT-DOWN\n"
     ]
    },
    {
     "data": {
      "image/png": "[encoded data removed]",
      "text/plain": [
       "<Figure size 288x288 with 10 Axes>"
      ]
     },
     "metadata": {
      "needs_background": "light"
     },
     "output_type": "display_data"
    }
   ],
   "source": [
    "# Get a random image from the training dataset\n",
    "# and resize the image\n",
    "image = x_train[np.random.choice(range(x_train.shape[0]))]\n",
    "resized_image = tf.image.resize(\n",
    "    tf.convert_to_tensor([image]), size=(IMAGE_SIZE, IMAGE_SIZE)\n",
    ")\n",
    "\n",
    "# Vanilla patch maker: This takes an image and divides into\n",
    "# patches as in the original ViT paper\n",
    "(token, patch) = ShiftedPatchTokenization(vanilla=True)(resized_image / 255.0)\n",
    "(token, patch) = (token[0], patch[0])\n",
    "n = patch.shape[0]\n",
    "count = 1\n",
    "plt.figure(figsize=(4, 4))\n",
    "for row in range(n):\n",
    "    for col in range(n):\n",
    "        plt.subplot(n, n, count)\n",
    "        count = count + 1\n",
    "        image = tf.reshape(patch[row][col], (PATCH_SIZE, PATCH_SIZE, 3))\n",
    "        plt.imshow(image)\n",
    "        plt.axis(\"off\")\n",
    "plt.show()\n",
    "\n",
    "# Shifted Patch Tokenization: This layer takes the image, shifts it\n",
    "# diagonally and then extracts patches from the concatinated images\n",
    "(token, patch) = ShiftedPatchTokenization(vanilla=False)(resized_image / 255.0)\n",
    "(token, patch) = (token[0], patch[0])\n",
    "n = patch.shape[0]\n",
    "shifted_images = [\"ORIGINAL\", \"LEFT-UP\", \"LEFT-DOWN\", \"RIGHT-UP\", \"RIGHT-DOWN\"]\n",
    "for index, name in enumerate(shifted_images):\n",
    "    print(name)\n",
    "    count = 1\n",
    "    plt.figure(figsize=(4, 4))\n",
    "    for row in range(n):\n",
    "        for col in range(n):\n",
    "            plt.subplot(n, n, count)\n",
    "            count = count + 1\n",
    "            image = tf.reshape(patch[row][col], (PATCH_SIZE, PATCH_SIZE, 5 * 3))\n",
    "            plt.imshow(image[..., 3 * index : 3 * index + 3])\n",
    "            plt.axis(\"off\")\n",
    "            break\n",
    "    plt.show()"
   ]
  },
  {
   "cell_type": "code",
   "execution_count": 56,
   "metadata": {
    "id": "tMlnbWvXFWIf"
   },
   "outputs": [],
   "source": [
    "class PatchEncoder(layers.Layer):\n",
    "    def __init__(\n",
    "        self, num_patches=NUM_PATCHES, projection_dim=PROJECTION_DIM, **kwargs\n",
    "    ):\n",
    "        super().__init__(**kwargs)\n",
    "        self.num_patches = num_patches\n",
    "        self.position_embedding = layers.Embedding(\n",
    "            input_dim=num_patches, output_dim=projection_dim\n",
    "        )\n",
    "        self.positions = tf.range(start=0, limit=self.num_patches, delta=1)\n",
    "\n",
    "    def call(self, encoded_patches):\n",
    "        encoded_positions = self.position_embedding(self.positions)\n",
    "        encoded_patches = encoded_patches + encoded_positions\n",
    "        return encoded_patches"
   ]
  },
  {
   "cell_type": "code",
   "execution_count": 57,
   "metadata": {
    "id": "U5kL7Pg0FXbm"
   },
   "outputs": [],
   "source": [
    "class MultiHeadAttentionLSA(tf.keras.layers.MultiHeadAttention):\n",
    "    def __init__(self, **kwargs):\n",
    "        super().__init__(**kwargs)\n",
    "        # The trainable temperature term. The initial value is\n",
    "        # the square root of the key dimension.\n",
    "        self.tau = tf.Variable(math.sqrt(float(self._key_dim)), trainable=True)\n",
    "\n",
    "    def _compute_attention(self, query, key, value, attention_mask=None, training=None):\n",
    "        query = tf.multiply(query, 1.0 / self.tau)\n",
    "        attention_scores = tf.einsum(self._dot_product_equation, key, query)\n",
    "        attention_scores = self._masked_softmax(attention_scores, attention_mask)\n",
    "        attention_scores_dropout = self._dropout_layer(\n",
    "            attention_scores, training=training\n",
    "        )\n",
    "        attention_output = tf.einsum(\n",
    "            self._combine_equation, attention_scores_dropout, value\n",
    "        )\n",
    "        return attention_output, attention_scores"
   ]
  },
  {
   "cell_type": "code",
   "execution_count": 58,
   "metadata": {
    "id": "QL6pexFEFYkZ"
   },
   "outputs": [],
   "source": [
    "def mlp(x, hidden_units, dropout_rate):\n",
    "    for units in hidden_units:\n",
    "        x = layers.Dense(units, activation=tf.nn.gelu)(x)\n",
    "        x = layers.Dropout(dropout_rate)(x)\n",
    "    return x\n",
    "\n",
    "\n",
    "# Build the diagonal attention mask\n",
    "diag_attn_mask = 1 - tf.eye(NUM_PATCHES)\n",
    "diag_attn_mask = tf.cast([diag_attn_mask], dtype=tf.int8)"
   ]
  },
  {
   "cell_type": "code",
   "execution_count": 59,
   "metadata": {
    "id": "rMzl3Yb2FaZD"
   },
   "outputs": [],
   "source": [
    "def create_vit_classifier(vanilla=False):\n",
    "    inputs = layers.Input(shape=INPUT_SHAPE)\n",
    "    # Augment data.\n",
    "    augmented = data_augmentation(inputs)\n",
    "    # Create patches.\n",
    "    (tokens, _) = ShiftedPatchTokenization(vanilla=vanilla)(augmented)\n",
    "    # Encode patches.\n",
    "    encoded_patches = PatchEncoder()(tokens)\n",
    "\n",
    "    # Create multiple layers of the Transformer block.\n",
    "    for _ in range(TRANSFORMER_LAYERS):\n",
    "        # Layer normalization 1.\n",
    "        x1 = layers.LayerNormalization(epsilon=1e-6)(encoded_patches)\n",
    "        # Create a multi-head attention layer.\n",
    "        if not vanilla:\n",
    "            attention_output = MultiHeadAttentionLSA(\n",
    "                num_heads=NUM_HEADS, key_dim=PROJECTION_DIM, dropout=0.1\n",
    "            )(x1, x1, attention_mask=diag_attn_mask)\n",
    "        else:\n",
    "            attention_output = layers.MultiHeadAttention(\n",
    "                num_heads=NUM_HEADS, key_dim=PROJECTION_DIM, dropout=0.1\n",
    "            )(x1, x1)\n",
    "        # Skip connection 1.\n",
    "        x2 = layers.Add()([attention_output, encoded_patches])\n",
    "        # Layer normalization 2.\n",
    "        x3 = layers.LayerNormalization(epsilon=1e-6)(x2)\n",
    "        # MLP.\n",
    "        x3 = mlp(x3, hidden_units=TRANSFORMER_UNITS, dropout_rate=0.1)\n",
    "        # Skip connection 2.\n",
    "        encoded_patches = layers.Add()([x3, x2])\n",
    "\n",
    "    # Create a [batch_size, projection_dim] tensor.\n",
    "    representation = layers.LayerNormalization(epsilon=1e-6)(encoded_patches)\n",
    "    representation = layers.Flatten()(representation)\n",
    "    representation = layers.Dropout(0.5)(representation)\n",
    "    # Add MLP.\n",
    "    features = mlp(representation, hidden_units=MLP_HEAD_UNITS, dropout_rate=0.5)\n",
    "    # Classify outputs.\n",
    "    logits = layers.Dense(NUM_CLASSES)(features)\n",
    "    # Create the Keras model.\n",
    "    model = keras.Model(inputs=inputs, outputs=logits)\n",
    "    return model"
   ]
  },
  {
   "cell_type": "code",
   "execution_count": 60,
   "metadata": {
    "colab": {
     "base_uri": "https://localhost:8080/"
    },
    "id": "MPa1lMP6FsVX",
    "outputId": "36602e09-745b-4b97-d948-961147e7fa3e"
   },
   "outputs": [
    {
     "name": "stdout",
     "output_type": "stream",
     "text": [
      "Epoch 1/100\n",
      "24/24 [==============================] - 24s 294ms/step - loss: 2.2293 - accuracy: 0.4420 - top-5-accuracy: 1.0000 - val_loss: 1.1392 - val_accuracy: 0.5440 - val_top-5-accuracy: 1.0000\n",
      "Epoch 2/100\n",
      "24/24 [==============================] - 5s 224ms/step - loss: 1.4585 - accuracy: 0.4887 - top-5-accuracy: 1.0000 - val_loss: 1.0548 - val_accuracy: 0.4480 - val_top-5-accuracy: 1.0000\n",
      "Epoch 3/100\n",
      "24/24 [==============================] - 5s 224ms/step - loss: 1.2501 - accuracy: 0.4953 - top-5-accuracy: 1.0000 - val_loss: 0.9693 - val_accuracy: 0.4933 - val_top-5-accuracy: 1.0000\n",
      "Epoch 4/100\n",
      "24/24 [==============================] - 5s 225ms/step - loss: 1.1560 - accuracy: 0.5107 - top-5-accuracy: 1.0000 - val_loss: 0.8736 - val_accuracy: 0.5893 - val_top-5-accuracy: 1.0000\n",
      "Epoch 5/100\n",
      "24/24 [==============================] - 5s 225ms/step - loss: 1.0915 - accuracy: 0.5233 - top-5-accuracy: 1.0000 - val_loss: 1.0589 - val_accuracy: 0.4347 - val_top-5-accuracy: 1.0000\n",
      "Epoch 6/100\n",
      "24/24 [==============================] - 5s 225ms/step - loss: 1.0216 - accuracy: 0.5460 - top-5-accuracy: 1.0000 - val_loss: 0.9191 - val_accuracy: 0.5493 - val_top-5-accuracy: 1.0000\n",
      "Epoch 7/100\n",
      "24/24 [==============================] - 6s 232ms/step - loss: 0.9933 - accuracy: 0.5827 - top-5-accuracy: 1.0000 - val_loss: 0.9037 - val_accuracy: 0.5893 - val_top-5-accuracy: 1.0000\n",
      "Epoch 8/100\n",
      "24/24 [==============================] - 5s 227ms/step - loss: 0.9609 - accuracy: 0.5487 - top-5-accuracy: 1.0000 - val_loss: 0.8990 - val_accuracy: 0.5440 - val_top-5-accuracy: 1.0000\n",
      "Epoch 9/100\n",
      "24/24 [==============================] - 5s 227ms/step - loss: 0.9579 - accuracy: 0.5667 - top-5-accuracy: 1.0000 - val_loss: 0.9169 - val_accuracy: 0.5733 - val_top-5-accuracy: 1.0000\n",
      "Epoch 10/100\n",
      "24/24 [==============================] - 5s 228ms/step - loss: 0.8997 - accuracy: 0.5873 - top-5-accuracy: 1.0000 - val_loss: 0.8649 - val_accuracy: 0.6053 - val_top-5-accuracy: 1.0000\n",
      "Epoch 11/100\n",
      "24/24 [==============================] - 5s 228ms/step - loss: 0.9159 - accuracy: 0.5727 - top-5-accuracy: 1.0000 - val_loss: 0.9028 - val_accuracy: 0.5280 - val_top-5-accuracy: 1.0000\n",
      "Epoch 12/100\n",
      "24/24 [==============================] - 5s 227ms/step - loss: 0.8802 - accuracy: 0.5853 - top-5-accuracy: 1.0000 - val_loss: 0.8709 - val_accuracy: 0.5627 - val_top-5-accuracy: 1.0000\n",
      "Epoch 13/100\n",
      "24/24 [==============================] - 6s 233ms/step - loss: 0.8721 - accuracy: 0.6000 - top-5-accuracy: 1.0000 - val_loss: 0.8014 - val_accuracy: 0.6400 - val_top-5-accuracy: 1.0000\n",
      "Epoch 14/100\n",
      "24/24 [==============================] - 5s 227ms/step - loss: 0.8716 - accuracy: 0.5893 - top-5-accuracy: 1.0000 - val_loss: 0.8188 - val_accuracy: 0.6160 - val_top-5-accuracy: 1.0000\n",
      "Epoch 15/100\n",
      "24/24 [==============================] - 6s 232ms/step - loss: 0.8676 - accuracy: 0.5907 - top-5-accuracy: 1.0000 - val_loss: 0.8568 - val_accuracy: 0.5413 - val_top-5-accuracy: 1.0000\n",
      "Epoch 16/100\n",
      "24/24 [==============================] - 5s 226ms/step - loss: 0.8288 - accuracy: 0.6113 - top-5-accuracy: 1.0000 - val_loss: 0.8382 - val_accuracy: 0.6000 - val_top-5-accuracy: 1.0000\n",
      "Epoch 17/100\n",
      "24/24 [==============================] - 5s 226ms/step - loss: 0.7964 - accuracy: 0.6320 - top-5-accuracy: 1.0000 - val_loss: 0.8045 - val_accuracy: 0.6427 - val_top-5-accuracy: 1.0000\n",
      "Epoch 18/100\n",
      "24/24 [==============================] - 5s 226ms/step - loss: 0.7855 - accuracy: 0.6433 - top-5-accuracy: 1.0000 - val_loss: 0.8029 - val_accuracy: 0.6267 - val_top-5-accuracy: 1.0000\n",
      "Epoch 19/100\n",
      "24/24 [==============================] - 5s 226ms/step - loss: 0.8011 - accuracy: 0.6193 - top-5-accuracy: 1.0000 - val_loss: 0.7836 - val_accuracy: 0.6427 - val_top-5-accuracy: 1.0000\n",
      "Epoch 20/100\n",
      "24/24 [==============================] - 5s 225ms/step - loss: 0.7923 - accuracy: 0.6420 - top-5-accuracy: 1.0000 - val_loss: 0.7341 - val_accuracy: 0.6987 - val_top-5-accuracy: 1.0000\n",
      "Epoch 21/100\n",
      "24/24 [==============================] - 5s 226ms/step - loss: 0.7655 - accuracy: 0.6440 - top-5-accuracy: 1.0000 - val_loss: 0.7139 - val_accuracy: 0.6827 - val_top-5-accuracy: 1.0000\n",
      "Epoch 22/100\n",
      "24/24 [==============================] - 5s 226ms/step - loss: 0.7708 - accuracy: 0.6567 - top-5-accuracy: 1.0000 - val_loss: 0.7332 - val_accuracy: 0.6987 - val_top-5-accuracy: 1.0000\n",
      "Epoch 23/100\n",
      "24/24 [==============================] - 5s 227ms/step - loss: 0.7489 - accuracy: 0.6513 - top-5-accuracy: 1.0000 - val_loss: 0.7350 - val_accuracy: 0.6480 - val_top-5-accuracy: 1.0000\n",
      "Epoch 24/100\n",
      "24/24 [==============================] - 5s 227ms/step - loss: 0.7203 - accuracy: 0.6667 - top-5-accuracy: 1.0000 - val_loss: 0.6739 - val_accuracy: 0.7280 - val_top-5-accuracy: 1.0000\n",
      "Epoch 25/100\n",
      "24/24 [==============================] - 5s 226ms/step - loss: 0.7203 - accuracy: 0.6627 - top-5-accuracy: 1.0000 - val_loss: 0.7249 - val_accuracy: 0.6640 - val_top-5-accuracy: 1.0000\n",
      "Epoch 26/100\n",
      "24/24 [==============================] - 5s 228ms/step - loss: 0.7149 - accuracy: 0.6680 - top-5-accuracy: 1.0000 - val_loss: 0.6902 - val_accuracy: 0.6907 - val_top-5-accuracy: 1.0000\n",
      "Epoch 27/100\n",
      "24/24 [==============================] - 5s 227ms/step - loss: 0.6860 - accuracy: 0.6767 - top-5-accuracy: 1.0000 - val_loss: 0.6915 - val_accuracy: 0.6960 - val_top-5-accuracy: 1.0000\n",
      "Epoch 28/100\n",
      "24/24 [==============================] - 5s 226ms/step - loss: 0.6641 - accuracy: 0.7053 - top-5-accuracy: 1.0000 - val_loss: 0.6769 - val_accuracy: 0.7040 - val_top-5-accuracy: 1.0000\n",
      "Epoch 29/100\n",
      "24/24 [==============================] - 5s 227ms/step - loss: 0.6679 - accuracy: 0.7087 - top-5-accuracy: 1.0000 - val_loss: 0.6276 - val_accuracy: 0.7467 - val_top-5-accuracy: 1.0000\n",
      "Epoch 30/100\n",
      "24/24 [==============================] - 5s 228ms/step - loss: 0.6766 - accuracy: 0.7073 - top-5-accuracy: 1.0000 - val_loss: 0.6962 - val_accuracy: 0.6560 - val_top-5-accuracy: 1.0000\n",
      "Epoch 31/100\n",
      "24/24 [==============================] - 5s 227ms/step - loss: 0.6388 - accuracy: 0.7053 - top-5-accuracy: 1.0000 - val_loss: 0.6227 - val_accuracy: 0.7120 - val_top-5-accuracy: 1.0000\n",
      "Epoch 32/100\n",
      "24/24 [==============================] - 6s 236ms/step - loss: 0.6275 - accuracy: 0.7313 - top-5-accuracy: 1.0000 - val_loss: 0.6249 - val_accuracy: 0.7227 - val_top-5-accuracy: 1.0000\n",
      "Epoch 33/100\n",
      "24/24 [==============================] - 5s 227ms/step - loss: 0.6349 - accuracy: 0.7147 - top-5-accuracy: 1.0000 - val_loss: 0.6172 - val_accuracy: 0.7360 - val_top-5-accuracy: 1.0000\n",
      "Epoch 34/100\n",
      "24/24 [==============================] - 5s 226ms/step - loss: 0.5933 - accuracy: 0.7320 - top-5-accuracy: 1.0000 - val_loss: 0.5746 - val_accuracy: 0.7813 - val_top-5-accuracy: 1.0000\n",
      "Epoch 35/100\n",
      "24/24 [==============================] - 5s 227ms/step - loss: 0.5677 - accuracy: 0.7433 - top-5-accuracy: 1.0000 - val_loss: 0.6239 - val_accuracy: 0.7360 - val_top-5-accuracy: 1.0000\n",
      "Epoch 36/100\n",
      "24/24 [==============================] - 5s 227ms/step - loss: 0.5941 - accuracy: 0.7493 - top-5-accuracy: 1.0000 - val_loss: 0.5146 - val_accuracy: 0.8107 - val_top-5-accuracy: 1.0000\n",
      "Epoch 37/100\n",
      "24/24 [==============================] - 6s 237ms/step - loss: 0.5385 - accuracy: 0.7580 - top-5-accuracy: 1.0000 - val_loss: 0.5131 - val_accuracy: 0.7973 - val_top-5-accuracy: 1.0000\n",
      "Epoch 38/100\n",
      "24/24 [==============================] - 6s 258ms/step - loss: 0.5672 - accuracy: 0.7547 - top-5-accuracy: 1.0000 - val_loss: 0.5825 - val_accuracy: 0.7253 - val_top-5-accuracy: 1.0000\n",
      "Epoch 39/100\n",
      "24/24 [==============================] - 5s 227ms/step - loss: 0.5184 - accuracy: 0.7787 - top-5-accuracy: 1.0000 - val_loss: 0.5261 - val_accuracy: 0.8080 - val_top-5-accuracy: 1.0000\n",
      "Epoch 40/100\n",
      "24/24 [==============================] - 5s 227ms/step - loss: 0.5392 - accuracy: 0.7707 - top-5-accuracy: 1.0000 - val_loss: 0.5651 - val_accuracy: 0.7733 - val_top-5-accuracy: 1.0000\n",
      "Epoch 41/100\n",
      "24/24 [==============================] - 5s 227ms/step - loss: 0.5383 - accuracy: 0.7740 - top-5-accuracy: 1.0000 - val_loss: 0.4981 - val_accuracy: 0.8027 - val_top-5-accuracy: 1.0000\n",
      "Epoch 42/100\n",
      "24/24 [==============================] - 5s 227ms/step - loss: 0.5121 - accuracy: 0.7747 - top-5-accuracy: 1.0000 - val_loss: 0.5371 - val_accuracy: 0.7707 - val_top-5-accuracy: 1.0000\n",
      "Epoch 43/100\n",
      "24/24 [==============================] - 5s 227ms/step - loss: 0.4730 - accuracy: 0.8080 - top-5-accuracy: 1.0000 - val_loss: 0.4659 - val_accuracy: 0.8107 - val_top-5-accuracy: 1.0000\n",
      "Epoch 44/100\n",
      "24/24 [==============================] - 5s 226ms/step - loss: 0.4859 - accuracy: 0.7953 - top-5-accuracy: 1.0000 - val_loss: 0.4807 - val_accuracy: 0.8080 - val_top-5-accuracy: 1.0000\n",
      "Epoch 45/100\n",
      "24/24 [==============================] - 5s 227ms/step - loss: 0.4713 - accuracy: 0.7967 - top-5-accuracy: 1.0000 - val_loss: 0.4826 - val_accuracy: 0.8213 - val_top-5-accuracy: 1.0000\n",
      "Epoch 46/100\n",
      "24/24 [==============================] - 5s 227ms/step - loss: 0.4605 - accuracy: 0.8067 - top-5-accuracy: 1.0000 - val_loss: 0.5252 - val_accuracy: 0.7973 - val_top-5-accuracy: 1.0000\n",
      "Epoch 47/100\n",
      "24/24 [==============================] - 5s 227ms/step - loss: 0.4621 - accuracy: 0.8100 - top-5-accuracy: 1.0000 - val_loss: 0.4657 - val_accuracy: 0.8240 - val_top-5-accuracy: 1.0000\n",
      "Epoch 48/100\n",
      "24/24 [==============================] - 5s 228ms/step - loss: 0.4083 - accuracy: 0.8340 - top-5-accuracy: 1.0000 - val_loss: 0.4498 - val_accuracy: 0.8267 - val_top-5-accuracy: 1.0000\n",
      "Epoch 49/100\n",
      "24/24 [==============================] - 5s 227ms/step - loss: 0.3917 - accuracy: 0.8460 - top-5-accuracy: 1.0000 - val_loss: 0.4611 - val_accuracy: 0.8160 - val_top-5-accuracy: 1.0000\n",
      "Epoch 50/100\n",
      "24/24 [==============================] - 5s 226ms/step - loss: 0.4042 - accuracy: 0.8360 - top-5-accuracy: 1.0000 - val_loss: 0.3959 - val_accuracy: 0.8480 - val_top-5-accuracy: 1.0000\n",
      "Epoch 51/100\n",
      "24/24 [==============================] - 5s 227ms/step - loss: 0.4158 - accuracy: 0.8300 - top-5-accuracy: 1.0000 - val_loss: 0.4053 - val_accuracy: 0.8373 - val_top-5-accuracy: 1.0000\n",
      "Epoch 52/100\n",
      "24/24 [==============================] - 5s 228ms/step - loss: 0.3604 - accuracy: 0.8580 - top-5-accuracy: 1.0000 - val_loss: 0.4094 - val_accuracy: 0.8453 - val_top-5-accuracy: 1.0000\n",
      "Epoch 53/100\n",
      "24/24 [==============================] - 5s 227ms/step - loss: 0.3193 - accuracy: 0.8673 - top-5-accuracy: 1.0000 - val_loss: 0.3850 - val_accuracy: 0.8480 - val_top-5-accuracy: 1.0000\n",
      "Epoch 54/100\n",
      "24/24 [==============================] - 5s 227ms/step - loss: 0.3153 - accuracy: 0.8700 - top-5-accuracy: 1.0000 - val_loss: 0.3522 - val_accuracy: 0.8640 - val_top-5-accuracy: 1.0000\n",
      "Epoch 55/100\n",
      "24/24 [==============================] - 5s 226ms/step - loss: 0.3544 - accuracy: 0.8513 - top-5-accuracy: 1.0000 - val_loss: 0.3922 - val_accuracy: 0.8373 - val_top-5-accuracy: 1.0000\n",
      "Epoch 56/100\n",
      "24/24 [==============================] - 5s 226ms/step - loss: 0.3079 - accuracy: 0.8813 - top-5-accuracy: 1.0000 - val_loss: 0.3518 - val_accuracy: 0.8613 - val_top-5-accuracy: 1.0000\n",
      "Epoch 57/100\n",
      "24/24 [==============================] - 5s 227ms/step - loss: 0.3102 - accuracy: 0.8767 - top-5-accuracy: 1.0000 - val_loss: 0.3643 - val_accuracy: 0.8507 - val_top-5-accuracy: 1.0000\n",
      "Epoch 58/100\n",
      "24/24 [==============================] - 5s 229ms/step - loss: 0.3094 - accuracy: 0.8693 - top-5-accuracy: 1.0000 - val_loss: 0.3254 - val_accuracy: 0.8960 - val_top-5-accuracy: 1.0000\n",
      "Epoch 59/100\n",
      "24/24 [==============================] - 5s 227ms/step - loss: 0.3155 - accuracy: 0.8813 - top-5-accuracy: 1.0000 - val_loss: 0.3998 - val_accuracy: 0.8533 - val_top-5-accuracy: 1.0000\n",
      "Epoch 60/100\n",
      "24/24 [==============================] - 5s 227ms/step - loss: 0.3194 - accuracy: 0.8687 - top-5-accuracy: 1.0000 - val_loss: 0.3576 - val_accuracy: 0.8667 - val_top-5-accuracy: 1.0000\n",
      "Epoch 61/100\n",
      "24/24 [==============================] - 5s 226ms/step - loss: 0.2983 - accuracy: 0.8747 - top-5-accuracy: 1.0000 - val_loss: 0.4175 - val_accuracy: 0.8427 - val_top-5-accuracy: 1.0000\n",
      "Epoch 62/100\n",
      "24/24 [==============================] - 5s 226ms/step - loss: 0.3149 - accuracy: 0.8733 - top-5-accuracy: 1.0000 - val_loss: 0.3466 - val_accuracy: 0.8693 - val_top-5-accuracy: 1.0000\n",
      "Epoch 63/100\n",
      "24/24 [==============================] - 5s 227ms/step - loss: 0.2726 - accuracy: 0.9000 - top-5-accuracy: 1.0000 - val_loss: 0.3433 - val_accuracy: 0.8853 - val_top-5-accuracy: 1.0000\n",
      "Epoch 64/100\n",
      "24/24 [==============================] - 5s 227ms/step - loss: 0.2547 - accuracy: 0.8933 - top-5-accuracy: 1.0000 - val_loss: 0.3350 - val_accuracy: 0.8800 - val_top-5-accuracy: 1.0000\n",
      "Epoch 65/100\n",
      "24/24 [==============================] - 5s 227ms/step - loss: 0.2570 - accuracy: 0.9007 - top-5-accuracy: 1.0000 - val_loss: 0.3306 - val_accuracy: 0.8933 - val_top-5-accuracy: 1.0000\n",
      "Epoch 66/100\n",
      "24/24 [==============================] - 5s 227ms/step - loss: 0.2585 - accuracy: 0.9020 - top-5-accuracy: 1.0000 - val_loss: 0.3082 - val_accuracy: 0.8853 - val_top-5-accuracy: 1.0000\n",
      "Epoch 67/100\n",
      "24/24 [==============================] - 5s 226ms/step - loss: 0.2762 - accuracy: 0.8947 - top-5-accuracy: 1.0000 - val_loss: 0.3280 - val_accuracy: 0.8960 - val_top-5-accuracy: 1.0000\n",
      "Epoch 68/100\n",
      "24/24 [==============================] - 5s 226ms/step - loss: 0.2447 - accuracy: 0.9020 - top-5-accuracy: 1.0000 - val_loss: 0.2968 - val_accuracy: 0.8987 - val_top-5-accuracy: 1.0000\n",
      "Epoch 69/100\n",
      "24/24 [==============================] - 5s 227ms/step - loss: 0.2056 - accuracy: 0.9253 - top-5-accuracy: 1.0000 - val_loss: 0.3121 - val_accuracy: 0.8960 - val_top-5-accuracy: 1.0000\n",
      "Epoch 70/100\n",
      "24/24 [==============================] - 5s 226ms/step - loss: 0.2243 - accuracy: 0.9193 - top-5-accuracy: 1.0000 - val_loss: 0.2851 - val_accuracy: 0.8960 - val_top-5-accuracy: 1.0000\n",
      "Epoch 71/100\n",
      "24/24 [==============================] - 5s 226ms/step - loss: 0.2360 - accuracy: 0.9160 - top-5-accuracy: 1.0000 - val_loss: 0.3093 - val_accuracy: 0.8960 - val_top-5-accuracy: 1.0000\n",
      "Epoch 72/100\n",
      "24/24 [==============================] - 5s 226ms/step - loss: 0.2230 - accuracy: 0.9160 - top-5-accuracy: 1.0000 - val_loss: 0.2855 - val_accuracy: 0.9040 - val_top-5-accuracy: 1.0000\n",
      "Epoch 73/100\n",
      "24/24 [==============================] - 5s 227ms/step - loss: 0.2371 - accuracy: 0.9067 - top-5-accuracy: 1.0000 - val_loss: 0.3129 - val_accuracy: 0.8853 - val_top-5-accuracy: 1.0000\n",
      "Epoch 74/100\n",
      "24/24 [==============================] - 5s 227ms/step - loss: 0.2169 - accuracy: 0.9207 - top-5-accuracy: 1.0000 - val_loss: 0.2706 - val_accuracy: 0.9173 - val_top-5-accuracy: 1.0000\n",
      "Epoch 75/100\n",
      "24/24 [==============================] - 5s 227ms/step - loss: 0.1916 - accuracy: 0.9287 - top-5-accuracy: 1.0000 - val_loss: 0.3022 - val_accuracy: 0.8960 - val_top-5-accuracy: 1.0000\n",
      "Epoch 76/100\n",
      "24/24 [==============================] - 5s 227ms/step - loss: 0.1937 - accuracy: 0.9287 - top-5-accuracy: 1.0000 - val_loss: 0.2977 - val_accuracy: 0.9013 - val_top-5-accuracy: 1.0000\n",
      "Epoch 77/100\n",
      "24/24 [==============================] - 5s 226ms/step - loss: 0.1846 - accuracy: 0.9307 - top-5-accuracy: 1.0000 - val_loss: 0.2919 - val_accuracy: 0.8907 - val_top-5-accuracy: 1.0000\n",
      "Epoch 78/100\n",
      "24/24 [==============================] - 5s 227ms/step - loss: 0.1849 - accuracy: 0.9307 - top-5-accuracy: 1.0000 - val_loss: 0.2839 - val_accuracy: 0.9067 - val_top-5-accuracy: 1.0000\n",
      "Epoch 79/100\n",
      "24/24 [==============================] - 5s 226ms/step - loss: 0.1841 - accuracy: 0.9367 - top-5-accuracy: 1.0000 - val_loss: 0.2941 - val_accuracy: 0.9120 - val_top-5-accuracy: 1.0000\n",
      "Epoch 80/100\n",
      "24/24 [==============================] - 5s 227ms/step - loss: 0.1939 - accuracy: 0.9267 - top-5-accuracy: 1.0000 - val_loss: 0.3045 - val_accuracy: 0.8960 - val_top-5-accuracy: 1.0000\n",
      "Epoch 81/100\n",
      "24/24 [==============================] - 5s 227ms/step - loss: 0.1511 - accuracy: 0.9453 - top-5-accuracy: 1.0000 - val_loss: 0.3201 - val_accuracy: 0.9040 - val_top-5-accuracy: 1.0000\n",
      "Epoch 82/100\n",
      "24/24 [==============================] - 5s 227ms/step - loss: 0.1424 - accuracy: 0.9487 - top-5-accuracy: 1.0000 - val_loss: 0.2520 - val_accuracy: 0.9200 - val_top-5-accuracy: 1.0000\n",
      "Epoch 83/100\n",
      "24/24 [==============================] - 5s 227ms/step - loss: 0.1481 - accuracy: 0.9353 - top-5-accuracy: 1.0000 - val_loss: 0.3171 - val_accuracy: 0.9013 - val_top-5-accuracy: 1.0000\n",
      "Epoch 84/100\n",
      "24/24 [==============================] - 5s 227ms/step - loss: 0.1683 - accuracy: 0.9413 - top-5-accuracy: 1.0000 - val_loss: 0.2911 - val_accuracy: 0.8987 - val_top-5-accuracy: 1.0000\n",
      "Epoch 85/100\n",
      "24/24 [==============================] - 5s 227ms/step - loss: 0.1724 - accuracy: 0.9360 - top-5-accuracy: 1.0000 - val_loss: 0.2870 - val_accuracy: 0.9120 - val_top-5-accuracy: 1.0000\n",
      "Epoch 86/100\n",
      "24/24 [==============================] - 5s 227ms/step - loss: 0.1535 - accuracy: 0.9480 - top-5-accuracy: 1.0000 - val_loss: 0.2612 - val_accuracy: 0.8960 - val_top-5-accuracy: 1.0000\n",
      "Epoch 87/100\n",
      "24/24 [==============================] - 5s 228ms/step - loss: 0.1433 - accuracy: 0.9527 - top-5-accuracy: 1.0000 - val_loss: 0.2533 - val_accuracy: 0.9200 - val_top-5-accuracy: 1.0000\n",
      "Epoch 88/100\n",
      "24/24 [==============================] - 5s 227ms/step - loss: 0.1363 - accuracy: 0.9513 - top-5-accuracy: 1.0000 - val_loss: 0.2713 - val_accuracy: 0.9147 - val_top-5-accuracy: 1.0000\n",
      "Epoch 89/100\n",
      "24/24 [==============================] - 5s 227ms/step - loss: 0.1542 - accuracy: 0.9367 - top-5-accuracy: 1.0000 - val_loss: 0.2843 - val_accuracy: 0.9040 - val_top-5-accuracy: 1.0000\n",
      "Epoch 90/100\n",
      "24/24 [==============================] - 5s 227ms/step - loss: 0.1704 - accuracy: 0.9393 - top-5-accuracy: 1.0000 - val_loss: 0.2631 - val_accuracy: 0.9227 - val_top-5-accuracy: 1.0000\n",
      "Epoch 91/100\n",
      "24/24 [==============================] - 5s 226ms/step - loss: 0.1575 - accuracy: 0.9387 - top-5-accuracy: 1.0000 - val_loss: 0.2517 - val_accuracy: 0.9280 - val_top-5-accuracy: 1.0000\n",
      "Epoch 92/100\n",
      "24/24 [==============================] - 5s 228ms/step - loss: 0.1411 - accuracy: 0.9447 - top-5-accuracy: 1.0000 - val_loss: 0.2920 - val_accuracy: 0.9040 - val_top-5-accuracy: 1.0000\n",
      "Epoch 93/100\n",
      "24/24 [==============================] - 5s 226ms/step - loss: 0.1492 - accuracy: 0.9493 - top-5-accuracy: 1.0000 - val_loss: 0.2761 - val_accuracy: 0.9120 - val_top-5-accuracy: 1.0000\n",
      "Epoch 94/100\n",
      "24/24 [==============================] - 5s 227ms/step - loss: 0.1112 - accuracy: 0.9593 - top-5-accuracy: 1.0000 - val_loss: 0.2652 - val_accuracy: 0.9173 - val_top-5-accuracy: 1.0000\n",
      "Epoch 95/100\n",
      "24/24 [==============================] - 5s 228ms/step - loss: 0.1241 - accuracy: 0.9593 - top-5-accuracy: 1.0000 - val_loss: 0.2272 - val_accuracy: 0.9387 - val_top-5-accuracy: 1.0000\n",
      "Epoch 96/100\n",
      "24/24 [==============================] - 5s 228ms/step - loss: 0.1137 - accuracy: 0.9587 - top-5-accuracy: 1.0000 - val_loss: 0.2687 - val_accuracy: 0.9067 - val_top-5-accuracy: 1.0000\n",
      "Epoch 97/100\n",
      "24/24 [==============================] - 5s 226ms/step - loss: 0.1230 - accuracy: 0.9547 - top-5-accuracy: 1.0000 - val_loss: 0.2439 - val_accuracy: 0.9307 - val_top-5-accuracy: 1.0000\n",
      "Epoch 98/100\n",
      "24/24 [==============================] - 5s 227ms/step - loss: 0.1421 - accuracy: 0.9507 - top-5-accuracy: 1.0000 - val_loss: 0.2374 - val_accuracy: 0.9253 - val_top-5-accuracy: 1.0000\n",
      "Epoch 99/100\n",
      "24/24 [==============================] - 5s 226ms/step - loss: 0.1392 - accuracy: 0.9507 - top-5-accuracy: 1.0000 - val_loss: 0.2310 - val_accuracy: 0.9227 - val_top-5-accuracy: 1.0000\n",
      "Epoch 100/100\n",
      "24/24 [==============================] - 5s 227ms/step - loss: 0.1511 - accuracy: 0.9453 - top-5-accuracy: 1.0000 - val_loss: 0.2576 - val_accuracy: 0.9147 - val_top-5-accuracy: 1.0000\n",
      "8/8 [==============================] - 1s 74ms/step - loss: 0.3224 - accuracy: 0.9083 - top-5-accuracy: 1.0000\n",
      "Test accuracy: 90.83%\n",
      "Test top 5 accuracy: 100.0%\n"
     ]
    }
   ],
   "source": [
    "# Some code is taken from:\n",
    "# https://www.kaggle.com/ashusma/training-rfcx-tensorflow-tpu-effnet-b2.\n",
    "class WarmUpCosine(keras.optimizers.schedules.LearningRateSchedule):\n",
    "    def __init__(\n",
    "        self, learning_rate_base, total_steps, warmup_learning_rate, warmup_steps\n",
    "    ):\n",
    "        super(WarmUpCosine, self).__init__()\n",
    "\n",
    "        self.learning_rate_base = learning_rate_base\n",
    "        self.total_steps = total_steps\n",
    "        self.warmup_learning_rate = warmup_learning_rate\n",
    "        self.warmup_steps = warmup_steps\n",
    "        self.pi = tf.constant(np.pi)\n",
    "\n",
    "    def __call__(self, step):\n",
    "        if self.total_steps < self.warmup_steps:\n",
    "            raise ValueError(\"Total_steps must be larger or equal to warmup_steps.\")\n",
    "\n",
    "        cos_annealed_lr = tf.cos(\n",
    "            self.pi\n",
    "            * (tf.cast(step, tf.float32) - self.warmup_steps)\n",
    "            / float(self.total_steps - self.warmup_steps)\n",
    "        )\n",
    "        learning_rate = 0.5 * self.learning_rate_base * (1 + cos_annealed_lr)\n",
    "\n",
    "        if self.warmup_steps > 0:\n",
    "            if self.learning_rate_base < self.warmup_learning_rate:\n",
    "                raise ValueError(\n",
    "                    \"Learning_rate_base must be larger or equal to \"\n",
    "                    \"warmup_learning_rate.\"\n",
    "                )\n",
    "            slope = (\n",
    "                self.learning_rate_base - self.warmup_learning_rate\n",
    "            ) / self.warmup_steps\n",
    "            warmup_rate = slope * tf.cast(step, tf.float32) + self.warmup_learning_rate\n",
    "            learning_rate = tf.where(\n",
    "                step < self.warmup_steps, warmup_rate, learning_rate\n",
    "            )\n",
    "        return tf.where(\n",
    "            step > self.total_steps, 0.0, learning_rate, name=\"learning_rate\"\n",
    "        )\n",
    "\n",
    "\n",
    "def run_experiment(model):\n",
    "    total_steps = int((len(x_train) / BATCH_SIZE) * EPOCHS)\n",
    "    warmup_epoch_percentage = 0.10\n",
    "    warmup_steps = int(total_steps * warmup_epoch_percentage)\n",
    "    scheduled_lrs = WarmUpCosine(\n",
    "        learning_rate_base=LEARNING_RATE,\n",
    "        total_steps=total_steps,\n",
    "        warmup_learning_rate=0.0,\n",
    "        warmup_steps=warmup_steps,\n",
    "    )\n",
    "\n",
    "    optimizer = tfa.optimizers.AdamW(\n",
    "        learning_rate=LEARNING_RATE, weight_decay=WEIGHT_DECAY\n",
    "    )\n",
    "\n",
    "    model.compile(\n",
    "        optimizer=optimizer,\n",
    "        loss=keras.losses.SparseCategoricalCrossentropy(from_logits=True),\n",
    "        metrics=[\n",
    "            keras.metrics.SparseCategoricalAccuracy(name=\"accuracy\"),\n",
    "            keras.metrics.SparseTopKCategoricalAccuracy(5, name=\"top-5-accuracy\"),\n",
    "        ],\n",
    "    )\n",
    "\n",
    "    history = model.fit(\n",
    "        x=x_train,\n",
    "        y=y_train,\n",
    "        batch_size=BATCH_SIZE,\n",
    "        epochs=EPOCHS,\n",
    "        validation_split=0.2,\n",
    "    )\n",
    "    _, accuracy, top_5_accuracy = model.evaluate(x_test, y_test, batch_size=BATCH_SIZE)\n",
    "    print(f\"Test accuracy: {round(accuracy * 100, 2)}%\")\n",
    "    print(f\"Test top 5 accuracy: {round(top_5_accuracy * 100, 2)}%\")\n",
    "\n",
    "    return history\n",
    "\n",
    "\n",
    "# Run experiments with the vanilla ViT\n",
    "vit = create_vit_classifier(vanilla=True)\n",
    "history = run_experiment(vit)\n"
   ]
  },
  {
   "cell_type": "code",
   "execution_count": 61,
   "metadata": {
    "colab": {
     "base_uri": "https://localhost:8080/",
     "height": 295
    },
    "id": "UiqrTheaJ_eY",
    "outputId": "03a15f52-6b5d-4063-e29b-583d4b96b0c6"
   },
   "outputs": [
    {
     "data": {
      "image/png": "[encoded data removed]",
      "text/plain": [
       "<Figure size 432x288 with 1 Axes>"
      ]
     },
     "metadata": {
      "needs_background": "light"
     },
     "output_type": "display_data"
    }
   ],
   "source": [
    "plt.plot(history.history['accuracy'])\n",
    "plt.plot(history.history['val_accuracy'])\n",
    "plt.title('ViT Model Train vs Validation Accuracy Curve')\n",
    "plt.ylabel('accuracy')\n",
    "plt.xlabel('epoch')\n",
    "plt.legend(['train', 'val'], loc='upper left')\n",
    "plt.show()"
   ]
  },
  {
   "cell_type": "code",
   "execution_count": 62,
   "metadata": {
    "colab": {
     "base_uri": "https://localhost:8080/",
     "height": 295
    },
    "id": "pToIhowFKBmy",
    "outputId": "a39ef432-953a-4e37-f893-3c874292f75c"
   },
   "outputs": [
    {
     "data": {
      "image/png": "[encoded data removed]",
      "text/plain": [
       "<Figure size 432x288 with 1 Axes>"
      ]
     },
     "metadata": {
      "needs_background": "light"
     },
     "output_type": "display_data"
    }
   ],
   "source": [
    "\n",
    "plt.plot(history.history['loss'])\n",
    "plt.plot(history.history['val_loss'])\n",
    "plt.title('ViT Model Train vs Validation Loss Curve')\n",
    "plt.ylabel('accuracy')\n",
    "plt.xlabel('epoch')\n",
    "plt.legend(['train', 'val'], loc='upper left')\n",
    "plt.show()"
   ]
  },
  {
   "cell_type": "code",
   "execution_count": 63,
   "metadata": {
    "colab": {
     "base_uri": "https://localhost:8080/",
     "height": 677
    },
    "id": "8jEHvO0dKC8M",
    "outputId": "42fea665-3e16-436e-9c6f-658918b0dcf6"
   },
   "outputs": [
    {
     "name": "stderr",
     "output_type": "stream",
     "text": [
      "/usr/local/lib/python3.7/dist-packages/ipykernel_launcher.py:8: UserWarning: `Model.predict_generator` is deprecated and will be removed in a future version. Please use `Model.predict`, which supports generators.\n",
      "  \n"
     ]
    },
    {
     "name": "stdout",
     "output_type": "stream",
     "text": [
      "Confusion matrix, without normalization\n",
      "              precision    recall  f1-score   support\n",
      "\n",
      "           0       0.95      0.89      0.92       257\n",
      "           1       0.89      0.93      0.91       137\n",
      "           2       0.80      0.93      0.86        75\n",
      "\n",
      "    accuracy                           0.91       469\n",
      "   macro avg       0.88      0.92      0.90       469\n",
      "weighted avg       0.91      0.91      0.91       469\n",
      "\n"
     ]
    },
    {
     "data": {
      "image/png": "[encoded data removed]",
      "text/plain": [
       "<Figure size 432x432 with 2 Axes>"
      ]
     },
     "metadata": {
      "needs_background": "light"
     },
     "output_type": "display_data"
    }
   ],
   "source": [
    "from sklearn.metrics import plot_confusion_matrix\n",
    "from sklearn.metrics import ConfusionMatrixDisplay, confusion_matrix\n",
    "np.set_printoptions(precision=2)\n",
    "class_names = ['benign', 'malignant','normal']\n",
    "\n",
    "from sklearn.metrics import plot_confusion_matrix \n",
    "from sklearn.metrics import ConfusionMatrixDisplay\n",
    "Y_pred = vit.predict_generator(x_test)\n",
    "y_pred = np.argmax(Y_pred, axis=1)\n",
    "\n",
    "cm = confusion_matrix(y_test, y_pred)\n",
    "#plot_confusion_matrix(X = y_pred, y_true=y_test, labels = class_names, normalize=False)\n",
    "\n",
    "\n",
    "import matplotlib.pyplot as plt\n",
    "import itertools \n",
    "def plot_confusion_matrix(cm, classes, normalize=False, title='Confusion matrix', cmap=plt.cm.Blues):\n",
    "\n",
    "    \"\"\"\n",
    "\n",
    "    This function prints and plots the confusion matrix.\n",
    "\n",
    "    Normalization can be applied by setting `normalize=True`.\n",
    "\n",
    "    \"\"\"\n",
    "\n",
    "    plt.figure(figsize=(6,6))\n",
    "\n",
    "\n",
    "\n",
    "    plt.imshow(cm, interpolation='nearest', cmap=cmap)\n",
    "\n",
    "    plt.title(title)\n",
    "\n",
    "    plt.colorbar()\n",
    "\n",
    "\n",
    "\n",
    "    tick_marks = np.arange(len(classes))\n",
    "\n",
    "    plt.xticks(tick_marks, classes, rotation=45)\n",
    "\n",
    "    plt.yticks(tick_marks, classes)\n",
    "\n",
    "\n",
    "\n",
    "    if normalize:\n",
    "\n",
    "        cm = cm.astype('float') / cm.sum(axis=1)[:, np.newaxis]\n",
    "\n",
    "        cm = np.around(cm, decimals=2)\n",
    "\n",
    "        cm[np.isnan(cm)] = 0.0\n",
    "\n",
    "        print(\"Normalized confusion matrix\")\n",
    "\n",
    "    else:\n",
    "\n",
    "        print('Confusion matrix, without normalization')\n",
    "\n",
    "    thresh = cm.max() / 2.\n",
    "\n",
    "    for i, j in itertools.product(range(cm.shape[0]), range(cm.shape[1])):\n",
    "\n",
    "        plt.text(j, i, cm[i, j],\n",
    "\n",
    "                 horizontalalignment=\"center\",\n",
    "\n",
    "                 color=\"white\" if cm[i, j] > thresh else \"black\")\n",
    "\n",
    "    plt.tight_layout()\n",
    "\n",
    "    plt.ylabel('True label')\n",
    "\n",
    "    plt.xlabel('Predicted label')\n",
    "\n",
    "plot_confusion_matrix(cm, class_names)\n",
    "\n",
    "from sklearn.metrics import classification_report\n",
    "print(classification_report(y_test, y_pred))"
   ]
  },
  {
   "cell_type": "code",
   "execution_count": 63,
   "metadata": {
    "id": "fkikZGbQKEDw"
   },
   "outputs": [],
   "source": []
  },
  {
   "cell_type": "code",
   "execution_count": null,
   "metadata": {
    "colab": {
     "base_uri": "https://localhost:8080/"
    },
    "id": "XMz0IHw9KF_x",
    "outputId": "41796b76-2f24-4463-e39a-e2e0e7434b9b"
   },
   "outputs": [],
   "source": []
  },
  {
   "cell_type": "code",
   "execution_count": null,
   "metadata": {
    "id": "WS04GJ_TY2iH"
   },
   "outputs": [],
   "source": []
  }
 ],
 "metadata": {
  "accelerator": "GPU",
  "colab": {
   "name": "Untitled15.ipynb",
   "provenance": []
  },
  "kernelspec": {
   "display_name": "Python 3 (ipykernel)",
   "language": "python",
   "name": "python3"
  },
  "language_info": {
   "codemirror_mode": {
    "name": "ipython",
    "version": 3
   },
   "file_extension": ".py",
   "mimetype": "text/x-python",
   "name": "python",
   "nbconvert_exporter": "python",
   "pygments_lexer": "ipython3",
   "version": "3.7.11"
  }
 },
 "nbformat": 4,
 "nbformat_minor": 1
}
