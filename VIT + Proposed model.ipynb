{
 "cells": [
  {
   "cell_type": "code",
   "execution_count": 1,
   "metadata": {
    "colab": {
     "base_uri": "https://localhost:8080/"
    },
    "id": "_hP85DZsrDQr",
    "outputId": "97ee0d1d-5cd7-4508-bebe-1f7c10d63df8"
   },
   "outputs": [
    {
     "name": "stdout",
     "output_type": "stream",
     "text": [
      "Requirement already satisfied: tensorflow-addons in c:\\programdata\\anaconda3\\envs\\tf\\lib\\site-packages (0.17.0)\n",
      "Requirement already satisfied: packaging in c:\\programdata\\anaconda3\\envs\\tf\\lib\\site-packages (from tensorflow-addons) (21.3)\n",
      "Requirement already satisfied: typeguard>=2.7 in c:\\programdata\\anaconda3\\envs\\tf\\lib\\site-packages (from tensorflow-addons) (2.13.3)\n",
      "Requirement already satisfied: pyparsing!=3.0.5,>=2.0.2 in c:\\programdata\\anaconda3\\envs\\tf\\lib\\site-packages (from packaging->tensorflow-addons) (3.0.9)\n"
     ]
    }
   ],
   "source": [
    "!pip install -U tensorflow-addons"
   ]
  },
  {
   "cell_type": "code",
   "execution_count": 1,
   "metadata": {
    "id": "f2o9MAE0rKvM"
   },
   "outputs": [],
   "source": [
    "import tensorflow as tf\n",
    "from tensorflow import keras\n",
    "from keras.preprocessing.image import ImageDataGenerator\n",
    "from keras.models import Sequential\n",
    "import numpy as np\n",
    "import matplotlib.pyplot as plt\n",
    "import random\n",
    "from keras.layers import Conv2D, MaxPooling2D, Flatten, Dense\n",
    "from keras.models import Sequential\n",
    "import matplotlib.pyplot as plt\n",
    "from tensorflow import keras\n",
    "import tensorflow_addons as tfa\n",
    "from tensorflow.keras import layers\n",
    "import random,cv2,os,glob"
   ]
  },
  {
   "cell_type": "code",
   "execution_count": 3,
   "metadata": {
    "id": "C7wMy_JdrMTE"
   },
   "outputs": [],
   "source": [
    "path =r\"E:\\Study materials\\Artificial intelligence\\Research work\\Breast cancer cnn+vit\\Dataset\\Augmentation\\*\"\n",
    "data_paths = os.path.join(path,'*g')\n",
    "imagePaths = glob.glob(data_paths)"
   ]
  },
  {
   "cell_type": "code",
   "execution_count": 4,
   "metadata": {},
   "outputs": [
    {
     "data": {
      "text/plain": [
       "2344"
      ]
     },
     "execution_count": 4,
     "metadata": {},
     "output_type": "execute_result"
    }
   ],
   "source": [
    "len(imagePaths)"
   ]
  },
  {
   "cell_type": "code",
   "execution_count": null,
   "metadata": {
    "id": "JE2cLPvErOhl"
   },
   "outputs": [],
   "source": [
    "labels=[]\n",
    "images=[]\n",
    "for imgpath in imagePaths:\n",
    "    img=cv2.imread(imgpath)\n",
    "    img=cv2.resize(img,(500,500))\n",
    "    images.append(img)\n",
    "    label= imgpath.split(os.path.sep)[-2].split(\"_\")\n",
    "    labels.append(label)"
   ]
  },
  {
   "cell_type": "code",
   "execution_count": null,
   "metadata": {
    "id": "tER1yg92rQYb"
   },
   "outputs": [],
   "source": [
    "images=np.array(images)\n",
    "labels=np.array(labels)"
   ]
  },
  {
   "cell_type": "code",
   "execution_count": null,
   "metadata": {},
   "outputs": [],
   "source": [
    "np.save('images500', images)\n",
    "np.save('labels500', labels)"
   ]
  },
  {
   "cell_type": "code",
   "execution_count": 6,
   "metadata": {
    "colab": {
     "base_uri": "https://localhost:8080/"
    },
    "id": "M2nhpapurR_f",
    "outputId": "7020d692-1f01-4f4b-d0f1-11dda4f2b0f6"
   },
   "outputs": [
    {
     "name": "stderr",
     "output_type": "stream",
     "text": [
      "/usr/local/lib/python3.7/dist-packages/sklearn/preprocessing/_label.py:115: DataConversionWarning: A column-vector y was passed when a 1d array was expected. Please change the shape of y to (n_samples, ), for example using ravel().\n",
      "  y = column_or_1d(y, warn=True)\n"
     ]
    }
   ],
   "source": [
    "from sklearn.preprocessing import LabelEncoder\n",
    "label_encoder = LabelEncoder()\n",
    "labels = label_encoder.fit_transform(labels)"
   ]
  },
  {
   "cell_type": "code",
   "execution_count": 116,
   "metadata": {
    "id": "sv2qC3hXrTkr"
   },
   "outputs": [],
   "source": [
    "from sklearn.model_selection import train_test_split\n",
    "x_train,x_test,y_train,y_test = train_test_split(images,labels,test_size=.2,random_state=20)\n",
    "NUM_CLASSES = 3\n",
    "INPUT_SHAPE = (224, 224, 3)"
   ]
  },
  {
   "cell_type": "code",
   "execution_count": 117,
   "metadata": {
    "id": "0ipgxhrsrYdX"
   },
   "outputs": [],
   "source": [
    "# DATA\n",
    "BUFFER_SIZE = 512\n",
    "BATCH_SIZE = 64\n",
    "\n",
    "# AUGMENTATION\n",
    "IMAGE_SIZE = 100\n",
    "PATCH_SIZE = 6\n",
    "NUM_PATCHES = (IMAGE_SIZE // PATCH_SIZE) ** 2\n",
    "\n",
    "# OPTIMIZER\n",
    "LEARNING_RATE = 0.0003\n",
    "WEIGHT_DECAY = 0.0001\n",
    "\n",
    "# TRAINING\n",
    "EPOCHS = 100\n",
    "\n",
    "# ARCHITECTURE\n",
    "LAYER_NORM_EPS = 1e-6\n",
    "TRANSFORMER_LAYERS = 12\n",
    "PROJECTION_DIM = 64\n",
    "NUM_HEADS = 4\n",
    "TRANSFORMER_UNITS = [\n",
    "    PROJECTION_DIM * 2,\n",
    "    PROJECTION_DIM,\n",
    "]\n",
    "MLP_HEAD_UNITS = [2048, 1024]"
   ]
  },
  {
   "cell_type": "code",
   "execution_count": 118,
   "metadata": {
    "id": "O8H9cY_qrfo6"
   },
   "outputs": [],
   "source": [
    "data_augmentation = keras.Sequential(\n",
    "    [\n",
    "        layers.Normalization(),\n",
    "        layers.Resizing(IMAGE_SIZE, IMAGE_SIZE),\n",
    "        layers.RandomFlip(\"horizontal\"),\n",
    "        layers.RandomRotation(factor=0.02),\n",
    "        layers.RandomZoom(height_factor=0.2, width_factor=0.2),\n",
    "    ],\n",
    "    name=\"data_augmentation\",\n",
    ")\n",
    "# Compute the mean and the variance of the training data for normalization.\n",
    "data_augmentation.layers[0].adapt(x_train)"
   ]
  },
  {
   "cell_type": "code",
   "execution_count": 126,
   "metadata": {
    "id": "SKja5yDirhgo"
   },
   "outputs": [],
   "source": [
    "class ShiftedPatchTokenization(layers.Layer):\n",
    "    def __init__(\n",
    "        self,\n",
    "        image_size=IMAGE_SIZE,\n",
    "        patch_size=PATCH_SIZE,\n",
    "        num_patches=NUM_PATCHES,\n",
    "        projection_dim=PROJECTION_DIM,\n",
    "        vanilla=False,\n",
    "        **kwargs,\n",
    "    ):\n",
    "        super().__init__(**kwargs)\n",
    "        self.vanilla = vanilla  # Flag to swtich to vanilla patch extractor\n",
    "        self.image_size = image_size\n",
    "        self.patch_size = patch_size\n",
    "        self.half_patch = patch_size // 2\n",
    "        self.flatten_patches = layers.Reshape((num_patches, -1))\n",
    "        self.projection = layers.Dense(units=projection_dim)\n",
    "        self.layer_norm = layers.LayerNormalization(epsilon=LAYER_NORM_EPS)\n",
    "\n",
    "    def crop_shift_pad(self, images, mode):\n",
    "        # Build the diagonally shifted images\n",
    "        if mode == \"left-up\":\n",
    "            crop_height = self.half_patch\n",
    "            crop_width = self.half_patch\n",
    "            shift_height = 0\n",
    "            shift_width = 0\n",
    "        elif mode == \"left-down\":\n",
    "            crop_height = 0\n",
    "            crop_width = self.half_patch\n",
    "            shift_height = self.half_patch\n",
    "            shift_width = 0\n",
    "        elif mode == \"right-up\":\n",
    "            crop_height = self.half_patch\n",
    "            crop_width = 0\n",
    "            shift_height = 0\n",
    "            shift_width = self.half_patch\n",
    "        else:\n",
    "            crop_height = 0\n",
    "            crop_width = 0\n",
    "            shift_height = self.half_patch\n",
    "            shift_width = self.half_patch\n",
    "\n",
    "        # Crop the shifted images and pad them\n",
    "        crop = tf.image.crop_to_bounding_box(\n",
    "            images,\n",
    "            offset_height=crop_height,\n",
    "            offset_width=crop_width,\n",
    "            target_height=self.image_size - self.half_patch,\n",
    "            target_width=self.image_size - self.half_patch,\n",
    "        )\n",
    "        shift_pad = tf.image.pad_to_bounding_box(\n",
    "            crop,\n",
    "            offset_height=shift_height,\n",
    "            offset_width=shift_width,\n",
    "            target_height=self.image_size,\n",
    "            target_width=self.image_size,\n",
    "        )\n",
    "        return shift_pad\n",
    "\n",
    "    def call(self, images):\n",
    "        if not self.vanilla:\n",
    "            # Concat the shifted images with the original image\n",
    "            images = tf.concat(\n",
    "                [\n",
    "                    images,\n",
    "                    self.crop_shift_pad(images, mode=\"left-up\"),\n",
    "                    self.crop_shift_pad(images, mode=\"left-down\"),\n",
    "                    self.crop_shift_pad(images, mode=\"right-up\"),\n",
    "                    self.crop_shift_pad(images, mode=\"right-down\"),\n",
    "                ],\n",
    "                axis=-1,\n",
    "            )\n",
    "        # Patchify the images and flatten it\n",
    "        patches = tf.image.extract_patches(\n",
    "            images=images,\n",
    "            sizes=[1, self.patch_size, self.patch_size, 1],\n",
    "            strides=[1, self.patch_size, self.patch_size, 1],\n",
    "            rates=[1, 1, 1, 1],\n",
    "            padding=\"VALID\",\n",
    "        )\n",
    "        flat_patches = self.flatten_patches(patches)\n",
    "        if not self.vanilla:\n",
    "            # Layer normalize the flat patches and linearly project it\n",
    "            tokens = self.layer_norm(flat_patches)\n",
    "            tokens = self.projection(tokens)\n",
    "        else:\n",
    "            # Linearly project the flat patches\n",
    "            tokens = self.projection(flat_patches)\n",
    "        return (tokens, patches)"
   ]
  },
  {
   "cell_type": "code",
   "execution_count": 127,
   "metadata": {
    "colab": {
     "base_uri": "https://localhost:8080/",
     "height": 460
    },
    "id": "VzkUq6vqri2m",
    "outputId": "9aca645b-7e09-4c1a-d0d6-6bd4fc94b345"
   },
   "outputs": [
    {
     "data": {
      "image/png": "[encoded data removed]",
      "text/plain": [
       "<Figure size 288x288 with 256 Axes>"
      ]
     },
     "metadata": {
      "needs_background": "light"
     },
     "output_type": "display_data"
    },
    {
     "name": "stdout",
     "output_type": "stream",
     "text": [
      "ORIGINAL\n"
     ]
    },
    {
     "data": {
      "image/png": "[encoded data removed]",
      "text/plain": [
       "<Figure size 288x288 with 16 Axes>"
      ]
     },
     "metadata": {
      "needs_background": "light"
     },
     "output_type": "display_data"
    },
    {
     "name": "stdout",
     "output_type": "stream",
     "text": [
      "LEFT-UP\n"
     ]
    },
    {
     "data": {
      "image/png": "[encoded data removed]",
      "text/plain": [
       "<Figure size 288x288 with 16 Axes>"
      ]
     },
     "metadata": {
      "needs_background": "light"
     },
     "output_type": "display_data"
    },
    {
     "name": "stdout",
     "output_type": "stream",
     "text": [
      "LEFT-DOWN\n"
     ]
    },
    {
     "data": {
      "image/png": "[encoded data removed]",
      "text/plain": [
       "<Figure size 288x288 with 16 Axes>"
      ]
     },
     "metadata": {
      "needs_background": "light"
     },
     "output_type": "display_data"
    },
    {
     "name": "stdout",
     "output_type": "stream",
     "text": [
      "RIGHT-UP\n"
     ]
    },
    {
     "data": {
      "image/png": "[encoded data removed]",
      "text/plain": [
       "<Figure size 288x288 with 16 Axes>"
      ]
     },
     "metadata": {
      "needs_background": "light"
     },
     "output_type": "display_data"
    },
    {
     "name": "stdout",
     "output_type": "stream",
     "text": [
      "RIGHT-DOWN\n"
     ]
    },
    {
     "data": {
      "image/png": "[encoded data removed]",
      "text/plain": [
       "<Figure size 288x288 with 16 Axes>"
      ]
     },
     "metadata": {
      "needs_background": "light"
     },
     "output_type": "display_data"
    }
   ],
   "source": [
    "# Get a random image from the training dataset\n",
    "# and resize the image\n",
    "image = x_train[np.random.choice(range(x_train.shape[0]))]\n",
    "resized_image = tf.image.resize(\n",
    "    tf.convert_to_tensor([image]), size=(IMAGE_SIZE, IMAGE_SIZE)\n",
    ")\n",
    "\n",
    "# Vanilla patch maker: This takes an image and divides into\n",
    "# patches as in the original ViT paper\n",
    "(token, patch) = ShiftedPatchTokenization(vanilla=True)(resized_image / 255.0)\n",
    "(token, patch) = (token[0], patch[0])\n",
    "n = patch.shape[0]\n",
    "count = 1\n",
    "plt.figure(figsize=(4, 4))\n",
    "for row in range(n):\n",
    "    for col in range(n):\n",
    "        plt.subplot(n, n, count)\n",
    "        count = count + 1\n",
    "        image = tf.reshape(patch[row][col], (PATCH_SIZE, PATCH_SIZE, 3))\n",
    "        plt.imshow(image)\n",
    "        plt.axis(\"off\")\n",
    "plt.show()\n",
    "\n",
    "# Shifted Patch Tokenization: This layer takes the image, shifts it\n",
    "# diagonally and then extracts patches from the concatinated images\n",
    "(token, patch) = ShiftedPatchTokenization(vanilla=False)(resized_image / 255.0)\n",
    "(token, patch) = (token[0], patch[0])\n",
    "n = patch.shape[0]\n",
    "shifted_images = [\"ORIGINAL\", \"LEFT-UP\", \"LEFT-DOWN\", \"RIGHT-UP\", \"RIGHT-DOWN\"]\n",
    "for index, name in enumerate(shifted_images):\n",
    "    print(name)\n",
    "    count = 1\n",
    "    plt.figure(figsize=(4, 4))\n",
    "    for row in range(n):\n",
    "        for col in range(n):\n",
    "            plt.subplot(n, n, count)\n",
    "            count = count + 1\n",
    "            image = tf.reshape(patch[row][col], (PATCH_SIZE, PATCH_SIZE, 5 * 3))\n",
    "            plt.imshow(image[..., 3 * index : 3 * index + 3])\n",
    "            plt.axis(\"off\")\n",
    "            break\n",
    "    plt.show()"
   ]
  },
  {
   "cell_type": "code",
   "execution_count": 128,
   "metadata": {
    "id": "1Iu-lyIsrkPU"
   },
   "outputs": [],
   "source": [
    "class PatchEncoder(layers.Layer):\n",
    "    def __init__(\n",
    "        self, num_patches=NUM_PATCHES, projection_dim=PROJECTION_DIM, **kwargs\n",
    "    ):\n",
    "        super().__init__(**kwargs)\n",
    "        self.num_patches = num_patches\n",
    "        self.position_embedding = layers.Embedding(\n",
    "            input_dim=num_patches, output_dim=projection_dim\n",
    "        )\n",
    "        self.positions = tf.range(start=0, limit=self.num_patches, delta=1)\n",
    "\n",
    "    def call(self, encoded_patches):\n",
    "        encoded_positions = self.position_embedding(self.positions)\n",
    "        encoded_patches = encoded_patches + encoded_positions\n",
    "        return encoded_patches"
   ]
  },
  {
   "cell_type": "code",
   "execution_count": 129,
   "metadata": {
    "id": "4jPTOIFgrtJA"
   },
   "outputs": [],
   "source": [
    "class MultiHeadAttentionLSA(tf.keras.layers.MultiHeadAttention):\n",
    "    def __init__(self, **kwargs):\n",
    "        super().__init__(**kwargs)\n",
    "        # The trainable temperature term. The initial value is\n",
    "        # the square root of the key dimension.\n",
    "        self.tau = tf.Variable(math.sqrt(float(self._key_dim)), trainable=True)\n",
    "\n",
    "    def _compute_attention(self, query, key, value, attention_mask=None, training=None):\n",
    "        query = tf.multiply(query, 1.0 / self.tau)\n",
    "        attention_scores = tf.einsum(self._dot_product_equation, key, query)\n",
    "        attention_scores = self._masked_softmax(attention_scores, attention_mask)\n",
    "        attention_scores_dropout = self._dropout_layer(\n",
    "            attention_scores, training=training\n",
    "        )\n",
    "        attention_output = tf.einsum(\n",
    "            self._combine_equation, attention_scores_dropout, value\n",
    "        )\n",
    "        return attention_output, attention_scores"
   ]
  },
  {
   "cell_type": "code",
   "execution_count": 130,
   "metadata": {
    "id": "_6MKWMpfruxh"
   },
   "outputs": [],
   "source": [
    "def mlp(x, hidden_units, dropout_rate):\n",
    "    for units in hidden_units:\n",
    "        x = layers.Dense(units, activation=tf.nn.gelu)(x)\n",
    "        x = layers.Dropout(dropout_rate)(x)\n",
    "    return x\n",
    "\n",
    "\n",
    "# Build the diagonal attention mask\n",
    "diag_attn_mask = 1 - tf.eye(NUM_PATCHES)\n",
    "diag_attn_mask = tf.cast([diag_attn_mask], dtype=tf.int8)"
   ]
  },
  {
   "cell_type": "code",
   "execution_count": 131,
   "metadata": {
    "id": "lOrjy0tdrwH1"
   },
   "outputs": [],
   "source": [
    "def create_vit_classifier(vanilla=False):\n",
    "    inputs = layers.Input(shape=INPUT_SHAPE)\n",
    "    # Augment data.\n",
    "    augmented = data_augmentation(inputs)\n",
    "    # Create patches.\n",
    "    (tokens, _) = ShiftedPatchTokenization(vanilla=vanilla)(augmented)\n",
    "    # Encode patches.\n",
    "    encoded_patches = PatchEncoder()(tokens)\n",
    "\n",
    "    # Create multiple layers of the Transformer block.\n",
    "    for _ in range(TRANSFORMER_LAYERS):\n",
    "        # Layer normalization 1.\n",
    "        x1 = layers.LayerNormalization(epsilon=1e-6)(encoded_patches)\n",
    "        # Create a multi-head attention layer.\n",
    "        if not vanilla:\n",
    "            attention_output = MultiHeadAttentionLSA(\n",
    "                num_heads=NUM_HEADS, key_dim=PROJECTION_DIM, dropout=0.1\n",
    "            )(x1, x1, attention_mask=diag_attn_mask)\n",
    "        else:\n",
    "            attention_output = layers.MultiHeadAttention(\n",
    "                num_heads=NUM_HEADS, key_dim=PROJECTION_DIM, dropout=0.1\n",
    "            )(x1, x1)\n",
    "        # Skip connection 1.\n",
    "        x2 = layers.Add()([attention_output, encoded_patches])\n",
    "        # Layer normalization 2.\n",
    "        x3 = layers.LayerNormalization(epsilon=1e-6)(x2)\n",
    "        # MLP.\n",
    "        x3 = mlp(x3, hidden_units=TRANSFORMER_UNITS, dropout_rate=0.1)\n",
    "        # Skip connection 2.\n",
    "        encoded_patches = layers.Add()([x3, x2])\n",
    "\n",
    "    # Create a [batch_size, projection_dim] tensor.\n",
    "    representation = layers.LayerNormalization(epsilon=1e-6)(encoded_patches)\n",
    "    representation = layers.Flatten()(representation)\n",
    "    representation = layers.Dropout(0.5)(representation)\n",
    "    # Add MLP.\n",
    "    features = mlp(representation, hidden_units=MLP_HEAD_UNITS, dropout_rate=0.5)\n",
    "    # Classify outputs.\n",
    "    logits = layers.Dense(NUM_CLASSES)(features)\n",
    "    # Create the Keras model.\n",
    "    model = keras.Model(inputs=inputs, outputs=logits)\n",
    "    return model"
   ]
  },
  {
   "cell_type": "code",
   "execution_count": 132,
   "metadata": {
    "colab": {
     "base_uri": "https://localhost:8080/",
     "height": 1000
    },
    "id": "Za2ny5K-Fm6J",
    "outputId": "5f95d0c7-bdc9-46f5-958a-f282ce536154"
   },
   "outputs": [
    {
     "name": "stdout",
     "output_type": "stream",
     "text": [
      "Epoch 1/100\n",
      "27/27 [==============================] - 42s 866ms/step - loss: 2.4810 - accuracy: 0.4487 - top-5-accuracy: 1.0000 - val_loss: 1.8528 - val_accuracy: 0.3032 - val_top-5-accuracy: 1.0000\n",
      "Epoch 2/100\n",
      "27/27 [==============================] - 19s 691ms/step - loss: 1.6330 - accuracy: 0.4997 - top-5-accuracy: 1.0000 - val_loss: 0.9101 - val_accuracy: 0.5532 - val_top-5-accuracy: 1.0000\n",
      "Epoch 3/100\n",
      "27/27 [==============================] - 18s 683ms/step - loss: 1.3740 - accuracy: 0.4938 - top-5-accuracy: 1.0000 - val_loss: 0.8960 - val_accuracy: 0.5585 - val_top-5-accuracy: 1.0000\n",
      "Epoch 4/100\n",
      "27/27 [==============================] - 18s 685ms/step - loss: 1.1521 - accuracy: 0.5299 - top-5-accuracy: 1.0000 - val_loss: 0.8011 - val_accuracy: 0.6064 - val_top-5-accuracy: 1.0000\n",
      "Epoch 5/100\n",
      "27/27 [==============================] - 19s 688ms/step - loss: 1.0761 - accuracy: 0.5400 - top-5-accuracy: 1.0000 - val_loss: 0.7695 - val_accuracy: 0.6277 - val_top-5-accuracy: 1.0000\n",
      "Epoch 6/100\n",
      "27/27 [==============================] - 19s 686ms/step - loss: 1.0414 - accuracy: 0.5513 - top-5-accuracy: 1.0000 - val_loss: 0.7987 - val_accuracy: 0.6702 - val_top-5-accuracy: 1.0000\n",
      "Epoch 7/100\n",
      "27/27 [==============================] - 19s 686ms/step - loss: 0.9745 - accuracy: 0.5691 - top-5-accuracy: 1.0000 - val_loss: 0.7490 - val_accuracy: 0.6330 - val_top-5-accuracy: 1.0000\n",
      "Epoch 8/100\n",
      "27/27 [==============================] - 18s 685ms/step - loss: 0.9652 - accuracy: 0.5637 - top-5-accuracy: 1.0000 - val_loss: 0.7858 - val_accuracy: 0.6702 - val_top-5-accuracy: 1.0000\n",
      "Epoch 9/100\n",
      "27/27 [==============================] - 18s 685ms/step - loss: 0.8968 - accuracy: 0.5934 - top-5-accuracy: 1.0000 - val_loss: 0.7229 - val_accuracy: 0.7181 - val_top-5-accuracy: 1.0000\n",
      "Epoch 10/100\n",
      "27/27 [==============================] - 19s 686ms/step - loss: 0.8669 - accuracy: 0.6076 - top-5-accuracy: 1.0000 - val_loss: 0.7285 - val_accuracy: 0.6596 - val_top-5-accuracy: 1.0000\n",
      "Epoch 11/100\n",
      "27/27 [==============================] - 18s 685ms/step - loss: 0.8340 - accuracy: 0.6100 - top-5-accuracy: 1.0000 - val_loss: 0.7895 - val_accuracy: 0.6596 - val_top-5-accuracy: 1.0000\n",
      "Epoch 12/100\n",
      "27/27 [==============================] - 19s 686ms/step - loss: 0.8514 - accuracy: 0.6123 - top-5-accuracy: 1.0000 - val_loss: 0.7994 - val_accuracy: 0.6543 - val_top-5-accuracy: 1.0000\n",
      "Epoch 13/100\n",
      "27/27 [==============================] - 18s 685ms/step - loss: 0.8285 - accuracy: 0.6218 - top-5-accuracy: 1.0000 - val_loss: 0.7604 - val_accuracy: 0.5904 - val_top-5-accuracy: 1.0000\n",
      "Epoch 14/100\n",
      "27/27 [==============================] - 19s 686ms/step - loss: 0.7394 - accuracy: 0.6680 - top-5-accuracy: 1.0000 - val_loss: 0.6651 - val_accuracy: 0.7340 - val_top-5-accuracy: 1.0000\n",
      "Epoch 15/100\n",
      "27/27 [==============================] - 18s 685ms/step - loss: 0.7213 - accuracy: 0.6817 - top-5-accuracy: 1.0000 - val_loss: 0.6676 - val_accuracy: 0.7234 - val_top-5-accuracy: 1.0000\n",
      "Epoch 16/100\n",
      "27/27 [==============================] - 18s 685ms/step - loss: 0.7113 - accuracy: 0.6787 - top-5-accuracy: 1.0000 - val_loss: 0.6244 - val_accuracy: 0.7447 - val_top-5-accuracy: 1.0000\n",
      "Epoch 17/100\n",
      "27/27 [==============================] - 18s 685ms/step - loss: 0.7114 - accuracy: 0.6864 - top-5-accuracy: 1.0000 - val_loss: 0.6292 - val_accuracy: 0.7447 - val_top-5-accuracy: 1.0000\n",
      "Epoch 18/100\n",
      "27/27 [==============================] - 18s 685ms/step - loss: 0.6787 - accuracy: 0.6912 - top-5-accuracy: 1.0000 - val_loss: 0.5718 - val_accuracy: 0.7872 - val_top-5-accuracy: 1.0000\n",
      "Epoch 19/100\n",
      "27/27 [==============================] - 18s 685ms/step - loss: 0.6677 - accuracy: 0.7048 - top-5-accuracy: 1.0000 - val_loss: 0.5571 - val_accuracy: 0.7819 - val_top-5-accuracy: 1.0000\n",
      "Epoch 20/100\n",
      "27/27 [==============================] - 19s 686ms/step - loss: 0.5988 - accuracy: 0.7279 - top-5-accuracy: 1.0000 - val_loss: 0.6271 - val_accuracy: 0.7340 - val_top-5-accuracy: 1.0000\n",
      "Epoch 21/100\n",
      "27/27 [==============================] - 19s 688ms/step - loss: 0.6241 - accuracy: 0.7285 - top-5-accuracy: 1.0000 - val_loss: 0.5880 - val_accuracy: 0.7766 - val_top-5-accuracy: 1.0000\n",
      "Epoch 22/100\n",
      "27/27 [==============================] - 19s 687ms/step - loss: 0.5823 - accuracy: 0.7510 - top-5-accuracy: 1.0000 - val_loss: 0.5876 - val_accuracy: 0.7872 - val_top-5-accuracy: 1.0000\n",
      "Epoch 23/100\n",
      "27/27 [==============================] - 19s 686ms/step - loss: 0.5820 - accuracy: 0.7510 - top-5-accuracy: 1.0000 - val_loss: 0.5376 - val_accuracy: 0.7819 - val_top-5-accuracy: 1.0000\n",
      "Epoch 24/100\n",
      "27/27 [==============================] - 18s 684ms/step - loss: 0.6064 - accuracy: 0.7327 - top-5-accuracy: 1.0000 - val_loss: 0.5196 - val_accuracy: 0.8245 - val_top-5-accuracy: 1.0000\n",
      "Epoch 25/100\n",
      "27/27 [==============================] - 18s 684ms/step - loss: 0.5688 - accuracy: 0.7576 - top-5-accuracy: 1.0000 - val_loss: 0.5071 - val_accuracy: 0.8191 - val_top-5-accuracy: 1.0000\n",
      "Epoch 26/100\n",
      "27/27 [==============================] - 18s 685ms/step - loss: 0.5124 - accuracy: 0.7753 - top-5-accuracy: 1.0000 - val_loss: 0.4831 - val_accuracy: 0.7979 - val_top-5-accuracy: 1.0000\n",
      "Epoch 27/100\n",
      "27/27 [==============================] - 19s 686ms/step - loss: 0.5120 - accuracy: 0.7801 - top-5-accuracy: 1.0000 - val_loss: 0.4516 - val_accuracy: 0.8457 - val_top-5-accuracy: 1.0000\n",
      "Epoch 28/100\n",
      "27/27 [==============================] - 19s 686ms/step - loss: 0.5182 - accuracy: 0.7777 - top-5-accuracy: 1.0000 - val_loss: 0.5297 - val_accuracy: 0.8245 - val_top-5-accuracy: 1.0000\n",
      "Epoch 29/100\n",
      "27/27 [==============================] - 18s 685ms/step - loss: 0.5196 - accuracy: 0.7730 - top-5-accuracy: 1.0000 - val_loss: 0.4468 - val_accuracy: 0.8723 - val_top-5-accuracy: 1.0000\n",
      "Epoch 30/100\n",
      "27/27 [==============================] - 18s 685ms/step - loss: 0.4771 - accuracy: 0.7967 - top-5-accuracy: 1.0000 - val_loss: 0.4702 - val_accuracy: 0.8191 - val_top-5-accuracy: 1.0000\n",
      "Epoch 31/100\n",
      "27/27 [==============================] - 19s 686ms/step - loss: 0.4374 - accuracy: 0.8210 - top-5-accuracy: 1.0000 - val_loss: 0.3375 - val_accuracy: 0.8617 - val_top-5-accuracy: 1.0000\n",
      "Epoch 32/100\n",
      "27/27 [==============================] - 18s 685ms/step - loss: 0.4523 - accuracy: 0.8103 - top-5-accuracy: 1.0000 - val_loss: 0.3887 - val_accuracy: 0.8777 - val_top-5-accuracy: 1.0000\n",
      "Epoch 33/100\n",
      "27/27 [==============================] - 19s 687ms/step - loss: 0.4358 - accuracy: 0.8139 - top-5-accuracy: 1.0000 - val_loss: 0.3971 - val_accuracy: 0.8564 - val_top-5-accuracy: 1.0000\n",
      "Epoch 34/100\n",
      "27/27 [==============================] - 18s 685ms/step - loss: 0.4204 - accuracy: 0.8234 - top-5-accuracy: 1.0000 - val_loss: 0.4248 - val_accuracy: 0.8457 - val_top-5-accuracy: 1.0000\n",
      "Epoch 35/100\n",
      "27/27 [==============================] - 18s 686ms/step - loss: 0.4219 - accuracy: 0.8305 - top-5-accuracy: 1.0000 - val_loss: 0.3628 - val_accuracy: 0.8457 - val_top-5-accuracy: 1.0000\n",
      "Epoch 36/100\n",
      "27/27 [==============================] - 18s 685ms/step - loss: 0.4106 - accuracy: 0.8305 - top-5-accuracy: 1.0000 - val_loss: 0.4010 - val_accuracy: 0.8777 - val_top-5-accuracy: 1.0000\n",
      "Epoch 37/100\n",
      "27/27 [==============================] - 18s 685ms/step - loss: 0.4021 - accuracy: 0.8388 - top-5-accuracy: 1.0000 - val_loss: 0.3385 - val_accuracy: 0.8777 - val_top-5-accuracy: 1.0000\n",
      "Epoch 38/100\n",
      "27/27 [==============================] - 19s 687ms/step - loss: 0.3739 - accuracy: 0.8471 - top-5-accuracy: 1.0000 - val_loss: 0.3341 - val_accuracy: 0.8883 - val_top-5-accuracy: 1.0000\n",
      "Epoch 39/100\n",
      "27/27 [==============================] - 18s 684ms/step - loss: 0.3662 - accuracy: 0.8518 - top-5-accuracy: 1.0000 - val_loss: 0.3094 - val_accuracy: 0.8989 - val_top-5-accuracy: 1.0000\n",
      "Epoch 40/100\n",
      "27/27 [==============================] - 18s 685ms/step - loss: 0.3310 - accuracy: 0.8619 - top-5-accuracy: 1.0000 - val_loss: 0.3187 - val_accuracy: 0.9043 - val_top-5-accuracy: 1.0000\n",
      "Epoch 41/100\n",
      "27/27 [==============================] - 19s 687ms/step - loss: 0.3075 - accuracy: 0.8773 - top-5-accuracy: 1.0000 - val_loss: 0.3158 - val_accuracy: 0.8883 - val_top-5-accuracy: 1.0000\n",
      "Epoch 42/100\n",
      "27/27 [==============================] - 19s 687ms/step - loss: 0.3291 - accuracy: 0.8702 - top-5-accuracy: 1.0000 - val_loss: 0.2879 - val_accuracy: 0.9043 - val_top-5-accuracy: 1.0000\n",
      "Epoch 43/100\n",
      "27/27 [==============================] - 19s 687ms/step - loss: 0.2906 - accuracy: 0.8903 - top-5-accuracy: 1.0000 - val_loss: 0.3576 - val_accuracy: 0.8883 - val_top-5-accuracy: 1.0000\n",
      "Epoch 44/100\n",
      "27/27 [==============================] - 18s 686ms/step - loss: 0.3018 - accuracy: 0.8803 - top-5-accuracy: 1.0000 - val_loss: 0.2290 - val_accuracy: 0.9255 - val_top-5-accuracy: 1.0000\n",
      "Epoch 45/100\n",
      "27/27 [==============================] - 19s 686ms/step - loss: 0.2828 - accuracy: 0.8933 - top-5-accuracy: 1.0000 - val_loss: 0.2976 - val_accuracy: 0.8830 - val_top-5-accuracy: 1.0000\n",
      "Epoch 46/100\n",
      "27/27 [==============================] - 19s 686ms/step - loss: 0.2986 - accuracy: 0.8880 - top-5-accuracy: 1.0000 - val_loss: 0.3934 - val_accuracy: 0.8404 - val_top-5-accuracy: 1.0000\n",
      "Epoch 47/100\n",
      "27/27 [==============================] - 18s 686ms/step - loss: 0.2699 - accuracy: 0.8969 - top-5-accuracy: 1.0000 - val_loss: 0.3043 - val_accuracy: 0.9043 - val_top-5-accuracy: 1.0000\n",
      "Epoch 48/100\n",
      "27/27 [==============================] - 18s 684ms/step - loss: 0.2651 - accuracy: 0.8980 - top-5-accuracy: 1.0000 - val_loss: 0.2807 - val_accuracy: 0.8989 - val_top-5-accuracy: 1.0000\n",
      "Epoch 49/100\n",
      "27/27 [==============================] - 18s 683ms/step - loss: 0.2758 - accuracy: 0.8951 - top-5-accuracy: 1.0000 - val_loss: 0.3888 - val_accuracy: 0.8723 - val_top-5-accuracy: 1.0000\n",
      "Epoch 50/100\n",
      "27/27 [==============================] - 18s 685ms/step - loss: 0.2266 - accuracy: 0.9105 - top-5-accuracy: 1.0000 - val_loss: 0.3168 - val_accuracy: 0.8723 - val_top-5-accuracy: 1.0000\n",
      "Epoch 51/100\n",
      "27/27 [==============================] - 19s 687ms/step - loss: 0.2477 - accuracy: 0.9034 - top-5-accuracy: 1.0000 - val_loss: 0.4527 - val_accuracy: 0.8511 - val_top-5-accuracy: 1.0000\n",
      "Epoch 52/100\n",
      "27/27 [==============================] - 18s 686ms/step - loss: 0.2758 - accuracy: 0.8927 - top-5-accuracy: 1.0000 - val_loss: 0.2493 - val_accuracy: 0.9043 - val_top-5-accuracy: 1.0000\n",
      "Epoch 53/100\n",
      "27/27 [==============================] - 19s 686ms/step - loss: 0.2420 - accuracy: 0.9164 - top-5-accuracy: 1.0000 - val_loss: 0.2565 - val_accuracy: 0.9202 - val_top-5-accuracy: 1.0000\n",
      "Epoch 54/100\n",
      "27/27 [==============================] - 18s 686ms/step - loss: 0.2197 - accuracy: 0.9212 - top-5-accuracy: 1.0000 - val_loss: 0.2747 - val_accuracy: 0.9149 - val_top-5-accuracy: 1.0000\n",
      "Epoch 55/100\n",
      "27/27 [==============================] - 18s 683ms/step - loss: 0.2091 - accuracy: 0.9188 - top-5-accuracy: 1.0000 - val_loss: 0.2893 - val_accuracy: 0.9096 - val_top-5-accuracy: 1.0000\n",
      "Epoch 56/100\n",
      "27/27 [==============================] - 18s 682ms/step - loss: 0.2252 - accuracy: 0.9140 - top-5-accuracy: 1.0000 - val_loss: 0.2308 - val_accuracy: 0.9309 - val_top-5-accuracy: 1.0000\n",
      "Epoch 57/100\n",
      "27/27 [==============================] - 18s 682ms/step - loss: 0.1974 - accuracy: 0.9283 - top-5-accuracy: 1.0000 - val_loss: 0.2959 - val_accuracy: 0.9149 - val_top-5-accuracy: 1.0000\n",
      "Epoch 58/100\n",
      "27/27 [==============================] - 18s 682ms/step - loss: 0.2006 - accuracy: 0.9170 - top-5-accuracy: 1.0000 - val_loss: 0.2526 - val_accuracy: 0.9149 - val_top-5-accuracy: 1.0000\n",
      "Epoch 59/100\n",
      "27/27 [==============================] - 18s 683ms/step - loss: 0.2124 - accuracy: 0.9223 - top-5-accuracy: 1.0000 - val_loss: 0.2175 - val_accuracy: 0.9202 - val_top-5-accuracy: 1.0000\n",
      "Epoch 60/100\n",
      "27/27 [==============================] - 18s 683ms/step - loss: 0.2068 - accuracy: 0.9295 - top-5-accuracy: 1.0000 - val_loss: 0.2046 - val_accuracy: 0.9309 - val_top-5-accuracy: 1.0000\n",
      "Epoch 61/100\n",
      "27/27 [==============================] - 18s 681ms/step - loss: 0.1817 - accuracy: 0.9330 - top-5-accuracy: 1.0000 - val_loss: 0.2952 - val_accuracy: 0.9149 - val_top-5-accuracy: 1.0000\n",
      "Epoch 62/100\n",
      "27/27 [==============================] - 18s 680ms/step - loss: 0.2024 - accuracy: 0.9289 - top-5-accuracy: 1.0000 - val_loss: 0.2599 - val_accuracy: 0.9043 - val_top-5-accuracy: 1.0000\n",
      "Epoch 63/100\n",
      "27/27 [==============================] - 18s 680ms/step - loss: 0.1799 - accuracy: 0.9289 - top-5-accuracy: 1.0000 - val_loss: 0.2527 - val_accuracy: 0.9149 - val_top-5-accuracy: 1.0000\n",
      "Epoch 64/100\n",
      "27/27 [==============================] - 18s 681ms/step - loss: 0.1683 - accuracy: 0.9360 - top-5-accuracy: 1.0000 - val_loss: 0.2283 - val_accuracy: 0.9096 - val_top-5-accuracy: 1.0000\n",
      "Epoch 65/100\n",
      "27/27 [==============================] - 18s 681ms/step - loss: 0.1522 - accuracy: 0.9449 - top-5-accuracy: 1.0000 - val_loss: 0.2917 - val_accuracy: 0.9043 - val_top-5-accuracy: 1.0000\n",
      "Epoch 66/100\n",
      "27/27 [==============================] - 18s 680ms/step - loss: 0.1513 - accuracy: 0.9425 - top-5-accuracy: 1.0000 - val_loss: 0.2158 - val_accuracy: 0.9255 - val_top-5-accuracy: 1.0000\n",
      "Epoch 67/100\n",
      "27/27 [==============================] - 18s 681ms/step - loss: 0.1622 - accuracy: 0.9366 - top-5-accuracy: 1.0000 - val_loss: 0.2344 - val_accuracy: 0.9255 - val_top-5-accuracy: 1.0000\n",
      "Epoch 68/100\n",
      "27/27 [==============================] - 18s 680ms/step - loss: 0.1502 - accuracy: 0.9461 - top-5-accuracy: 1.0000 - val_loss: 0.2507 - val_accuracy: 0.9202 - val_top-5-accuracy: 1.0000\n",
      "Epoch 69/100\n",
      "27/27 [==============================] - 18s 680ms/step - loss: 0.1627 - accuracy: 0.9472 - top-5-accuracy: 1.0000 - val_loss: 0.1828 - val_accuracy: 0.9309 - val_top-5-accuracy: 1.0000\n",
      "Epoch 70/100\n",
      "27/27 [==============================] - 18s 679ms/step - loss: 0.2109 - accuracy: 0.9146 - top-5-accuracy: 1.0000 - val_loss: 0.2305 - val_accuracy: 0.9096 - val_top-5-accuracy: 1.0000\n",
      "Epoch 71/100\n",
      "27/27 [==============================] - 18s 683ms/step - loss: 0.1468 - accuracy: 0.9449 - top-5-accuracy: 1.0000 - val_loss: 0.2649 - val_accuracy: 0.8830 - val_top-5-accuracy: 1.0000\n",
      "Epoch 72/100\n",
      "27/27 [==============================] - 18s 683ms/step - loss: 0.1404 - accuracy: 0.9461 - top-5-accuracy: 1.0000 - val_loss: 0.1835 - val_accuracy: 0.9468 - val_top-5-accuracy: 1.0000\n",
      "Epoch 73/100\n",
      "27/27 [==============================] - 18s 683ms/step - loss: 0.1440 - accuracy: 0.9502 - top-5-accuracy: 1.0000 - val_loss: 0.1703 - val_accuracy: 0.9521 - val_top-5-accuracy: 1.0000\n",
      "Epoch 74/100\n",
      "27/27 [==============================] - 18s 683ms/step - loss: 0.1322 - accuracy: 0.9508 - top-5-accuracy: 1.0000 - val_loss: 0.1889 - val_accuracy: 0.9202 - val_top-5-accuracy: 1.0000\n",
      "Epoch 75/100\n",
      "27/27 [==============================] - 18s 683ms/step - loss: 0.1271 - accuracy: 0.9514 - top-5-accuracy: 1.0000 - val_loss: 0.1983 - val_accuracy: 0.9415 - val_top-5-accuracy: 1.0000\n",
      "Epoch 76/100\n",
      "27/27 [==============================] - 18s 683ms/step - loss: 0.1296 - accuracy: 0.9502 - top-5-accuracy: 1.0000 - val_loss: 0.2113 - val_accuracy: 0.9202 - val_top-5-accuracy: 1.0000\n",
      "Epoch 77/100\n",
      "27/27 [==============================] - 18s 682ms/step - loss: 0.1305 - accuracy: 0.9597 - top-5-accuracy: 1.0000 - val_loss: 0.1406 - val_accuracy: 0.9415 - val_top-5-accuracy: 1.0000\n",
      "Epoch 78/100\n",
      "27/27 [==============================] - 18s 681ms/step - loss: 0.1256 - accuracy: 0.9603 - top-5-accuracy: 1.0000 - val_loss: 0.2025 - val_accuracy: 0.9149 - val_top-5-accuracy: 1.0000\n",
      "Epoch 79/100\n",
      "27/27 [==============================] - 18s 683ms/step - loss: 0.1055 - accuracy: 0.9644 - top-5-accuracy: 1.0000 - val_loss: 0.2370 - val_accuracy: 0.9096 - val_top-5-accuracy: 1.0000\n",
      "Epoch 80/100\n",
      "27/27 [==============================] - 18s 683ms/step - loss: 0.0993 - accuracy: 0.9644 - top-5-accuracy: 1.0000 - val_loss: 0.1935 - val_accuracy: 0.9255 - val_top-5-accuracy: 1.0000\n",
      "Epoch 81/100\n",
      "27/27 [==============================] - 18s 683ms/step - loss: 0.1286 - accuracy: 0.9549 - top-5-accuracy: 1.0000 - val_loss: 0.1646 - val_accuracy: 0.9521 - val_top-5-accuracy: 1.0000\n",
      "Epoch 82/100\n",
      "27/27 [==============================] - 18s 683ms/step - loss: 0.1203 - accuracy: 0.9591 - top-5-accuracy: 1.0000 - val_loss: 0.2033 - val_accuracy: 0.9309 - val_top-5-accuracy: 1.0000\n",
      "Epoch 83/100\n",
      "27/27 [==============================] - 18s 682ms/step - loss: 0.1090 - accuracy: 0.9615 - top-5-accuracy: 1.0000 - val_loss: 0.3103 - val_accuracy: 0.9202 - val_top-5-accuracy: 1.0000\n",
      "Epoch 84/100\n",
      "27/27 [==============================] - 18s 682ms/step - loss: 0.1159 - accuracy: 0.9585 - top-5-accuracy: 1.0000 - val_loss: 0.2101 - val_accuracy: 0.9468 - val_top-5-accuracy: 1.0000\n",
      "Epoch 85/100\n",
      "27/27 [==============================] - 18s 682ms/step - loss: 0.1337 - accuracy: 0.9490 - top-5-accuracy: 1.0000 - val_loss: 0.1710 - val_accuracy: 0.9362 - val_top-5-accuracy: 1.0000\n",
      "Epoch 86/100\n",
      "27/27 [==============================] - 18s 683ms/step - loss: 0.1187 - accuracy: 0.9555 - top-5-accuracy: 1.0000 - val_loss: 0.1822 - val_accuracy: 0.9468 - val_top-5-accuracy: 1.0000\n",
      "Epoch 87/100\n",
      "27/27 [==============================] - 18s 682ms/step - loss: 0.1096 - accuracy: 0.9579 - top-5-accuracy: 1.0000 - val_loss: 0.2623 - val_accuracy: 0.9202 - val_top-5-accuracy: 1.0000\n",
      "Epoch 88/100\n",
      "27/27 [==============================] - 18s 681ms/step - loss: 0.0970 - accuracy: 0.9686 - top-5-accuracy: 1.0000 - val_loss: 0.2545 - val_accuracy: 0.9202 - val_top-5-accuracy: 1.0000\n",
      "Epoch 89/100\n",
      "27/27 [==============================] - 18s 683ms/step - loss: 0.1090 - accuracy: 0.9638 - top-5-accuracy: 1.0000 - val_loss: 0.1761 - val_accuracy: 0.9362 - val_top-5-accuracy: 1.0000\n",
      "Epoch 90/100\n",
      "27/27 [==============================] - 18s 682ms/step - loss: 0.1280 - accuracy: 0.9514 - top-5-accuracy: 1.0000 - val_loss: 0.1353 - val_accuracy: 0.9468 - val_top-5-accuracy: 1.0000\n",
      "Epoch 91/100\n",
      "27/27 [==============================] - 18s 682ms/step - loss: 0.1061 - accuracy: 0.9668 - top-5-accuracy: 1.0000 - val_loss: 0.1672 - val_accuracy: 0.9468 - val_top-5-accuracy: 1.0000\n",
      "Epoch 92/100\n",
      "27/27 [==============================] - 18s 682ms/step - loss: 0.1264 - accuracy: 0.9544 - top-5-accuracy: 1.0000 - val_loss: 0.1606 - val_accuracy: 0.9468 - val_top-5-accuracy: 1.0000\n",
      "Epoch 93/100\n",
      "27/27 [==============================] - 18s 682ms/step - loss: 0.1085 - accuracy: 0.9573 - top-5-accuracy: 1.0000 - val_loss: 0.2553 - val_accuracy: 0.9043 - val_top-5-accuracy: 1.0000\n",
      "Epoch 94/100\n",
      "27/27 [==============================] - 18s 681ms/step - loss: 0.1011 - accuracy: 0.9603 - top-5-accuracy: 1.0000 - val_loss: 0.1543 - val_accuracy: 0.9468 - val_top-5-accuracy: 1.0000\n",
      "Epoch 95/100\n",
      "27/27 [==============================] - 18s 682ms/step - loss: 0.1105 - accuracy: 0.9650 - top-5-accuracy: 1.0000 - val_loss: 0.1816 - val_accuracy: 0.9468 - val_top-5-accuracy: 1.0000\n",
      "Epoch 96/100\n",
      "27/27 [==============================] - 18s 681ms/step - loss: 0.1008 - accuracy: 0.9668 - top-5-accuracy: 1.0000 - val_loss: 0.1593 - val_accuracy: 0.9415 - val_top-5-accuracy: 1.0000\n",
      "Epoch 97/100\n",
      "27/27 [==============================] - 18s 683ms/step - loss: 0.0750 - accuracy: 0.9739 - top-5-accuracy: 1.0000 - val_loss: 0.2272 - val_accuracy: 0.9362 - val_top-5-accuracy: 1.0000\n",
      "Epoch 98/100\n",
      "27/27 [==============================] - 18s 682ms/step - loss: 0.0839 - accuracy: 0.9710 - top-5-accuracy: 1.0000 - val_loss: 0.1104 - val_accuracy: 0.9628 - val_top-5-accuracy: 1.0000\n",
      "Epoch 99/100\n",
      "27/27 [==============================] - 18s 682ms/step - loss: 0.0898 - accuracy: 0.9674 - top-5-accuracy: 1.0000 - val_loss: 0.1240 - val_accuracy: 0.9628 - val_top-5-accuracy: 1.0000\n",
      "Epoch 100/100\n",
      "27/27 [==============================] - 18s 682ms/step - loss: 0.0827 - accuracy: 0.9692 - top-5-accuracy: 1.0000 - val_loss: 0.1371 - val_accuracy: 0.9734 - val_top-5-accuracy: 1.0000\n",
      "8/8 [==============================] - 2s 205ms/step - loss: 0.2482 - accuracy: 0.9275 - top-5-accuracy: 1.0000\n",
      "Test accuracy: 92.75%\n",
      "Test top 5 accuracy: 100.0%\n"
     ]
    },
    {
     "ename": "NameError",
     "evalue": "ignored",
     "output_type": "error",
     "traceback": [
      "\u001b[0;31m---------------------------------------------------------------------------\u001b[0m",
      "\u001b[0;31mNameError\u001b[0m                                 Traceback (most recent call last)",
      "\u001b[0;32m<ipython-input-132-30bc7ce9fd41>\u001b[0m in \u001b[0;36m<module>\u001b[0;34m()\u001b[0m\n\u001b[1;32m     86\u001b[0m \u001b[0;31m# Run experiments with the Shifted Patch Tokenization and\u001b[0m\u001b[0;34m\u001b[0m\u001b[0;34m\u001b[0m\u001b[0;34m\u001b[0m\u001b[0m\n\u001b[1;32m     87\u001b[0m \u001b[0;31m# Locality Self Attention modified ViT\u001b[0m\u001b[0;34m\u001b[0m\u001b[0;34m\u001b[0m\u001b[0;34m\u001b[0m\u001b[0m\n\u001b[0;32m---> 88\u001b[0;31m \u001b[0mvit_sl\u001b[0m \u001b[0;34m=\u001b[0m \u001b[0mcreate_vit_classifier\u001b[0m\u001b[0;34m(\u001b[0m\u001b[0mvanilla\u001b[0m\u001b[0;34m=\u001b[0m\u001b[0;32mFalse\u001b[0m\u001b[0;34m)\u001b[0m\u001b[0;34m\u001b[0m\u001b[0;34m\u001b[0m\u001b[0m\n\u001b[0m\u001b[1;32m     89\u001b[0m \u001b[0mhistory\u001b[0m \u001b[0;34m=\u001b[0m \u001b[0mrun_experiment\u001b[0m\u001b[0;34m(\u001b[0m\u001b[0mvit_sl\u001b[0m\u001b[0;34m)\u001b[0m\u001b[0;34m\u001b[0m\u001b[0;34m\u001b[0m\u001b[0m\n",
      "\u001b[0;32m<ipython-input-131-a479a304ecc6>\u001b[0m in \u001b[0;36mcreate_vit_classifier\u001b[0;34m(vanilla)\u001b[0m\n\u001b[1;32m     15\u001b[0m         \u001b[0;32mif\u001b[0m \u001b[0;32mnot\u001b[0m \u001b[0mvanilla\u001b[0m\u001b[0;34m:\u001b[0m\u001b[0;34m\u001b[0m\u001b[0;34m\u001b[0m\u001b[0m\n\u001b[1;32m     16\u001b[0m             attention_output = MultiHeadAttentionLSA(\n\u001b[0;32m---> 17\u001b[0;31m                 \u001b[0mnum_heads\u001b[0m\u001b[0;34m=\u001b[0m\u001b[0mNUM_HEADS\u001b[0m\u001b[0;34m,\u001b[0m \u001b[0mkey_dim\u001b[0m\u001b[0;34m=\u001b[0m\u001b[0mPROJECTION_DIM\u001b[0m\u001b[0;34m,\u001b[0m \u001b[0mdropout\u001b[0m\u001b[0;34m=\u001b[0m\u001b[0;36m0.1\u001b[0m\u001b[0;34m\u001b[0m\u001b[0;34m\u001b[0m\u001b[0m\n\u001b[0m\u001b[1;32m     18\u001b[0m             )(x1, x1, attention_mask=diag_attn_mask)\n\u001b[1;32m     19\u001b[0m         \u001b[0;32melse\u001b[0m\u001b[0;34m:\u001b[0m\u001b[0;34m\u001b[0m\u001b[0;34m\u001b[0m\u001b[0m\n",
      "\u001b[0;32m<ipython-input-129-e521391aa495>\u001b[0m in \u001b[0;36m__init__\u001b[0;34m(self, **kwargs)\u001b[0m\n\u001b[1;32m      4\u001b[0m         \u001b[0;31m# The trainable temperature term. The initial value is\u001b[0m\u001b[0;34m\u001b[0m\u001b[0;34m\u001b[0m\u001b[0;34m\u001b[0m\u001b[0m\n\u001b[1;32m      5\u001b[0m         \u001b[0;31m# the square root of the key dimension.\u001b[0m\u001b[0;34m\u001b[0m\u001b[0;34m\u001b[0m\u001b[0;34m\u001b[0m\u001b[0m\n\u001b[0;32m----> 6\u001b[0;31m         \u001b[0mself\u001b[0m\u001b[0;34m.\u001b[0m\u001b[0mtau\u001b[0m \u001b[0;34m=\u001b[0m \u001b[0mtf\u001b[0m\u001b[0;34m.\u001b[0m\u001b[0mVariable\u001b[0m\u001b[0;34m(\u001b[0m\u001b[0mmath\u001b[0m\u001b[0;34m.\u001b[0m\u001b[0msqrt\u001b[0m\u001b[0;34m(\u001b[0m\u001b[0mfloat\u001b[0m\u001b[0;34m(\u001b[0m\u001b[0mself\u001b[0m\u001b[0;34m.\u001b[0m\u001b[0m_key_dim\u001b[0m\u001b[0;34m)\u001b[0m\u001b[0;34m)\u001b[0m\u001b[0;34m,\u001b[0m \u001b[0mtrainable\u001b[0m\u001b[0;34m=\u001b[0m\u001b[0;32mTrue\u001b[0m\u001b[0;34m)\u001b[0m\u001b[0;34m\u001b[0m\u001b[0;34m\u001b[0m\u001b[0m\n\u001b[0m\u001b[1;32m      7\u001b[0m \u001b[0;34m\u001b[0m\u001b[0m\n\u001b[1;32m      8\u001b[0m     \u001b[0;32mdef\u001b[0m \u001b[0m_compute_attention\u001b[0m\u001b[0;34m(\u001b[0m\u001b[0mself\u001b[0m\u001b[0;34m,\u001b[0m \u001b[0mquery\u001b[0m\u001b[0;34m,\u001b[0m \u001b[0mkey\u001b[0m\u001b[0;34m,\u001b[0m \u001b[0mvalue\u001b[0m\u001b[0;34m,\u001b[0m \u001b[0mattention_mask\u001b[0m\u001b[0;34m=\u001b[0m\u001b[0;32mNone\u001b[0m\u001b[0;34m,\u001b[0m \u001b[0mtraining\u001b[0m\u001b[0;34m=\u001b[0m\u001b[0;32mNone\u001b[0m\u001b[0;34m)\u001b[0m\u001b[0;34m:\u001b[0m\u001b[0;34m\u001b[0m\u001b[0;34m\u001b[0m\u001b[0m\n",
      "\u001b[0;31mNameError\u001b[0m: name 'math' is not defined"
     ]
    }
   ],
   "source": [
    "# Some code is taken from:\n",
    "# https://www.kaggle.com/ashusma/training-rfcx-tensorflow-tpu-effnet-b2.\n",
    "class WarmUpCosine(keras.optimizers.schedules.LearningRateSchedule):\n",
    "    def __init__(\n",
    "        self, learning_rate_base, total_steps, warmup_learning_rate, warmup_steps\n",
    "    ):\n",
    "        super(WarmUpCosine, self).__init__()\n",
    "\n",
    "        self.learning_rate_base = learning_rate_base\n",
    "        self.total_steps = total_steps\n",
    "        self.warmup_learning_rate = warmup_learning_rate\n",
    "        self.warmup_steps = warmup_steps\n",
    "        self.pi = tf.constant(np.pi)\n",
    "\n",
    "    def __call__(self, step):\n",
    "        if self.total_steps < self.warmup_steps:\n",
    "            raise ValueError(\"Total_steps must be larger or equal to warmup_steps.\")\n",
    "\n",
    "        cos_annealed_lr = tf.cos(\n",
    "            self.pi\n",
    "            * (tf.cast(step, tf.float32) - self.warmup_steps)\n",
    "            / float(self.total_steps - self.warmup_steps)\n",
    "        )\n",
    "        learning_rate = 0.5 * self.learning_rate_base * (1 + cos_annealed_lr)\n",
    "\n",
    "        if self.warmup_steps > 0:\n",
    "            if self.learning_rate_base < self.warmup_learning_rate:\n",
    "                raise ValueError(\n",
    "                    \"Learning_rate_base must be larger or equal to \"\n",
    "                    \"warmup_learning_rate.\"\n",
    "                )\n",
    "            slope = (\n",
    "                self.learning_rate_base - self.warmup_learning_rate\n",
    "            ) / self.warmup_steps\n",
    "            warmup_rate = slope * tf.cast(step, tf.float32) + self.warmup_learning_rate\n",
    "            learning_rate = tf.where(\n",
    "                step < self.warmup_steps, warmup_rate, learning_rate\n",
    "            )\n",
    "        return tf.where(\n",
    "            step > self.total_steps, 0.0, learning_rate, name=\"learning_rate\"\n",
    "        )\n",
    "\n",
    "\n",
    "def run_experiment(model):\n",
    "    total_steps = int((len(x_train) / BATCH_SIZE) * EPOCHS)\n",
    "    warmup_epoch_percentage = 0.10\n",
    "    warmup_steps = int(total_steps * warmup_epoch_percentage)\n",
    "    scheduled_lrs = WarmUpCosine(\n",
    "        learning_rate_base=LEARNING_RATE,\n",
    "        total_steps=total_steps,\n",
    "        warmup_learning_rate=0.0,\n",
    "        warmup_steps=warmup_steps,\n",
    "    )\n",
    "\n",
    "    optimizer = tfa.optimizers.AdamW(\n",
    "        learning_rate=LEARNING_RATE, weight_decay=WEIGHT_DECAY\n",
    "    )\n",
    "\n",
    "    model.compile(\n",
    "        optimizer=optimizer,\n",
    "        loss=keras.losses.SparseCategoricalCrossentropy(from_logits=True),\n",
    "        metrics=[\n",
    "            keras.metrics.SparseCategoricalAccuracy(name=\"accuracy\"),\n",
    "            keras.metrics.SparseTopKCategoricalAccuracy(5, name=\"top-5-accuracy\"),\n",
    "        ],\n",
    "    )\n",
    "\n",
    "    history = model.fit(\n",
    "        x=x_train,\n",
    "        y=y_train,\n",
    "        batch_size=BATCH_SIZE,\n",
    "        epochs=EPOCHS,\n",
    "        validation_split=0.1,\n",
    "    )\n",
    "    _, accuracy, top_5_accuracy = model.evaluate(x_test, y_test, batch_size=BATCH_SIZE)\n",
    "    print(f\"Test accuracy: {round(accuracy * 100, 2)}%\")\n",
    "    print(f\"Test top 5 accuracy: {round(top_5_accuracy * 100, 2)}%\")\n",
    "\n",
    "    return history\n",
    "\n",
    "\n",
    "# Run experiments with the vanilla ViT\n",
    "vit = create_vit_classifier(vanilla=True)\n",
    "history = run_experiment(vit)\n",
    "\n",
    "# Run experiments with the Shifted Patch Tokenization and\n",
    "# Locality Self Attention modified ViT\n",
    "vit_sl = create_vit_classifier(vanilla=False)\n",
    "history = run_experiment(vit_sl)"
   ]
  },
  {
   "cell_type": "code",
   "execution_count": 133,
   "metadata": {
    "colab": {
     "base_uri": "https://localhost:8080/",
     "height": 295
    },
    "id": "y5HHKshKryFF",
    "outputId": "0b43cdcf-a19c-4f78-a5f3-b623d8a6ce27"
   },
   "outputs": [
    {
     "data": {
      "image/png": "[encoded data removed]",
      "text/plain": [
       "<Figure size 432x288 with 1 Axes>"
      ]
     },
     "metadata": {
      "needs_background": "light"
     },
     "output_type": "display_data"
    }
   ],
   "source": [
    "plt.plot(history.history['accuracy'])\n",
    "plt.plot(history.history['val_accuracy'])\n",
    "plt.title('ViT Model Train vs Validation Accuracy Curve')\n",
    "plt.ylabel('accuracy')\n",
    "plt.xlabel('epoch')\n",
    "plt.legend(['train', 'val'], loc='upper left')\n",
    "plt.show()"
   ]
  },
  {
   "cell_type": "code",
   "execution_count": 134,
   "metadata": {
    "colab": {
     "base_uri": "https://localhost:8080/",
     "height": 295
    },
    "id": "Sm-MPwp4r0To",
    "outputId": "f4858d2a-6b69-4661-d9c4-454ebed27516"
   },
   "outputs": [
    {
     "data": {
      "image/png": "[encoded data removed]",
      "text/plain": [
       "<Figure size 432x288 with 1 Axes>"
      ]
     },
     "metadata": {
      "needs_background": "light"
     },
     "output_type": "display_data"
    }
   ],
   "source": [
    "\n",
    "plt.plot(history.history['loss'])\n",
    "plt.plot(history.history['val_loss'])\n",
    "plt.title('ViT Model Train vs Validation Loss Curve')\n",
    "plt.ylabel('accuracy')\n",
    "plt.xlabel('epoch')\n",
    "plt.legend(['train', 'val'], loc='upper left')\n",
    "plt.show()"
   ]
  },
  {
   "cell_type": "code",
   "execution_count": 136,
   "metadata": {
    "colab": {
     "base_uri": "https://localhost:8080/",
     "height": 677
    },
    "id": "vhywHwRYr1jB",
    "outputId": "6da85cfc-f844-4189-acd0-53369f26b5f7"
   },
   "outputs": [
    {
     "name": "stderr",
     "output_type": "stream",
     "text": [
      "/usr/local/lib/python3.7/dist-packages/ipykernel_launcher.py:8: UserWarning: `Model.predict_generator` is deprecated and will be removed in a future version. Please use `Model.predict`, which supports generators.\n",
      "  \n"
     ]
    },
    {
     "name": "stdout",
     "output_type": "stream",
     "text": [
      "Confusion matrix, without normalization\n",
      "              precision    recall  f1-score   support\n",
      "\n",
      "           0       0.93      0.95      0.94       257\n",
      "           1       0.98      0.85      0.91       137\n",
      "           2       0.83      0.99      0.90        75\n",
      "\n",
      "    accuracy                           0.93       469\n",
      "   macro avg       0.92      0.93      0.92       469\n",
      "weighted avg       0.93      0.93      0.93       469\n",
      "\n"
     ]
    },
    {
     "data": {
      "image/png": "[encoded data removed]",
      "text/plain": [
       "<Figure size 432x432 with 2 Axes>"
      ]
     },
     "metadata": {
      "needs_background": "light"
     },
     "output_type": "display_data"
    }
   ],
   "source": [
    "from sklearn.metrics import plot_confusion_matrix\n",
    "from sklearn.metrics import ConfusionMatrixDisplay, confusion_matrix\n",
    "np.set_printoptions(precision=2)\n",
    "class_names = ['benign', 'malignant','normal']\n",
    "\n",
    "from sklearn.metrics import plot_confusion_matrix \n",
    "from sklearn.metrics import ConfusionMatrixDisplay\n",
    "Y_pred = vit.predict_generator(x_test)\n",
    "y_pred = np.argmax(Y_pred, axis=1)\n",
    "\n",
    "cm = confusion_matrix(y_test, y_pred)\n",
    "#plot_confusion_matrix(X = y_pred, y_true=y_test, labels = class_names, normalize=False)\n",
    "\n",
    "\n",
    "import matplotlib.pyplot as plt\n",
    "import itertools \n",
    "def plot_confusion_matrix(cm, classes, normalize=False, title='Confusion matrix', cmap=plt.cm.Blues):\n",
    "\n",
    "    \"\"\"\n",
    "\n",
    "    This function prints and plots the confusion matrix.\n",
    "\n",
    "    Normalization can be applied by setting `normalize=True`.\n",
    "\n",
    "    \"\"\"\n",
    "\n",
    "    plt.figure(figsize=(6,6))\n",
    "\n",
    "\n",
    "\n",
    "    plt.imshow(cm, interpolation='nearest', cmap=cmap)\n",
    "\n",
    "    plt.title(title)\n",
    "\n",
    "    plt.colorbar()\n",
    "\n",
    "\n",
    "\n",
    "    tick_marks = np.arange(len(classes))\n",
    "\n",
    "    plt.xticks(tick_marks, classes, rotation=45)\n",
    "\n",
    "    plt.yticks(tick_marks, classes)\n",
    "\n",
    "\n",
    "\n",
    "    if normalize:\n",
    "\n",
    "        cm = cm.astype('float') / cm.sum(axis=1)[:, np.newaxis]\n",
    "\n",
    "        cm = np.around(cm, decimals=2)\n",
    "\n",
    "        cm[np.isnan(cm)] = 0.0\n",
    "\n",
    "        print(\"Normalized confusion matrix\")\n",
    "\n",
    "    else:\n",
    "\n",
    "        print('Confusion matrix, without normalization')\n",
    "\n",
    "    thresh = cm.max() / 2.\n",
    "\n",
    "    for i, j in itertools.product(range(cm.shape[0]), range(cm.shape[1])):\n",
    "\n",
    "        plt.text(j, i, cm[i, j],\n",
    "\n",
    "                 horizontalalignment=\"center\",\n",
    "\n",
    "                 color=\"white\" if cm[i, j] > thresh else \"black\")\n",
    "\n",
    "    plt.tight_layout()\n",
    "\n",
    "    plt.ylabel('True label')\n",
    "\n",
    "    plt.xlabel('Predicted label')\n",
    "\n",
    "plot_confusion_matrix(cm, class_names)\n",
    "\n",
    "from sklearn.metrics import classification_report\n",
    "print(classification_report(y_test, y_pred))"
   ]
  },
  {
   "cell_type": "code",
   "execution_count": null,
   "metadata": {
    "colab": {
     "base_uri": "https://localhost:8080/"
    },
    "id": "t6DrxrSJr5B1",
    "outputId": "6e4d7ed0-02b4-4fa9-f332-8a1d7954b9a5"
   },
   "outputs": [
    {
     "name": "stdout",
     "output_type": "stream",
     "text": [
      "WARNING:tensorflow:Skipping full serialization of Keras layer <keras.layers.normalization.layer_normalization.LayerNormalization object at 0x7f213cde99d0>, because it is not built.\n"
     ]
    }
   ],
   "source": [
    "vit.save('/content/drive/MyDrive/FINAL CODE/VIT_US_NET')"
   ]
  },
  {
   "cell_type": "code",
   "execution_count": null,
   "metadata": {
    "id": "PvR_BhzwegaP"
   },
   "outputs": [],
   "source": []
  }
 ],
 "metadata": {
  "accelerator": "GPU",
  "colab": {
   "name": "Untitled21.ipynb",
   "provenance": []
  },
  "kernelspec": {
   "display_name": "Python 3 (ipykernel)",
   "language": "python",
   "name": "python3"
  },
  "language_info": {
   "codemirror_mode": {
    "name": "ipython",
    "version": 3
   },
   "file_extension": ".py",
   "mimetype": "text/x-python",
   "name": "python",
   "nbconvert_exporter": "python",
   "pygments_lexer": "ipython3",
   "version": "3.7.13"
  }
 },
 "nbformat": 4,
 "nbformat_minor": 1
}
