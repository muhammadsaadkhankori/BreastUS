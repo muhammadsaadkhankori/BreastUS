{
 "cells": [
  {
   "cell_type": "code",
   "execution_count": 1,
   "metadata": {
    "id": "xfTQgdUCDHdv"
   },
   "outputs": [],
   "source": [
    "# install tensorflow_addonsa \n",
    "#its require some finctionality that are not built in tensroflow thats why we have to used it using this package"
   ]
  },
  {
   "cell_type": "code",
   "execution_count": 3,
   "metadata": {
    "colab": {
     "base_uri": "https://localhost:8080/"
    },
    "id": "qsgKOSNfEYBO",
    "outputId": "8d457560-6217-48a3-b7e3-f367a1381c73"
   },
   "outputs": [
    {
     "name": "stdout",
     "output_type": "stream",
     "text": [
      "Collecting tensorflow-addons\n",
      "  Downloading tensorflow_addons-0.16.1-cp37-cp37m-manylinux_2_12_x86_64.manylinux2010_x86_64.whl (1.1 MB)\n",
      "\u001b[K     |████████████████████████████████| 1.1 MB 4.7 MB/s \n",
      "\u001b[?25hRequirement already satisfied: typeguard>=2.7 in /usr/local/lib/python3.7/dist-packages (from tensorflow-addons) (2.7.1)\n",
      "Installing collected packages: tensorflow-addons\n",
      "Successfully installed tensorflow-addons-0.16.1\n"
     ]
    }
   ],
   "source": [
    "!pip install -U tensorflow-addons"
   ]
  },
  {
   "cell_type": "code",
   "execution_count": 5,
   "metadata": {
    "id": "dEuYBFhfEoCC"
   },
   "outputs": [],
   "source": [
    "#Packages used in this study"
   ]
  },
  {
   "cell_type": "code",
   "execution_count": 6,
   "metadata": {
    "id": "Jxk-DWtlEYiN"
   },
   "outputs": [],
   "source": [
    "import tensorflow as tf\n",
    "from tensorflow import keras\n",
    "from keras.preprocessing.image import ImageDataGenerator\n",
    "from keras.models import Sequential\n",
    "import numpy as np\n",
    "import matplotlib.pyplot as plt\n",
    "import random\n",
    "from keras.layers import Conv2D, MaxPooling2D, Flatten, Dense\n",
    "from keras.models import Sequential\n",
    "import matplotlib.pyplot as plt\n",
    "from tensorflow import keras\n",
    "import tensorflow_addons as tfa\n",
    "from tensorflow.keras import layers\n",
    "import random,cv2,os,glob"
   ]
  },
  {
   "cell_type": "code",
   "execution_count": 7,
   "metadata": {
    "id": "XWJKHoiNEkjL"
   },
   "outputs": [],
   "source": [
    "path =\"/content/drive/MyDrive/Augmentation/*\"\n",
    "data_paths = os.path.join(path,'*g')\n",
    "imagePaths = glob.glob(data_paths)"
   ]
  },
  {
   "cell_type": "code",
   "execution_count": 8,
   "metadata": {
    "colab": {
     "base_uri": "https://localhost:8080/"
    },
    "id": "4rfsrUs5EumZ",
    "outputId": "c11bf104-651a-4478-cc52-ab77af581f51"
   },
   "outputs": [
    {
     "data": {
      "text/plain": [
       "2344"
      ]
     },
     "execution_count": 8,
     "metadata": {},
     "output_type": "execute_result"
    }
   ],
   "source": [
    "len(imagePaths)"
   ]
  },
  {
   "cell_type": "code",
   "execution_count": 9,
   "metadata": {
    "id": "DnB2H9hgEvxh"
   },
   "outputs": [],
   "source": [
    "labels=[]\n",
    "images=[]\n",
    "for imgpath in imagePaths:\n",
    "    img=cv2.imread(imgpath)\n",
    "    img=cv2.resize(img,(224,224))\n",
    "    images.append(img)\n",
    "    label= imgpath.split(os.path.sep)[-2].split(\"_\")\n",
    "    labels.append(label)"
   ]
  },
  {
   "cell_type": "code",
   "execution_count": 10,
   "metadata": {
    "id": "dx2aR-TYExkL"
   },
   "outputs": [],
   "source": [
    "images=np.array(images)\n",
    "labels=np.array(labels)"
   ]
  },
  {
   "cell_type": "code",
   "execution_count": 11,
   "metadata": {
    "colab": {
     "base_uri": "https://localhost:8080/"
    },
    "id": "tYDYZJwWEy_R",
    "outputId": "3820226e-a097-43f4-c7dd-31e284103ba6"
   },
   "outputs": [
    {
     "name": "stderr",
     "output_type": "stream",
     "text": [
      "/usr/local/lib/python3.7/dist-packages/sklearn/preprocessing/_label.py:115: DataConversionWarning: A column-vector y was passed when a 1d array was expected. Please change the shape of y to (n_samples, ), for example using ravel().\n",
      "  y = column_or_1d(y, warn=True)\n"
     ]
    }
   ],
   "source": [
    "from sklearn.preprocessing import LabelEncoder\n",
    "label_encoder = LabelEncoder()\n",
    "labels = label_encoder.fit_transform(labels)"
   ]
  },
  {
   "cell_type": "code",
   "execution_count": 12,
   "metadata": {
    "id": "aNLqy-qWE0L8"
   },
   "outputs": [],
   "source": [
    "from sklearn.model_selection import train_test_split\n",
    "x_train,x_test,y_train,y_test = train_test_split(images,labels,test_size=.2,random_state=20)\n",
    "NUM_CLASSES = 3\n",
    "INPUT_SHAPE = (224, 224, 3)"
   ]
  },
  {
   "cell_type": "code",
   "execution_count": 39,
   "metadata": {
    "id": "bIsnFypJE1nZ"
   },
   "outputs": [],
   "source": [
    "# DATA\n",
    "BUFFER_SIZE = 512\n",
    "BATCH_SIZE = 64\n",
    "\n",
    "# AUGMENTATION\n",
    "IMAGE_SIZE = 100\n",
    "PATCH_SIZE = 10\n",
    "NUM_PATCHES = (IMAGE_SIZE // PATCH_SIZE) ** 2\n",
    "\n",
    "# OPTIMIZER\n",
    "LEARNING_RATE = 0.0003\n",
    "WEIGHT_DECAY = 0.0001\n",
    "\n",
    "# TRAINING\n",
    "EPOCHS = 100\n",
    "\n",
    "# ARCHITECTURE\n",
    "LAYER_NORM_EPS = 1e-6\n",
    "TRANSFORMER_LAYERS = 12\n",
    "PROJECTION_DIM = 64\n",
    "NUM_HEADS = 4\n",
    "TRANSFORMER_UNITS = [\n",
    "    PROJECTION_DIM * 2,\n",
    "    PROJECTION_DIM,\n",
    "]\n",
    "MLP_HEAD_UNITS = [2048, 1024]"
   ]
  },
  {
   "cell_type": "code",
   "execution_count": 40,
   "metadata": {
    "id": "hxEl1N2tE4G4"
   },
   "outputs": [],
   "source": [
    "data_augmentation = keras.Sequential(\n",
    "    [\n",
    "        layers.Normalization(),\n",
    "        layers.Resizing(IMAGE_SIZE, IMAGE_SIZE),\n",
    "        layers.RandomFlip(\"horizontal\"),\n",
    "        layers.RandomRotation(factor=0.02),\n",
    "        layers.RandomZoom(height_factor=0.2, width_factor=0.2),\n",
    "    ],\n",
    "    name=\"data_augmentation\",\n",
    ")\n",
    "# Compute the mean and the variance of the training data for normalization.\n",
    "data_augmentation.layers[0].adapt(x_train)"
   ]
  },
  {
   "cell_type": "code",
   "execution_count": 41,
   "metadata": {
    "id": "jUdx5LRUFS7P"
   },
   "outputs": [],
   "source": [
    "class ShiftedPatchTokenization(layers.Layer):\n",
    "    def __init__(\n",
    "        self,\n",
    "        image_size=IMAGE_SIZE,\n",
    "        patch_size=PATCH_SIZE,\n",
    "        num_patches=NUM_PATCHES,\n",
    "        projection_dim=PROJECTION_DIM,\n",
    "        vanilla=False,\n",
    "        **kwargs,\n",
    "    ):\n",
    "        super().__init__(**kwargs)\n",
    "        self.vanilla = vanilla  # Flag to swtich to vanilla patch extractor\n",
    "        self.image_size = image_size\n",
    "        self.patch_size = patch_size\n",
    "        self.half_patch = patch_size // 2\n",
    "        self.flatten_patches = layers.Reshape((num_patches, -1))\n",
    "        self.projection = layers.Dense(units=projection_dim)\n",
    "        self.layer_norm = layers.LayerNormalization(epsilon=LAYER_NORM_EPS)\n",
    "\n",
    "    def crop_shift_pad(self, images, mode):\n",
    "        # Build the diagonally shifted images\n",
    "        if mode == \"left-up\":\n",
    "            crop_height = self.half_patch\n",
    "            crop_width = self.half_patch\n",
    "            shift_height = 0\n",
    "            shift_width = 0\n",
    "        elif mode == \"left-down\":\n",
    "            crop_height = 0\n",
    "            crop_width = self.half_patch\n",
    "            shift_height = self.half_patch\n",
    "            shift_width = 0\n",
    "        elif mode == \"right-up\":\n",
    "            crop_height = self.half_patch\n",
    "            crop_width = 0\n",
    "            shift_height = 0\n",
    "            shift_width = self.half_patch\n",
    "        else:\n",
    "            crop_height = 0\n",
    "            crop_width = 0\n",
    "            shift_height = self.half_patch\n",
    "            shift_width = self.half_patch\n",
    "\n",
    "        # Crop the shifted images and pad them\n",
    "        crop = tf.image.crop_to_bounding_box(\n",
    "            images,\n",
    "            offset_height=crop_height,\n",
    "            offset_width=crop_width,\n",
    "            target_height=self.image_size - self.half_patch,\n",
    "            target_width=self.image_size - self.half_patch,\n",
    "        )\n",
    "        shift_pad = tf.image.pad_to_bounding_box(\n",
    "            crop,\n",
    "            offset_height=shift_height,\n",
    "            offset_width=shift_width,\n",
    "            target_height=self.image_size,\n",
    "            target_width=self.image_size,\n",
    "        )\n",
    "        return shift_pad\n",
    "\n",
    "    def call(self, images):\n",
    "        if not self.vanilla:\n",
    "            # Concat the shifted images with the original image\n",
    "            images = tf.concat(\n",
    "                [\n",
    "                    images,\n",
    "                    self.crop_shift_pad(images, mode=\"left-up\"),\n",
    "                    self.crop_shift_pad(images, mode=\"left-down\"),\n",
    "                    self.crop_shift_pad(images, mode=\"right-up\"),\n",
    "                    self.crop_shift_pad(images, mode=\"right-down\"),\n",
    "                ],\n",
    "                axis=-1,\n",
    "            )\n",
    "        # Patchify the images and flatten it\n",
    "        patches = tf.image.extract_patches(\n",
    "            images=images,\n",
    "            sizes=[1, self.patch_size, self.patch_size, 1],\n",
    "            strides=[1, self.patch_size, self.patch_size, 1],\n",
    "            rates=[1, 1, 1, 1],\n",
    "            padding=\"VALID\",\n",
    "        )\n",
    "        flat_patches = self.flatten_patches(patches)\n",
    "        if not self.vanilla:\n",
    "            # Layer normalize the flat patches and linearly project it\n",
    "            tokens = self.layer_norm(flat_patches)\n",
    "            tokens = self.projection(tokens)\n",
    "        else:\n",
    "            # Linearly project the flat patches\n",
    "            tokens = self.projection(flat_patches)\n",
    "        return (tokens, patches)"
   ]
  },
  {
   "cell_type": "code",
   "execution_count": 42,
   "metadata": {
    "colab": {
     "base_uri": "https://localhost:8080/",
     "height": 495
    },
    "id": "plOkpXVzFUFK",
    "outputId": "66a33a0b-9fac-4612-a2a9-4af5d924689f"
   },
   "outputs": [
    {
     "data": {
      "image/png": "[encoded data removed]",
      "text/plain": [
       "<Figure size 288x288 with 100 Axes>"
      ]
     },
     "metadata": {
      "needs_background": "light"
     },
     "output_type": "display_data"
    },
    {
     "name": "stdout",
     "output_type": "stream",
     "text": [
      "ORIGINAL\n"
     ]
    },
    {
     "data": {
      "image/png": "[encoded data removed]",
      "text/plain": [
       "<Figure size 288x288 with 10 Axes>"
      ]
     },
     "metadata": {
      "needs_background": "light"
     },
     "output_type": "display_data"
    },
    {
     "name": "stdout",
     "output_type": "stream",
     "text": [
      "LEFT-UP\n"
     ]
    },
    {
     "data": {
      "image/png": "[encoded data removed]",
      "text/plain": [
       "<Figure size 288x288 with 10 Axes>"
      ]
     },
     "metadata": {
      "needs_background": "light"
     },
     "output_type": "display_data"
    },
    {
     "name": "stdout",
     "output_type": "stream",
     "text": [
      "LEFT-DOWN\n"
     ]
    },
    {
     "data": {
      "image/png": "[encoded data removed]",
      "text/plain": [
       "<Figure size 288x288 with 10 Axes>"
      ]
     },
     "metadata": {
      "needs_background": "light"
     },
     "output_type": "display_data"
    },
    {
     "name": "stdout",
     "output_type": "stream",
     "text": [
      "RIGHT-UP\n"
     ]
    },
    {
     "data": {
      "image/png": "[encoded data removed]",
      "text/plain": [
       "<Figure size 288x288 with 10 Axes>"
      ]
     },
     "metadata": {
      "needs_background": "light"
     },
     "output_type": "display_data"
    },
    {
     "name": "stdout",
     "output_type": "stream",
     "text": [
      "RIGHT-DOWN\n"
     ]
    },
    {
     "data": {
      "image/png": "[encoded data removed]",
      "text/plain": [
       "<Figure size 288x288 with 10 Axes>"
      ]
     },
     "metadata": {
      "needs_background": "light"
     },
     "output_type": "display_data"
    }
   ],
   "source": [
    "# Get a random image from the training dataset\n",
    "# and resize the image\n",
    "image = x_train[np.random.choice(range(x_train.shape[0]))]\n",
    "resized_image = tf.image.resize(\n",
    "    tf.convert_to_tensor([image]), size=(IMAGE_SIZE, IMAGE_SIZE)\n",
    ")\n",
    "\n",
    "# Vanilla patch maker: This takes an image and divides into\n",
    "# patches as in the original ViT paper\n",
    "(token, patch) = ShiftedPatchTokenization(vanilla=True)(resized_image / 255.0)\n",
    "(token, patch) = (token[0], patch[0])\n",
    "n = patch.shape[0]\n",
    "count = 1\n",
    "plt.figure(figsize=(4, 4))\n",
    "for row in range(n):\n",
    "    for col in range(n):\n",
    "        plt.subplot(n, n, count)\n",
    "        count = count + 1\n",
    "        image = tf.reshape(patch[row][col], (PATCH_SIZE, PATCH_SIZE, 3))\n",
    "        plt.imshow(image)\n",
    "        plt.axis(\"off\")\n",
    "plt.show()\n",
    "\n",
    "# Shifted Patch Tokenization: This layer takes the image, shifts it\n",
    "# diagonally and then extracts patches from the concatinated images\n",
    "(token, patch) = ShiftedPatchTokenization(vanilla=False)(resized_image / 255.0)\n",
    "(token, patch) = (token[0], patch[0])\n",
    "n = patch.shape[0]\n",
    "shifted_images = [\"ORIGINAL\", \"LEFT-UP\", \"LEFT-DOWN\", \"RIGHT-UP\", \"RIGHT-DOWN\"]\n",
    "for index, name in enumerate(shifted_images):\n",
    "    print(name)\n",
    "    count = 1\n",
    "    plt.figure(figsize=(4, 4))\n",
    "    for row in range(n):\n",
    "        for col in range(n):\n",
    "            plt.subplot(n, n, count)\n",
    "            count = count + 1\n",
    "            image = tf.reshape(patch[row][col], (PATCH_SIZE, PATCH_SIZE, 5 * 3))\n",
    "            plt.imshow(image[..., 3 * index : 3 * index + 3])\n",
    "            plt.axis(\"off\")\n",
    "            break\n",
    "    plt.show()"
   ]
  },
  {
   "cell_type": "code",
   "execution_count": 43,
   "metadata": {
    "id": "tMlnbWvXFWIf"
   },
   "outputs": [],
   "source": [
    "class PatchEncoder(layers.Layer):\n",
    "    def __init__(\n",
    "        self, num_patches=NUM_PATCHES, projection_dim=PROJECTION_DIM, **kwargs\n",
    "    ):\n",
    "        super().__init__(**kwargs)\n",
    "        self.num_patches = num_patches\n",
    "        self.position_embedding = layers.Embedding(\n",
    "            input_dim=num_patches, output_dim=projection_dim\n",
    "        )\n",
    "        self.positions = tf.range(start=0, limit=self.num_patches, delta=1)\n",
    "\n",
    "    def call(self, encoded_patches):\n",
    "        encoded_positions = self.position_embedding(self.positions)\n",
    "        encoded_patches = encoded_patches + encoded_positions\n",
    "        return encoded_patches"
   ]
  },
  {
   "cell_type": "code",
   "execution_count": 44,
   "metadata": {
    "id": "U5kL7Pg0FXbm"
   },
   "outputs": [],
   "source": [
    "class MultiHeadAttentionLSA(tf.keras.layers.MultiHeadAttention):\n",
    "    def __init__(self, **kwargs):\n",
    "        super().__init__(**kwargs)\n",
    "        # The trainable temperature term. The initial value is\n",
    "        # the square root of the key dimension.\n",
    "        self.tau = tf.Variable(math.sqrt(float(self._key_dim)), trainable=True)\n",
    "\n",
    "    def _compute_attention(self, query, key, value, attention_mask=None, training=None):\n",
    "        query = tf.multiply(query, 1.0 / self.tau)\n",
    "        attention_scores = tf.einsum(self._dot_product_equation, key, query)\n",
    "        attention_scores = self._masked_softmax(attention_scores, attention_mask)\n",
    "        attention_scores_dropout = self._dropout_layer(\n",
    "            attention_scores, training=training\n",
    "        )\n",
    "        attention_output = tf.einsum(\n",
    "            self._combine_equation, attention_scores_dropout, value\n",
    "        )\n",
    "        return attention_output, attention_scores"
   ]
  },
  {
   "cell_type": "code",
   "execution_count": 45,
   "metadata": {
    "id": "QL6pexFEFYkZ"
   },
   "outputs": [],
   "source": [
    "def mlp(x, hidden_units, dropout_rate):\n",
    "    for units in hidden_units:\n",
    "        x = layers.Dense(units, activation=tf.nn.gelu)(x)\n",
    "        x = layers.Dropout(dropout_rate)(x)\n",
    "    return x\n",
    "\n",
    "\n",
    "# Build the diagonal attention mask\n",
    "diag_attn_mask = 1 - tf.eye(NUM_PATCHES)\n",
    "diag_attn_mask = tf.cast([diag_attn_mask], dtype=tf.int8)"
   ]
  },
  {
   "cell_type": "code",
   "execution_count": 46,
   "metadata": {
    "id": "rMzl3Yb2FaZD"
   },
   "outputs": [],
   "source": [
    "def create_vit_classifier(vanilla=False):\n",
    "    inputs = layers.Input(shape=INPUT_SHAPE)\n",
    "    # Augment data.\n",
    "    augmented = data_augmentation(inputs)\n",
    "    # Create patches.\n",
    "    (tokens, _) = ShiftedPatchTokenization(vanilla=vanilla)(augmented)\n",
    "    # Encode patches.\n",
    "    encoded_patches = PatchEncoder()(tokens)\n",
    "\n",
    "    # Create multiple layers of the Transformer block.\n",
    "    for _ in range(TRANSFORMER_LAYERS):\n",
    "        # Layer normalization 1.\n",
    "        x1 = layers.LayerNormalization(epsilon=1e-6)(encoded_patches)\n",
    "        # Create a multi-head attention layer.\n",
    "        if not vanilla:\n",
    "            attention_output = MultiHeadAttentionLSA(\n",
    "                num_heads=NUM_HEADS, key_dim=PROJECTION_DIM, dropout=0.1\n",
    "            )(x1, x1, attention_mask=diag_attn_mask)\n",
    "        else:\n",
    "            attention_output = layers.MultiHeadAttention(\n",
    "                num_heads=NUM_HEADS, key_dim=PROJECTION_DIM, dropout=0.1\n",
    "            )(x1, x1)\n",
    "        # Skip connection 1.\n",
    "        x2 = layers.Add()([attention_output, encoded_patches])\n",
    "        # Layer normalization 2.\n",
    "        x3 = layers.LayerNormalization(epsilon=1e-6)(x2)\n",
    "        # MLP.\n",
    "        x3 = mlp(x3, hidden_units=TRANSFORMER_UNITS, dropout_rate=0.1)\n",
    "        # Skip connection 2.\n",
    "        encoded_patches = layers.Add()([x3, x2])\n",
    "\n",
    "    # Create a [batch_size, projection_dim] tensor.\n",
    "    representation = layers.LayerNormalization(epsilon=1e-6)(encoded_patches)\n",
    "    representation = layers.Flatten()(representation)\n",
    "    representation = layers.Dropout(0.5)(representation)\n",
    "    # Add MLP.\n",
    "    features = mlp(representation, hidden_units=MLP_HEAD_UNITS, dropout_rate=0.5)\n",
    "    # Classify outputs.\n",
    "    logits = layers.Dense(NUM_CLASSES)(features)\n",
    "    # Create the Keras model.\n",
    "    model = keras.Model(inputs=inputs, outputs=logits)\n",
    "    return model"
   ]
  },
  {
   "cell_type": "code",
   "execution_count": 47,
   "metadata": {
    "colab": {
     "base_uri": "https://localhost:8080/"
    },
    "id": "MPa1lMP6FsVX",
    "outputId": "4d1206a9-5537-42a4-ef8c-795375f20484"
   },
   "outputs": [
    {
     "name": "stdout",
     "output_type": "stream",
     "text": [
      "Epoch 1/100\n",
      "24/24 [==============================] - 18s 187ms/step - loss: 2.1371 - accuracy: 0.4387 - top-5-accuracy: 1.0000 - val_loss: 1.2707 - val_accuracy: 0.4320 - val_top-5-accuracy: 1.0000\n",
      "Epoch 2/100\n",
      "24/24 [==============================] - 3s 116ms/step - loss: 1.4891 - accuracy: 0.4967 - top-5-accuracy: 1.0000 - val_loss: 0.9764 - val_accuracy: 0.4960 - val_top-5-accuracy: 1.0000\n",
      "Epoch 3/100\n",
      "24/24 [==============================] - 3s 116ms/step - loss: 1.2478 - accuracy: 0.5100 - top-5-accuracy: 1.0000 - val_loss: 0.9726 - val_accuracy: 0.5067 - val_top-5-accuracy: 1.0000\n",
      "Epoch 4/100\n",
      "24/24 [==============================] - 3s 117ms/step - loss: 1.1306 - accuracy: 0.5227 - top-5-accuracy: 1.0000 - val_loss: 0.8917 - val_accuracy: 0.5947 - val_top-5-accuracy: 1.0000\n",
      "Epoch 5/100\n",
      "24/24 [==============================] - 3s 117ms/step - loss: 1.0464 - accuracy: 0.5413 - top-5-accuracy: 1.0000 - val_loss: 0.9170 - val_accuracy: 0.5333 - val_top-5-accuracy: 1.0000\n",
      "Epoch 6/100\n",
      "24/24 [==============================] - 3s 117ms/step - loss: 1.0298 - accuracy: 0.5360 - top-5-accuracy: 1.0000 - val_loss: 0.9247 - val_accuracy: 0.5093 - val_top-5-accuracy: 1.0000\n",
      "Epoch 7/100\n",
      "24/24 [==============================] - 3s 118ms/step - loss: 0.9968 - accuracy: 0.5400 - top-5-accuracy: 1.0000 - val_loss: 0.8841 - val_accuracy: 0.6027 - val_top-5-accuracy: 1.0000\n",
      "Epoch 8/100\n",
      "24/24 [==============================] - 3s 118ms/step - loss: 0.9390 - accuracy: 0.5700 - top-5-accuracy: 1.0000 - val_loss: 0.9067 - val_accuracy: 0.5173 - val_top-5-accuracy: 1.0000\n",
      "Epoch 9/100\n",
      "24/24 [==============================] - 3s 120ms/step - loss: 0.9425 - accuracy: 0.5593 - top-5-accuracy: 1.0000 - val_loss: 0.8554 - val_accuracy: 0.5947 - val_top-5-accuracy: 1.0000\n",
      "Epoch 10/100\n",
      "24/24 [==============================] - 3s 123ms/step - loss: 0.8881 - accuracy: 0.5867 - top-5-accuracy: 1.0000 - val_loss: 0.8343 - val_accuracy: 0.6240 - val_top-5-accuracy: 1.0000\n",
      "Epoch 11/100\n",
      "24/24 [==============================] - 3s 119ms/step - loss: 0.9175 - accuracy: 0.5720 - top-5-accuracy: 1.0000 - val_loss: 0.8505 - val_accuracy: 0.6747 - val_top-5-accuracy: 1.0000\n",
      "Epoch 12/100\n",
      "24/24 [==============================] - 3s 118ms/step - loss: 0.8854 - accuracy: 0.5947 - top-5-accuracy: 1.0000 - val_loss: 0.8357 - val_accuracy: 0.6347 - val_top-5-accuracy: 1.0000\n",
      "Epoch 13/100\n",
      "24/24 [==============================] - 3s 118ms/step - loss: 0.8381 - accuracy: 0.6027 - top-5-accuracy: 1.0000 - val_loss: 0.8132 - val_accuracy: 0.6400 - val_top-5-accuracy: 1.0000\n",
      "Epoch 14/100\n",
      "24/24 [==============================] - 3s 119ms/step - loss: 0.8481 - accuracy: 0.5967 - top-5-accuracy: 1.0000 - val_loss: 0.8614 - val_accuracy: 0.5653 - val_top-5-accuracy: 1.0000\n",
      "Epoch 15/100\n",
      "24/24 [==============================] - 3s 118ms/step - loss: 0.8287 - accuracy: 0.6173 - top-5-accuracy: 1.0000 - val_loss: 0.8479 - val_accuracy: 0.5733 - val_top-5-accuracy: 1.0000\n",
      "Epoch 16/100\n",
      "24/24 [==============================] - 3s 118ms/step - loss: 0.8196 - accuracy: 0.6200 - top-5-accuracy: 1.0000 - val_loss: 0.7794 - val_accuracy: 0.6773 - val_top-5-accuracy: 1.0000\n",
      "Epoch 17/100\n",
      "24/24 [==============================] - 3s 118ms/step - loss: 0.8167 - accuracy: 0.6080 - top-5-accuracy: 1.0000 - val_loss: 0.7901 - val_accuracy: 0.6587 - val_top-5-accuracy: 1.0000\n",
      "Epoch 18/100\n",
      "24/24 [==============================] - 3s 119ms/step - loss: 0.7999 - accuracy: 0.6253 - top-5-accuracy: 1.0000 - val_loss: 0.7773 - val_accuracy: 0.6773 - val_top-5-accuracy: 1.0000\n",
      "Epoch 19/100\n",
      "24/24 [==============================] - 3s 119ms/step - loss: 0.7650 - accuracy: 0.6627 - top-5-accuracy: 1.0000 - val_loss: 0.7871 - val_accuracy: 0.6240 - val_top-5-accuracy: 1.0000\n",
      "Epoch 20/100\n",
      "24/24 [==============================] - 3s 119ms/step - loss: 0.7685 - accuracy: 0.6260 - top-5-accuracy: 1.0000 - val_loss: 0.7648 - val_accuracy: 0.6293 - val_top-5-accuracy: 1.0000\n",
      "Epoch 21/100\n",
      "24/24 [==============================] - 3s 117ms/step - loss: 0.7543 - accuracy: 0.6460 - top-5-accuracy: 1.0000 - val_loss: 0.7549 - val_accuracy: 0.6853 - val_top-5-accuracy: 1.0000\n",
      "Epoch 22/100\n",
      "24/24 [==============================] - 3s 119ms/step - loss: 0.7374 - accuracy: 0.6693 - top-5-accuracy: 1.0000 - val_loss: 0.7525 - val_accuracy: 0.6693 - val_top-5-accuracy: 1.0000\n",
      "Epoch 23/100\n",
      "24/24 [==============================] - 3s 118ms/step - loss: 0.7520 - accuracy: 0.6673 - top-5-accuracy: 1.0000 - val_loss: 0.7341 - val_accuracy: 0.7093 - val_top-5-accuracy: 1.0000\n",
      "Epoch 24/100\n",
      "24/24 [==============================] - 3s 118ms/step - loss: 0.7211 - accuracy: 0.6753 - top-5-accuracy: 1.0000 - val_loss: 0.7218 - val_accuracy: 0.7067 - val_top-5-accuracy: 1.0000\n",
      "Epoch 25/100\n",
      "24/24 [==============================] - 3s 117ms/step - loss: 0.6809 - accuracy: 0.6887 - top-5-accuracy: 1.0000 - val_loss: 0.7065 - val_accuracy: 0.6667 - val_top-5-accuracy: 1.0000\n",
      "Epoch 26/100\n",
      "24/24 [==============================] - 3s 118ms/step - loss: 0.6801 - accuracy: 0.6987 - top-5-accuracy: 1.0000 - val_loss: 0.7392 - val_accuracy: 0.6613 - val_top-5-accuracy: 1.0000\n",
      "Epoch 27/100\n",
      "24/24 [==============================] - 3s 119ms/step - loss: 0.6987 - accuracy: 0.6727 - top-5-accuracy: 1.0000 - val_loss: 0.6683 - val_accuracy: 0.7227 - val_top-5-accuracy: 1.0000\n",
      "Epoch 28/100\n",
      "24/24 [==============================] - 3s 118ms/step - loss: 0.6208 - accuracy: 0.7227 - top-5-accuracy: 1.0000 - val_loss: 0.6339 - val_accuracy: 0.7413 - val_top-5-accuracy: 1.0000\n",
      "Epoch 29/100\n",
      "24/24 [==============================] - 3s 117ms/step - loss: 0.6469 - accuracy: 0.7033 - top-5-accuracy: 1.0000 - val_loss: 0.6209 - val_accuracy: 0.7440 - val_top-5-accuracy: 1.0000\n",
      "Epoch 30/100\n",
      "24/24 [==============================] - 3s 118ms/step - loss: 0.6429 - accuracy: 0.7120 - top-5-accuracy: 1.0000 - val_loss: 0.6369 - val_accuracy: 0.7467 - val_top-5-accuracy: 1.0000\n",
      "Epoch 31/100\n",
      "24/24 [==============================] - 3s 119ms/step - loss: 0.6435 - accuracy: 0.7113 - top-5-accuracy: 1.0000 - val_loss: 0.6036 - val_accuracy: 0.7867 - val_top-5-accuracy: 1.0000\n",
      "Epoch 32/100\n",
      "24/24 [==============================] - 3s 118ms/step - loss: 0.6141 - accuracy: 0.7247 - top-5-accuracy: 1.0000 - val_loss: 0.5990 - val_accuracy: 0.7707 - val_top-5-accuracy: 1.0000\n",
      "Epoch 33/100\n",
      "24/24 [==============================] - 3s 118ms/step - loss: 0.5611 - accuracy: 0.7407 - top-5-accuracy: 1.0000 - val_loss: 0.5904 - val_accuracy: 0.7787 - val_top-5-accuracy: 1.0000\n",
      "Epoch 34/100\n",
      "24/24 [==============================] - 3s 118ms/step - loss: 0.5921 - accuracy: 0.7407 - top-5-accuracy: 1.0000 - val_loss: 0.5870 - val_accuracy: 0.7627 - val_top-5-accuracy: 1.0000\n",
      "Epoch 35/100\n",
      "24/24 [==============================] - 3s 118ms/step - loss: 0.5792 - accuracy: 0.7447 - top-5-accuracy: 1.0000 - val_loss: 0.5835 - val_accuracy: 0.7493 - val_top-5-accuracy: 1.0000\n",
      "Epoch 36/100\n",
      "24/24 [==============================] - 3s 118ms/step - loss: 0.5828 - accuracy: 0.7587 - top-5-accuracy: 1.0000 - val_loss: 0.5515 - val_accuracy: 0.7867 - val_top-5-accuracy: 1.0000\n",
      "Epoch 37/100\n",
      "24/24 [==============================] - 3s 118ms/step - loss: 0.5465 - accuracy: 0.7740 - top-5-accuracy: 1.0000 - val_loss: 0.5363 - val_accuracy: 0.7733 - val_top-5-accuracy: 1.0000\n",
      "Epoch 38/100\n",
      "24/24 [==============================] - 3s 118ms/step - loss: 0.5172 - accuracy: 0.7660 - top-5-accuracy: 1.0000 - val_loss: 0.5271 - val_accuracy: 0.7840 - val_top-5-accuracy: 1.0000\n",
      "Epoch 39/100\n",
      "24/24 [==============================] - 3s 118ms/step - loss: 0.5289 - accuracy: 0.7800 - top-5-accuracy: 1.0000 - val_loss: 0.4995 - val_accuracy: 0.8133 - val_top-5-accuracy: 1.0000\n",
      "Epoch 40/100\n",
      "24/24 [==============================] - 3s 118ms/step - loss: 0.5433 - accuracy: 0.7600 - top-5-accuracy: 1.0000 - val_loss: 0.5490 - val_accuracy: 0.7707 - val_top-5-accuracy: 1.0000\n",
      "Epoch 41/100\n",
      "24/24 [==============================] - 3s 119ms/step - loss: 0.5263 - accuracy: 0.7680 - top-5-accuracy: 1.0000 - val_loss: 0.5210 - val_accuracy: 0.7867 - val_top-5-accuracy: 1.0000\n",
      "Epoch 42/100\n",
      "24/24 [==============================] - 3s 118ms/step - loss: 0.4956 - accuracy: 0.7993 - top-5-accuracy: 1.0000 - val_loss: 0.5292 - val_accuracy: 0.8160 - val_top-5-accuracy: 1.0000\n",
      "Epoch 43/100\n",
      "24/24 [==============================] - 3s 118ms/step - loss: 0.4928 - accuracy: 0.7867 - top-5-accuracy: 1.0000 - val_loss: 0.5186 - val_accuracy: 0.7893 - val_top-5-accuracy: 1.0000\n",
      "Epoch 44/100\n",
      "24/24 [==============================] - 3s 120ms/step - loss: 0.4604 - accuracy: 0.8000 - top-5-accuracy: 1.0000 - val_loss: 0.4613 - val_accuracy: 0.8133 - val_top-5-accuracy: 1.0000\n",
      "Epoch 45/100\n",
      "24/24 [==============================] - 3s 118ms/step - loss: 0.4412 - accuracy: 0.8033 - top-5-accuracy: 1.0000 - val_loss: 0.4975 - val_accuracy: 0.8107 - val_top-5-accuracy: 1.0000\n",
      "Epoch 46/100\n",
      "24/24 [==============================] - 3s 119ms/step - loss: 0.4449 - accuracy: 0.8087 - top-5-accuracy: 1.0000 - val_loss: 0.4609 - val_accuracy: 0.8187 - val_top-5-accuracy: 1.0000\n",
      "Epoch 47/100\n",
      "24/24 [==============================] - 3s 117ms/step - loss: 0.4087 - accuracy: 0.8273 - top-5-accuracy: 1.0000 - val_loss: 0.4628 - val_accuracy: 0.8240 - val_top-5-accuracy: 1.0000\n",
      "Epoch 48/100\n",
      "24/24 [==============================] - 3s 119ms/step - loss: 0.4703 - accuracy: 0.8020 - top-5-accuracy: 1.0000 - val_loss: 0.4702 - val_accuracy: 0.8320 - val_top-5-accuracy: 1.0000\n",
      "Epoch 49/100\n",
      "24/24 [==============================] - 3s 118ms/step - loss: 0.4008 - accuracy: 0.8367 - top-5-accuracy: 1.0000 - val_loss: 0.4453 - val_accuracy: 0.8133 - val_top-5-accuracy: 1.0000\n",
      "Epoch 50/100\n",
      "24/24 [==============================] - 3s 119ms/step - loss: 0.4162 - accuracy: 0.8387 - top-5-accuracy: 1.0000 - val_loss: 0.4780 - val_accuracy: 0.8160 - val_top-5-accuracy: 1.0000\n",
      "Epoch 51/100\n",
      "24/24 [==============================] - 3s 118ms/step - loss: 0.3964 - accuracy: 0.8413 - top-5-accuracy: 1.0000 - val_loss: 0.4244 - val_accuracy: 0.8427 - val_top-5-accuracy: 1.0000\n",
      "Epoch 52/100\n",
      "24/24 [==============================] - 3s 119ms/step - loss: 0.3836 - accuracy: 0.8353 - top-5-accuracy: 1.0000 - val_loss: 0.4344 - val_accuracy: 0.8320 - val_top-5-accuracy: 1.0000\n",
      "Epoch 53/100\n",
      "24/24 [==============================] - 3s 119ms/step - loss: 0.3513 - accuracy: 0.8620 - top-5-accuracy: 1.0000 - val_loss: 0.4338 - val_accuracy: 0.8347 - val_top-5-accuracy: 1.0000\n",
      "Epoch 54/100\n",
      "24/24 [==============================] - 3s 119ms/step - loss: 0.3856 - accuracy: 0.8453 - top-5-accuracy: 1.0000 - val_loss: 0.4091 - val_accuracy: 0.8480 - val_top-5-accuracy: 1.0000\n",
      "Epoch 55/100\n",
      "24/24 [==============================] - 3s 120ms/step - loss: 0.3828 - accuracy: 0.8460 - top-5-accuracy: 1.0000 - val_loss: 0.4177 - val_accuracy: 0.8293 - val_top-5-accuracy: 1.0000\n",
      "Epoch 56/100\n",
      "24/24 [==============================] - 3s 118ms/step - loss: 0.3308 - accuracy: 0.8707 - top-5-accuracy: 1.0000 - val_loss: 0.4363 - val_accuracy: 0.8347 - val_top-5-accuracy: 1.0000\n",
      "Epoch 57/100\n",
      "24/24 [==============================] - 3s 119ms/step - loss: 0.3209 - accuracy: 0.8600 - top-5-accuracy: 1.0000 - val_loss: 0.4550 - val_accuracy: 0.8293 - val_top-5-accuracy: 1.0000\n",
      "Epoch 58/100\n",
      "24/24 [==============================] - 3s 118ms/step - loss: 0.3544 - accuracy: 0.8580 - top-5-accuracy: 1.0000 - val_loss: 0.3858 - val_accuracy: 0.8427 - val_top-5-accuracy: 1.0000\n",
      "Epoch 59/100\n",
      "24/24 [==============================] - 3s 118ms/step - loss: 0.3389 - accuracy: 0.8607 - top-5-accuracy: 1.0000 - val_loss: 0.3851 - val_accuracy: 0.8613 - val_top-5-accuracy: 1.0000\n",
      "Epoch 60/100\n",
      "24/24 [==============================] - 3s 118ms/step - loss: 0.3087 - accuracy: 0.8780 - top-5-accuracy: 1.0000 - val_loss: 0.4027 - val_accuracy: 0.8347 - val_top-5-accuracy: 1.0000\n",
      "Epoch 61/100\n",
      "24/24 [==============================] - 3s 119ms/step - loss: 0.3189 - accuracy: 0.8813 - top-5-accuracy: 1.0000 - val_loss: 0.3961 - val_accuracy: 0.8480 - val_top-5-accuracy: 1.0000\n",
      "Epoch 62/100\n",
      "24/24 [==============================] - 3s 118ms/step - loss: 0.3144 - accuracy: 0.8820 - top-5-accuracy: 1.0000 - val_loss: 0.3360 - val_accuracy: 0.8800 - val_top-5-accuracy: 1.0000\n",
      "Epoch 63/100\n",
      "24/24 [==============================] - 3s 119ms/step - loss: 0.2984 - accuracy: 0.8853 - top-5-accuracy: 1.0000 - val_loss: 0.3458 - val_accuracy: 0.8880 - val_top-5-accuracy: 1.0000\n",
      "Epoch 64/100\n",
      "24/24 [==============================] - 3s 119ms/step - loss: 0.3034 - accuracy: 0.8867 - top-5-accuracy: 1.0000 - val_loss: 0.3607 - val_accuracy: 0.8667 - val_top-5-accuracy: 1.0000\n",
      "Epoch 65/100\n",
      "24/24 [==============================] - 3s 119ms/step - loss: 0.3055 - accuracy: 0.8840 - top-5-accuracy: 1.0000 - val_loss: 0.3646 - val_accuracy: 0.8507 - val_top-5-accuracy: 1.0000\n",
      "Epoch 66/100\n",
      "24/24 [==============================] - 3s 118ms/step - loss: 0.2663 - accuracy: 0.8967 - top-5-accuracy: 1.0000 - val_loss: 0.3260 - val_accuracy: 0.8800 - val_top-5-accuracy: 1.0000\n",
      "Epoch 67/100\n",
      "24/24 [==============================] - 3s 118ms/step - loss: 0.2598 - accuracy: 0.8980 - top-5-accuracy: 1.0000 - val_loss: 0.4051 - val_accuracy: 0.8480 - val_top-5-accuracy: 1.0000\n",
      "Epoch 68/100\n",
      "24/24 [==============================] - 3s 119ms/step - loss: 0.2745 - accuracy: 0.8873 - top-5-accuracy: 1.0000 - val_loss: 0.2949 - val_accuracy: 0.8907 - val_top-5-accuracy: 1.0000\n",
      "Epoch 69/100\n",
      "24/24 [==============================] - 3s 118ms/step - loss: 0.2687 - accuracy: 0.8887 - top-5-accuracy: 1.0000 - val_loss: 0.3411 - val_accuracy: 0.8933 - val_top-5-accuracy: 1.0000\n",
      "Epoch 70/100\n",
      "24/24 [==============================] - 3s 118ms/step - loss: 0.2309 - accuracy: 0.9087 - top-5-accuracy: 1.0000 - val_loss: 0.3206 - val_accuracy: 0.8987 - val_top-5-accuracy: 1.0000\n",
      "Epoch 71/100\n",
      "24/24 [==============================] - 3s 119ms/step - loss: 0.2198 - accuracy: 0.9153 - top-5-accuracy: 1.0000 - val_loss: 0.3274 - val_accuracy: 0.9013 - val_top-5-accuracy: 1.0000\n",
      "Epoch 72/100\n",
      "24/24 [==============================] - 3s 118ms/step - loss: 0.2312 - accuracy: 0.9093 - top-5-accuracy: 1.0000 - val_loss: 0.3459 - val_accuracy: 0.8960 - val_top-5-accuracy: 1.0000\n",
      "Epoch 73/100\n",
      "24/24 [==============================] - 3s 119ms/step - loss: 0.2346 - accuracy: 0.9073 - top-5-accuracy: 1.0000 - val_loss: 0.2939 - val_accuracy: 0.8960 - val_top-5-accuracy: 1.0000\n",
      "Epoch 74/100\n",
      "24/24 [==============================] - 3s 119ms/step - loss: 0.2052 - accuracy: 0.9227 - top-5-accuracy: 1.0000 - val_loss: 0.3247 - val_accuracy: 0.8960 - val_top-5-accuracy: 1.0000\n",
      "Epoch 75/100\n",
      "24/24 [==============================] - 3s 119ms/step - loss: 0.2404 - accuracy: 0.9120 - top-5-accuracy: 1.0000 - val_loss: 0.2514 - val_accuracy: 0.9173 - val_top-5-accuracy: 1.0000\n",
      "Epoch 76/100\n",
      "24/24 [==============================] - 3s 120ms/step - loss: 0.1973 - accuracy: 0.9273 - top-5-accuracy: 1.0000 - val_loss: 0.3200 - val_accuracy: 0.8960 - val_top-5-accuracy: 1.0000\n",
      "Epoch 77/100\n",
      "24/24 [==============================] - 3s 119ms/step - loss: 0.1979 - accuracy: 0.9200 - top-5-accuracy: 1.0000 - val_loss: 0.2680 - val_accuracy: 0.9253 - val_top-5-accuracy: 1.0000\n",
      "Epoch 78/100\n",
      "24/24 [==============================] - 3s 119ms/step - loss: 0.1964 - accuracy: 0.9260 - top-5-accuracy: 1.0000 - val_loss: 0.2604 - val_accuracy: 0.9173 - val_top-5-accuracy: 1.0000\n",
      "Epoch 79/100\n",
      "24/24 [==============================] - 3s 120ms/step - loss: 0.1716 - accuracy: 0.9333 - top-5-accuracy: 1.0000 - val_loss: 0.2718 - val_accuracy: 0.9307 - val_top-5-accuracy: 1.0000\n",
      "Epoch 80/100\n",
      "24/24 [==============================] - 3s 118ms/step - loss: 0.1673 - accuracy: 0.9373 - top-5-accuracy: 1.0000 - val_loss: 0.2945 - val_accuracy: 0.9067 - val_top-5-accuracy: 1.0000\n",
      "Epoch 81/100\n",
      "24/24 [==============================] - 3s 118ms/step - loss: 0.1540 - accuracy: 0.9447 - top-5-accuracy: 1.0000 - val_loss: 0.3576 - val_accuracy: 0.9013 - val_top-5-accuracy: 1.0000\n",
      "Epoch 82/100\n",
      "24/24 [==============================] - 3s 119ms/step - loss: 0.1867 - accuracy: 0.9340 - top-5-accuracy: 1.0000 - val_loss: 0.2569 - val_accuracy: 0.9280 - val_top-5-accuracy: 1.0000\n",
      "Epoch 83/100\n",
      "24/24 [==============================] - 3s 118ms/step - loss: 0.1670 - accuracy: 0.9460 - top-5-accuracy: 1.0000 - val_loss: 0.2702 - val_accuracy: 0.9147 - val_top-5-accuracy: 1.0000\n",
      "Epoch 84/100\n",
      "24/24 [==============================] - 3s 120ms/step - loss: 0.1624 - accuracy: 0.9380 - top-5-accuracy: 1.0000 - val_loss: 0.2942 - val_accuracy: 0.9253 - val_top-5-accuracy: 1.0000\n",
      "Epoch 85/100\n",
      "24/24 [==============================] - 3s 119ms/step - loss: 0.1691 - accuracy: 0.9380 - top-5-accuracy: 1.0000 - val_loss: 0.3164 - val_accuracy: 0.9067 - val_top-5-accuracy: 1.0000\n",
      "Epoch 86/100\n",
      "24/24 [==============================] - 3s 119ms/step - loss: 0.1383 - accuracy: 0.9467 - top-5-accuracy: 1.0000 - val_loss: 0.2994 - val_accuracy: 0.9093 - val_top-5-accuracy: 1.0000\n",
      "Epoch 87/100\n",
      "24/24 [==============================] - 3s 121ms/step - loss: 0.1660 - accuracy: 0.9400 - top-5-accuracy: 1.0000 - val_loss: 0.2721 - val_accuracy: 0.9200 - val_top-5-accuracy: 1.0000\n",
      "Epoch 88/100\n",
      "24/24 [==============================] - 3s 118ms/step - loss: 0.1675 - accuracy: 0.9367 - top-5-accuracy: 1.0000 - val_loss: 0.2527 - val_accuracy: 0.9253 - val_top-5-accuracy: 1.0000\n",
      "Epoch 89/100\n",
      "24/24 [==============================] - 3s 118ms/step - loss: 0.1660 - accuracy: 0.9313 - top-5-accuracy: 1.0000 - val_loss: 0.2680 - val_accuracy: 0.9227 - val_top-5-accuracy: 1.0000\n",
      "Epoch 90/100\n",
      "24/24 [==============================] - 3s 119ms/step - loss: 0.1694 - accuracy: 0.9413 - top-5-accuracy: 1.0000 - val_loss: 0.3127 - val_accuracy: 0.9093 - val_top-5-accuracy: 1.0000\n",
      "Epoch 91/100\n",
      "24/24 [==============================] - 3s 119ms/step - loss: 0.1422 - accuracy: 0.9540 - top-5-accuracy: 1.0000 - val_loss: 0.2601 - val_accuracy: 0.9280 - val_top-5-accuracy: 1.0000\n",
      "Epoch 92/100\n",
      "24/24 [==============================] - 3s 118ms/step - loss: 0.1295 - accuracy: 0.9493 - top-5-accuracy: 1.0000 - val_loss: 0.2642 - val_accuracy: 0.9200 - val_top-5-accuracy: 1.0000\n",
      "Epoch 93/100\n",
      "24/24 [==============================] - 3s 119ms/step - loss: 0.1424 - accuracy: 0.9527 - top-5-accuracy: 1.0000 - val_loss: 0.2874 - val_accuracy: 0.9307 - val_top-5-accuracy: 1.0000\n",
      "Epoch 94/100\n",
      "24/24 [==============================] - 3s 119ms/step - loss: 0.1303 - accuracy: 0.9487 - top-5-accuracy: 1.0000 - val_loss: 0.2591 - val_accuracy: 0.9333 - val_top-5-accuracy: 1.0000\n",
      "Epoch 95/100\n",
      "24/24 [==============================] - 3s 119ms/step - loss: 0.1497 - accuracy: 0.9507 - top-5-accuracy: 1.0000 - val_loss: 0.2795 - val_accuracy: 0.9120 - val_top-5-accuracy: 1.0000\n",
      "Epoch 96/100\n",
      "24/24 [==============================] - 3s 118ms/step - loss: 0.1456 - accuracy: 0.9447 - top-5-accuracy: 1.0000 - val_loss: 0.3043 - val_accuracy: 0.9200 - val_top-5-accuracy: 1.0000\n",
      "Epoch 97/100\n",
      "24/24 [==============================] - 3s 119ms/step - loss: 0.1376 - accuracy: 0.9527 - top-5-accuracy: 1.0000 - val_loss: 0.2909 - val_accuracy: 0.9200 - val_top-5-accuracy: 1.0000\n",
      "Epoch 98/100\n",
      "24/24 [==============================] - 3s 120ms/step - loss: 0.1375 - accuracy: 0.9520 - top-5-accuracy: 1.0000 - val_loss: 0.2613 - val_accuracy: 0.9227 - val_top-5-accuracy: 1.0000\n",
      "Epoch 99/100\n",
      "24/24 [==============================] - 3s 119ms/step - loss: 0.1185 - accuracy: 0.9593 - top-5-accuracy: 1.0000 - val_loss: 0.3074 - val_accuracy: 0.9120 - val_top-5-accuracy: 1.0000\n",
      "Epoch 100/100\n",
      "24/24 [==============================] - 3s 118ms/step - loss: 0.1244 - accuracy: 0.9547 - top-5-accuracy: 1.0000 - val_loss: 0.2750 - val_accuracy: 0.9280 - val_top-5-accuracy: 1.0000\n",
      "8/8 [==============================] - 0s 50ms/step - loss: 0.2693 - accuracy: 0.9083 - top-5-accuracy: 1.0000\n",
      "Test accuracy: 90.83%\n",
      "Test top 5 accuracy: 100.0%\n"
     ]
    }
   ],
   "source": [
    "# Some code is taken from:\n",
    "# https://www.kaggle.com/ashusma/training-rfcx-tensorflow-tpu-effnet-b2.\n",
    "class WarmUpCosine(keras.optimizers.schedules.LearningRateSchedule):\n",
    "    def __init__(\n",
    "        self, learning_rate_base, total_steps, warmup_learning_rate, warmup_steps\n",
    "    ):\n",
    "        super(WarmUpCosine, self).__init__()\n",
    "\n",
    "        self.learning_rate_base = learning_rate_base\n",
    "        self.total_steps = total_steps\n",
    "        self.warmup_learning_rate = warmup_learning_rate\n",
    "        self.warmup_steps = warmup_steps\n",
    "        self.pi = tf.constant(np.pi)\n",
    "\n",
    "    def __call__(self, step):\n",
    "        if self.total_steps < self.warmup_steps:\n",
    "            raise ValueError(\"Total_steps must be larger or equal to warmup_steps.\")\n",
    "\n",
    "        cos_annealed_lr = tf.cos(\n",
    "            self.pi\n",
    "            * (tf.cast(step, tf.float32) - self.warmup_steps)\n",
    "            / float(self.total_steps - self.warmup_steps)\n",
    "        )\n",
    "        learning_rate = 0.5 * self.learning_rate_base * (1 + cos_annealed_lr)\n",
    "\n",
    "        if self.warmup_steps > 0:\n",
    "            if self.learning_rate_base < self.warmup_learning_rate:\n",
    "                raise ValueError(\n",
    "                    \"Learning_rate_base must be larger or equal to \"\n",
    "                    \"warmup_learning_rate.\"\n",
    "                )\n",
    "            slope = (\n",
    "                self.learning_rate_base - self.warmup_learning_rate\n",
    "            ) / self.warmup_steps\n",
    "            warmup_rate = slope * tf.cast(step, tf.float32) + self.warmup_learning_rate\n",
    "            learning_rate = tf.where(\n",
    "                step < self.warmup_steps, warmup_rate, learning_rate\n",
    "            )\n",
    "        return tf.where(\n",
    "            step > self.total_steps, 0.0, learning_rate, name=\"learning_rate\"\n",
    "        )\n",
    "\n",
    "\n",
    "def run_experiment(model):\n",
    "    total_steps = int((len(x_train) / BATCH_SIZE) * EPOCHS)\n",
    "    warmup_epoch_percentage = 0.10\n",
    "    warmup_steps = int(total_steps * warmup_epoch_percentage)\n",
    "    scheduled_lrs = WarmUpCosine(\n",
    "        learning_rate_base=LEARNING_RATE,\n",
    "        total_steps=total_steps,\n",
    "        warmup_learning_rate=0.0,\n",
    "        warmup_steps=warmup_steps,\n",
    "    )\n",
    "\n",
    "    optimizer = tfa.optimizers.AdamW(\n",
    "        learning_rate=LEARNING_RATE, weight_decay=WEIGHT_DECAY\n",
    "    )\n",
    "\n",
    "    model.compile(\n",
    "        optimizer=optimizer,\n",
    "        loss=keras.losses.SparseCategoricalCrossentropy(from_logits=True),\n",
    "        metrics=[\n",
    "            keras.metrics.SparseCategoricalAccuracy(name=\"accuracy\"),\n",
    "            keras.metrics.SparseTopKCategoricalAccuracy(5, name=\"top-5-accuracy\"),\n",
    "        ],\n",
    "    )\n",
    "\n",
    "    history = model.fit(\n",
    "        x=x_train,\n",
    "        y=y_train,\n",
    "        batch_size=BATCH_SIZE,\n",
    "        epochs=EPOCHS,\n",
    "        validation_split=0.2,\n",
    "    )\n",
    "    _, accuracy, top_5_accuracy = model.evaluate(x_test, y_test, batch_size=BATCH_SIZE)\n",
    "    print(f\"Test accuracy: {round(accuracy * 100, 2)}%\")\n",
    "    print(f\"Test top 5 accuracy: {round(top_5_accuracy * 100, 2)}%\")\n",
    "\n",
    "    return history\n",
    "\n",
    "\n",
    "# Run experiments with the vanilla ViT\n",
    "vit = create_vit_classifier(vanilla=True)\n",
    "history = run_experiment(vit)\n"
   ]
  },
  {
   "cell_type": "code",
   "execution_count": 48,
   "metadata": {
    "colab": {
     "base_uri": "https://localhost:8080/",
     "height": 295
    },
    "id": "UiqrTheaJ_eY",
    "outputId": "b01371fe-b3b7-40d5-d34d-8aa88b86b50d"
   },
   "outputs": [
    {
     "data": {
      "image/png": "[encoded data removed]",
      "text/plain": [
       "<Figure size 432x288 with 1 Axes>"
      ]
     },
     "metadata": {
      "needs_background": "light"
     },
     "output_type": "display_data"
    }
   ],
   "source": [
    "plt.plot(history.history['accuracy'])\n",
    "plt.plot(history.history['val_accuracy'])\n",
    "plt.title('ViT Model Train vs Validation Accuracy Curve')\n",
    "plt.ylabel('accuracy')\n",
    "plt.xlabel('epoch')\n",
    "plt.legend(['train', 'val'], loc='upper left')\n",
    "plt.show()"
   ]
  },
  {
   "cell_type": "code",
   "execution_count": 49,
   "metadata": {
    "colab": {
     "base_uri": "https://localhost:8080/",
     "height": 295
    },
    "id": "pToIhowFKBmy",
    "outputId": "686ad23c-689a-4b74-c4b5-0571f19d685f"
   },
   "outputs": [
    {
     "data": {
      "image/png": "[encoded data removed]",
      "text/plain": [
       "<Figure size 432x288 with 1 Axes>"
      ]
     },
     "metadata": {
      "needs_background": "light"
     },
     "output_type": "display_data"
    }
   ],
   "source": [
    "\n",
    "plt.plot(history.history['loss'])\n",
    "plt.plot(history.history['val_loss'])\n",
    "plt.title('ViT Model Train vs Validation Loss Curve')\n",
    "plt.ylabel('accuracy')\n",
    "plt.xlabel('epoch')\n",
    "plt.legend(['train', 'val'], loc='upper left')\n",
    "plt.show()"
   ]
  },
  {
   "cell_type": "code",
   "execution_count": 50,
   "metadata": {
    "colab": {
     "base_uri": "https://localhost:8080/",
     "height": 677
    },
    "id": "8jEHvO0dKC8M",
    "outputId": "08ddaedf-6f4c-4368-8b30-4c6f307ccb62"
   },
   "outputs": [
    {
     "name": "stderr",
     "output_type": "stream",
     "text": [
      "/usr/local/lib/python3.7/dist-packages/ipykernel_launcher.py:8: UserWarning: `Model.predict_generator` is deprecated and will be removed in a future version. Please use `Model.predict`, which supports generators.\n",
      "  \n"
     ]
    },
    {
     "name": "stdout",
     "output_type": "stream",
     "text": [
      "Confusion matrix, without normalization\n",
      "              precision    recall  f1-score   support\n",
      "\n",
      "           0       0.94      0.92      0.93       257\n",
      "           1       0.93      0.88      0.91       137\n",
      "           2       0.78      0.92      0.85        75\n",
      "\n",
      "    accuracy                           0.91       469\n",
      "   macro avg       0.89      0.91      0.89       469\n",
      "weighted avg       0.91      0.91      0.91       469\n",
      "\n"
     ]
    },
    {
     "data": {
      "image/png": "[encoded data removed]",
      "text/plain": [
       "<Figure size 432x432 with 2 Axes>"
      ]
     },
     "metadata": {
      "needs_background": "light"
     },
     "output_type": "display_data"
    }
   ],
   "source": [
    "from sklearn.metrics import plot_confusion_matrix\n",
    "from sklearn.metrics import ConfusionMatrixDisplay, confusion_matrix\n",
    "np.set_printoptions(precision=2)\n",
    "class_names = ['benign', 'malignant','normal']\n",
    "\n",
    "from sklearn.metrics import plot_confusion_matrix \n",
    "from sklearn.metrics import ConfusionMatrixDisplay\n",
    "Y_pred = vit.predict_generator(x_test)\n",
    "y_pred = np.argmax(Y_pred, axis=1)\n",
    "\n",
    "cm = confusion_matrix(y_test, y_pred)\n",
    "#plot_confusion_matrix(X = y_pred, y_true=y_test, labels = class_names, normalize=False)\n",
    "\n",
    "\n",
    "import matplotlib.pyplot as plt\n",
    "import itertools \n",
    "def plot_confusion_matrix(cm, classes, normalize=False, title='Confusion matrix', cmap=plt.cm.Blues):\n",
    "\n",
    "    \"\"\"\n",
    "\n",
    "    This function prints and plots the confusion matrix.\n",
    "\n",
    "    Normalization can be applied by setting `normalize=True`.\n",
    "\n",
    "    \"\"\"\n",
    "\n",
    "    plt.figure(figsize=(6,6))\n",
    "\n",
    "\n",
    "\n",
    "    plt.imshow(cm, interpolation='nearest', cmap=cmap)\n",
    "\n",
    "    plt.title(title)\n",
    "\n",
    "    plt.colorbar()\n",
    "\n",
    "\n",
    "\n",
    "    tick_marks = np.arange(len(classes))\n",
    "\n",
    "    plt.xticks(tick_marks, classes, rotation=45)\n",
    "\n",
    "    plt.yticks(tick_marks, classes)\n",
    "\n",
    "\n",
    "\n",
    "    if normalize:\n",
    "\n",
    "        cm = cm.astype('float') / cm.sum(axis=1)[:, np.newaxis]\n",
    "\n",
    "        cm = np.around(cm, decimals=2)\n",
    "\n",
    "        cm[np.isnan(cm)] = 0.0\n",
    "\n",
    "        print(\"Normalized confusion matrix\")\n",
    "\n",
    "    else:\n",
    "\n",
    "        print('Confusion matrix, without normalization')\n",
    "\n",
    "    thresh = cm.max() / 2.\n",
    "\n",
    "    for i, j in itertools.product(range(cm.shape[0]), range(cm.shape[1])):\n",
    "\n",
    "        plt.text(j, i, cm[i, j],\n",
    "\n",
    "                 horizontalalignment=\"center\",\n",
    "\n",
    "                 color=\"white\" if cm[i, j] > thresh else \"black\")\n",
    "\n",
    "    plt.tight_layout()\n",
    "\n",
    "    plt.ylabel('True label')\n",
    "\n",
    "    plt.xlabel('Predicted label')\n",
    "\n",
    "plot_confusion_matrix(cm, class_names)\n",
    "\n",
    "from sklearn.metrics import classification_report\n",
    "print(classification_report(y_test, y_pred))"
   ]
  },
  {
   "cell_type": "code",
   "execution_count": 27,
   "metadata": {
    "colab": {
     "base_uri": "https://localhost:8080/"
    },
    "id": "fkikZGbQKEDw",
    "outputId": "ea1153b1-314a-4f04-f9ea-65d8d93d1208"
   },
   "outputs": [
    {
     "name": "stdout",
     "output_type": "stream",
     "text": [
      "Epoch 1/100\n",
      "21/21 [==============================] - 51s 464ms/step - loss: 2.1224 - accuracy: 0.4748 - top-5-accuracy: 1.0000 - val_loss: 1.0562 - val_accuracy: 0.5417 - val_top-5-accuracy: 1.0000\n",
      "Epoch 2/100\n",
      "21/21 [==============================] - 8s 377ms/step - loss: 1.7427 - accuracy: 0.4870 - top-5-accuracy: 1.0000 - val_loss: 1.2685 - val_accuracy: 0.4352 - val_top-5-accuracy: 1.0000\n",
      "Epoch 3/100\n",
      "21/21 [==============================] - 8s 377ms/step - loss: 1.4226 - accuracy: 0.5198 - top-5-accuracy: 1.0000 - val_loss: 0.8902 - val_accuracy: 0.5719 - val_top-5-accuracy: 1.0000\n",
      "Epoch 4/100\n",
      "21/21 [==============================] - 8s 379ms/step - loss: 1.1722 - accuracy: 0.5267 - top-5-accuracy: 1.0000 - val_loss: 0.8925 - val_accuracy: 0.5560 - val_top-5-accuracy: 1.0000\n",
      "Epoch 5/100\n",
      "21/21 [==============================] - 8s 381ms/step - loss: 1.1390 - accuracy: 0.5488 - top-5-accuracy: 1.0000 - val_loss: 0.8473 - val_accuracy: 0.6181 - val_top-5-accuracy: 1.0000\n",
      "Epoch 6/100\n",
      "21/21 [==============================] - 8s 381ms/step - loss: 1.0854 - accuracy: 0.5503 - top-5-accuracy: 1.0000 - val_loss: 0.8266 - val_accuracy: 0.6306 - val_top-5-accuracy: 1.0000\n",
      "Epoch 7/100\n",
      "21/21 [==============================] - 8s 383ms/step - loss: 1.0069 - accuracy: 0.5724 - top-5-accuracy: 1.0000 - val_loss: 0.8159 - val_accuracy: 0.6536 - val_top-5-accuracy: 1.0000\n",
      "Epoch 8/100\n",
      "21/21 [==============================] - 8s 387ms/step - loss: 0.9464 - accuracy: 0.6014 - top-5-accuracy: 1.0000 - val_loss: 0.8135 - val_accuracy: 0.6359 - val_top-5-accuracy: 1.0000\n",
      "Epoch 9/100\n",
      "21/21 [==============================] - 8s 385ms/step - loss: 0.9180 - accuracy: 0.5915 - top-5-accuracy: 1.0000 - val_loss: 0.8144 - val_accuracy: 0.6199 - val_top-5-accuracy: 1.0000\n",
      "Epoch 10/100\n",
      "21/21 [==============================] - 8s 388ms/step - loss: 0.9069 - accuracy: 0.5953 - top-5-accuracy: 1.0000 - val_loss: 0.8214 - val_accuracy: 0.6643 - val_top-5-accuracy: 1.0000\n",
      "Epoch 11/100\n",
      "21/21 [==============================] - 8s 386ms/step - loss: 0.8126 - accuracy: 0.6479 - top-5-accuracy: 1.0000 - val_loss: 0.8073 - val_accuracy: 0.6572 - val_top-5-accuracy: 1.0000\n",
      "Epoch 12/100\n",
      "21/21 [==============================] - 8s 384ms/step - loss: 0.8212 - accuracy: 0.6288 - top-5-accuracy: 1.0000 - val_loss: 0.8341 - val_accuracy: 0.6341 - val_top-5-accuracy: 1.0000\n",
      "Epoch 13/100\n",
      "21/21 [==============================] - 8s 384ms/step - loss: 0.7938 - accuracy: 0.6479 - top-5-accuracy: 1.0000 - val_loss: 0.7728 - val_accuracy: 0.6714 - val_top-5-accuracy: 1.0000\n",
      "Epoch 14/100\n",
      "21/21 [==============================] - 8s 383ms/step - loss: 0.8102 - accuracy: 0.6372 - top-5-accuracy: 1.0000 - val_loss: 0.7602 - val_accuracy: 0.6874 - val_top-5-accuracy: 1.0000\n",
      "Epoch 15/100\n",
      "21/21 [==============================] - 8s 384ms/step - loss: 0.7427 - accuracy: 0.6646 - top-5-accuracy: 1.0000 - val_loss: 0.7134 - val_accuracy: 0.7016 - val_top-5-accuracy: 1.0000\n",
      "Epoch 16/100\n",
      "21/21 [==============================] - 8s 383ms/step - loss: 0.7427 - accuracy: 0.6745 - top-5-accuracy: 1.0000 - val_loss: 0.7520 - val_accuracy: 0.6856 - val_top-5-accuracy: 1.0000\n",
      "Epoch 17/100\n",
      "21/21 [==============================] - 8s 384ms/step - loss: 0.7531 - accuracy: 0.6822 - top-5-accuracy: 1.0000 - val_loss: 0.7400 - val_accuracy: 0.6998 - val_top-5-accuracy: 1.0000\n",
      "Epoch 18/100\n",
      "21/21 [==============================] - 8s 383ms/step - loss: 0.7360 - accuracy: 0.6799 - top-5-accuracy: 1.0000 - val_loss: 0.7410 - val_accuracy: 0.7052 - val_top-5-accuracy: 1.0000\n",
      "Epoch 19/100\n",
      "21/21 [==============================] - 8s 391ms/step - loss: 0.7012 - accuracy: 0.6936 - top-5-accuracy: 1.0000 - val_loss: 0.7377 - val_accuracy: 0.6714 - val_top-5-accuracy: 1.0000\n",
      "Epoch 20/100\n",
      "21/21 [==============================] - 8s 384ms/step - loss: 0.7099 - accuracy: 0.6944 - top-5-accuracy: 1.0000 - val_loss: 0.6997 - val_accuracy: 0.7158 - val_top-5-accuracy: 1.0000\n",
      "Epoch 21/100\n",
      "21/21 [==============================] - 8s 384ms/step - loss: 0.6548 - accuracy: 0.7210 - top-5-accuracy: 1.0000 - val_loss: 0.7139 - val_accuracy: 0.6927 - val_top-5-accuracy: 1.0000\n",
      "Epoch 22/100\n",
      "21/21 [==============================] - 8s 384ms/step - loss: 0.6781 - accuracy: 0.7165 - top-5-accuracy: 1.0000 - val_loss: 0.7141 - val_accuracy: 0.6980 - val_top-5-accuracy: 1.0000\n",
      "Epoch 23/100\n",
      "21/21 [==============================] - 8s 384ms/step - loss: 0.6937 - accuracy: 0.7157 - top-5-accuracy: 1.0000 - val_loss: 0.6970 - val_accuracy: 0.7158 - val_top-5-accuracy: 1.0000\n",
      "Epoch 24/100\n",
      "21/21 [==============================] - 8s 384ms/step - loss: 0.6343 - accuracy: 0.7203 - top-5-accuracy: 1.0000 - val_loss: 0.6504 - val_accuracy: 0.7460 - val_top-5-accuracy: 1.0000\n",
      "Epoch 25/100\n",
      "21/21 [==============================] - 8s 384ms/step - loss: 0.6408 - accuracy: 0.7210 - top-5-accuracy: 1.0000 - val_loss: 0.6674 - val_accuracy: 0.7371 - val_top-5-accuracy: 1.0000\n",
      "Epoch 26/100\n",
      "21/21 [==============================] - 8s 384ms/step - loss: 0.6308 - accuracy: 0.7409 - top-5-accuracy: 1.0000 - val_loss: 0.6511 - val_accuracy: 0.7318 - val_top-5-accuracy: 1.0000\n",
      "Epoch 27/100\n",
      "21/21 [==============================] - 8s 385ms/step - loss: 0.6300 - accuracy: 0.7393 - top-5-accuracy: 1.0000 - val_loss: 0.6465 - val_accuracy: 0.7353 - val_top-5-accuracy: 1.0000\n",
      "Epoch 28/100\n",
      "21/21 [==============================] - 8s 384ms/step - loss: 0.5783 - accuracy: 0.7576 - top-5-accuracy: 1.0000 - val_loss: 0.6551 - val_accuracy: 0.7442 - val_top-5-accuracy: 1.0000\n",
      "Epoch 29/100\n",
      "21/21 [==============================] - 8s 384ms/step - loss: 0.5813 - accuracy: 0.7599 - top-5-accuracy: 1.0000 - val_loss: 0.6190 - val_accuracy: 0.7744 - val_top-5-accuracy: 1.0000\n",
      "Epoch 30/100\n",
      "21/21 [==============================] - 8s 384ms/step - loss: 0.6036 - accuracy: 0.7401 - top-5-accuracy: 1.0000 - val_loss: 0.6361 - val_accuracy: 0.7567 - val_top-5-accuracy: 1.0000\n",
      "Epoch 31/100\n",
      "21/21 [==============================] - 8s 384ms/step - loss: 0.5551 - accuracy: 0.7607 - top-5-accuracy: 1.0000 - val_loss: 0.6355 - val_accuracy: 0.7300 - val_top-5-accuracy: 1.0000\n",
      "Epoch 32/100\n",
      "21/21 [==============================] - 8s 384ms/step - loss: 0.5494 - accuracy: 0.7698 - top-5-accuracy: 1.0000 - val_loss: 0.6052 - val_accuracy: 0.7584 - val_top-5-accuracy: 1.0000\n",
      "Epoch 33/100\n",
      "21/21 [==============================] - 8s 384ms/step - loss: 0.5524 - accuracy: 0.7561 - top-5-accuracy: 1.0000 - val_loss: 0.6187 - val_accuracy: 0.7425 - val_top-5-accuracy: 1.0000\n",
      "Epoch 34/100\n",
      "21/21 [==============================] - 8s 385ms/step - loss: 0.4928 - accuracy: 0.7919 - top-5-accuracy: 1.0000 - val_loss: 0.5666 - val_accuracy: 0.7655 - val_top-5-accuracy: 1.0000\n",
      "Epoch 35/100\n",
      "21/21 [==============================] - 8s 385ms/step - loss: 0.5196 - accuracy: 0.7881 - top-5-accuracy: 1.0000 - val_loss: 0.6469 - val_accuracy: 0.7247 - val_top-5-accuracy: 1.0000\n",
      "Epoch 36/100\n",
      "21/21 [==============================] - 8s 384ms/step - loss: 0.5011 - accuracy: 0.7889 - top-5-accuracy: 1.0000 - val_loss: 0.6296 - val_accuracy: 0.7265 - val_top-5-accuracy: 1.0000\n",
      "Epoch 37/100\n",
      "21/21 [==============================] - 8s 384ms/step - loss: 0.5043 - accuracy: 0.7873 - top-5-accuracy: 1.0000 - val_loss: 0.5744 - val_accuracy: 0.7620 - val_top-5-accuracy: 1.0000\n",
      "Epoch 38/100\n",
      "21/21 [==============================] - 8s 383ms/step - loss: 0.4695 - accuracy: 0.8034 - top-5-accuracy: 1.0000 - val_loss: 0.5898 - val_accuracy: 0.7620 - val_top-5-accuracy: 1.0000\n",
      "Epoch 39/100\n",
      "21/21 [==============================] - 8s 384ms/step - loss: 0.4552 - accuracy: 0.8163 - top-5-accuracy: 1.0000 - val_loss: 0.5469 - val_accuracy: 0.7833 - val_top-5-accuracy: 1.0000\n",
      "Epoch 40/100\n",
      "21/21 [==============================] - 8s 384ms/step - loss: 0.4792 - accuracy: 0.8003 - top-5-accuracy: 1.0000 - val_loss: 0.6000 - val_accuracy: 0.7549 - val_top-5-accuracy: 1.0000\n",
      "Epoch 41/100\n",
      "21/21 [==============================] - 8s 385ms/step - loss: 0.4613 - accuracy: 0.8171 - top-5-accuracy: 1.0000 - val_loss: 0.5564 - val_accuracy: 0.7673 - val_top-5-accuracy: 1.0000\n",
      "Epoch 42/100\n",
      "21/21 [==============================] - 8s 386ms/step - loss: 0.4352 - accuracy: 0.8186 - top-5-accuracy: 1.0000 - val_loss: 0.6201 - val_accuracy: 0.7336 - val_top-5-accuracy: 1.0000\n",
      "Epoch 43/100\n",
      "21/21 [==============================] - 8s 384ms/step - loss: 0.3961 - accuracy: 0.8369 - top-5-accuracy: 1.0000 - val_loss: 0.5615 - val_accuracy: 0.7798 - val_top-5-accuracy: 1.0000\n",
      "Epoch 44/100\n",
      "21/21 [==============================] - 8s 383ms/step - loss: 0.3904 - accuracy: 0.8453 - top-5-accuracy: 1.0000 - val_loss: 0.5088 - val_accuracy: 0.8011 - val_top-5-accuracy: 1.0000\n",
      "Epoch 45/100\n",
      "21/21 [==============================] - 8s 384ms/step - loss: 0.3949 - accuracy: 0.8445 - top-5-accuracy: 1.0000 - val_loss: 0.4982 - val_accuracy: 0.8171 - val_top-5-accuracy: 1.0000\n",
      "Epoch 46/100\n",
      "21/21 [==============================] - 8s 384ms/step - loss: 0.3924 - accuracy: 0.8354 - top-5-accuracy: 1.0000 - val_loss: 0.5965 - val_accuracy: 0.7425 - val_top-5-accuracy: 1.0000\n",
      "Epoch 47/100\n",
      "21/21 [==============================] - 8s 384ms/step - loss: 0.3745 - accuracy: 0.8392 - top-5-accuracy: 1.0000 - val_loss: 0.6155 - val_accuracy: 0.7140 - val_top-5-accuracy: 1.0000\n",
      "Epoch 48/100\n",
      "21/21 [==============================] - 8s 385ms/step - loss: 0.3835 - accuracy: 0.8445 - top-5-accuracy: 1.0000 - val_loss: 0.4832 - val_accuracy: 0.8171 - val_top-5-accuracy: 1.0000\n",
      "Epoch 49/100\n",
      "21/21 [==============================] - 8s 385ms/step - loss: 0.3664 - accuracy: 0.8529 - top-5-accuracy: 1.0000 - val_loss: 0.5264 - val_accuracy: 0.7922 - val_top-5-accuracy: 1.0000\n",
      "Epoch 50/100\n",
      "21/21 [==============================] - 8s 383ms/step - loss: 0.3769 - accuracy: 0.8537 - top-5-accuracy: 1.0000 - val_loss: 0.4931 - val_accuracy: 0.8117 - val_top-5-accuracy: 1.0000\n",
      "Epoch 51/100\n",
      "21/21 [==============================] - 8s 383ms/step - loss: 0.3540 - accuracy: 0.8613 - top-5-accuracy: 1.0000 - val_loss: 0.4946 - val_accuracy: 0.7957 - val_top-5-accuracy: 1.0000\n",
      "Epoch 52/100\n",
      "21/21 [==============================] - 8s 382ms/step - loss: 0.3651 - accuracy: 0.8552 - top-5-accuracy: 1.0000 - val_loss: 0.5049 - val_accuracy: 0.7815 - val_top-5-accuracy: 1.0000\n",
      "Epoch 53/100\n",
      "21/21 [==============================] - 8s 382ms/step - loss: 0.2920 - accuracy: 0.8880 - top-5-accuracy: 1.0000 - val_loss: 0.5133 - val_accuracy: 0.7833 - val_top-5-accuracy: 1.0000\n",
      "Epoch 54/100\n",
      "21/21 [==============================] - 8s 383ms/step - loss: 0.3432 - accuracy: 0.8758 - top-5-accuracy: 1.0000 - val_loss: 0.4739 - val_accuracy: 0.8064 - val_top-5-accuracy: 1.0000\n",
      "Epoch 55/100\n",
      "21/21 [==============================] - 8s 382ms/step - loss: 0.3903 - accuracy: 0.8498 - top-5-accuracy: 1.0000 - val_loss: 0.5331 - val_accuracy: 0.7744 - val_top-5-accuracy: 1.0000\n",
      "Epoch 56/100\n",
      "21/21 [==============================] - 8s 383ms/step - loss: 0.3201 - accuracy: 0.8750 - top-5-accuracy: 1.0000 - val_loss: 0.4834 - val_accuracy: 0.8171 - val_top-5-accuracy: 1.0000\n",
      "Epoch 57/100\n",
      "21/21 [==============================] - 8s 382ms/step - loss: 0.3181 - accuracy: 0.8780 - top-5-accuracy: 1.0000 - val_loss: 0.4991 - val_accuracy: 0.8064 - val_top-5-accuracy: 1.0000\n",
      "Epoch 58/100\n",
      "21/21 [==============================] - 8s 383ms/step - loss: 0.2735 - accuracy: 0.8986 - top-5-accuracy: 1.0000 - val_loss: 0.5111 - val_accuracy: 0.7886 - val_top-5-accuracy: 1.0000\n",
      "Epoch 59/100\n",
      "21/21 [==============================] - 8s 382ms/step - loss: 0.2828 - accuracy: 0.8971 - top-5-accuracy: 1.0000 - val_loss: 0.4676 - val_accuracy: 0.8028 - val_top-5-accuracy: 1.0000\n",
      "Epoch 60/100\n",
      "21/21 [==============================] - 8s 382ms/step - loss: 0.2447 - accuracy: 0.8986 - top-5-accuracy: 1.0000 - val_loss: 0.4543 - val_accuracy: 0.7993 - val_top-5-accuracy: 1.0000\n",
      "Epoch 61/100\n",
      "21/21 [==============================] - 8s 383ms/step - loss: 0.2573 - accuracy: 0.9070 - top-5-accuracy: 1.0000 - val_loss: 0.4693 - val_accuracy: 0.7886 - val_top-5-accuracy: 1.0000\n",
      "Epoch 62/100\n",
      "21/21 [==============================] - 8s 384ms/step - loss: 0.2665 - accuracy: 0.8887 - top-5-accuracy: 1.0000 - val_loss: 0.4481 - val_accuracy: 0.8259 - val_top-5-accuracy: 1.0000\n",
      "Epoch 63/100\n",
      "21/21 [==============================] - 8s 383ms/step - loss: 0.2339 - accuracy: 0.9116 - top-5-accuracy: 1.0000 - val_loss: 0.4718 - val_accuracy: 0.8135 - val_top-5-accuracy: 1.0000\n",
      "Epoch 64/100\n",
      "21/21 [==============================] - 8s 383ms/step - loss: 0.2295 - accuracy: 0.9108 - top-5-accuracy: 1.0000 - val_loss: 0.5230 - val_accuracy: 0.8046 - val_top-5-accuracy: 1.0000\n",
      "Epoch 65/100\n",
      "21/21 [==============================] - 8s 383ms/step - loss: 0.2194 - accuracy: 0.9215 - top-5-accuracy: 1.0000 - val_loss: 0.4474 - val_accuracy: 0.8259 - val_top-5-accuracy: 1.0000\n",
      "Epoch 66/100\n",
      "21/21 [==============================] - 8s 384ms/step - loss: 0.2551 - accuracy: 0.9009 - top-5-accuracy: 1.0000 - val_loss: 0.4115 - val_accuracy: 0.8401 - val_top-5-accuracy: 1.0000\n",
      "Epoch 67/100\n",
      "21/21 [==============================] - 8s 383ms/step - loss: 0.2493 - accuracy: 0.9139 - top-5-accuracy: 1.0000 - val_loss: 0.4547 - val_accuracy: 0.8330 - val_top-5-accuracy: 1.0000\n",
      "Epoch 68/100\n",
      "21/21 [==============================] - 8s 382ms/step - loss: 0.2583 - accuracy: 0.9024 - top-5-accuracy: 1.0000 - val_loss: 0.4359 - val_accuracy: 0.8295 - val_top-5-accuracy: 1.0000\n",
      "Epoch 69/100\n",
      "21/21 [==============================] - 8s 383ms/step - loss: 0.2468 - accuracy: 0.9146 - top-5-accuracy: 1.0000 - val_loss: 0.4366 - val_accuracy: 0.8277 - val_top-5-accuracy: 1.0000\n",
      "Epoch 70/100\n",
      "21/21 [==============================] - 8s 383ms/step - loss: 0.2291 - accuracy: 0.9085 - top-5-accuracy: 1.0000 - val_loss: 0.4615 - val_accuracy: 0.8259 - val_top-5-accuracy: 1.0000\n",
      "Epoch 71/100\n",
      "21/21 [==============================] - 8s 383ms/step - loss: 0.2191 - accuracy: 0.9131 - top-5-accuracy: 1.0000 - val_loss: 0.4178 - val_accuracy: 0.8384 - val_top-5-accuracy: 1.0000\n",
      "Epoch 72/100\n",
      "21/21 [==============================] - 8s 383ms/step - loss: 0.2274 - accuracy: 0.9177 - top-5-accuracy: 1.0000 - val_loss: 0.4335 - val_accuracy: 0.8313 - val_top-5-accuracy: 1.0000\n",
      "Epoch 73/100\n",
      "21/21 [==============================] - 8s 383ms/step - loss: 0.2292 - accuracy: 0.9116 - top-5-accuracy: 1.0000 - val_loss: 0.4339 - val_accuracy: 0.8259 - val_top-5-accuracy: 1.0000\n",
      "Epoch 74/100\n",
      "21/21 [==============================] - 8s 383ms/step - loss: 0.1957 - accuracy: 0.9261 - top-5-accuracy: 1.0000 - val_loss: 0.4629 - val_accuracy: 0.8401 - val_top-5-accuracy: 1.0000\n",
      "Epoch 75/100\n",
      "21/21 [==============================] - 8s 383ms/step - loss: 0.1876 - accuracy: 0.9238 - top-5-accuracy: 1.0000 - val_loss: 0.4907 - val_accuracy: 0.8277 - val_top-5-accuracy: 1.0000\n",
      "Epoch 76/100\n",
      "21/21 [==============================] - 8s 383ms/step - loss: 0.1656 - accuracy: 0.9413 - top-5-accuracy: 1.0000 - val_loss: 0.4262 - val_accuracy: 0.8437 - val_top-5-accuracy: 1.0000\n",
      "Epoch 77/100\n",
      "21/21 [==============================] - 8s 383ms/step - loss: 0.1855 - accuracy: 0.9322 - top-5-accuracy: 1.0000 - val_loss: 0.4181 - val_accuracy: 0.8472 - val_top-5-accuracy: 1.0000\n",
      "Epoch 78/100\n",
      "21/21 [==============================] - 8s 383ms/step - loss: 0.1835 - accuracy: 0.9337 - top-5-accuracy: 1.0000 - val_loss: 0.4239 - val_accuracy: 0.8455 - val_top-5-accuracy: 1.0000\n",
      "Epoch 79/100\n",
      "21/21 [==============================] - 8s 383ms/step - loss: 0.1863 - accuracy: 0.9261 - top-5-accuracy: 1.0000 - val_loss: 0.4447 - val_accuracy: 0.8366 - val_top-5-accuracy: 1.0000\n",
      "Epoch 80/100\n",
      "21/21 [==============================] - 8s 382ms/step - loss: 0.1800 - accuracy: 0.9284 - top-5-accuracy: 1.0000 - val_loss: 0.4078 - val_accuracy: 0.8508 - val_top-5-accuracy: 1.0000\n",
      "Epoch 81/100\n",
      "21/21 [==============================] - 8s 384ms/step - loss: 0.1607 - accuracy: 0.9360 - top-5-accuracy: 1.0000 - val_loss: 0.4421 - val_accuracy: 0.8437 - val_top-5-accuracy: 1.0000\n",
      "Epoch 82/100\n",
      "21/21 [==============================] - 8s 383ms/step - loss: 0.1745 - accuracy: 0.9345 - top-5-accuracy: 1.0000 - val_loss: 0.4149 - val_accuracy: 0.8490 - val_top-5-accuracy: 1.0000\n",
      "Epoch 83/100\n",
      "21/21 [==============================] - 8s 383ms/step - loss: 0.1863 - accuracy: 0.9306 - top-5-accuracy: 1.0000 - val_loss: 0.4385 - val_accuracy: 0.8526 - val_top-5-accuracy: 1.0000\n",
      "Epoch 84/100\n",
      "21/21 [==============================] - 8s 383ms/step - loss: 0.1484 - accuracy: 0.9489 - top-5-accuracy: 1.0000 - val_loss: 0.4360 - val_accuracy: 0.8437 - val_top-5-accuracy: 1.0000\n",
      "Epoch 85/100\n",
      "21/21 [==============================] - 8s 383ms/step - loss: 0.1974 - accuracy: 0.9192 - top-5-accuracy: 1.0000 - val_loss: 0.4059 - val_accuracy: 0.8703 - val_top-5-accuracy: 1.0000\n",
      "Epoch 86/100\n",
      "21/21 [==============================] - 8s 383ms/step - loss: 0.1524 - accuracy: 0.9421 - top-5-accuracy: 1.0000 - val_loss: 0.4167 - val_accuracy: 0.8455 - val_top-5-accuracy: 1.0000\n",
      "Epoch 87/100\n",
      "21/21 [==============================] - 8s 382ms/step - loss: 0.1717 - accuracy: 0.9421 - top-5-accuracy: 1.0000 - val_loss: 0.4361 - val_accuracy: 0.8490 - val_top-5-accuracy: 1.0000\n",
      "Epoch 88/100\n",
      "21/21 [==============================] - 8s 383ms/step - loss: 0.1607 - accuracy: 0.9352 - top-5-accuracy: 1.0000 - val_loss: 0.4341 - val_accuracy: 0.8366 - val_top-5-accuracy: 1.0000\n",
      "Epoch 89/100\n",
      "21/21 [==============================] - 8s 382ms/step - loss: 0.1545 - accuracy: 0.9444 - top-5-accuracy: 1.0000 - val_loss: 0.4203 - val_accuracy: 0.8579 - val_top-5-accuracy: 1.0000\n",
      "Epoch 90/100\n",
      "21/21 [==============================] - 8s 383ms/step - loss: 0.1662 - accuracy: 0.9367 - top-5-accuracy: 1.0000 - val_loss: 0.3992 - val_accuracy: 0.8472 - val_top-5-accuracy: 1.0000\n",
      "Epoch 91/100\n",
      "21/21 [==============================] - 8s 382ms/step - loss: 0.1646 - accuracy: 0.9352 - top-5-accuracy: 1.0000 - val_loss: 0.4645 - val_accuracy: 0.8437 - val_top-5-accuracy: 1.0000\n",
      "Epoch 92/100\n",
      "21/21 [==============================] - 8s 382ms/step - loss: 0.1387 - accuracy: 0.9588 - top-5-accuracy: 1.0000 - val_loss: 0.3867 - val_accuracy: 0.8632 - val_top-5-accuracy: 1.0000\n",
      "Epoch 93/100\n",
      "21/21 [==============================] - 8s 383ms/step - loss: 0.1430 - accuracy: 0.9543 - top-5-accuracy: 1.0000 - val_loss: 0.4427 - val_accuracy: 0.8686 - val_top-5-accuracy: 1.0000\n",
      "Epoch 94/100\n",
      "21/21 [==============================] - 8s 383ms/step - loss: 0.1036 - accuracy: 0.9611 - top-5-accuracy: 1.0000 - val_loss: 0.4155 - val_accuracy: 0.8632 - val_top-5-accuracy: 1.0000\n",
      "Epoch 95/100\n",
      "21/21 [==============================] - 8s 383ms/step - loss: 0.1445 - accuracy: 0.9489 - top-5-accuracy: 1.0000 - val_loss: 0.4183 - val_accuracy: 0.8597 - val_top-5-accuracy: 1.0000\n",
      "Epoch 96/100\n",
      "21/21 [==============================] - 8s 382ms/step - loss: 0.1162 - accuracy: 0.9611 - top-5-accuracy: 1.0000 - val_loss: 0.4086 - val_accuracy: 0.8597 - val_top-5-accuracy: 1.0000\n",
      "Epoch 97/100\n",
      "21/21 [==============================] - 8s 383ms/step - loss: 0.1349 - accuracy: 0.9520 - top-5-accuracy: 1.0000 - val_loss: 0.4070 - val_accuracy: 0.8544 - val_top-5-accuracy: 1.0000\n",
      "Epoch 98/100\n",
      "21/21 [==============================] - 8s 383ms/step - loss: 0.1336 - accuracy: 0.9581 - top-5-accuracy: 1.0000 - val_loss: 0.3751 - val_accuracy: 0.8650 - val_top-5-accuracy: 1.0000\n",
      "Epoch 99/100\n",
      "21/21 [==============================] - 8s 382ms/step - loss: 0.1208 - accuracy: 0.9642 - top-5-accuracy: 1.0000 - val_loss: 0.4234 - val_accuracy: 0.8703 - val_top-5-accuracy: 1.0000\n",
      "Epoch 100/100\n",
      "21/21 [==============================] - 8s 383ms/step - loss: 0.1297 - accuracy: 0.9520 - top-5-accuracy: 1.0000 - val_loss: 0.3998 - val_accuracy: 0.8508 - val_top-5-accuracy: 1.0000\n",
      "8/8 [==============================] - 1s 111ms/step - loss: 0.3165 - accuracy: 0.8934 - top-5-accuracy: 1.0000\n",
      "Test accuracy: 89.34%\n",
      "Test top 5 accuracy: 100.0%\n"
     ]
    }
   ],
   "source": []
  },
  {
   "cell_type": "code",
   "execution_count": null,
   "metadata": {
    "colab": {
     "base_uri": "https://localhost:8080/"
    },
    "id": "XMz0IHw9KF_x",
    "outputId": "50de7e8e-d716-4819-c229-ec5f7dff1324"
   },
   "outputs": [
    {
     "name": "stdout",
     "output_type": "stream",
     "text": [
      "WARNING:tensorflow:Skipping full serialization of Keras layer <keras.layers.normalization.layer_normalization.LayerNormalization object at 0x7f2ac21ce910>, because it is not built.\n"
     ]
    }
   ],
   "source": [
    "vit.save('/content/drive/MyDrive/Augmented VUT_US_NET_1')"
   ]
  },
  {
   "cell_type": "code",
   "execution_count": null,
   "metadata": {
    "id": "WS04GJ_TY2iH"
   },
   "outputs": [],
   "source": []
  }
 ],
 "metadata": {
  "accelerator": "GPU",
  "colab": {
   "name": "Untitled15.ipynb",
   "provenance": []
  },
  "kernelspec": {
   "display_name": "Python 3 (ipykernel)",
   "language": "python",
   "name": "python3"
  },
  "language_info": {
   "codemirror_mode": {
    "name": "ipython",
    "version": 3
   },
   "file_extension": ".py",
   "mimetype": "text/x-python",
   "name": "python",
   "nbconvert_exporter": "python",
   "pygments_lexer": "ipython3",
   "version": "3.7.13"
  }
 },
 "nbformat": 4,
 "nbformat_minor": 1
}
