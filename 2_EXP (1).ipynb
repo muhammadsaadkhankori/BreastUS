{
 "cells": [
  {
   "cell_type": "code",
   "execution_count": 2,
   "metadata": {
    "id": "xfTQgdUCDHdv"
   },
   "outputs": [],
   "source": [
    "# install tensorflow_addonsa \n",
    "#its require some finctionality that are not built in tensroflow thats why we have to used it using this package"
   ]
  },
  {
   "cell_type": "code",
   "execution_count": 3,
   "metadata": {
    "colab": {
     "base_uri": "https://localhost:8080/"
    },
    "id": "qsgKOSNfEYBO",
    "outputId": "56663b8b-9bb2-40e5-b848-1d4f971ecfda"
   },
   "outputs": [
    {
     "name": "stdout",
     "output_type": "stream",
     "text": [
      "Collecting tensorflow-addons\n",
      "  Downloading tensorflow_addons-0.16.1-cp37-cp37m-manylinux_2_12_x86_64.manylinux2010_x86_64.whl (1.1 MB)\n",
      "\u001b[?25l\r",
      "\u001b[K     |▎                               | 10 kB 17.1 MB/s eta 0:00:01\r",
      "\u001b[K     |▋                               | 20 kB 20.0 MB/s eta 0:00:01\r",
      "\u001b[K     |▉                               | 30 kB 14.6 MB/s eta 0:00:01\r",
      "\u001b[K     |█▏                              | 40 kB 10.6 MB/s eta 0:00:01\r",
      "\u001b[K     |█▌                              | 51 kB 7.7 MB/s eta 0:00:01\r",
      "\u001b[K     |█▊                              | 61 kB 8.9 MB/s eta 0:00:01\r",
      "\u001b[K     |██                              | 71 kB 9.4 MB/s eta 0:00:01\r",
      "\u001b[K     |██▍                             | 81 kB 9.6 MB/s eta 0:00:01\r",
      "\u001b[K     |██▋                             | 92 kB 10.4 MB/s eta 0:00:01\r",
      "\u001b[K     |███                             | 102 kB 10.9 MB/s eta 0:00:01\r",
      "\u001b[K     |███▏                            | 112 kB 10.9 MB/s eta 0:00:01\r",
      "\u001b[K     |███▌                            | 122 kB 10.9 MB/s eta 0:00:01\r",
      "\u001b[K     |███▉                            | 133 kB 10.9 MB/s eta 0:00:01\r",
      "\u001b[K     |████                            | 143 kB 10.9 MB/s eta 0:00:01\r",
      "\u001b[K     |████▍                           | 153 kB 10.9 MB/s eta 0:00:01\r",
      "\u001b[K     |████▊                           | 163 kB 10.9 MB/s eta 0:00:01\r",
      "\u001b[K     |█████                           | 174 kB 10.9 MB/s eta 0:00:01\r",
      "\u001b[K     |█████▎                          | 184 kB 10.9 MB/s eta 0:00:01\r",
      "\u001b[K     |█████▌                          | 194 kB 10.9 MB/s eta 0:00:01\r",
      "\u001b[K     |█████▉                          | 204 kB 10.9 MB/s eta 0:00:01\r",
      "\u001b[K     |██████▏                         | 215 kB 10.9 MB/s eta 0:00:01\r",
      "\u001b[K     |██████▍                         | 225 kB 10.9 MB/s eta 0:00:01\r",
      "\u001b[K     |██████▊                         | 235 kB 10.9 MB/s eta 0:00:01\r",
      "\u001b[K     |███████                         | 245 kB 10.9 MB/s eta 0:00:01\r",
      "\u001b[K     |███████▎                        | 256 kB 10.9 MB/s eta 0:00:01\r",
      "\u001b[K     |███████▋                        | 266 kB 10.9 MB/s eta 0:00:01\r",
      "\u001b[K     |███████▉                        | 276 kB 10.9 MB/s eta 0:00:01\r",
      "\u001b[K     |████████▏                       | 286 kB 10.9 MB/s eta 0:00:01\r",
      "\u001b[K     |████████▌                       | 296 kB 10.9 MB/s eta 0:00:01\r",
      "\u001b[K     |████████▊                       | 307 kB 10.9 MB/s eta 0:00:01\r",
      "\u001b[K     |█████████                       | 317 kB 10.9 MB/s eta 0:00:01\r",
      "\u001b[K     |█████████▍                      | 327 kB 10.9 MB/s eta 0:00:01\r",
      "\u001b[K     |█████████▋                      | 337 kB 10.9 MB/s eta 0:00:01\r",
      "\u001b[K     |██████████                      | 348 kB 10.9 MB/s eta 0:00:01\r",
      "\u001b[K     |██████████▏                     | 358 kB 10.9 MB/s eta 0:00:01\r",
      "\u001b[K     |██████████▌                     | 368 kB 10.9 MB/s eta 0:00:01\r",
      "\u001b[K     |██████████▉                     | 378 kB 10.9 MB/s eta 0:00:01\r",
      "\u001b[K     |███████████                     | 389 kB 10.9 MB/s eta 0:00:01\r",
      "\u001b[K     |███████████▍                    | 399 kB 10.9 MB/s eta 0:00:01\r",
      "\u001b[K     |███████████▊                    | 409 kB 10.9 MB/s eta 0:00:01\r",
      "\u001b[K     |████████████                    | 419 kB 10.9 MB/s eta 0:00:01\r",
      "\u001b[K     |████████████▎                   | 430 kB 10.9 MB/s eta 0:00:01\r",
      "\u001b[K     |████████████▌                   | 440 kB 10.9 MB/s eta 0:00:01\r",
      "\u001b[K     |████████████▉                   | 450 kB 10.9 MB/s eta 0:00:01\r",
      "\u001b[K     |█████████████▏                  | 460 kB 10.9 MB/s eta 0:00:01\r",
      "\u001b[K     |█████████████▍                  | 471 kB 10.9 MB/s eta 0:00:01\r",
      "\u001b[K     |█████████████▊                  | 481 kB 10.9 MB/s eta 0:00:01\r",
      "\u001b[K     |██████████████                  | 491 kB 10.9 MB/s eta 0:00:01\r",
      "\u001b[K     |██████████████▎                 | 501 kB 10.9 MB/s eta 0:00:01\r",
      "\u001b[K     |██████████████▋                 | 512 kB 10.9 MB/s eta 0:00:01\r",
      "\u001b[K     |██████████████▉                 | 522 kB 10.9 MB/s eta 0:00:01\r",
      "\u001b[K     |███████████████▏                | 532 kB 10.9 MB/s eta 0:00:01\r",
      "\u001b[K     |███████████████▌                | 542 kB 10.9 MB/s eta 0:00:01\r",
      "\u001b[K     |███████████████▊                | 552 kB 10.9 MB/s eta 0:00:01\r",
      "\u001b[K     |████████████████                | 563 kB 10.9 MB/s eta 0:00:01\r",
      "\u001b[K     |████████████████▍               | 573 kB 10.9 MB/s eta 0:00:01\r",
      "\u001b[K     |████████████████▋               | 583 kB 10.9 MB/s eta 0:00:01\r",
      "\u001b[K     |█████████████████               | 593 kB 10.9 MB/s eta 0:00:01\r",
      "\u001b[K     |█████████████████▏              | 604 kB 10.9 MB/s eta 0:00:01\r",
      "\u001b[K     |█████████████████▌              | 614 kB 10.9 MB/s eta 0:00:01\r",
      "\u001b[K     |█████████████████▉              | 624 kB 10.9 MB/s eta 0:00:01\r",
      "\u001b[K     |██████████████████              | 634 kB 10.9 MB/s eta 0:00:01\r",
      "\u001b[K     |██████████████████▍             | 645 kB 10.9 MB/s eta 0:00:01\r",
      "\u001b[K     |██████████████████▊             | 655 kB 10.9 MB/s eta 0:00:01\r",
      "\u001b[K     |███████████████████             | 665 kB 10.9 MB/s eta 0:00:01\r",
      "\u001b[K     |███████████████████▎            | 675 kB 10.9 MB/s eta 0:00:01\r",
      "\u001b[K     |███████████████████▌            | 686 kB 10.9 MB/s eta 0:00:01\r",
      "\u001b[K     |███████████████████▉            | 696 kB 10.9 MB/s eta 0:00:01\r",
      "\u001b[K     |████████████████████▏           | 706 kB 10.9 MB/s eta 0:00:01\r",
      "\u001b[K     |████████████████████▍           | 716 kB 10.9 MB/s eta 0:00:01\r",
      "\u001b[K     |████████████████████▊           | 727 kB 10.9 MB/s eta 0:00:01\r",
      "\u001b[K     |█████████████████████           | 737 kB 10.9 MB/s eta 0:00:01\r",
      "\u001b[K     |█████████████████████▎          | 747 kB 10.9 MB/s eta 0:00:01\r",
      "\u001b[K     |█████████████████████▋          | 757 kB 10.9 MB/s eta 0:00:01\r",
      "\u001b[K     |█████████████████████▉          | 768 kB 10.9 MB/s eta 0:00:01\r",
      "\u001b[K     |██████████████████████▏         | 778 kB 10.9 MB/s eta 0:00:01\r",
      "\u001b[K     |██████████████████████▌         | 788 kB 10.9 MB/s eta 0:00:01\r",
      "\u001b[K     |██████████████████████▊         | 798 kB 10.9 MB/s eta 0:00:01\r",
      "\u001b[K     |███████████████████████         | 808 kB 10.9 MB/s eta 0:00:01\r",
      "\u001b[K     |███████████████████████▍        | 819 kB 10.9 MB/s eta 0:00:01\r",
      "\u001b[K     |███████████████████████▋        | 829 kB 10.9 MB/s eta 0:00:01\r",
      "\u001b[K     |████████████████████████        | 839 kB 10.9 MB/s eta 0:00:01\r",
      "\u001b[K     |████████████████████████▏       | 849 kB 10.9 MB/s eta 0:00:01\r",
      "\u001b[K     |████████████████████████▌       | 860 kB 10.9 MB/s eta 0:00:01\r",
      "\u001b[K     |████████████████████████▉       | 870 kB 10.9 MB/s eta 0:00:01\r",
      "\u001b[K     |█████████████████████████       | 880 kB 10.9 MB/s eta 0:00:01\r",
      "\u001b[K     |█████████████████████████▍      | 890 kB 10.9 MB/s eta 0:00:01\r",
      "\u001b[K     |█████████████████████████▊      | 901 kB 10.9 MB/s eta 0:00:01\r",
      "\u001b[K     |██████████████████████████      | 911 kB 10.9 MB/s eta 0:00:01\r",
      "\u001b[K     |██████████████████████████▎     | 921 kB 10.9 MB/s eta 0:00:01\r",
      "\u001b[K     |██████████████████████████▌     | 931 kB 10.9 MB/s eta 0:00:01\r",
      "\u001b[K     |██████████████████████████▉     | 942 kB 10.9 MB/s eta 0:00:01\r",
      "\u001b[K     |███████████████████████████▏    | 952 kB 10.9 MB/s eta 0:00:01\r",
      "\u001b[K     |███████████████████████████▍    | 962 kB 10.9 MB/s eta 0:00:01\r",
      "\u001b[K     |███████████████████████████▊    | 972 kB 10.9 MB/s eta 0:00:01\r",
      "\u001b[K     |████████████████████████████    | 983 kB 10.9 MB/s eta 0:00:01\r",
      "\u001b[K     |████████████████████████████▎   | 993 kB 10.9 MB/s eta 0:00:01\r",
      "\u001b[K     |████████████████████████████▋   | 1.0 MB 10.9 MB/s eta 0:00:01\r",
      "\u001b[K     |████████████████████████████▉   | 1.0 MB 10.9 MB/s eta 0:00:01\r",
      "\u001b[K     |█████████████████████████████▏  | 1.0 MB 10.9 MB/s eta 0:00:01\r",
      "\u001b[K     |█████████████████████████████▌  | 1.0 MB 10.9 MB/s eta 0:00:01\r",
      "\u001b[K     |█████████████████████████████▊  | 1.0 MB 10.9 MB/s eta 0:00:01\r",
      "\u001b[K     |██████████████████████████████  | 1.1 MB 10.9 MB/s eta 0:00:01\r",
      "\u001b[K     |██████████████████████████████▍ | 1.1 MB 10.9 MB/s eta 0:00:01\r",
      "\u001b[K     |██████████████████████████████▋ | 1.1 MB 10.9 MB/s eta 0:00:01\r",
      "\u001b[K     |███████████████████████████████ | 1.1 MB 10.9 MB/s eta 0:00:01\r",
      "\u001b[K     |███████████████████████████████▏| 1.1 MB 10.9 MB/s eta 0:00:01\r",
      "\u001b[K     |███████████████████████████████▌| 1.1 MB 10.9 MB/s eta 0:00:01\r",
      "\u001b[K     |███████████████████████████████▉| 1.1 MB 10.9 MB/s eta 0:00:01\r",
      "\u001b[K     |████████████████████████████████| 1.1 MB 10.9 MB/s \n",
      "\u001b[?25hRequirement already satisfied: typeguard>=2.7 in /usr/local/lib/python3.7/dist-packages (from tensorflow-addons) (2.7.1)\n",
      "Installing collected packages: tensorflow-addons\n",
      "Successfully installed tensorflow-addons-0.16.1\n"
     ]
    }
   ],
   "source": [
    "!pip install -U tensorflow-addons"
   ]
  },
  {
   "cell_type": "code",
   "execution_count": 4,
   "metadata": {
    "id": "dEuYBFhfEoCC"
   },
   "outputs": [],
   "source": [
    "#Packages used in this study"
   ]
  },
  {
   "cell_type": "code",
   "execution_count": 5,
   "metadata": {
    "id": "Jxk-DWtlEYiN"
   },
   "outputs": [],
   "source": [
    "import tensorflow as tf\n",
    "from tensorflow import keras\n",
    "from keras.preprocessing.image import ImageDataGenerator\n",
    "from keras.models import Sequential\n",
    "import numpy as np\n",
    "import matplotlib.pyplot as plt\n",
    "import random\n",
    "from keras.layers import Conv2D, MaxPooling2D, Flatten, Dense\n",
    "from keras.models import Sequential\n",
    "import matplotlib.pyplot as plt\n",
    "from tensorflow import keras\n",
    "import tensorflow_addons as tfa\n",
    "from tensorflow.keras import layers\n",
    "import random,cv2,os,glob"
   ]
  },
  {
   "cell_type": "code",
   "execution_count": 6,
   "metadata": {
    "id": "XWJKHoiNEkjL"
   },
   "outputs": [],
   "source": [
    "path =\"/content/drive/MyDrive/Augmentation/*\"\n",
    "data_paths = os.path.join(path,'*g')\n",
    "imagePaths = glob.glob(data_paths)"
   ]
  },
  {
   "cell_type": "code",
   "execution_count": 7,
   "metadata": {
    "colab": {
     "base_uri": "https://localhost:8080/"
    },
    "id": "4rfsrUs5EumZ",
    "outputId": "c0706836-9ab5-4803-e0a7-ce69da237ba4"
   },
   "outputs": [
    {
     "data": {
      "text/plain": [
       "2344"
      ]
     },
     "execution_count": 7,
     "metadata": {},
     "output_type": "execute_result"
    }
   ],
   "source": [
    "len(imagePaths)"
   ]
  },
  {
   "cell_type": "code",
   "execution_count": 8,
   "metadata": {
    "id": "DnB2H9hgEvxh"
   },
   "outputs": [],
   "source": [
    "labels=[]\n",
    "images=[]\n",
    "for imgpath in imagePaths:\n",
    "    img=cv2.imread(imgpath)\n",
    "    img=cv2.resize(img,(224,224))\n",
    "    images.append(img)\n",
    "    label= imgpath.split(os.path.sep)[-2].split(\"_\")\n",
    "    labels.append(label)"
   ]
  },
  {
   "cell_type": "code",
   "execution_count": 9,
   "metadata": {
    "id": "dx2aR-TYExkL"
   },
   "outputs": [],
   "source": [
    "images=np.array(images)\n",
    "labels=np.array(labels)"
   ]
  },
  {
   "cell_type": "code",
   "execution_count": 10,
   "metadata": {
    "colab": {
     "base_uri": "https://localhost:8080/"
    },
    "id": "tYDYZJwWEy_R",
    "outputId": "0b181fb7-60b0-4005-91db-2d42d363c691"
   },
   "outputs": [
    {
     "name": "stderr",
     "output_type": "stream",
     "text": [
      "/usr/local/lib/python3.7/dist-packages/sklearn/preprocessing/_label.py:115: DataConversionWarning: A column-vector y was passed when a 1d array was expected. Please change the shape of y to (n_samples, ), for example using ravel().\n",
      "  y = column_or_1d(y, warn=True)\n"
     ]
    }
   ],
   "source": [
    "from sklearn.preprocessing import LabelEncoder\n",
    "label_encoder = LabelEncoder()\n",
    "labels = label_encoder.fit_transform(labels)"
   ]
  },
  {
   "cell_type": "code",
   "execution_count": 11,
   "metadata": {
    "id": "aNLqy-qWE0L8"
   },
   "outputs": [],
   "source": [
    "from sklearn.model_selection import train_test_split\n",
    "x_train,x_test,y_train,y_test = train_test_split(images,labels,test_size=.2,random_state=20)\n",
    "NUM_CLASSES = 3\n",
    "INPUT_SHAPE = (224, 224, 3)"
   ]
  },
  {
   "cell_type": "code",
   "execution_count": 12,
   "metadata": {
    "id": "bIsnFypJE1nZ"
   },
   "outputs": [],
   "source": [
    "# DATA\n",
    "BUFFER_SIZE = 512\n",
    "BATCH_SIZE = 64\n",
    "\n",
    "# AUGMENTATION\n",
    "IMAGE_SIZE = 100\n",
    "PATCH_SIZE = 6\n",
    "NUM_PATCHES = (IMAGE_SIZE // PATCH_SIZE) ** 2\n",
    "\n",
    "# OPTIMIZER\n",
    "LEARNING_RATE = 0.0003\n",
    "WEIGHT_DECAY = 0.0001\n",
    "\n",
    "# TRAINING\n",
    "EPOCHS = 100\n",
    "\n",
    "# ARCHITECTURE\n",
    "LAYER_NORM_EPS = 1e-6\n",
    "TRANSFORMER_LAYERS = 12\n",
    "PROJECTION_DIM = 64\n",
    "NUM_HEADS = 4\n",
    "TRANSFORMER_UNITS = [\n",
    "    PROJECTION_DIM * 2,\n",
    "    PROJECTION_DIM,\n",
    "]\n",
    "MLP_HEAD_UNITS = [2048, 1024]"
   ]
  },
  {
   "cell_type": "code",
   "execution_count": 13,
   "metadata": {
    "id": "hxEl1N2tE4G4"
   },
   "outputs": [],
   "source": [
    "data_augmentation = keras.Sequential(\n",
    "    [\n",
    "        layers.Normalization(),\n",
    "        layers.Resizing(IMAGE_SIZE, IMAGE_SIZE),\n",
    "        layers.RandomFlip(\"horizontal\"),\n",
    "        layers.RandomRotation(factor=0.02),\n",
    "        layers.RandomZoom(height_factor=0.2, width_factor=0.2),\n",
    "    ],\n",
    "    name=\"data_augmentation\",\n",
    ")\n",
    "# Compute the mean and the variance of the training data for normalization.\n",
    "data_augmentation.layers[0].adapt(x_train)"
   ]
  },
  {
   "cell_type": "code",
   "execution_count": 14,
   "metadata": {
    "id": "jUdx5LRUFS7P"
   },
   "outputs": [],
   "source": [
    "class ShiftedPatchTokenization(layers.Layer):\n",
    "    def __init__(\n",
    "        self,\n",
    "        image_size=IMAGE_SIZE,\n",
    "        patch_size=PATCH_SIZE,\n",
    "        num_patches=NUM_PATCHES,\n",
    "        projection_dim=PROJECTION_DIM,\n",
    "        vanilla=False,\n",
    "        **kwargs,\n",
    "    ):\n",
    "        super().__init__(**kwargs)\n",
    "        self.vanilla = vanilla  # Flag to swtich to vanilla patch extractor\n",
    "        self.image_size = image_size\n",
    "        self.patch_size = patch_size\n",
    "        self.half_patch = patch_size // 2\n",
    "        self.flatten_patches = layers.Reshape((num_patches, -1))\n",
    "        self.projection = layers.Dense(units=projection_dim)\n",
    "        self.layer_norm = layers.LayerNormalization(epsilon=LAYER_NORM_EPS)\n",
    "\n",
    "    def crop_shift_pad(self, images, mode):\n",
    "        # Build the diagonally shifted images\n",
    "        if mode == \"left-up\":\n",
    "            crop_height = self.half_patch\n",
    "            crop_width = self.half_patch\n",
    "            shift_height = 0\n",
    "            shift_width = 0\n",
    "        elif mode == \"left-down\":\n",
    "            crop_height = 0\n",
    "            crop_width = self.half_patch\n",
    "            shift_height = self.half_patch\n",
    "            shift_width = 0\n",
    "        elif mode == \"right-up\":\n",
    "            crop_height = self.half_patch\n",
    "            crop_width = 0\n",
    "            shift_height = 0\n",
    "            shift_width = self.half_patch\n",
    "        else:\n",
    "            crop_height = 0\n",
    "            crop_width = 0\n",
    "            shift_height = self.half_patch\n",
    "            shift_width = self.half_patch\n",
    "\n",
    "        # Crop the shifted images and pad them\n",
    "        crop = tf.image.crop_to_bounding_box(\n",
    "            images,\n",
    "            offset_height=crop_height,\n",
    "            offset_width=crop_width,\n",
    "            target_height=self.image_size - self.half_patch,\n",
    "            target_width=self.image_size - self.half_patch,\n",
    "        )\n",
    "        shift_pad = tf.image.pad_to_bounding_box(\n",
    "            crop,\n",
    "            offset_height=shift_height,\n",
    "            offset_width=shift_width,\n",
    "            target_height=self.image_size,\n",
    "            target_width=self.image_size,\n",
    "        )\n",
    "        return shift_pad\n",
    "\n",
    "    def call(self, images):\n",
    "        if not self.vanilla:\n",
    "            # Concat the shifted images with the original image\n",
    "            images = tf.concat(\n",
    "                [\n",
    "                    images,\n",
    "                    self.crop_shift_pad(images, mode=\"left-up\"),\n",
    "                    self.crop_shift_pad(images, mode=\"left-down\"),\n",
    "                    self.crop_shift_pad(images, mode=\"right-up\"),\n",
    "                    self.crop_shift_pad(images, mode=\"right-down\"),\n",
    "                ],\n",
    "                axis=-1,\n",
    "            )\n",
    "        # Patchify the images and flatten it\n",
    "        patches = tf.image.extract_patches(\n",
    "            images=images,\n",
    "            sizes=[1, self.patch_size, self.patch_size, 1],\n",
    "            strides=[1, self.patch_size, self.patch_size, 1],\n",
    "            rates=[1, 1, 1, 1],\n",
    "            padding=\"VALID\",\n",
    "        )\n",
    "        flat_patches = self.flatten_patches(patches)\n",
    "        if not self.vanilla:\n",
    "            # Layer normalize the flat patches and linearly project it\n",
    "            tokens = self.layer_norm(flat_patches)\n",
    "            tokens = self.projection(tokens)\n",
    "        else:\n",
    "            # Linearly project the flat patches\n",
    "            tokens = self.projection(flat_patches)\n",
    "        return (tokens, patches)"
   ]
  },
  {
   "cell_type": "code",
   "execution_count": 15,
   "metadata": {
    "colab": {
     "base_uri": "https://localhost:8080/",
     "height": 460
    },
    "id": "plOkpXVzFUFK",
    "outputId": "2baeba51-e663-4bf9-f3a8-2abe82a1b2db"
   },
   "outputs": [
    {
     "data": {
      "image/png": "[encoded data removed]",
      "text/plain": [
       "<Figure size 288x288 with 256 Axes>"
      ]
     },
     "metadata": {
      "needs_background": "light"
     },
     "output_type": "display_data"
    },
    {
     "name": "stdout",
     "output_type": "stream",
     "text": [
      "ORIGINAL\n"
     ]
    },
    {
     "data": {
      "image/png": "[encoded data removed]",
      "text/plain": [
       "<Figure size 288x288 with 16 Axes>"
      ]
     },
     "metadata": {
      "needs_background": "light"
     },
     "output_type": "display_data"
    },
    {
     "name": "stdout",
     "output_type": "stream",
     "text": [
      "LEFT-UP\n"
     ]
    },
    {
     "data": {
      "image/png": "[encoded data removed]",
      "text/plain": [
       "<Figure size 288x288 with 16 Axes>"
      ]
     },
     "metadata": {
      "needs_background": "light"
     },
     "output_type": "display_data"
    },
    {
     "name": "stdout",
     "output_type": "stream",
     "text": [
      "LEFT-DOWN\n"
     ]
    },
    {
     "data": {
      "image/png": "[encoded data removed]",
      "text/plain": [
       "<Figure size 288x288 with 16 Axes>"
      ]
     },
     "metadata": {
      "needs_background": "light"
     },
     "output_type": "display_data"
    },
    {
     "name": "stdout",
     "output_type": "stream",
     "text": [
      "RIGHT-UP\n"
     ]
    },
    {
     "data": {
      "image/png": "[encoded data removed]",
      "text/plain": [
       "<Figure size 288x288 with 16 Axes>"
      ]
     },
     "metadata": {
      "needs_background": "light"
     },
     "output_type": "display_data"
    },
    {
     "name": "stdout",
     "output_type": "stream",
     "text": [
      "RIGHT-DOWN\n"
     ]
    },
    {
     "data": {
      "image/png": "[encoded data removed]",
      "text/plain": [
       "<Figure size 288x288 with 16 Axes>"
      ]
     },
     "metadata": {
      "needs_background": "light"
     },
     "output_type": "display_data"
    }
   ],
   "source": [
    "# Get a random image from the training dataset\n",
    "# and resize the image\n",
    "image = x_train[np.random.choice(range(x_train.shape[0]))]\n",
    "resized_image = tf.image.resize(\n",
    "    tf.convert_to_tensor([image]), size=(IMAGE_SIZE, IMAGE_SIZE)\n",
    ")\n",
    "\n",
    "# Vanilla patch maker: This takes an image and divides into\n",
    "# patches as in the original ViT paper\n",
    "(token, patch) = ShiftedPatchTokenization(vanilla=True)(resized_image / 255.0)\n",
    "(token, patch) = (token[0], patch[0])\n",
    "n = patch.shape[0]\n",
    "count = 1\n",
    "plt.figure(figsize=(4, 4))\n",
    "for row in range(n):\n",
    "    for col in range(n):\n",
    "        plt.subplot(n, n, count)\n",
    "        count = count + 1\n",
    "        image = tf.reshape(patch[row][col], (PATCH_SIZE, PATCH_SIZE, 3))\n",
    "        plt.imshow(image)\n",
    "        plt.axis(\"off\")\n",
    "plt.show()\n",
    "\n",
    "# Shifted Patch Tokenization: This layer takes the image, shifts it\n",
    "# diagonally and then extracts patches from the concatinated images\n",
    "(token, patch) = ShiftedPatchTokenization(vanilla=False)(resized_image / 255.0)\n",
    "(token, patch) = (token[0], patch[0])\n",
    "n = patch.shape[0]\n",
    "shifted_images = [\"ORIGINAL\", \"LEFT-UP\", \"LEFT-DOWN\", \"RIGHT-UP\", \"RIGHT-DOWN\"]\n",
    "for index, name in enumerate(shifted_images):\n",
    "    print(name)\n",
    "    count = 1\n",
    "    plt.figure(figsize=(4, 4))\n",
    "    for row in range(n):\n",
    "        for col in range(n):\n",
    "            plt.subplot(n, n, count)\n",
    "            count = count + 1\n",
    "            image = tf.reshape(patch[row][col], (PATCH_SIZE, PATCH_SIZE, 5 * 3))\n",
    "            plt.imshow(image[..., 3 * index : 3 * index + 3])\n",
    "            plt.axis(\"off\")\n",
    "            break\n",
    "    plt.show()"
   ]
  },
  {
   "cell_type": "code",
   "execution_count": 16,
   "metadata": {
    "id": "tMlnbWvXFWIf"
   },
   "outputs": [],
   "source": [
    "class PatchEncoder(layers.Layer):\n",
    "    def __init__(\n",
    "        self, num_patches=NUM_PATCHES, projection_dim=PROJECTION_DIM, **kwargs\n",
    "    ):\n",
    "        super().__init__(**kwargs)\n",
    "        self.num_patches = num_patches\n",
    "        self.position_embedding = layers.Embedding(\n",
    "            input_dim=num_patches, output_dim=projection_dim\n",
    "        )\n",
    "        self.positions = tf.range(start=0, limit=self.num_patches, delta=1)\n",
    "\n",
    "    def call(self, encoded_patches):\n",
    "        encoded_positions = self.position_embedding(self.positions)\n",
    "        encoded_patches = encoded_patches + encoded_positions\n",
    "        return encoded_patches"
   ]
  },
  {
   "cell_type": "code",
   "execution_count": 17,
   "metadata": {
    "id": "U5kL7Pg0FXbm"
   },
   "outputs": [],
   "source": [
    "class MultiHeadAttentionLSA(tf.keras.layers.MultiHeadAttention):\n",
    "    def __init__(self, **kwargs):\n",
    "        super().__init__(**kwargs)\n",
    "        # The trainable temperature term. The initial value is\n",
    "        # the square root of the key dimension.\n",
    "        self.tau = tf.Variable(math.sqrt(float(self._key_dim)), trainable=True)\n",
    "\n",
    "    def _compute_attention(self, query, key, value, attention_mask=None, training=None):\n",
    "        query = tf.multiply(query, 1.0 / self.tau)\n",
    "        attention_scores = tf.einsum(self._dot_product_equation, key, query)\n",
    "        attention_scores = self._masked_softmax(attention_scores, attention_mask)\n",
    "        attention_scores_dropout = self._dropout_layer(\n",
    "            attention_scores, training=training\n",
    "        )\n",
    "        attention_output = tf.einsum(\n",
    "            self._combine_equation, attention_scores_dropout, value\n",
    "        )\n",
    "        return attention_output, attention_scores"
   ]
  },
  {
   "cell_type": "code",
   "execution_count": 18,
   "metadata": {
    "id": "QL6pexFEFYkZ"
   },
   "outputs": [],
   "source": [
    "def mlp(x, hidden_units, dropout_rate):\n",
    "    for units in hidden_units:\n",
    "        x = layers.Dense(units, activation=tf.nn.gelu)(x)\n",
    "        x = layers.Dropout(dropout_rate)(x)\n",
    "    return x\n",
    "\n",
    "\n",
    "# Build the diagonal attention mask\n",
    "diag_attn_mask = 1 - tf.eye(NUM_PATCHES)\n",
    "diag_attn_mask = tf.cast([diag_attn_mask], dtype=tf.int8)"
   ]
  },
  {
   "cell_type": "code",
   "execution_count": 19,
   "metadata": {
    "id": "rMzl3Yb2FaZD"
   },
   "outputs": [],
   "source": [
    "def create_vit_classifier(vanilla=False):\n",
    "    inputs = layers.Input(shape=INPUT_SHAPE)\n",
    "    # Augment data.\n",
    "    augmented = data_augmentation(inputs)\n",
    "    # Create patches.\n",
    "    (tokens, _) = ShiftedPatchTokenization(vanilla=vanilla)(augmented)\n",
    "    # Encode patches.\n",
    "    encoded_patches = PatchEncoder()(tokens)\n",
    "\n",
    "    # Create multiple layers of the Transformer block.\n",
    "    for _ in range(TRANSFORMER_LAYERS):\n",
    "        # Layer normalization 1.\n",
    "        x1 = layers.LayerNormalization(epsilon=1e-6)(encoded_patches)\n",
    "        # Create a multi-head attention layer.\n",
    "        if not vanilla:\n",
    "            attention_output = MultiHeadAttentionLSA(\n",
    "                num_heads=NUM_HEADS, key_dim=PROJECTION_DIM, dropout=0.1\n",
    "            )(x1, x1, attention_mask=diag_attn_mask)\n",
    "        else:\n",
    "            attention_output = layers.MultiHeadAttention(\n",
    "                num_heads=NUM_HEADS, key_dim=PROJECTION_DIM, dropout=0.1\n",
    "            )(x1, x1)\n",
    "        # Skip connection 1.\n",
    "        x2 = layers.Add()([attention_output, encoded_patches])\n",
    "        # Layer normalization 2.\n",
    "        x3 = layers.LayerNormalization(epsilon=1e-6)(x2)\n",
    "        # MLP.\n",
    "        x3 = mlp(x3, hidden_units=TRANSFORMER_UNITS, dropout_rate=0.1)\n",
    "        # Skip connection 2.\n",
    "        encoded_patches = layers.Add()([x3, x2])\n",
    "\n",
    "    # Create a [batch_size, projection_dim] tensor.\n",
    "    representation = layers.LayerNormalization(epsilon=1e-6)(encoded_patches)\n",
    "    representation = layers.Flatten()(representation)\n",
    "    representation = layers.Dropout(0.5)(representation)\n",
    "    # Add MLP.\n",
    "    features = mlp(representation, hidden_units=MLP_HEAD_UNITS, dropout_rate=0.5)\n",
    "    # Classify outputs.\n",
    "    logits = layers.Dense(NUM_CLASSES)(features)\n",
    "    # Create the Keras model.\n",
    "    model = keras.Model(inputs=inputs, outputs=logits)\n",
    "    return model"
   ]
  },
  {
   "cell_type": "code",
   "execution_count": 20,
   "metadata": {
    "colab": {
     "base_uri": "https://localhost:8080/"
    },
    "id": "MPa1lMP6FsVX",
    "outputId": "caba0011-2464-4a71-cd62-2bcddbbb9825"
   },
   "outputs": [
    {
     "name": "stdout",
     "output_type": "stream",
     "text": [
      "Epoch 1/100\n",
      "27/27 [==============================] - 42s 804ms/step - loss: 2.5475 - accuracy: 0.4647 - top-5-accuracy: 1.0000 - val_loss: 1.1006 - val_accuracy: 0.5638 - val_top-5-accuracy: 1.0000\n",
      "Epoch 2/100\n",
      "27/27 [==============================] - 19s 720ms/step - loss: 1.5584 - accuracy: 0.5080 - top-5-accuracy: 1.0000 - val_loss: 0.8373 - val_accuracy: 0.5957 - val_top-5-accuracy: 1.0000\n",
      "Epoch 3/100\n",
      "27/27 [==============================] - 19s 716ms/step - loss: 1.3018 - accuracy: 0.5104 - top-5-accuracy: 1.0000 - val_loss: 0.8464 - val_accuracy: 0.5957 - val_top-5-accuracy: 1.0000\n",
      "Epoch 4/100\n",
      "27/27 [==============================] - 19s 717ms/step - loss: 1.0968 - accuracy: 0.5453 - top-5-accuracy: 1.0000 - val_loss: 0.8424 - val_accuracy: 0.6011 - val_top-5-accuracy: 1.0000\n",
      "Epoch 5/100\n",
      "27/27 [==============================] - 19s 716ms/step - loss: 1.0143 - accuracy: 0.5685 - top-5-accuracy: 1.0000 - val_loss: 0.8041 - val_accuracy: 0.6170 - val_top-5-accuracy: 1.0000\n",
      "Epoch 6/100\n",
      "27/27 [==============================] - 19s 716ms/step - loss: 1.0010 - accuracy: 0.5637 - top-5-accuracy: 1.0000 - val_loss: 0.7779 - val_accuracy: 0.6596 - val_top-5-accuracy: 1.0000\n",
      "Epoch 7/100\n",
      "27/27 [==============================] - 19s 716ms/step - loss: 0.9515 - accuracy: 0.5708 - top-5-accuracy: 1.0000 - val_loss: 0.7503 - val_accuracy: 0.6489 - val_top-5-accuracy: 1.0000\n",
      "Epoch 8/100\n",
      "27/27 [==============================] - 19s 716ms/step - loss: 0.8896 - accuracy: 0.6082 - top-5-accuracy: 1.0000 - val_loss: 0.6864 - val_accuracy: 0.6809 - val_top-5-accuracy: 1.0000\n",
      "Epoch 9/100\n",
      "27/27 [==============================] - 19s 714ms/step - loss: 0.8554 - accuracy: 0.6277 - top-5-accuracy: 1.0000 - val_loss: 0.6756 - val_accuracy: 0.7181 - val_top-5-accuracy: 1.0000\n",
      "Epoch 10/100\n",
      "27/27 [==============================] - 19s 715ms/step - loss: 0.8395 - accuracy: 0.6337 - top-5-accuracy: 1.0000 - val_loss: 0.7220 - val_accuracy: 0.7021 - val_top-5-accuracy: 1.0000\n",
      "Epoch 11/100\n",
      "27/27 [==============================] - 19s 714ms/step - loss: 0.8180 - accuracy: 0.6360 - top-5-accuracy: 1.0000 - val_loss: 0.6623 - val_accuracy: 0.6809 - val_top-5-accuracy: 1.0000\n",
      "Epoch 12/100\n",
      "27/27 [==============================] - 19s 715ms/step - loss: 0.7993 - accuracy: 0.6473 - top-5-accuracy: 1.0000 - val_loss: 0.6705 - val_accuracy: 0.7128 - val_top-5-accuracy: 1.0000\n",
      "Epoch 13/100\n",
      "27/27 [==============================] - 19s 716ms/step - loss: 0.8012 - accuracy: 0.6426 - top-5-accuracy: 1.0000 - val_loss: 0.6811 - val_accuracy: 0.7287 - val_top-5-accuracy: 1.0000\n",
      "Epoch 14/100\n",
      "27/27 [==============================] - 19s 716ms/step - loss: 0.7425 - accuracy: 0.6663 - top-5-accuracy: 1.0000 - val_loss: 0.6414 - val_accuracy: 0.7553 - val_top-5-accuracy: 1.0000\n",
      "Epoch 15/100\n",
      "27/27 [==============================] - 19s 714ms/step - loss: 0.7321 - accuracy: 0.6906 - top-5-accuracy: 1.0000 - val_loss: 0.6040 - val_accuracy: 0.7500 - val_top-5-accuracy: 1.0000\n",
      "Epoch 16/100\n",
      "27/27 [==============================] - 19s 714ms/step - loss: 0.6944 - accuracy: 0.6947 - top-5-accuracy: 1.0000 - val_loss: 0.6116 - val_accuracy: 0.7553 - val_top-5-accuracy: 1.0000\n",
      "Epoch 17/100\n",
      "27/27 [==============================] - 19s 715ms/step - loss: 0.6948 - accuracy: 0.6983 - top-5-accuracy: 1.0000 - val_loss: 0.6404 - val_accuracy: 0.7234 - val_top-5-accuracy: 1.0000\n",
      "Epoch 18/100\n",
      "27/27 [==============================] - 19s 715ms/step - loss: 0.6563 - accuracy: 0.7101 - top-5-accuracy: 1.0000 - val_loss: 0.5736 - val_accuracy: 0.7447 - val_top-5-accuracy: 1.0000\n",
      "Epoch 19/100\n",
      "27/27 [==============================] - 19s 715ms/step - loss: 0.6616 - accuracy: 0.7054 - top-5-accuracy: 1.0000 - val_loss: 0.5387 - val_accuracy: 0.7660 - val_top-5-accuracy: 1.0000\n",
      "Epoch 20/100\n",
      "27/27 [==============================] - 19s 713ms/step - loss: 0.6228 - accuracy: 0.7255 - top-5-accuracy: 1.0000 - val_loss: 0.5401 - val_accuracy: 0.7713 - val_top-5-accuracy: 1.0000\n",
      "Epoch 21/100\n",
      "27/27 [==============================] - 19s 713ms/step - loss: 0.5923 - accuracy: 0.7321 - top-5-accuracy: 1.0000 - val_loss: 0.5595 - val_accuracy: 0.7500 - val_top-5-accuracy: 1.0000\n",
      "Epoch 22/100\n",
      "27/27 [==============================] - 19s 715ms/step - loss: 0.6043 - accuracy: 0.7398 - top-5-accuracy: 1.0000 - val_loss: 0.5414 - val_accuracy: 0.7872 - val_top-5-accuracy: 1.0000\n",
      "Epoch 23/100\n",
      "27/27 [==============================] - 19s 714ms/step - loss: 0.5846 - accuracy: 0.7487 - top-5-accuracy: 1.0000 - val_loss: 0.5009 - val_accuracy: 0.7872 - val_top-5-accuracy: 1.0000\n",
      "Epoch 24/100\n",
      "27/27 [==============================] - 19s 713ms/step - loss: 0.5531 - accuracy: 0.7611 - top-5-accuracy: 1.0000 - val_loss: 0.5061 - val_accuracy: 0.7819 - val_top-5-accuracy: 1.0000\n",
      "Epoch 25/100\n",
      "27/27 [==============================] - 19s 714ms/step - loss: 0.5722 - accuracy: 0.7587 - top-5-accuracy: 1.0000 - val_loss: 0.5293 - val_accuracy: 0.7872 - val_top-5-accuracy: 1.0000\n",
      "Epoch 26/100\n",
      "27/27 [==============================] - 19s 715ms/step - loss: 0.5268 - accuracy: 0.7759 - top-5-accuracy: 1.0000 - val_loss: 0.4622 - val_accuracy: 0.7926 - val_top-5-accuracy: 1.0000\n",
      "Epoch 27/100\n",
      "27/27 [==============================] - 19s 714ms/step - loss: 0.5280 - accuracy: 0.7801 - top-5-accuracy: 1.0000 - val_loss: 0.5122 - val_accuracy: 0.7819 - val_top-5-accuracy: 1.0000\n",
      "Epoch 28/100\n",
      "27/27 [==============================] - 19s 718ms/step - loss: 0.4790 - accuracy: 0.8038 - top-5-accuracy: 1.0000 - val_loss: 0.4652 - val_accuracy: 0.7872 - val_top-5-accuracy: 1.0000\n",
      "Epoch 29/100\n",
      "27/27 [==============================] - 19s 714ms/step - loss: 0.4807 - accuracy: 0.7967 - top-5-accuracy: 1.0000 - val_loss: 0.4394 - val_accuracy: 0.8298 - val_top-5-accuracy: 1.0000\n",
      "Epoch 30/100\n",
      "27/27 [==============================] - 19s 714ms/step - loss: 0.4484 - accuracy: 0.8103 - top-5-accuracy: 1.0000 - val_loss: 0.3854 - val_accuracy: 0.8351 - val_top-5-accuracy: 1.0000\n",
      "Epoch 31/100\n",
      "27/27 [==============================] - 19s 713ms/step - loss: 0.4321 - accuracy: 0.8245 - top-5-accuracy: 1.0000 - val_loss: 0.4001 - val_accuracy: 0.8351 - val_top-5-accuracy: 1.0000\n",
      "Epoch 32/100\n",
      "27/27 [==============================] - 19s 714ms/step - loss: 0.4286 - accuracy: 0.8222 - top-5-accuracy: 1.0000 - val_loss: 0.3879 - val_accuracy: 0.8511 - val_top-5-accuracy: 1.0000\n",
      "Epoch 33/100\n",
      "27/27 [==============================] - 19s 711ms/step - loss: 0.3870 - accuracy: 0.8370 - top-5-accuracy: 1.0000 - val_loss: 0.3861 - val_accuracy: 0.8457 - val_top-5-accuracy: 1.0000\n",
      "Epoch 34/100\n",
      "27/27 [==============================] - 19s 713ms/step - loss: 0.4144 - accuracy: 0.8334 - top-5-accuracy: 1.0000 - val_loss: 0.3934 - val_accuracy: 0.8511 - val_top-5-accuracy: 1.0000\n",
      "Epoch 35/100\n",
      "27/27 [==============================] - 19s 712ms/step - loss: 0.4040 - accuracy: 0.8376 - top-5-accuracy: 1.0000 - val_loss: 0.3730 - val_accuracy: 0.8723 - val_top-5-accuracy: 1.0000\n",
      "Epoch 36/100\n",
      "27/27 [==============================] - 19s 712ms/step - loss: 0.3568 - accuracy: 0.8524 - top-5-accuracy: 1.0000 - val_loss: 0.3805 - val_accuracy: 0.8298 - val_top-5-accuracy: 1.0000\n",
      "Epoch 37/100\n",
      "27/27 [==============================] - 19s 713ms/step - loss: 0.3676 - accuracy: 0.8518 - top-5-accuracy: 1.0000 - val_loss: 0.3707 - val_accuracy: 0.8404 - val_top-5-accuracy: 1.0000\n",
      "Epoch 38/100\n",
      "27/27 [==============================] - 19s 714ms/step - loss: 0.3489 - accuracy: 0.8595 - top-5-accuracy: 1.0000 - val_loss: 0.3774 - val_accuracy: 0.8457 - val_top-5-accuracy: 1.0000\n",
      "Epoch 39/100\n",
      "27/27 [==============================] - 19s 714ms/step - loss: 0.3346 - accuracy: 0.8648 - top-5-accuracy: 1.0000 - val_loss: 0.3530 - val_accuracy: 0.8670 - val_top-5-accuracy: 1.0000\n",
      "Epoch 40/100\n",
      "27/27 [==============================] - 19s 714ms/step - loss: 0.3300 - accuracy: 0.8654 - top-5-accuracy: 1.0000 - val_loss: 0.3038 - val_accuracy: 0.9043 - val_top-5-accuracy: 1.0000\n",
      "Epoch 41/100\n",
      "27/27 [==============================] - 19s 714ms/step - loss: 0.3216 - accuracy: 0.8820 - top-5-accuracy: 1.0000 - val_loss: 0.3528 - val_accuracy: 0.8457 - val_top-5-accuracy: 1.0000\n",
      "Epoch 42/100\n",
      "27/27 [==============================] - 19s 715ms/step - loss: 0.3182 - accuracy: 0.8726 - top-5-accuracy: 1.0000 - val_loss: 0.3393 - val_accuracy: 0.8723 - val_top-5-accuracy: 1.0000\n",
      "Epoch 43/100\n",
      "27/27 [==============================] - 19s 713ms/step - loss: 0.2738 - accuracy: 0.8886 - top-5-accuracy: 1.0000 - val_loss: 0.3127 - val_accuracy: 0.8617 - val_top-5-accuracy: 1.0000\n",
      "Epoch 44/100\n",
      "27/27 [==============================] - 19s 715ms/step - loss: 0.2732 - accuracy: 0.8951 - top-5-accuracy: 1.0000 - val_loss: 0.2830 - val_accuracy: 0.8989 - val_top-5-accuracy: 1.0000\n",
      "Epoch 45/100\n",
      "27/27 [==============================] - 19s 714ms/step - loss: 0.2927 - accuracy: 0.8856 - top-5-accuracy: 1.0000 - val_loss: 0.2941 - val_accuracy: 0.8936 - val_top-5-accuracy: 1.0000\n",
      "Epoch 46/100\n",
      "27/27 [==============================] - 19s 715ms/step - loss: 0.2502 - accuracy: 0.9052 - top-5-accuracy: 1.0000 - val_loss: 0.2850 - val_accuracy: 0.8936 - val_top-5-accuracy: 1.0000\n",
      "Epoch 47/100\n",
      "27/27 [==============================] - 19s 713ms/step - loss: 0.2413 - accuracy: 0.9075 - top-5-accuracy: 1.0000 - val_loss: 0.3173 - val_accuracy: 0.8617 - val_top-5-accuracy: 1.0000\n",
      "Epoch 48/100\n",
      "27/27 [==============================] - 19s 715ms/step - loss: 0.2418 - accuracy: 0.9105 - top-5-accuracy: 1.0000 - val_loss: 0.2843 - val_accuracy: 0.9043 - val_top-5-accuracy: 1.0000\n",
      "Epoch 49/100\n",
      "27/27 [==============================] - 19s 714ms/step - loss: 0.2456 - accuracy: 0.9069 - top-5-accuracy: 1.0000 - val_loss: 0.2598 - val_accuracy: 0.9043 - val_top-5-accuracy: 1.0000\n",
      "Epoch 50/100\n",
      "27/27 [==============================] - 19s 714ms/step - loss: 0.2156 - accuracy: 0.9087 - top-5-accuracy: 1.0000 - val_loss: 0.2891 - val_accuracy: 0.8936 - val_top-5-accuracy: 1.0000\n",
      "Epoch 51/100\n",
      "27/27 [==============================] - 19s 714ms/step - loss: 0.1975 - accuracy: 0.9253 - top-5-accuracy: 1.0000 - val_loss: 0.3094 - val_accuracy: 0.8723 - val_top-5-accuracy: 1.0000\n",
      "Epoch 52/100\n",
      "27/27 [==============================] - 19s 715ms/step - loss: 0.2014 - accuracy: 0.9277 - top-5-accuracy: 1.0000 - val_loss: 0.2996 - val_accuracy: 0.8830 - val_top-5-accuracy: 1.0000\n",
      "Epoch 53/100\n",
      "27/27 [==============================] - 19s 713ms/step - loss: 0.1993 - accuracy: 0.9212 - top-5-accuracy: 1.0000 - val_loss: 0.2392 - val_accuracy: 0.9202 - val_top-5-accuracy: 1.0000\n",
      "Epoch 54/100\n",
      "27/27 [==============================] - 19s 714ms/step - loss: 0.2213 - accuracy: 0.9087 - top-5-accuracy: 1.0000 - val_loss: 0.2840 - val_accuracy: 0.8777 - val_top-5-accuracy: 1.0000\n",
      "Epoch 55/100\n",
      "27/27 [==============================] - 19s 714ms/step - loss: 0.2133 - accuracy: 0.9247 - top-5-accuracy: 1.0000 - val_loss: 0.3437 - val_accuracy: 0.8777 - val_top-5-accuracy: 1.0000\n",
      "Epoch 56/100\n",
      "27/27 [==============================] - 19s 715ms/step - loss: 0.2407 - accuracy: 0.9129 - top-5-accuracy: 1.0000 - val_loss: 0.2707 - val_accuracy: 0.8936 - val_top-5-accuracy: 1.0000\n",
      "Epoch 57/100\n",
      "27/27 [==============================] - 19s 713ms/step - loss: 0.1793 - accuracy: 0.9372 - top-5-accuracy: 1.0000 - val_loss: 0.2193 - val_accuracy: 0.9309 - val_top-5-accuracy: 1.0000\n",
      "Epoch 58/100\n",
      "27/27 [==============================] - 19s 714ms/step - loss: 0.1600 - accuracy: 0.9395 - top-5-accuracy: 1.0000 - val_loss: 0.2674 - val_accuracy: 0.9096 - val_top-5-accuracy: 1.0000\n",
      "Epoch 59/100\n",
      "27/27 [==============================] - 19s 715ms/step - loss: 0.1576 - accuracy: 0.9437 - top-5-accuracy: 1.0000 - val_loss: 0.2597 - val_accuracy: 0.9043 - val_top-5-accuracy: 1.0000\n",
      "Epoch 60/100\n",
      "27/27 [==============================] - 19s 715ms/step - loss: 0.1717 - accuracy: 0.9378 - top-5-accuracy: 1.0000 - val_loss: 0.2490 - val_accuracy: 0.9096 - val_top-5-accuracy: 1.0000\n",
      "Epoch 61/100\n",
      "27/27 [==============================] - 19s 714ms/step - loss: 0.1630 - accuracy: 0.9419 - top-5-accuracy: 1.0000 - val_loss: 0.2440 - val_accuracy: 0.9149 - val_top-5-accuracy: 1.0000\n",
      "Epoch 62/100\n",
      "27/27 [==============================] - 19s 715ms/step - loss: 0.1544 - accuracy: 0.9443 - top-5-accuracy: 1.0000 - val_loss: 0.2344 - val_accuracy: 0.9255 - val_top-5-accuracy: 1.0000\n",
      "Epoch 63/100\n",
      "27/27 [==============================] - 19s 714ms/step - loss: 0.1318 - accuracy: 0.9538 - top-5-accuracy: 1.0000 - val_loss: 0.2887 - val_accuracy: 0.8830 - val_top-5-accuracy: 1.0000\n",
      "Epoch 64/100\n",
      "27/27 [==============================] - 19s 714ms/step - loss: 0.1367 - accuracy: 0.9514 - top-5-accuracy: 1.0000 - val_loss: 0.2310 - val_accuracy: 0.9255 - val_top-5-accuracy: 1.0000\n",
      "Epoch 65/100\n",
      "27/27 [==============================] - 19s 714ms/step - loss: 0.1448 - accuracy: 0.9514 - top-5-accuracy: 1.0000 - val_loss: 0.2092 - val_accuracy: 0.9202 - val_top-5-accuracy: 1.0000\n",
      "Epoch 66/100\n",
      "27/27 [==============================] - 19s 715ms/step - loss: 0.1374 - accuracy: 0.9502 - top-5-accuracy: 1.0000 - val_loss: 0.2197 - val_accuracy: 0.9255 - val_top-5-accuracy: 1.0000\n",
      "Epoch 67/100\n",
      "27/27 [==============================] - 19s 716ms/step - loss: 0.1539 - accuracy: 0.9372 - top-5-accuracy: 1.0000 - val_loss: 0.2369 - val_accuracy: 0.9202 - val_top-5-accuracy: 1.0000\n",
      "Epoch 68/100\n",
      "27/27 [==============================] - 19s 715ms/step - loss: 0.1762 - accuracy: 0.9384 - top-5-accuracy: 1.0000 - val_loss: 0.1902 - val_accuracy: 0.9309 - val_top-5-accuracy: 1.0000\n",
      "Epoch 69/100\n",
      "27/27 [==============================] - 19s 714ms/step - loss: 0.1329 - accuracy: 0.9514 - top-5-accuracy: 1.0000 - val_loss: 0.1832 - val_accuracy: 0.9309 - val_top-5-accuracy: 1.0000\n",
      "Epoch 70/100\n",
      "27/27 [==============================] - 19s 714ms/step - loss: 0.1264 - accuracy: 0.9496 - top-5-accuracy: 1.0000 - val_loss: 0.1998 - val_accuracy: 0.9309 - val_top-5-accuracy: 1.0000\n",
      "Epoch 71/100\n",
      "27/27 [==============================] - 19s 714ms/step - loss: 0.1128 - accuracy: 0.9579 - top-5-accuracy: 1.0000 - val_loss: 0.2713 - val_accuracy: 0.9043 - val_top-5-accuracy: 1.0000\n",
      "Epoch 72/100\n",
      "27/27 [==============================] - 19s 716ms/step - loss: 0.1235 - accuracy: 0.9514 - top-5-accuracy: 1.0000 - val_loss: 0.2543 - val_accuracy: 0.9255 - val_top-5-accuracy: 1.0000\n",
      "Epoch 73/100\n",
      "27/27 [==============================] - 19s 714ms/step - loss: 0.1265 - accuracy: 0.9526 - top-5-accuracy: 1.0000 - val_loss: 0.2011 - val_accuracy: 0.9415 - val_top-5-accuracy: 1.0000\n",
      "Epoch 74/100\n",
      "27/27 [==============================] - 19s 715ms/step - loss: 0.1310 - accuracy: 0.9508 - top-5-accuracy: 1.0000 - val_loss: 0.2165 - val_accuracy: 0.9309 - val_top-5-accuracy: 1.0000\n",
      "Epoch 75/100\n",
      "27/27 [==============================] - 19s 715ms/step - loss: 0.1305 - accuracy: 0.9532 - top-5-accuracy: 1.0000 - val_loss: 0.2032 - val_accuracy: 0.9255 - val_top-5-accuracy: 1.0000\n",
      "Epoch 76/100\n",
      "27/27 [==============================] - 19s 714ms/step - loss: 0.1317 - accuracy: 0.9538 - top-5-accuracy: 1.0000 - val_loss: 0.1898 - val_accuracy: 0.9415 - val_top-5-accuracy: 1.0000\n",
      "Epoch 77/100\n",
      "27/27 [==============================] - 19s 714ms/step - loss: 0.1050 - accuracy: 0.9603 - top-5-accuracy: 1.0000 - val_loss: 0.2018 - val_accuracy: 0.9149 - val_top-5-accuracy: 1.0000\n",
      "Epoch 78/100\n",
      "27/27 [==============================] - 19s 715ms/step - loss: 0.0927 - accuracy: 0.9692 - top-5-accuracy: 1.0000 - val_loss: 0.2201 - val_accuracy: 0.9362 - val_top-5-accuracy: 1.0000\n",
      "Epoch 79/100\n",
      "27/27 [==============================] - 19s 717ms/step - loss: 0.1013 - accuracy: 0.9662 - top-5-accuracy: 1.0000 - val_loss: 0.2520 - val_accuracy: 0.9362 - val_top-5-accuracy: 1.0000\n",
      "Epoch 80/100\n",
      "27/27 [==============================] - 19s 717ms/step - loss: 0.1136 - accuracy: 0.9573 - top-5-accuracy: 1.0000 - val_loss: 0.1609 - val_accuracy: 0.9149 - val_top-5-accuracy: 1.0000\n",
      "Epoch 81/100\n",
      "27/27 [==============================] - 19s 716ms/step - loss: 0.1246 - accuracy: 0.9603 - top-5-accuracy: 1.0000 - val_loss: 0.2309 - val_accuracy: 0.9255 - val_top-5-accuracy: 1.0000\n",
      "Epoch 82/100\n",
      "27/27 [==============================] - 19s 717ms/step - loss: 0.0975 - accuracy: 0.9638 - top-5-accuracy: 1.0000 - val_loss: 0.2043 - val_accuracy: 0.9255 - val_top-5-accuracy: 1.0000\n",
      "Epoch 83/100\n",
      "27/27 [==============================] - 19s 717ms/step - loss: 0.1012 - accuracy: 0.9627 - top-5-accuracy: 1.0000 - val_loss: 0.1990 - val_accuracy: 0.9202 - val_top-5-accuracy: 1.0000\n",
      "Epoch 84/100\n",
      "27/27 [==============================] - 19s 716ms/step - loss: 0.0985 - accuracy: 0.9621 - top-5-accuracy: 1.0000 - val_loss: 0.1825 - val_accuracy: 0.9309 - val_top-5-accuracy: 1.0000\n",
      "Epoch 85/100\n",
      "27/27 [==============================] - 19s 718ms/step - loss: 0.1336 - accuracy: 0.9484 - top-5-accuracy: 1.0000 - val_loss: 0.2323 - val_accuracy: 0.9149 - val_top-5-accuracy: 1.0000\n",
      "Epoch 86/100\n",
      "27/27 [==============================] - 19s 717ms/step - loss: 0.1032 - accuracy: 0.9656 - top-5-accuracy: 1.0000 - val_loss: 0.2142 - val_accuracy: 0.9202 - val_top-5-accuracy: 1.0000\n",
      "Epoch 87/100\n",
      "27/27 [==============================] - 19s 717ms/step - loss: 0.0935 - accuracy: 0.9692 - top-5-accuracy: 1.0000 - val_loss: 0.2014 - val_accuracy: 0.9149 - val_top-5-accuracy: 1.0000\n",
      "Epoch 88/100\n",
      "27/27 [==============================] - 19s 718ms/step - loss: 0.0895 - accuracy: 0.9662 - top-5-accuracy: 1.0000 - val_loss: 0.1711 - val_accuracy: 0.9255 - val_top-5-accuracy: 1.0000\n",
      "Epoch 89/100\n",
      "27/27 [==============================] - 19s 716ms/step - loss: 0.1064 - accuracy: 0.9686 - top-5-accuracy: 1.0000 - val_loss: 0.1859 - val_accuracy: 0.9309 - val_top-5-accuracy: 1.0000\n",
      "Epoch 90/100\n",
      "27/27 [==============================] - 19s 717ms/step - loss: 0.0942 - accuracy: 0.9650 - top-5-accuracy: 1.0000 - val_loss: 0.2126 - val_accuracy: 0.9149 - val_top-5-accuracy: 1.0000\n",
      "Epoch 91/100\n",
      "27/27 [==============================] - 19s 717ms/step - loss: 0.1137 - accuracy: 0.9591 - top-5-accuracy: 1.0000 - val_loss: 0.2656 - val_accuracy: 0.8989 - val_top-5-accuracy: 1.0000\n",
      "Epoch 92/100\n",
      "27/27 [==============================] - 19s 715ms/step - loss: 0.0846 - accuracy: 0.9715 - top-5-accuracy: 1.0000 - val_loss: 0.1742 - val_accuracy: 0.9362 - val_top-5-accuracy: 1.0000\n",
      "Epoch 93/100\n",
      "27/27 [==============================] - 19s 717ms/step - loss: 0.0812 - accuracy: 0.9733 - top-5-accuracy: 1.0000 - val_loss: 0.2282 - val_accuracy: 0.9202 - val_top-5-accuracy: 1.0000\n",
      "Epoch 94/100\n",
      "27/27 [==============================] - 19s 718ms/step - loss: 0.1155 - accuracy: 0.9573 - top-5-accuracy: 1.0000 - val_loss: 0.1875 - val_accuracy: 0.9255 - val_top-5-accuracy: 1.0000\n",
      "Epoch 95/100\n",
      "27/27 [==============================] - 19s 716ms/step - loss: 0.0995 - accuracy: 0.9680 - top-5-accuracy: 1.0000 - val_loss: 0.1786 - val_accuracy: 0.9255 - val_top-5-accuracy: 1.0000\n",
      "Epoch 96/100\n",
      "27/27 [==============================] - 19s 718ms/step - loss: 0.0904 - accuracy: 0.9603 - top-5-accuracy: 1.0000 - val_loss: 0.1860 - val_accuracy: 0.9468 - val_top-5-accuracy: 1.0000\n",
      "Epoch 97/100\n",
      "27/27 [==============================] - 19s 716ms/step - loss: 0.0912 - accuracy: 0.9698 - top-5-accuracy: 1.0000 - val_loss: 0.2014 - val_accuracy: 0.9468 - val_top-5-accuracy: 1.0000\n",
      "Epoch 98/100\n",
      "27/27 [==============================] - 19s 717ms/step - loss: 0.0796 - accuracy: 0.9745 - top-5-accuracy: 1.0000 - val_loss: 0.1948 - val_accuracy: 0.9468 - val_top-5-accuracy: 1.0000\n",
      "Epoch 99/100\n",
      "27/27 [==============================] - 19s 718ms/step - loss: 0.0861 - accuracy: 0.9686 - top-5-accuracy: 1.0000 - val_loss: 0.2017 - val_accuracy: 0.9255 - val_top-5-accuracy: 1.0000\n",
      "Epoch 100/100\n",
      "27/27 [==============================] - 19s 718ms/step - loss: 0.0637 - accuracy: 0.9781 - top-5-accuracy: 1.0000 - val_loss: 0.2237 - val_accuracy: 0.9362 - val_top-5-accuracy: 1.0000\n",
      "8/8 [==============================] - 2s 215ms/step - loss: 0.2389 - accuracy: 0.9232 - top-5-accuracy: 1.0000\n",
      "Test accuracy: 92.32%\n",
      "Test top 5 accuracy: 100.0%\n"
     ]
    }
   ],
   "source": [
    "# Some code is taken from:\n",
    "# https://www.kaggle.com/ashusma/training-rfcx-tensorflow-tpu-effnet-b2.\n",
    "class WarmUpCosine(keras.optimizers.schedules.LearningRateSchedule):\n",
    "    def __init__(\n",
    "        self, learning_rate_base, total_steps, warmup_learning_rate, warmup_steps\n",
    "    ):\n",
    "        super(WarmUpCosine, self).__init__()\n",
    "\n",
    "        self.learning_rate_base = learning_rate_base\n",
    "        self.total_steps = total_steps\n",
    "        self.warmup_learning_rate = warmup_learning_rate\n",
    "        self.warmup_steps = warmup_steps\n",
    "        self.pi = tf.constant(np.pi)\n",
    "\n",
    "    def __call__(self, step):\n",
    "        if self.total_steps < self.warmup_steps:\n",
    "            raise ValueError(\"Total_steps must be larger or equal to warmup_steps.\")\n",
    "\n",
    "        cos_annealed_lr = tf.cos(\n",
    "            self.pi\n",
    "            * (tf.cast(step, tf.float32) - self.warmup_steps)\n",
    "            / float(self.total_steps - self.warmup_steps)\n",
    "        )\n",
    "        learning_rate = 0.5 * self.learning_rate_base * (1 + cos_annealed_lr)\n",
    "\n",
    "        if self.warmup_steps > 0:\n",
    "            if self.learning_rate_base < self.warmup_learning_rate:\n",
    "                raise ValueError(\n",
    "                    \"Learning_rate_base must be larger or equal to \"\n",
    "                    \"warmup_learning_rate.\"\n",
    "                )\n",
    "            slope = (\n",
    "                self.learning_rate_base - self.warmup_learning_rate\n",
    "            ) / self.warmup_steps\n",
    "            warmup_rate = slope * tf.cast(step, tf.float32) + self.warmup_learning_rate\n",
    "            learning_rate = tf.where(\n",
    "                step < self.warmup_steps, warmup_rate, learning_rate\n",
    "            )\n",
    "        return tf.where(\n",
    "            step > self.total_steps, 0.0, learning_rate, name=\"learning_rate\"\n",
    "        )\n",
    "\n",
    "\n",
    "def run_experiment(model):\n",
    "    total_steps = int((len(x_train) / BATCH_SIZE) * EPOCHS)\n",
    "    warmup_epoch_percentage = 0.10\n",
    "    warmup_steps = int(total_steps * warmup_epoch_percentage)\n",
    "    scheduled_lrs = WarmUpCosine(\n",
    "        learning_rate_base=LEARNING_RATE,\n",
    "        total_steps=total_steps,\n",
    "        warmup_learning_rate=0.0,\n",
    "        warmup_steps=warmup_steps,\n",
    "    )\n",
    "\n",
    "    optimizer = tfa.optimizers.AdamW(\n",
    "        learning_rate=LEARNING_RATE, weight_decay=WEIGHT_DECAY\n",
    "    )\n",
    "\n",
    "    model.compile(\n",
    "        optimizer=optimizer,\n",
    "        loss=keras.losses.SparseCategoricalCrossentropy(from_logits=True),\n",
    "        metrics=[\n",
    "            keras.metrics.SparseCategoricalAccuracy(name=\"accuracy\"),\n",
    "            keras.metrics.SparseTopKCategoricalAccuracy(5, name=\"top-5-accuracy\"),\n",
    "        ],\n",
    "    )\n",
    "\n",
    "    history = model.fit(\n",
    "        x=x_train,\n",
    "        y=y_train,\n",
    "        batch_size=BATCH_SIZE,\n",
    "        epochs=EPOCHS,\n",
    "        validation_split=0.2,\n",
    "    )\n",
    "    _, accuracy, top_5_accuracy = model.evaluate(x_test, y_test, batch_size=BATCH_SIZE)\n",
    "    print(f\"Test accuracy: {round(accuracy * 100, 2)}%\")\n",
    "    print(f\"Test top 5 accuracy: {round(top_5_accuracy * 100, 2)}%\")\n",
    "\n",
    "    return history\n",
    "\n",
    "\n",
    "# Run experiments with the vanilla ViT\n",
    "vit = create_vit_classifier(vanilla=True)\n",
    "history = run_experiment(vit)\n"
   ]
  },
  {
   "cell_type": "code",
   "execution_count": 21,
   "metadata": {
    "colab": {
     "base_uri": "https://localhost:8080/"
    },
    "id": "KF5Boy8FaXPK",
    "outputId": "fa233d3b-8376-4532-9c0e-9dafad796d36"
   },
   "outputs": [
    {
     "name": "stdout",
     "output_type": "stream",
     "text": [
      "Drive already mounted at /content/drive; to attempt to forcibly remount, call drive.mount(\"/content/drive\", force_remount=True).\n"
     ]
    }
   ],
   "source": [
    "from google.colab import drive\n",
    "drive.mount('/content/drive')"
   ]
  },
  {
   "cell_type": "code",
   "execution_count": 22,
   "metadata": {
    "colab": {
     "base_uri": "https://localhost:8080/",
     "height": 295
    },
    "id": "UiqrTheaJ_eY",
    "outputId": "047d69b0-c735-40e7-a8d2-24bd06cf4fe1"
   },
   "outputs": [
    {
     "data": {
      "image/png": "[encoded data removed]",
      "text/plain": [
       "<Figure size 432x288 with 1 Axes>"
      ]
     },
     "metadata": {
      "needs_background": "light"
     },
     "output_type": "display_data"
    }
   ],
   "source": [
    "plt.plot(history.history['accuracy'])\n",
    "plt.plot(history.history['val_accuracy'])\n",
    "plt.title('ViT Model Train vs Validation Accuracy Curve')\n",
    "plt.ylabel('accuracy')\n",
    "plt.xlabel('epoch')\n",
    "plt.legend(['train', 'val'], loc='upper left')\n",
    "plt.show()"
   ]
  },
  {
   "cell_type": "code",
   "execution_count": 23,
   "metadata": {
    "colab": {
     "base_uri": "https://localhost:8080/",
     "height": 295
    },
    "id": "pToIhowFKBmy",
    "outputId": "b198ae51-a664-416f-f465-4d9478d34b00"
   },
   "outputs": [
    {
     "data": {
      "image/png": "[encoded data removed]",
      "text/plain": [
       "<Figure size 432x288 with 1 Axes>"
      ]
     },
     "metadata": {
      "needs_background": "light"
     },
     "output_type": "display_data"
    }
   ],
   "source": [
    "\n",
    "plt.plot(history.history['loss'])\n",
    "plt.plot(history.history['val_loss'])\n",
    "plt.title('ViT Model Train vs Validation Loss Curve')\n",
    "plt.ylabel('accuracy')\n",
    "plt.xlabel('epoch')\n",
    "plt.legend(['train', 'val'], loc='upper left')\n",
    "plt.show()"
   ]
  },
  {
   "cell_type": "code",
   "execution_count": 24,
   "metadata": {
    "colab": {
     "base_uri": "https://localhost:8080/",
     "height": 677
    },
    "id": "8jEHvO0dKC8M",
    "outputId": "b62b6bad-b55e-4a9e-abbf-5ec69e1a3102"
   },
   "outputs": [
    {
     "name": "stderr",
     "output_type": "stream",
     "text": [
      "/usr/local/lib/python3.7/dist-packages/ipykernel_launcher.py:8: UserWarning: `Model.predict_generator` is deprecated and will be removed in a future version. Please use `Model.predict`, which supports generators.\n",
      "  \n"
     ]
    },
    {
     "name": "stdout",
     "output_type": "stream",
     "text": [
      "Confusion matrix, without normalization\n",
      "              precision    recall  f1-score   support\n",
      "\n",
      "           0       0.90      0.97      0.93       243\n",
      "           1       0.98      0.87      0.92       137\n",
      "           2       0.92      0.88      0.90        89\n",
      "\n",
      "    accuracy                           0.92       469\n",
      "   macro avg       0.93      0.91      0.92       469\n",
      "weighted avg       0.93      0.92      0.92       469\n",
      "\n"
     ]
    },
    {
     "data": {
      "image/png": "[encoded data removed]",
      "text/plain": [
       "<Figure size 432x432 with 2 Axes>"
      ]
     },
     "metadata": {
      "needs_background": "light"
     },
     "output_type": "display_data"
    }
   ],
   "source": [
    "from sklearn.metrics import plot_confusion_matrix\n",
    "from sklearn.metrics import ConfusionMatrixDisplay, confusion_matrix\n",
    "np.set_printoptions(precision=2)\n",
    "class_names = ['benign', 'malignant','normal']\n",
    "\n",
    "from sklearn.metrics import plot_confusion_matrix \n",
    "from sklearn.metrics import ConfusionMatrixDisplay\n",
    "Y_pred = vit.predict_generator(x_test)\n",
    "y_pred = np.argmax(Y_pred, axis=1)\n",
    "\n",
    "cm = confusion_matrix(y_test, y_pred)\n",
    "#plot_confusion_matrix(X = y_pred, y_true=y_test, labels = class_names, normalize=False)\n",
    "\n",
    "\n",
    "import matplotlib.pyplot as plt\n",
    "import itertools \n",
    "def plot_confusion_matrix(cm, classes, normalize=False, title='Confusion matrix', cmap=plt.cm.Blues):\n",
    "\n",
    "    \"\"\"\n",
    "\n",
    "    This function prints and plots the confusion matrix.\n",
    "\n",
    "    Normalization can be applied by setting `normalize=True`.\n",
    "\n",
    "    \"\"\"\n",
    "\n",
    "    plt.figure(figsize=(6,6))\n",
    "\n",
    "\n",
    "\n",
    "    plt.imshow(cm, interpolation='nearest', cmap=cmap)\n",
    "\n",
    "    plt.title(title)\n",
    "\n",
    "    plt.colorbar()\n",
    "\n",
    "\n",
    "\n",
    "    tick_marks = np.arange(len(classes))\n",
    "\n",
    "    plt.xticks(tick_marks, classes, rotation=45)\n",
    "\n",
    "    plt.yticks(tick_marks, classes)\n",
    "\n",
    "\n",
    "\n",
    "    if normalize:\n",
    "\n",
    "        cm = cm.astype('float') / cm.sum(axis=1)[:, np.newaxis]\n",
    "\n",
    "        cm = np.around(cm, decimals=2)\n",
    "\n",
    "        cm[np.isnan(cm)] = 0.0\n",
    "\n",
    "        print(\"Normalized confusion matrix\")\n",
    "\n",
    "    else:\n",
    "\n",
    "        print('Confusion matrix, without normalization')\n",
    "\n",
    "    thresh = cm.max() / 2.\n",
    "\n",
    "    for i, j in itertools.product(range(cm.shape[0]), range(cm.shape[1])):\n",
    "\n",
    "        plt.text(j, i, cm[i, j],\n",
    "\n",
    "                 horizontalalignment=\"center\",\n",
    "\n",
    "                 color=\"white\" if cm[i, j] > thresh else \"black\")\n",
    "\n",
    "    plt.tight_layout()\n",
    "\n",
    "    plt.ylabel('True label')\n",
    "\n",
    "    plt.xlabel('Predicted label')\n",
    "\n",
    "plot_confusion_matrix(cm, class_names)\n",
    "\n",
    "from sklearn.metrics import classification_report\n",
    "print(classification_report(y_test, y_pred))"
   ]
  },
  {
   "cell_type": "code",
   "execution_count": 24,
   "metadata": {
    "id": "fkikZGbQKEDw"
   },
   "outputs": [],
   "source": []
  },
  {
   "cell_type": "code",
   "execution_count": null,
   "metadata": {
    "colab": {
     "base_uri": "https://localhost:8080/"
    },
    "id": "XMz0IHw9KF_x",
    "outputId": "bfcca174-be97-43ee-fe60-0869471fd531"
   },
   "outputs": [],
   "source": []
  },
  {
   "cell_type": "code",
   "execution_count": 25,
   "metadata": {
    "id": "WS04GJ_TY2iH"
   },
   "outputs": [],
   "source": []
  }
 ],
 "metadata": {
  "accelerator": "GPU",
  "colab": {
   "name": "2_EXP.ipynb",
   "provenance": []
  },
  "kernelspec": {
   "display_name": "Python 3 (ipykernel)",
   "language": "python",
   "name": "python3"
  },
  "language_info": {
   "codemirror_mode": {
    "name": "ipython",
    "version": 3
   },
   "file_extension": ".py",
   "mimetype": "text/x-python",
   "name": "python",
   "nbconvert_exporter": "python",
   "pygments_lexer": "ipython3",
   "version": "3.8.5"
  }
 },
 "nbformat": 4,
 "nbformat_minor": 1
}
