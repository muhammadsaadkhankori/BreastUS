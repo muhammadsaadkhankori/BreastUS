{
 "cells": [
  {
   "cell_type": "code",
   "execution_count": 1,
   "metadata": {
    "colab": {
     "base_uri": "https://localhost:8080/"
    },
    "id": "vg0XTXknmap3",
    "outputId": "2cb51c2b-e488-4d18-c10c-d75ac93ff421"
   },
   "outputs": [
    {
     "name": "stdout",
     "output_type": "stream",
     "text": [
      "Mounted at /content/drive\n"
     ]
    }
   ],
   "source": [
    "from google.colab import drive\n",
    "drive.mount('/content/drive')"
   ]
  },
  {
   "cell_type": "code",
   "execution_count": 2,
   "metadata": {
    "colab": {
     "base_uri": "https://localhost:8080/"
    },
    "id": "k_3-GZHTIrkw",
    "outputId": "fb31371e-c876-49b1-a921-aef7b2f8238a"
   },
   "outputs": [
    {
     "name": "stdout",
     "output_type": "stream",
     "text": [
      "Looking in indexes: https://pypi.org/simple, https://us-python.pkg.dev/colab-wheels/public/simple/\n",
      "Collecting tensorflow-addons\n",
      "  Downloading tensorflow_addons-0.17.1-cp37-cp37m-manylinux_2_17_x86_64.manylinux2014_x86_64.whl (1.1 MB)\n",
      "\u001b[K     |████████████████████████████████| 1.1 MB 5.3 MB/s \n",
      "\u001b[?25hRequirement already satisfied: packaging in /usr/local/lib/python3.7/dist-packages (from tensorflow-addons) (21.3)\n",
      "Requirement already satisfied: typeguard>=2.7 in /usr/local/lib/python3.7/dist-packages (from tensorflow-addons) (2.7.1)\n",
      "Requirement already satisfied: pyparsing!=3.0.5,>=2.0.2 in /usr/local/lib/python3.7/dist-packages (from packaging->tensorflow-addons) (3.0.9)\n",
      "Installing collected packages: tensorflow-addons\n",
      "Successfully installed tensorflow-addons-0.17.1\n"
     ]
    }
   ],
   "source": [
    "!pip install -U tensorflow-addons"
   ]
  },
  {
   "cell_type": "code",
   "execution_count": 3,
   "metadata": {
    "id": "j2wgG1RzIObA"
   },
   "outputs": [],
   "source": [
    "import tensorflow as tf\n",
    "from tensorflow import keras\n",
    "from keras.preprocessing.image import ImageDataGenerator\n",
    "from keras.models import Sequential\n",
    "import numpy as np\n",
    "import matplotlib.pyplot as plt\n",
    "import random\n",
    "from keras.layers import Conv2D, MaxPooling2D, Flatten, Dense\n",
    "from keras.models import Sequential\n",
    "import matplotlib.pyplot as plt\n",
    "from tensorflow import keras\n",
    "import tensorflow_addons as tfa\n",
    "from tensorflow.keras import layers\n",
    "import random,cv2,os,glob"
   ]
  },
  {
   "cell_type": "code",
   "execution_count": 4,
   "metadata": {
    "id": "lqiVtUSkIObL"
   },
   "outputs": [],
   "source": [
    "path =\"/content/drive/MyDrive/Augmentation/*\"\n",
    "data_paths = os.path.join(path,'*g')\n",
    "imagePaths = glob.glob(data_paths)"
   ]
  },
  {
   "cell_type": "code",
   "execution_count": 5,
   "metadata": {
    "colab": {
     "base_uri": "https://localhost:8080/"
    },
    "id": "_RWJg_TgIObO",
    "outputId": "c249804b-0b86-44b6-8332-8aa873956470"
   },
   "outputs": [
    {
     "data": {
      "text/plain": [
       "2344"
      ]
     },
     "execution_count": 5,
     "metadata": {},
     "output_type": "execute_result"
    }
   ],
   "source": [
    "len(imagePaths)"
   ]
  },
  {
   "cell_type": "code",
   "execution_count": 6,
   "metadata": {
    "id": "0_Fo8jmwIObQ"
   },
   "outputs": [],
   "source": [
    "labels=[]\n",
    "images=[]\n",
    "for imgpath in imagePaths:\n",
    "    img=cv2.imread(imgpath)\n",
    "    img=cv2.resize(img,(100,100))\n",
    "    images.append(img)\n",
    "    label= imgpath.split(os.path.sep)[-2].split(\"_\")\n",
    "    labels.append(label)"
   ]
  },
  {
   "cell_type": "code",
   "execution_count": 7,
   "metadata": {
    "id": "L0DY_KzxIObS"
   },
   "outputs": [],
   "source": [
    "images=np.array(images)\n",
    "labels=np.array(labels)"
   ]
  },
  {
   "cell_type": "code",
   "execution_count": 8,
   "metadata": {
    "id": "5B9miih5c5tP"
   },
   "outputs": [],
   "source": [
    "np.save(\"images\",images)\n",
    "np.save(\"labels\",labels)"
   ]
  },
  {
   "cell_type": "code",
   "execution_count": 9,
   "metadata": {
    "id": "DJJN2kntdCVi"
   },
   "outputs": [],
   "source": [
    "images=np.load('images.npy')\n",
    "labels=np.load('labels.npy')"
   ]
  },
  {
   "cell_type": "code",
   "execution_count": 10,
   "metadata": {
    "colab": {
     "base_uri": "https://localhost:8080/"
    },
    "id": "KNcmy0J2IObT",
    "outputId": "3580801f-7e92-4b67-c71c-9a558c66e56e"
   },
   "outputs": [
    {
     "name": "stderr",
     "output_type": "stream",
     "text": [
      "/usr/local/lib/python3.7/dist-packages/sklearn/preprocessing/_label.py:115: DataConversionWarning: A column-vector y was passed when a 1d array was expected. Please change the shape of y to (n_samples, ), for example using ravel().\n",
      "  y = column_or_1d(y, warn=True)\n"
     ]
    }
   ],
   "source": [
    "from sklearn.preprocessing import LabelEncoder\n",
    "label_encoder = LabelEncoder()\n",
    "labels = label_encoder.fit_transform(labels)"
   ]
  },
  {
   "cell_type": "code",
   "execution_count": 26,
   "metadata": {
    "colab": {
     "base_uri": "https://localhost:8080/"
    },
    "id": "JHE30wYHIObU",
    "outputId": "06c293a2-1d6d-4766-e61e-35f82e7cdd8e"
   },
   "outputs": [
    {
     "name": "stdout",
     "output_type": "stream",
     "text": [
      "[0 1 2]\n"
     ]
    }
   ],
   "source": [
    "print(np.unique(labels))"
   ]
  },
  {
   "cell_type": "code",
   "execution_count": 12,
   "metadata": {
    "id": "ZvpLEUlhIObW"
   },
   "outputs": [],
   "source": [
    "from sklearn.model_selection import train_test_split\n",
    "x_train,x_test,y_train,y_test = train_test_split(images,labels,test_size=.1,random_state=True)\n",
    "num_classes = 3\n",
    "inpu_shape = (100, 100, 3)"
   ]
  },
  {
   "cell_type": "code",
   "execution_count": 13,
   "metadata": {
    "id": "Hv8g-9UmBksA"
   },
   "outputs": [],
   "source": [
    "learning_rate = 0.0003\n",
    "weight_decay = 0.0001\n",
    "batch_size = 32\n",
    "num_epochs = 100\n",
    "image_size = 100  # We'll resize input images to this size\n",
    "patch_size = 12  # Size of the patches to be extract from the input images\n",
    "num_patches = (image_size // patch_size) ** 2\n",
    "projection_dim = 64\n",
    "num_heads = 4\n",
    "transformer_units = [\n",
    "    projection_dim * 2,\n",
    "    projection_dim,\n",
    "]  # Size of the transformer layers\n",
    "transformer_layers = 8\n",
    "mlp_head_units = [512,512 ]  # Size of the dense layers of the final classifier"
   ]
  },
  {
   "cell_type": "code",
   "execution_count": 14,
   "metadata": {
    "id": "pjumgZTg7sPT"
   },
   "outputs": [],
   "source": [
    "data_augmentation = keras.Sequential(\n",
    "    [\n",
    "        layers.Normalization(),\n",
    "        layers.Resizing(image_size, image_size),\n",
    "        layers.RandomFlip(\"horizontal\"),\n",
    "        layers.RandomRotation(factor=0.02),\n",
    "        layers.RandomZoom(\n",
    "            height_factor=0.2, width_factor=0.2\n",
    "        ),\n",
    "    ],\n",
    "    name=\"data_augmentation\",\n",
    ")\n",
    "# Compute the mean and the variance of the training data for normalization.\n",
    "data_augmentation.layers[0].adapt(x_train)"
   ]
  },
  {
   "cell_type": "code",
   "execution_count": 15,
   "metadata": {
    "id": "0fp0gVW68Ip3"
   },
   "outputs": [],
   "source": [
    "def mlp(x, hidden_units, dropout_rate):\n",
    "    for units in hidden_units:\n",
    "        x = layers.Dense(units, activation=tf.nn.gelu)(x)\n",
    "        x = layers.Dropout(dropout_rate)(x)\n",
    "    return x"
   ]
  },
  {
   "cell_type": "code",
   "execution_count": 16,
   "metadata": {
    "id": "1IglUhQc8KCw"
   },
   "outputs": [],
   "source": [
    "class Patches(layers.Layer):\n",
    "    def __init__(self, patch_size):\n",
    "        super(Patches, self).__init__()\n",
    "        self.patch_size = patch_size\n",
    "\n",
    "    def call(self, images):\n",
    "        batch_size = tf.shape(images)[0]\n",
    "        patches = tf.image.extract_patches(\n",
    "            images=images,\n",
    "            sizes=[1, self.patch_size, self.patch_size, 1],\n",
    "            strides=[1, self.patch_size, self.patch_size, 1],\n",
    "            rates=[1, 1, 1, 1],\n",
    "            padding=\"VALID\",\n",
    "        )\n",
    "        patch_dims = patches.shape[-1]\n",
    "        patches = tf.reshape(patches, [batch_size, -1, patch_dims])\n",
    "        return patches"
   ]
  },
  {
   "cell_type": "code",
   "execution_count": 17,
   "metadata": {
    "colab": {
     "base_uri": "https://localhost:8080/",
     "height": 548
    },
    "id": "Vi6DUaHv8Lme",
    "outputId": "62b7ed94-1155-4986-c138-352245ebecf5"
   },
   "outputs": [
    {
     "name": "stdout",
     "output_type": "stream",
     "text": [
      "Image size: 100 X 100\n",
      "Patch size: 12 X 12\n",
      "Patches per image: 64\n",
      "Elements per patch: 432\n"
     ]
    },
    {
     "data": {
      "image/png": "[encoded data removed]",
      "text/plain": [
       "<Figure size 288x288 with 1 Axes>"
      ]
     },
     "metadata": {
      "needs_background": "light"
     },
     "output_type": "display_data"
    },
    {
     "data": {
      "image/png": "[encoded data removed]",
      "text/plain": [
       "<Figure size 288x288 with 64 Axes>"
      ]
     },
     "metadata": {
      "needs_background": "light"
     },
     "output_type": "display_data"
    }
   ],
   "source": [
    "import matplotlib.pyplot as plt\n",
    "\n",
    "plt.figure(figsize=(4, 4))\n",
    "image = x_train[np.random.choice(range(x_train.shape[0]))]\n",
    "plt.imshow(image.astype(\"uint8\"))\n",
    "plt.axis(\"off\")\n",
    "\n",
    "resized_image = tf.image.resize(\n",
    "    tf.convert_to_tensor([image]), size=(image_size, image_size)\n",
    ")\n",
    "patches = Patches(patch_size)(resized_image)\n",
    "print(f\"Image size: {image_size} X {image_size}\")\n",
    "print(f\"Patch size: {patch_size} X {patch_size}\")\n",
    "print(f\"Patches per image: {patches.shape[1]}\")\n",
    "print(f\"Elements per patch: {patches.shape[-1]}\")\n",
    "\n",
    "n = int(np.sqrt(patches.shape[1]))\n",
    "plt.figure(figsize=(4, 4))\n",
    "for i, patch in enumerate(patches[0]):\n",
    "    ax = plt.subplot(n, n, i + 1)\n",
    "    patch_img = tf.reshape(patch, (patch_size, patch_size, 3))\n",
    "    plt.imshow(patch_img.numpy().astype(\"uint8\"))\n",
    "    plt.axis(\"off\")"
   ]
  },
  {
   "cell_type": "code",
   "execution_count": 18,
   "metadata": {
    "id": "U1mPhuuN8NG6"
   },
   "outputs": [],
   "source": [
    "class PatchEncoder(layers.Layer):\n",
    "    def __init__(self, num_patches, projection_dim):\n",
    "        super(PatchEncoder, self).__init__()\n",
    "        self.num_patches = num_patches\n",
    "        self.projection = layers.Dense(units=projection_dim)\n",
    "        self.position_embedding = layers.Embedding(\n",
    "            input_dim=num_patches, output_dim=projection_dim\n",
    "        )\n",
    "\n",
    "    def call(self, patch):\n",
    "        positions = tf.range(start=0, limit=self.num_patches, delta=1)\n",
    "        encoded = self.projection(patch) + self.position_embedding(positions)\n",
    "        return encoded"
   ]
  },
  {
   "cell_type": "code",
   "execution_count": 19,
   "metadata": {
    "id": "hSNK_CR18OkG"
   },
   "outputs": [],
   "source": [
    "def create_vit_classifier():\n",
    "    inputs = layers.Input(shape=(100,100,3))\n",
    "    # Augment data.\n",
    "    augmented = data_augmentation(inputs)\n",
    "    # Create patches.\n",
    "    patches = Patches(patch_size)(augmented)\n",
    "    # Encode patches.\n",
    "    encoded_patches = PatchEncoder(num_patches, projection_dim)(patches)\n",
    "\n",
    "    # Create multiple layers of the Transformer block.\n",
    "    for _ in range(transformer_layers):\n",
    "        # Layer normalization 1.\n",
    "        x1 = layers.LayerNormalization(epsilon=1e-6)(encoded_patches)\n",
    "        # Create a multi-head attention layer.\n",
    "        attention_output = layers.MultiHeadAttention(\n",
    "            num_heads=num_heads, key_dim=projection_dim, dropout=0.1\n",
    "        )(x1, x1)\n",
    "        # Skip connection 1.\n",
    "        x2 = layers.Add()([attention_output, encoded_patches])\n",
    "        # Layer normalization 2.\n",
    "        x3 = layers.LayerNormalization(epsilon=1e-6)(x2)\n",
    "        # MLP.\n",
    "        x3 = mlp(x3, hidden_units=transformer_units, dropout_rate=0.1)\n",
    "        # Skip connection 2.\n",
    "        encoded_patches = layers.Add()([x3, x2])\n",
    "\n",
    "    # Create a [batch_size, projection_dim] tensor.\n",
    "    representation = layers.LayerNormalization(epsilon=1e-6)(encoded_patches)\n",
    "    representation = layers.Flatten()(representation)\n",
    "    representation = layers.Dropout(0.5)(representation)\n",
    "    # Add MLP.\n",
    "    features = mlp(representation, hidden_units=mlp_head_units, dropout_rate=0.5)\n",
    "    # Classify outputs.\n",
    "    logits = layers.Dense(num_classes,activation='softmax')(features)\n",
    "    # Create the Keras model.\n",
    "    model = keras.Model(inputs=inputs, outputs=logits)\n",
    "    return model"
   ]
  },
  {
   "cell_type": "code",
   "execution_count": 20,
   "metadata": {
    "colab": {
     "base_uri": "https://localhost:8080/"
    },
    "id": "fW3DGDDV8UQO",
    "outputId": "66595a75-f463-45ef-e63b-3dd8a32a2143"
   },
   "outputs": [
    {
     "metadata": {
      "tags": null
     },
     "name": "stdout",
     "output_type": "stream",
     "text": [
      "Epoch 1/100\n"
     ]
    },
    {
     "metadata": {
      "tags": null
     },
     "name": "stderr",
     "output_type": "stream",
     "text": [
      "/usr/local/lib/python3.7/dist-packages/tensorflow/python/util/dispatch.py:1082: UserWarning: \"`sparse_categorical_crossentropy` received `from_logits=True`, but the `output` argument was produced by a sigmoid or softmax activation and thus does not represent logits. Was this intended?\"\n",
      "  return dispatch_target(*args, **kwargs)\n"
     ]
    },
    {
     "name": "stdout",
     "output_type": "stream",
     "text": [
      "53/53 [==============================] - 16s 74ms/step - loss: 1.5566 - accuracy: 0.4647 - top-5-accuracy: 1.0000 - val_loss: 0.9587 - val_accuracy: 0.5498 - val_top-5-accuracy: 1.0000\n",
      "Epoch 2/100\n",
      "53/53 [==============================] - 2s 47ms/step - loss: 1.1786 - accuracy: 0.4760 - top-5-accuracy: 1.0000 - val_loss: 0.9210 - val_accuracy: 0.5735 - val_top-5-accuracy: 1.0000\n",
      "Epoch 3/100\n",
      "53/53 [==============================] - 2s 45ms/step - loss: 1.0551 - accuracy: 0.4837 - top-5-accuracy: 1.0000 - val_loss: 0.9026 - val_accuracy: 0.5877 - val_top-5-accuracy: 1.0000\n",
      "Epoch 4/100\n",
      "53/53 [==============================] - 2s 40ms/step - loss: 0.9974 - accuracy: 0.5382 - top-5-accuracy: 1.0000 - val_loss: 0.9394 - val_accuracy: 0.5450 - val_top-5-accuracy: 1.0000\n",
      "Epoch 5/100\n",
      "53/53 [==============================] - 2s 40ms/step - loss: 0.9695 - accuracy: 0.5442 - top-5-accuracy: 1.0000 - val_loss: 0.9009 - val_accuracy: 0.5758 - val_top-5-accuracy: 1.0000\n",
      "Epoch 6/100\n",
      "53/53 [==============================] - 2s 45ms/step - loss: 0.9391 - accuracy: 0.5608 - top-5-accuracy: 1.0000 - val_loss: 0.9137 - val_accuracy: 0.5995 - val_top-5-accuracy: 1.0000\n",
      "Epoch 7/100\n",
      "53/53 [==============================] - 2s 41ms/step - loss: 0.9168 - accuracy: 0.5667 - top-5-accuracy: 1.0000 - val_loss: 0.8795 - val_accuracy: 0.5924 - val_top-5-accuracy: 1.0000\n",
      "Epoch 8/100\n",
      "53/53 [==============================] - 2s 41ms/step - loss: 0.9288 - accuracy: 0.5554 - top-5-accuracy: 1.0000 - val_loss: 0.8964 - val_accuracy: 0.5829 - val_top-5-accuracy: 1.0000\n",
      "Epoch 9/100\n",
      "53/53 [==============================] - 2s 41ms/step - loss: 0.9240 - accuracy: 0.5542 - top-5-accuracy: 1.0000 - val_loss: 0.8964 - val_accuracy: 0.5829 - val_top-5-accuracy: 1.0000\n",
      "Epoch 10/100\n",
      "53/53 [==============================] - 2s 40ms/step - loss: 0.8957 - accuracy: 0.5750 - top-5-accuracy: 1.0000 - val_loss: 0.8521 - val_accuracy: 0.5853 - val_top-5-accuracy: 1.0000\n",
      "Epoch 11/100\n",
      "53/53 [==============================] - 2s 41ms/step - loss: 0.8810 - accuracy: 0.5803 - top-5-accuracy: 1.0000 - val_loss: 0.8567 - val_accuracy: 0.5948 - val_top-5-accuracy: 1.0000\n",
      "Epoch 12/100\n",
      "53/53 [==============================] - 2s 41ms/step - loss: 0.8716 - accuracy: 0.5898 - top-5-accuracy: 1.0000 - val_loss: 0.8559 - val_accuracy: 0.5948 - val_top-5-accuracy: 1.0000\n",
      "Epoch 13/100\n",
      "53/53 [==============================] - 2s 40ms/step - loss: 0.8751 - accuracy: 0.5892 - top-5-accuracy: 1.0000 - val_loss: 0.8605 - val_accuracy: 0.5924 - val_top-5-accuracy: 1.0000\n",
      "Epoch 14/100\n",
      "53/53 [==============================] - 2s 46ms/step - loss: 0.8740 - accuracy: 0.5797 - top-5-accuracy: 1.0000 - val_loss: 0.8263 - val_accuracy: 0.6090 - val_top-5-accuracy: 1.0000\n",
      "Epoch 15/100\n",
      "53/53 [==============================] - 2s 41ms/step - loss: 0.8645 - accuracy: 0.5951 - top-5-accuracy: 1.0000 - val_loss: 0.8605 - val_accuracy: 0.6043 - val_top-5-accuracy: 1.0000\n",
      "Epoch 16/100\n",
      "53/53 [==============================] - 2s 41ms/step - loss: 0.8519 - accuracy: 0.5969 - top-5-accuracy: 1.0000 - val_loss: 0.8119 - val_accuracy: 0.6043 - val_top-5-accuracy: 1.0000\n",
      "Epoch 17/100\n",
      "53/53 [==============================] - 2s 40ms/step - loss: 0.8406 - accuracy: 0.5987 - top-5-accuracy: 1.0000 - val_loss: 0.8087 - val_accuracy: 0.6019 - val_top-5-accuracy: 1.0000\n",
      "Epoch 18/100\n",
      "53/53 [==============================] - 2s 46ms/step - loss: 0.8442 - accuracy: 0.5957 - top-5-accuracy: 1.0000 - val_loss: 0.8017 - val_accuracy: 0.6232 - val_top-5-accuracy: 1.0000\n",
      "Epoch 19/100\n",
      "53/53 [==============================] - 2s 40ms/step - loss: 0.8354 - accuracy: 0.5987 - top-5-accuracy: 1.0000 - val_loss: 0.7877 - val_accuracy: 0.6232 - val_top-5-accuracy: 1.0000\n",
      "Epoch 20/100\n",
      "53/53 [==============================] - 2s 41ms/step - loss: 0.8127 - accuracy: 0.5993 - top-5-accuracy: 1.0000 - val_loss: 0.7943 - val_accuracy: 0.6209 - val_top-5-accuracy: 1.0000\n",
      "Epoch 21/100\n",
      "53/53 [==============================] - 2s 45ms/step - loss: 0.8193 - accuracy: 0.6171 - top-5-accuracy: 1.0000 - val_loss: 0.7751 - val_accuracy: 0.6493 - val_top-5-accuracy: 1.0000\n",
      "Epoch 22/100\n",
      "53/53 [==============================] - 2s 47ms/step - loss: 0.8026 - accuracy: 0.6177 - top-5-accuracy: 1.0000 - val_loss: 0.7692 - val_accuracy: 0.6422 - val_top-5-accuracy: 1.0000\n",
      "Epoch 23/100\n",
      "53/53 [==============================] - 3s 58ms/step - loss: 0.7949 - accuracy: 0.6295 - top-5-accuracy: 1.0000 - val_loss: 0.7413 - val_accuracy: 0.6540 - val_top-5-accuracy: 1.0000\n",
      "Epoch 24/100\n",
      "53/53 [==============================] - 2s 41ms/step - loss: 0.7713 - accuracy: 0.6343 - top-5-accuracy: 1.0000 - val_loss: 0.7507 - val_accuracy: 0.6517 - val_top-5-accuracy: 1.0000\n",
      "Epoch 25/100\n",
      "53/53 [==============================] - 2s 40ms/step - loss: 0.7954 - accuracy: 0.6194 - top-5-accuracy: 1.0000 - val_loss: 0.7566 - val_accuracy: 0.6517 - val_top-5-accuracy: 1.0000\n",
      "Epoch 26/100\n",
      "53/53 [==============================] - 2s 40ms/step - loss: 0.7562 - accuracy: 0.6449 - top-5-accuracy: 1.0000 - val_loss: 0.7553 - val_accuracy: 0.6540 - val_top-5-accuracy: 1.0000\n",
      "Epoch 27/100\n",
      "53/53 [==============================] - 2s 46ms/step - loss: 0.7620 - accuracy: 0.6515 - top-5-accuracy: 1.0000 - val_loss: 0.7563 - val_accuracy: 0.6588 - val_top-5-accuracy: 1.0000\n",
      "Epoch 28/100\n",
      "53/53 [==============================] - 2s 46ms/step - loss: 0.7860 - accuracy: 0.6319 - top-5-accuracy: 1.0000 - val_loss: 0.7166 - val_accuracy: 0.7014 - val_top-5-accuracy: 1.0000\n",
      "Epoch 29/100\n",
      "53/53 [==============================] - 2s 40ms/step - loss: 0.7570 - accuracy: 0.6461 - top-5-accuracy: 1.0000 - val_loss: 0.7372 - val_accuracy: 0.6682 - val_top-5-accuracy: 1.0000\n",
      "Epoch 30/100\n",
      "53/53 [==============================] - 2s 45ms/step - loss: 0.7246 - accuracy: 0.6663 - top-5-accuracy: 1.0000 - val_loss: 0.6997 - val_accuracy: 0.7038 - val_top-5-accuracy: 1.0000\n",
      "Epoch 31/100\n",
      "53/53 [==============================] - 2s 40ms/step - loss: 0.7390 - accuracy: 0.6568 - top-5-accuracy: 1.0000 - val_loss: 0.6644 - val_accuracy: 0.6967 - val_top-5-accuracy: 1.0000\n",
      "Epoch 32/100\n",
      "53/53 [==============================] - 2s 45ms/step - loss: 0.7120 - accuracy: 0.6752 - top-5-accuracy: 1.0000 - val_loss: 0.6325 - val_accuracy: 0.7322 - val_top-5-accuracy: 1.0000\n",
      "Epoch 33/100\n",
      "53/53 [==============================] - 2s 41ms/step - loss: 0.7163 - accuracy: 0.6615 - top-5-accuracy: 1.0000 - val_loss: 0.6538 - val_accuracy: 0.7322 - val_top-5-accuracy: 1.0000\n",
      "Epoch 34/100\n",
      "53/53 [==============================] - 2s 40ms/step - loss: 0.6911 - accuracy: 0.6906 - top-5-accuracy: 1.0000 - val_loss: 0.6623 - val_accuracy: 0.7322 - val_top-5-accuracy: 1.0000\n",
      "Epoch 35/100\n",
      "53/53 [==============================] - 2s 40ms/step - loss: 0.6606 - accuracy: 0.7048 - top-5-accuracy: 1.0000 - val_loss: 0.6685 - val_accuracy: 0.7133 - val_top-5-accuracy: 1.0000\n",
      "Epoch 36/100\n",
      "53/53 [==============================] - 2s 46ms/step - loss: 0.6737 - accuracy: 0.6965 - top-5-accuracy: 1.0000 - val_loss: 0.6058 - val_accuracy: 0.7559 - val_top-5-accuracy: 1.0000\n",
      "Epoch 37/100\n",
      "53/53 [==============================] - 2s 41ms/step - loss: 0.6574 - accuracy: 0.7078 - top-5-accuracy: 1.0000 - val_loss: 0.5990 - val_accuracy: 0.7464 - val_top-5-accuracy: 1.0000\n",
      "Epoch 38/100\n",
      "53/53 [==============================] - 3s 56ms/step - loss: 0.6356 - accuracy: 0.7285 - top-5-accuracy: 1.0000 - val_loss: 0.5841 - val_accuracy: 0.7725 - val_top-5-accuracy: 1.0000\n",
      "Epoch 39/100\n",
      "53/53 [==============================] - 2s 42ms/step - loss: 0.6356 - accuracy: 0.7338 - top-5-accuracy: 1.0000 - val_loss: 0.6079 - val_accuracy: 0.7654 - val_top-5-accuracy: 1.0000\n",
      "Epoch 40/100\n",
      "53/53 [==============================] - 3s 60ms/step - loss: 0.6277 - accuracy: 0.7291 - top-5-accuracy: 1.0000 - val_loss: 0.5950 - val_accuracy: 0.7346 - val_top-5-accuracy: 1.0000\n",
      "Epoch 41/100\n",
      "53/53 [==============================] - 3s 61ms/step - loss: 0.6249 - accuracy: 0.7291 - top-5-accuracy: 1.0000 - val_loss: 0.5485 - val_accuracy: 0.7536 - val_top-5-accuracy: 1.0000\n",
      "Epoch 42/100\n",
      "53/53 [==============================] - 2s 47ms/step - loss: 0.6121 - accuracy: 0.7368 - top-5-accuracy: 1.0000 - val_loss: 0.5480 - val_accuracy: 0.7749 - val_top-5-accuracy: 1.0000\n",
      "Epoch 43/100\n",
      "53/53 [==============================] - 2s 40ms/step - loss: 0.5918 - accuracy: 0.7445 - top-5-accuracy: 1.0000 - val_loss: 0.5512 - val_accuracy: 0.7654 - val_top-5-accuracy: 1.0000\n",
      "Epoch 44/100\n",
      "53/53 [==============================] - 2s 46ms/step - loss: 0.5701 - accuracy: 0.7493 - top-5-accuracy: 1.0000 - val_loss: 0.5204 - val_accuracy: 0.7796 - val_top-5-accuracy: 1.0000\n",
      "Epoch 45/100\n",
      "53/53 [==============================] - 2s 41ms/step - loss: 0.5744 - accuracy: 0.7504 - top-5-accuracy: 1.0000 - val_loss: 0.5411 - val_accuracy: 0.7749 - val_top-5-accuracy: 1.0000\n",
      "Epoch 46/100\n",
      "53/53 [==============================] - 2s 46ms/step - loss: 0.5598 - accuracy: 0.7558 - top-5-accuracy: 1.0000 - val_loss: 0.5203 - val_accuracy: 0.8128 - val_top-5-accuracy: 1.0000\n",
      "Epoch 47/100\n",
      "53/53 [==============================] - 2s 41ms/step - loss: 0.5473 - accuracy: 0.7813 - top-5-accuracy: 1.0000 - val_loss: 0.4701 - val_accuracy: 0.8104 - val_top-5-accuracy: 1.0000\n",
      "Epoch 48/100\n",
      "53/53 [==============================] - 2s 41ms/step - loss: 0.5550 - accuracy: 0.7688 - top-5-accuracy: 1.0000 - val_loss: 0.4931 - val_accuracy: 0.7938 - val_top-5-accuracy: 1.0000\n",
      "Epoch 49/100\n",
      "53/53 [==============================] - 2s 40ms/step - loss: 0.5402 - accuracy: 0.7623 - top-5-accuracy: 1.0000 - val_loss: 0.4759 - val_accuracy: 0.8009 - val_top-5-accuracy: 1.0000\n",
      "Epoch 50/100\n",
      "53/53 [==============================] - 2s 46ms/step - loss: 0.5306 - accuracy: 0.7706 - top-5-accuracy: 1.0000 - val_loss: 0.4811 - val_accuracy: 0.8341 - val_top-5-accuracy: 1.0000\n",
      "Epoch 51/100\n",
      "53/53 [==============================] - 2s 40ms/step - loss: 0.5202 - accuracy: 0.7848 - top-5-accuracy: 1.0000 - val_loss: 0.4740 - val_accuracy: 0.8341 - val_top-5-accuracy: 1.0000\n",
      "Epoch 52/100\n",
      "53/53 [==============================] - 2s 41ms/step - loss: 0.4998 - accuracy: 0.7866 - top-5-accuracy: 1.0000 - val_loss: 0.4423 - val_accuracy: 0.8152 - val_top-5-accuracy: 1.0000\n",
      "Epoch 53/100\n",
      "53/53 [==============================] - 2s 41ms/step - loss: 0.4980 - accuracy: 0.7913 - top-5-accuracy: 1.0000 - val_loss: 0.4418 - val_accuracy: 0.8270 - val_top-5-accuracy: 1.0000\n",
      "Epoch 54/100\n",
      "53/53 [==============================] - 2s 41ms/step - loss: 0.4956 - accuracy: 0.7913 - top-5-accuracy: 1.0000 - val_loss: 0.4249 - val_accuracy: 0.8270 - val_top-5-accuracy: 1.0000\n",
      "Epoch 55/100\n",
      "53/53 [==============================] - 2s 40ms/step - loss: 0.4699 - accuracy: 0.8168 - top-5-accuracy: 1.0000 - val_loss: 0.4024 - val_accuracy: 0.8246 - val_top-5-accuracy: 1.0000\n",
      "Epoch 56/100\n",
      "53/53 [==============================] - 2s 45ms/step - loss: 0.4603 - accuracy: 0.8121 - top-5-accuracy: 1.0000 - val_loss: 0.4385 - val_accuracy: 0.8389 - val_top-5-accuracy: 1.0000\n",
      "Epoch 57/100\n",
      "53/53 [==============================] - 2s 45ms/step - loss: 0.4583 - accuracy: 0.8162 - top-5-accuracy: 1.0000 - val_loss: 0.4186 - val_accuracy: 0.8436 - val_top-5-accuracy: 1.0000\n",
      "Epoch 58/100\n",
      "53/53 [==============================] - 2s 41ms/step - loss: 0.4394 - accuracy: 0.8257 - top-5-accuracy: 1.0000 - val_loss: 0.4330 - val_accuracy: 0.8318 - val_top-5-accuracy: 1.0000\n",
      "Epoch 59/100\n",
      "53/53 [==============================] - 3s 50ms/step - loss: 0.4544 - accuracy: 0.8186 - top-5-accuracy: 1.0000 - val_loss: 0.4000 - val_accuracy: 0.8270 - val_top-5-accuracy: 1.0000\n",
      "Epoch 60/100\n",
      "53/53 [==============================] - 2s 46ms/step - loss: 0.4292 - accuracy: 0.8168 - top-5-accuracy: 1.0000 - val_loss: 0.3563 - val_accuracy: 0.8649 - val_top-5-accuracy: 1.0000\n",
      "Epoch 61/100\n",
      "53/53 [==============================] - 2s 41ms/step - loss: 0.4056 - accuracy: 0.8334 - top-5-accuracy: 1.0000 - val_loss: 0.4040 - val_accuracy: 0.8318 - val_top-5-accuracy: 1.0000\n",
      "Epoch 62/100\n",
      "53/53 [==============================] - 2s 46ms/step - loss: 0.4240 - accuracy: 0.8174 - top-5-accuracy: 1.0000 - val_loss: 0.3508 - val_accuracy: 0.8791 - val_top-5-accuracy: 1.0000\n",
      "Epoch 63/100\n",
      "53/53 [==============================] - 2s 41ms/step - loss: 0.4197 - accuracy: 0.8239 - top-5-accuracy: 1.0000 - val_loss: 0.3565 - val_accuracy: 0.8531 - val_top-5-accuracy: 1.0000\n",
      "Epoch 64/100\n",
      "53/53 [==============================] - 2s 41ms/step - loss: 0.3944 - accuracy: 0.8346 - top-5-accuracy: 1.0000 - val_loss: 0.3381 - val_accuracy: 0.8791 - val_top-5-accuracy: 1.0000\n",
      "Epoch 65/100\n",
      "53/53 [==============================] - 2s 41ms/step - loss: 0.3686 - accuracy: 0.8494 - top-5-accuracy: 1.0000 - val_loss: 0.3597 - val_accuracy: 0.8720 - val_top-5-accuracy: 1.0000\n",
      "Epoch 66/100\n",
      "53/53 [==============================] - 2s 41ms/step - loss: 0.3636 - accuracy: 0.8524 - top-5-accuracy: 1.0000 - val_loss: 0.3362 - val_accuracy: 0.8768 - val_top-5-accuracy: 1.0000\n",
      "Epoch 67/100\n",
      "53/53 [==============================] - 2s 42ms/step - loss: 0.3410 - accuracy: 0.8702 - top-5-accuracy: 1.0000 - val_loss: 0.3253 - val_accuracy: 0.8626 - val_top-5-accuracy: 1.0000\n",
      "Epoch 68/100\n",
      "53/53 [==============================] - 2s 46ms/step - loss: 0.3804 - accuracy: 0.8411 - top-5-accuracy: 1.0000 - val_loss: 0.3184 - val_accuracy: 0.8815 - val_top-5-accuracy: 1.0000\n",
      "Epoch 69/100\n",
      "53/53 [==============================] - 2s 41ms/step - loss: 0.3534 - accuracy: 0.8631 - top-5-accuracy: 1.0000 - val_loss: 0.3253 - val_accuracy: 0.8744 - val_top-5-accuracy: 1.0000\n",
      "Epoch 70/100\n",
      "53/53 [==============================] - 2s 40ms/step - loss: 0.3210 - accuracy: 0.8720 - top-5-accuracy: 1.0000 - val_loss: 0.3219 - val_accuracy: 0.8673 - val_top-5-accuracy: 1.0000\n",
      "Epoch 71/100\n",
      "53/53 [==============================] - 2s 45ms/step - loss: 0.3445 - accuracy: 0.8684 - top-5-accuracy: 1.0000 - val_loss: 0.3085 - val_accuracy: 0.8934 - val_top-5-accuracy: 1.0000\n",
      "Epoch 72/100\n",
      "53/53 [==============================] - 2s 40ms/step - loss: 0.3437 - accuracy: 0.8743 - top-5-accuracy: 1.0000 - val_loss: 0.3006 - val_accuracy: 0.8863 - val_top-5-accuracy: 1.0000\n",
      "Epoch 73/100\n",
      "53/53 [==============================] - 2s 45ms/step - loss: 0.3351 - accuracy: 0.8595 - top-5-accuracy: 1.0000 - val_loss: 0.2830 - val_accuracy: 0.8981 - val_top-5-accuracy: 1.0000\n",
      "Epoch 74/100\n",
      "53/53 [==============================] - 2s 45ms/step - loss: 0.3090 - accuracy: 0.8761 - top-5-accuracy: 1.0000 - val_loss: 0.2808 - val_accuracy: 0.9123 - val_top-5-accuracy: 1.0000\n",
      "Epoch 75/100\n",
      "53/53 [==============================] - 2s 40ms/step - loss: 0.3292 - accuracy: 0.8791 - top-5-accuracy: 1.0000 - val_loss: 0.2909 - val_accuracy: 0.8839 - val_top-5-accuracy: 1.0000\n",
      "Epoch 76/100\n",
      "53/53 [==============================] - 2s 41ms/step - loss: 0.3350 - accuracy: 0.8696 - top-5-accuracy: 1.0000 - val_loss: 0.2908 - val_accuracy: 0.8957 - val_top-5-accuracy: 1.0000\n",
      "Epoch 77/100\n",
      "53/53 [==============================] - 2s 40ms/step - loss: 0.2886 - accuracy: 0.8820 - top-5-accuracy: 1.0000 - val_loss: 0.2757 - val_accuracy: 0.8957 - val_top-5-accuracy: 1.0000\n",
      "Epoch 78/100\n",
      "53/53 [==============================] - 2s 40ms/step - loss: 0.2688 - accuracy: 0.8957 - top-5-accuracy: 1.0000 - val_loss: 0.2693 - val_accuracy: 0.9076 - val_top-5-accuracy: 1.0000\n",
      "Epoch 79/100\n",
      "53/53 [==============================] - 2s 41ms/step - loss: 0.2936 - accuracy: 0.8915 - top-5-accuracy: 1.0000 - val_loss: 0.2911 - val_accuracy: 0.8886 - val_top-5-accuracy: 1.0000\n",
      "Epoch 80/100\n",
      "53/53 [==============================] - 2s 45ms/step - loss: 0.2856 - accuracy: 0.8850 - top-5-accuracy: 1.0000 - val_loss: 0.2377 - val_accuracy: 0.9218 - val_top-5-accuracy: 1.0000\n",
      "Epoch 81/100\n",
      "53/53 [==============================] - 2s 46ms/step - loss: 0.2851 - accuracy: 0.8809 - top-5-accuracy: 1.0000 - val_loss: 0.2461 - val_accuracy: 0.9289 - val_top-5-accuracy: 1.0000\n",
      "Epoch 82/100\n",
      "53/53 [==============================] - 2s 40ms/step - loss: 0.2538 - accuracy: 0.9010 - top-5-accuracy: 1.0000 - val_loss: 0.2281 - val_accuracy: 0.9147 - val_top-5-accuracy: 1.0000\n",
      "Epoch 83/100\n",
      "53/53 [==============================] - 2s 42ms/step - loss: 0.2683 - accuracy: 0.8903 - top-5-accuracy: 1.0000 - val_loss: 0.2780 - val_accuracy: 0.8981 - val_top-5-accuracy: 1.0000\n",
      "Epoch 84/100\n",
      "53/53 [==============================] - 2s 41ms/step - loss: 0.2560 - accuracy: 0.9004 - top-5-accuracy: 1.0000 - val_loss: 0.2208 - val_accuracy: 0.9265 - val_top-5-accuracy: 1.0000\n",
      "Epoch 85/100\n",
      "53/53 [==============================] - 2s 41ms/step - loss: 0.2824 - accuracy: 0.8886 - top-5-accuracy: 1.0000 - val_loss: 0.2334 - val_accuracy: 0.9194 - val_top-5-accuracy: 1.0000\n",
      "Epoch 86/100\n",
      "53/53 [==============================] - 2s 41ms/step - loss: 0.2643 - accuracy: 0.8927 - top-5-accuracy: 1.0000 - val_loss: 0.2284 - val_accuracy: 0.9289 - val_top-5-accuracy: 1.0000\n",
      "Epoch 87/100\n",
      "53/53 [==============================] - 2s 47ms/step - loss: 0.2489 - accuracy: 0.9075 - top-5-accuracy: 1.0000 - val_loss: 0.1907 - val_accuracy: 0.9360 - val_top-5-accuracy: 1.0000\n",
      "Epoch 88/100\n",
      "53/53 [==============================] - 2s 40ms/step - loss: 0.2393 - accuracy: 0.9117 - top-5-accuracy: 1.0000 - val_loss: 0.2102 - val_accuracy: 0.9218 - val_top-5-accuracy: 1.0000\n",
      "Epoch 89/100\n",
      "53/53 [==============================] - 2s 40ms/step - loss: 0.2266 - accuracy: 0.9170 - top-5-accuracy: 1.0000 - val_loss: 0.2272 - val_accuracy: 0.9194 - val_top-5-accuracy: 1.0000\n",
      "Epoch 90/100\n",
      "53/53 [==============================] - 2s 40ms/step - loss: 0.2526 - accuracy: 0.9052 - top-5-accuracy: 1.0000 - val_loss: 0.2211 - val_accuracy: 0.9242 - val_top-5-accuracy: 1.0000\n",
      "Epoch 91/100\n",
      "53/53 [==============================] - 2s 46ms/step - loss: 0.2244 - accuracy: 0.9152 - top-5-accuracy: 1.0000 - val_loss: 0.2118 - val_accuracy: 0.9408 - val_top-5-accuracy: 1.0000\n",
      "Epoch 92/100\n",
      "53/53 [==============================] - 2s 40ms/step - loss: 0.2635 - accuracy: 0.8963 - top-5-accuracy: 1.0000 - val_loss: 0.2072 - val_accuracy: 0.9147 - val_top-5-accuracy: 1.0000\n",
      "Epoch 93/100\n",
      "53/53 [==============================] - 2s 40ms/step - loss: 0.2420 - accuracy: 0.9081 - top-5-accuracy: 1.0000 - val_loss: 0.1994 - val_accuracy: 0.9289 - val_top-5-accuracy: 1.0000\n",
      "Epoch 94/100\n",
      "53/53 [==============================] - 2s 42ms/step - loss: 0.2162 - accuracy: 0.9241 - top-5-accuracy: 1.0000 - val_loss: 0.1939 - val_accuracy: 0.9360 - val_top-5-accuracy: 1.0000\n",
      "Epoch 95/100\n",
      "53/53 [==============================] - 2s 41ms/step - loss: 0.2169 - accuracy: 0.9259 - top-5-accuracy: 1.0000 - val_loss: 0.1864 - val_accuracy: 0.9289 - val_top-5-accuracy: 1.0000\n",
      "Epoch 96/100\n",
      "53/53 [==============================] - 2s 41ms/step - loss: 0.2305 - accuracy: 0.9188 - top-5-accuracy: 1.0000 - val_loss: 0.1923 - val_accuracy: 0.9360 - val_top-5-accuracy: 1.0000\n",
      "Epoch 97/100\n",
      "53/53 [==============================] - 2s 41ms/step - loss: 0.2041 - accuracy: 0.9200 - top-5-accuracy: 1.0000 - val_loss: 0.1950 - val_accuracy: 0.9336 - val_top-5-accuracy: 1.0000\n",
      "Epoch 98/100\n",
      "53/53 [==============================] - 2s 40ms/step - loss: 0.2180 - accuracy: 0.9164 - top-5-accuracy: 1.0000 - val_loss: 0.1889 - val_accuracy: 0.9313 - val_top-5-accuracy: 1.0000\n",
      "Epoch 99/100\n",
      "53/53 [==============================] - 2s 41ms/step - loss: 0.1796 - accuracy: 0.9389 - top-5-accuracy: 1.0000 - val_loss: 0.1928 - val_accuracy: 0.9265 - val_top-5-accuracy: 1.0000\n",
      "Epoch 100/100\n",
      "53/53 [==============================] - 2s 45ms/step - loss: 0.1943 - accuracy: 0.9200 - top-5-accuracy: 1.0000 - val_loss: 0.1826 - val_accuracy: 0.9431 - val_top-5-accuracy: 1.0000\n",
      "8/8 [==============================] - 0s 20ms/step - loss: 0.1983 - accuracy: 0.9404 - top-5-accuracy: 1.0000\n",
      "Test accuracy: 94.04%\n",
      "Test top 5 accuracy: 100.0%\n"
     ]
    }
   ],
   "source": [
    "def run_experiment(model):\n",
    "    optimizer = tfa.optimizers.AdamW(\n",
    "        learning_rate=learning_rate, weight_decay=weight_decay\n",
    "    )\n",
    "\n",
    "    model.compile(\n",
    "        optimizer=optimizer,\n",
    "        loss=keras.losses.SparseCategoricalCrossentropy(from_logits=True),\n",
    "        metrics=[\n",
    "            keras.metrics.SparseCategoricalAccuracy(name=\"accuracy\"),\n",
    "            keras.metrics.SparseTopKCategoricalAccuracy(5, name=\"top-5-accuracy\"),\n",
    "        ],\n",
    "    )\n",
    "\n",
    "    checkpoint_filepath = \"/tmp/checkpoint\"\n",
    "    checkpoint_callback = keras.callbacks.ModelCheckpoint(\n",
    "        checkpoint_filepath,\n",
    "        monitor=\"val_accuracy\",\n",
    "        save_best_only=True,\n",
    "        save_weights_only=True,\n",
    "    )\n",
    "\n",
    "    history = model.fit(\n",
    "        x=x_train,\n",
    "        y=y_train,\n",
    "        batch_size=batch_size,\n",
    "        epochs=num_epochs,\n",
    "        validation_split=0.2,\n",
    "        callbacks=[checkpoint_callback],\n",
    "    )\n",
    "\n",
    "    model.load_weights(checkpoint_filepath)\n",
    "    _, accuracy, top_5_accuracy = model.evaluate(x_test, y_test)\n",
    "    print(f\"Test accuracy: {round(accuracy * 100, 2)}%\")\n",
    "    print(f\"Test top 5 accuracy: {round(top_5_accuracy * 100, 2)}%\")\n",
    "\n",
    "    return history\n",
    "\n",
    "\n",
    "vit_classifier = create_vit_classifier()\n",
    "history = run_experiment(vit_classifier)"
   ]
  },
  {
   "cell_type": "code",
   "execution_count": 23,
   "metadata": {
    "colab": {
     "base_uri": "https://localhost:8080/",
     "height": 295
    },
    "id": "x6EjRkxg8W6g",
    "outputId": "b8bc36a8-9900-4460-c172-a2da77bb02de"
   },
   "outputs": [
    {
     "data": {
      "image/png": "[encoded data removed]",
      "text/plain": [
       "<Figure size 432x288 with 1 Axes>"
      ]
     },
     "metadata": {
      "needs_background": "light"
     },
     "output_type": "display_data"
    }
   ],
   "source": [
    "plt.plot(history.history['accuracy'])\n",
    "plt.plot(history.history['val_accuracy'])\n",
    "plt.title('ViT Model Train vs Validation Accuracy Curve')\n",
    "plt.ylabel('accuracy')\n",
    "plt.xlabel('epoch')\n",
    "plt.legend(['train', 'val'], loc='upper left')\n",
    "plt.show()"
   ]
  },
  {
   "cell_type": "code",
   "execution_count": 24,
   "metadata": {
    "colab": {
     "base_uri": "https://localhost:8080/",
     "height": 295
    },
    "id": "qmyJgpDco7Jk",
    "outputId": "ccec8987-4b8a-4e4c-ea71-23a4ba916db9"
   },
   "outputs": [
    {
     "data": {
      "image/png": "[encoded data removed]",
      "text/plain": [
       "<Figure size 432x288 with 1 Axes>"
      ]
     },
     "metadata": {
      "needs_background": "light"
     },
     "output_type": "display_data"
    }
   ],
   "source": [
    "plt.plot(history.history['loss'])\n",
    "plt.plot(history.history['val_loss'])\n",
    "plt.title('ViT Model Train vs Validation Loss Curve')\n",
    "plt.ylabel('accuracy')\n",
    "plt.xlabel('epoch')\n",
    "plt.legend(['train', 'val'], loc='upper left')\n",
    "plt.show()"
   ]
  },
  {
   "cell_type": "code",
   "execution_count": 33,
   "metadata": {
    "colab": {
     "base_uri": "https://localhost:8080/"
    },
    "id": "RSwigPV-o9f4",
    "outputId": "589c57d6-b1d2-4be0-886e-6847859c6c30"
   },
   "outputs": [
    {
     "name": "stderr",
     "output_type": "stream",
     "text": [
      "WARNING:absl:Found untraced functions such as dense_layer_call_fn, dense_layer_call_and_return_conditional_losses, embedding_layer_call_fn, embedding_layer_call_and_return_conditional_losses, query_layer_call_fn while saving (showing 5 of 100). These functions will not be directly callable after loading.\n"
     ]
    },
    {
     "name": "stdout",
     "output_type": "stream",
     "text": [
      "INFO:tensorflow:Assets written to: /content/drive/MyDrive/VIT_PROPOSED/assets\n"
     ]
    },
    {
     "name": "stderr",
     "output_type": "stream",
     "text": [
      "INFO:tensorflow:Assets written to: /content/drive/MyDrive/VIT_PROPOSED/assets\n"
     ]
    }
   ],
   "source": [
    "vit_classifier.save(\"/content/drive/MyDrive/VIT_PROPOSED\")"
   ]
  },
  {
   "cell_type": "code",
   "execution_count": 27,
   "metadata": {
    "colab": {
     "base_uri": "https://localhost:8080/"
    },
    "id": "5n2BIZa-q3yg",
    "outputId": "75408c8d-1220-4b59-f5cb-0a452fabe6a6"
   },
   "outputs": [
    {
     "name": "stderr",
     "output_type": "stream",
     "text": [
      "/usr/local/lib/python3.7/dist-packages/ipykernel_launcher.py:8: UserWarning: `Model.predict_generator` is deprecated and will be removed in a future version. Please use `Model.predict`, which supports generators.\n",
      "  \n"
     ]
    }
   ],
   "source": [
    "from sklearn.metrics import plot_confusion_matrix\n",
    "from sklearn.metrics import ConfusionMatrixDisplay, confusion_matrix\n",
    "np.set_printoptions(precision=2)\n",
    "class_names = [\"Benign\",\"Malignant\", \"Normal\"]\n",
    "\n",
    "from sklearn.metrics import plot_confusion_matrix \n",
    "from sklearn.metrics import ConfusionMatrixDisplay\n",
    "Y_pred = vit_classifier.predict_generator(x_test)\n",
    "y_pred = np.argmax(Y_pred, axis=1)\n",
    "\n",
    "cm = confusion_matrix(y_test, y_pred)\n",
    "#plot_confusion_matrix(X = y_pred, y_true=y_test, labels = class_names, normalize=False)"
   ]
  },
  {
   "cell_type": "code",
   "execution_count": 32,
   "metadata": {
    "colab": {
     "base_uri": "https://localhost:8080/",
     "height": 381
    },
    "id": "e7Kg5btgrJTM",
    "outputId": "f1e7aeb9-6e5f-47b2-ba8f-c46c8e0376dc"
   },
   "outputs": [
    {
     "name": "stdout",
     "output_type": "stream",
     "text": [
      "Normalized confusion matrix\n"
     ]
    },
    {
     "data": {
      "image/png": "[encoded data removed]",
      "text/plain": [
       "<Figure size 360x360 with 2 Axes>"
      ]
     },
     "metadata": {
      "needs_background": "light"
     },
     "output_type": "display_data"
    }
   ],
   "source": [
    "import matplotlib.pyplot as plt\n",
    "import itertools \n",
    "def plot_confusion_matrix(cm, classes, normalize=True, title='Confusion matrix', cmap=plt.cm.Greens):\n",
    "\n",
    "    \"\"\"\n",
    "\n",
    "    This function prints and plots the confusion matrix.\n",
    "\n",
    "    Normalization can be applied by setting `normalize=True`.\n",
    "\n",
    "    \"\"\"\n",
    "\n",
    "    plt.figure(figsize=(5,5))\n",
    "\n",
    "\n",
    "\n",
    "    plt.imshow(cm, interpolation='nearest', cmap=cmap)\n",
    "\n",
    "    plt.title(title)\n",
    "\n",
    "    plt.colorbar()\n",
    "\n",
    "\n",
    "\n",
    "    tick_marks = np.arange(len(classes))\n",
    "\n",
    "    plt.xticks(tick_marks, classes, rotation=45)\n",
    "\n",
    "    plt.yticks(tick_marks, classes)\n",
    "\n",
    "\n",
    "\n",
    "    if normalize:\n",
    "\n",
    "        cm = cm.astype('float') / cm.sum(axis=1)[:, np.newaxis]\n",
    "\n",
    "        cm = np.around(cm, decimals=2)\n",
    "\n",
    "        cm[np.isnan(cm)] = 0.0\n",
    "\n",
    "        print(\"Normalized confusion matrix\")\n",
    "\n",
    "    else:\n",
    "\n",
    "        print('Confusion matrix, without normalization')\n",
    "\n",
    "    thresh = cm.max() / 2.\n",
    "\n",
    "    for i, j in itertools.product(range(cm.shape[0]), range(cm.shape[1])):\n",
    "\n",
    "        plt.text(j, i, cm[i, j],\n",
    "\n",
    "                 horizontalalignment=\"center\",\n",
    "\n",
    "                 color=\"white\" if cm[i, j] > thresh else \"black\")\n",
    "\n",
    "    plt.tight_layout()\n",
    "\n",
    "    plt.ylabel('True label')\n",
    "\n",
    "    plt.xlabel('Predicted label')\n",
    "\n",
    "plot_confusion_matrix(cm, class_names)"
   ]
  },
  {
   "cell_type": "code",
   "execution_count": 29,
   "metadata": {
    "colab": {
     "base_uri": "https://localhost:8080/"
    },
    "id": "-6ATU4errLaD",
    "outputId": "28f26894-065b-455b-b65f-74cf6dd5e98b"
   },
   "outputs": [
    {
     "name": "stdout",
     "output_type": "stream",
     "text": [
      "              precision    recall  f1-score   support\n",
      "\n",
      "           0       0.96      0.95      0.95       121\n",
      "           1       0.99      0.91      0.95        76\n",
      "           2       0.82      0.97      0.89        38\n",
      "\n",
      "    accuracy                           0.94       235\n",
      "   macro avg       0.92      0.94      0.93       235\n",
      "weighted avg       0.95      0.94      0.94       235\n",
      "\n"
     ]
    }
   ],
   "source": [
    "from sklearn.metrics import classification_report\n",
    "print(classification_report(y_test,y_pred))"
   ]
  },
  {
   "cell_type": "code",
   "execution_count": null,
   "metadata": {
    "id": "ojv6vel8rNkz"
   },
   "outputs": [],
   "source": []
  }
 ],
 "metadata": {
  "accelerator": "GPU",
  "colab": {
   "name": "VIT_Project1_dataset1.ipynb",
   "provenance": []
  },
  "gpuClass": "standard",
  "kernelspec": {
   "display_name": "Python 3 (ipykernel)",
   "language": "python",
   "name": "python3"
  },
  "language_info": {
   "codemirror_mode": {
    "name": "ipython",
    "version": 3
   },
   "file_extension": ".py",
   "mimetype": "text/x-python",
   "name": "python",
   "nbconvert_exporter": "python",
   "pygments_lexer": "ipython3",
   "version": "3.7.13"
  }
 },
 "nbformat": 4,
 "nbformat_minor": 1
}
